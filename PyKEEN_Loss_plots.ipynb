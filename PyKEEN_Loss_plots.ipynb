{
  "cells": [
    {
      "cell_type": "markdown",
      "metadata": {
        "id": "view-in-github",
        "colab_type": "text"
      },
      "source": [
        "<a href=\"https://colab.research.google.com/github/twishi03/Graph/blob/main/PyKEEN_Loss_plots.ipynb\" target=\"_parent\"><img src=\"https://colab.research.google.com/assets/colab-badge.svg\" alt=\"Open In Colab\"/></a>"
      ]
    },
    {
      "cell_type": "markdown",
      "metadata": {
        "id": "e5PlZsaa8WFh"
      },
      "source": [
        "<a href=\"https://colab.research.google.com/github/pykeen/pykeen/blob/master/notebooks/results_plots/results_plots.ipynb\" target=\"_parent\"><img src=\"https://colab.research.google.com/assets/colab-badge.svg\" alt=\"Open In Colab\"/></a>"
      ]
    },
    {
      "cell_type": "markdown",
      "metadata": {
        "id": "I24yY9de8WFj"
      },
      "source": [
        "# Results Plotting Demo\n",
        "\n",
        "This notebook serves to make some simple plots of the 1) losses and 2) entities and relations following training with the PyKEEN pipeline."
      ]
    },
    {
      "cell_type": "code",
      "execution_count": 1,
      "metadata": {
        "id": "RULt1S5o8WFk",
        "outputId": "9b144e39-a9fd-466b-aac4-485294bdc013",
        "colab": {
          "base_uri": "https://localhost:8080/"
        }
      },
      "outputs": [
        {
          "output_type": "stream",
          "name": "stdout",
          "text": [
            "Traceback (most recent call last):\n",
            "  File \"<string>\", line 1, in <module>\n",
            "ModuleNotFoundError: No module named 'pykeen'\n",
            "Collecting git+https://github.com/pykeen/pykeen.git\n",
            "  Cloning https://github.com/pykeen/pykeen.git to /tmp/pip-req-build-7zvptk0a\n",
            "  Running command git clone --filter=blob:none --quiet https://github.com/pykeen/pykeen.git /tmp/pip-req-build-7zvptk0a\n",
            "  Resolved https://github.com/pykeen/pykeen.git to commit 5e931551c9761b5e6554a8752285f1bd3f5ea69d\n",
            "  Installing build dependencies ... \u001b[?25l\u001b[?25hdone\n",
            "  Getting requirements to build wheel ... \u001b[?25l\u001b[?25hdone\n",
            "  Preparing metadata (pyproject.toml) ... \u001b[?25l\u001b[?25hdone\n",
            "Collecting dataclasses-json (from pykeen==1.10.3.dev0)\n",
            "  Downloading dataclasses_json-0.6.7-py3-none-any.whl.metadata (25 kB)\n",
            "Requirement already satisfied: numpy in /usr/local/lib/python3.10/dist-packages (from pykeen==1.10.3.dev0) (1.26.4)\n",
            "Requirement already satisfied: scipy>=1.7.0 in /usr/local/lib/python3.10/dist-packages (from pykeen==1.10.3.dev0) (1.13.1)\n",
            "Requirement already satisfied: click in /usr/local/lib/python3.10/dist-packages (from pykeen==1.10.3.dev0) (8.1.7)\n",
            "Collecting click-default-group (from pykeen==1.10.3.dev0)\n",
            "  Downloading click_default_group-1.2.4-py2.py3-none-any.whl.metadata (2.8 kB)\n",
            "Requirement already satisfied: scikit-learn in /usr/local/lib/python3.10/dist-packages (from pykeen==1.10.3.dev0) (1.5.2)\n",
            "Requirement already satisfied: torch>=2.0 in /usr/local/lib/python3.10/dist-packages (from pykeen==1.10.3.dev0) (2.5.0+cu121)\n",
            "Requirement already satisfied: tqdm in /usr/local/lib/python3.10/dist-packages (from pykeen==1.10.3.dev0) (4.66.5)\n",
            "Requirement already satisfied: requests in /usr/local/lib/python3.10/dist-packages (from pykeen==1.10.3.dev0) (2.32.3)\n",
            "Collecting optuna>=2.0.0 (from pykeen==1.10.3.dev0)\n",
            "  Downloading optuna-4.0.0-py3-none-any.whl.metadata (16 kB)\n",
            "Requirement already satisfied: pandas>=1.0.0 in /usr/local/lib/python3.10/dist-packages (from pykeen==1.10.3.dev0) (2.2.2)\n",
            "Requirement already satisfied: tabulate in /usr/local/lib/python3.10/dist-packages (from pykeen==1.10.3.dev0) (0.9.0)\n",
            "Collecting more-click (from pykeen==1.10.3.dev0)\n",
            "  Downloading more_click-0.1.2-py3-none-any.whl.metadata (4.3 kB)\n",
            "Requirement already satisfied: more-itertools in /usr/local/lib/python3.10/dist-packages (from pykeen==1.10.3.dev0) (10.5.0)\n",
            "Collecting pystow>=0.4.3 (from pykeen==1.10.3.dev0)\n",
            "  Downloading pystow-0.5.6-py3-none-any.whl.metadata (8.9 kB)\n",
            "Collecting docdata (from pykeen==1.10.3.dev0)\n",
            "  Downloading docdata-0.0.4-py3-none-any.whl.metadata (13 kB)\n",
            "Collecting class-resolver>=0.5.1 (from pykeen==1.10.3.dev0)\n",
            "  Downloading class_resolver-0.5.2-py3-none-any.whl.metadata (14 kB)\n",
            "Requirement already satisfied: pyyaml in /usr/local/lib/python3.10/dist-packages (from pykeen==1.10.3.dev0) (6.0.2)\n",
            "Collecting torch-max-mem>=0.1.1 (from pykeen==1.10.3.dev0)\n",
            "  Downloading torch_max_mem-0.1.3-py3-none-any.whl.metadata (7.4 kB)\n",
            "Collecting torch-ppr>=0.0.7 (from pykeen==1.10.3.dev0)\n",
            "  Downloading torch_ppr-0.0.8-py3-none-any.whl.metadata (9.3 kB)\n",
            "Requirement already satisfied: typing-extensions in /usr/local/lib/python3.10/dist-packages (from pykeen==1.10.3.dev0) (4.12.2)\n",
            "Collecting alembic>=1.5.0 (from optuna>=2.0.0->pykeen==1.10.3.dev0)\n",
            "  Downloading alembic-1.13.3-py3-none-any.whl.metadata (7.4 kB)\n",
            "Collecting colorlog (from optuna>=2.0.0->pykeen==1.10.3.dev0)\n",
            "  Downloading colorlog-6.8.2-py3-none-any.whl.metadata (10 kB)\n",
            "Requirement already satisfied: packaging>=20.0 in /usr/local/lib/python3.10/dist-packages (from optuna>=2.0.0->pykeen==1.10.3.dev0) (24.1)\n",
            "Requirement already satisfied: sqlalchemy>=1.3.0 in /usr/local/lib/python3.10/dist-packages (from optuna>=2.0.0->pykeen==1.10.3.dev0) (2.0.36)\n",
            "Requirement already satisfied: python-dateutil>=2.8.2 in /usr/local/lib/python3.10/dist-packages (from pandas>=1.0.0->pykeen==1.10.3.dev0) (2.8.2)\n",
            "Requirement already satisfied: pytz>=2020.1 in /usr/local/lib/python3.10/dist-packages (from pandas>=1.0.0->pykeen==1.10.3.dev0) (2024.2)\n",
            "Requirement already satisfied: tzdata>=2022.7 in /usr/local/lib/python3.10/dist-packages (from pandas>=1.0.0->pykeen==1.10.3.dev0) (2024.2)\n",
            "Requirement already satisfied: filelock in /usr/local/lib/python3.10/dist-packages (from torch>=2.0->pykeen==1.10.3.dev0) (3.16.1)\n",
            "Requirement already satisfied: networkx in /usr/local/lib/python3.10/dist-packages (from torch>=2.0->pykeen==1.10.3.dev0) (3.4.2)\n",
            "Requirement already satisfied: jinja2 in /usr/local/lib/python3.10/dist-packages (from torch>=2.0->pykeen==1.10.3.dev0) (3.1.4)\n",
            "Requirement already satisfied: fsspec in /usr/local/lib/python3.10/dist-packages (from torch>=2.0->pykeen==1.10.3.dev0) (2024.6.1)\n",
            "Requirement already satisfied: sympy==1.13.1 in /usr/local/lib/python3.10/dist-packages (from torch>=2.0->pykeen==1.10.3.dev0) (1.13.1)\n",
            "Requirement already satisfied: mpmath<1.4,>=1.1.0 in /usr/local/lib/python3.10/dist-packages (from sympy==1.13.1->torch>=2.0->pykeen==1.10.3.dev0) (1.3.0)\n",
            "Collecting marshmallow<4.0.0,>=3.18.0 (from dataclasses-json->pykeen==1.10.3.dev0)\n",
            "  Downloading marshmallow-3.23.0-py3-none-any.whl.metadata (7.6 kB)\n",
            "Collecting typing-inspect<1,>=0.4.0 (from dataclasses-json->pykeen==1.10.3.dev0)\n",
            "  Downloading typing_inspect-0.9.0-py3-none-any.whl.metadata (1.5 kB)\n",
            "Requirement already satisfied: charset-normalizer<4,>=2 in /usr/local/lib/python3.10/dist-packages (from requests->pykeen==1.10.3.dev0) (3.4.0)\n",
            "Requirement already satisfied: idna<4,>=2.5 in /usr/local/lib/python3.10/dist-packages (from requests->pykeen==1.10.3.dev0) (3.10)\n",
            "Requirement already satisfied: urllib3<3,>=1.21.1 in /usr/local/lib/python3.10/dist-packages (from requests->pykeen==1.10.3.dev0) (2.2.3)\n",
            "Requirement already satisfied: certifi>=2017.4.17 in /usr/local/lib/python3.10/dist-packages (from requests->pykeen==1.10.3.dev0) (2024.8.30)\n",
            "Requirement already satisfied: joblib>=1.2.0 in /usr/local/lib/python3.10/dist-packages (from scikit-learn->pykeen==1.10.3.dev0) (1.4.2)\n",
            "Requirement already satisfied: threadpoolctl>=3.1.0 in /usr/local/lib/python3.10/dist-packages (from scikit-learn->pykeen==1.10.3.dev0) (3.5.0)\n",
            "Collecting Mako (from alembic>=1.5.0->optuna>=2.0.0->pykeen==1.10.3.dev0)\n",
            "  Downloading Mako-1.3.6-py3-none-any.whl.metadata (2.9 kB)\n",
            "Requirement already satisfied: six>=1.5 in /usr/local/lib/python3.10/dist-packages (from python-dateutil>=2.8.2->pandas>=1.0.0->pykeen==1.10.3.dev0) (1.16.0)\n",
            "Requirement already satisfied: greenlet!=0.4.17 in /usr/local/lib/python3.10/dist-packages (from sqlalchemy>=1.3.0->optuna>=2.0.0->pykeen==1.10.3.dev0) (3.1.1)\n",
            "Collecting mypy-extensions>=0.3.0 (from typing-inspect<1,>=0.4.0->dataclasses-json->pykeen==1.10.3.dev0)\n",
            "  Downloading mypy_extensions-1.0.0-py3-none-any.whl.metadata (1.1 kB)\n",
            "Requirement already satisfied: MarkupSafe>=2.0 in /usr/local/lib/python3.10/dist-packages (from jinja2->torch>=2.0->pykeen==1.10.3.dev0) (3.0.2)\n",
            "Downloading class_resolver-0.5.2-py3-none-any.whl (28 kB)\n",
            "Downloading optuna-4.0.0-py3-none-any.whl (362 kB)\n",
            "\u001b[2K   \u001b[90m━━━━━━━━━━━━━━━━━━━━━━━━━━━━━━━━━━━━━━━━\u001b[0m \u001b[32m362.8/362.8 kB\u001b[0m \u001b[31m13.8 MB/s\u001b[0m eta \u001b[36m0:00:00\u001b[0m\n",
            "\u001b[?25hDownloading pystow-0.5.6-py3-none-any.whl (32 kB)\n",
            "Downloading torch_max_mem-0.1.3-py3-none-any.whl (10 kB)\n",
            "Downloading torch_ppr-0.0.8-py3-none-any.whl (12 kB)\n",
            "Downloading click_default_group-1.2.4-py2.py3-none-any.whl (4.1 kB)\n",
            "Downloading dataclasses_json-0.6.7-py3-none-any.whl (28 kB)\n",
            "Downloading docdata-0.0.4-py3-none-any.whl (9.1 kB)\n",
            "Downloading more_click-0.1.2-py3-none-any.whl (6.7 kB)\n",
            "Downloading alembic-1.13.3-py3-none-any.whl (233 kB)\n",
            "\u001b[2K   \u001b[90m━━━━━━━━━━━━━━━━━━━━━━━━━━━━━━━━━━━━━━━━\u001b[0m \u001b[32m233.2/233.2 kB\u001b[0m \u001b[31m15.6 MB/s\u001b[0m eta \u001b[36m0:00:00\u001b[0m\n",
            "\u001b[?25hDownloading marshmallow-3.23.0-py3-none-any.whl (49 kB)\n",
            "\u001b[2K   \u001b[90m━━━━━━━━━━━━━━━━━━━━━━━━━━━━━━━━━━━━━━━━\u001b[0m \u001b[32m49.5/49.5 kB\u001b[0m \u001b[31m3.8 MB/s\u001b[0m eta \u001b[36m0:00:00\u001b[0m\n",
            "\u001b[?25hDownloading typing_inspect-0.9.0-py3-none-any.whl (8.8 kB)\n",
            "Downloading colorlog-6.8.2-py3-none-any.whl (11 kB)\n",
            "Downloading mypy_extensions-1.0.0-py3-none-any.whl (4.7 kB)\n",
            "Downloading Mako-1.3.6-py3-none-any.whl (78 kB)\n",
            "\u001b[2K   \u001b[90m━━━━━━━━━━━━━━━━━━━━━━━━━━━━━━━━━━━━━━━━\u001b[0m \u001b[32m78.6/78.6 kB\u001b[0m \u001b[31m7.1 MB/s\u001b[0m eta \u001b[36m0:00:00\u001b[0m\n",
            "\u001b[?25hBuilding wheels for collected packages: pykeen\n",
            "  Building wheel for pykeen (pyproject.toml) ... \u001b[?25l\u001b[?25hdone\n",
            "  Created wheel for pykeen: filename=pykeen-1.10.3.dev0-py3-none-any.whl size=718505 sha256=6473577f96305dd2f4f2de96222d9330215d17da6bc88f99f2ec4af8b73f6b1d\n",
            "  Stored in directory: /tmp/pip-ephem-wheel-cache-ns8ljert/wheels/98/cc/ca/e65a97e466f82422e756ed7919123a4a59f39ee74adff01b50\n",
            "Successfully built pykeen\n",
            "Installing collected packages: mypy-extensions, more-click, marshmallow, Mako, docdata, colorlog, click-default-group, class-resolver, typing-inspect, pystow, alembic, torch-max-mem, optuna, dataclasses-json, torch-ppr, pykeen\n",
            "Successfully installed Mako-1.3.6 alembic-1.13.3 class-resolver-0.5.2 click-default-group-1.2.4 colorlog-6.8.2 dataclasses-json-0.6.7 docdata-0.0.4 marshmallow-3.23.0 more-click-0.1.2 mypy-extensions-1.0.0 optuna-4.0.0 pykeen-1.10.3.dev0 pystow-0.5.6 torch-max-mem-0.1.3 torch-ppr-0.0.8 typing-inspect-0.9.0\n"
          ]
        }
      ],
      "source": [
        "! python -c \"import pykeen\" || pip install git+https://github.com/pykeen/pykeen.git"
      ]
    },
    {
      "cell_type": "code",
      "execution_count": 2,
      "metadata": {
        "id": "vEbLq_Lp8WFl",
        "outputId": "e9ccbf3d-adee-4872-dfcd-3c452b62e7db",
        "colab": {
          "base_uri": "https://localhost:8080/"
        }
      },
      "outputs": [
        {
          "output_type": "stream",
          "name": "stderr",
          "text": [
            "INFO:pykeen.utils:Using opt_einsum\n"
          ]
        }
      ],
      "source": [
        "import os\n",
        "\n",
        "import numpy as np\n",
        "from matplotlib import pyplot as plt\n",
        "\n",
        "import pykeen\n",
        "from pykeen.pipeline import pipeline\n",
        "from pykeen.triples import TriplesFactory\n",
        "\n",
        "%matplotlib inline\n",
        "%config InlineBackend.figure_format = 'svg'"
      ]
    },
    {
      "cell_type": "code",
      "execution_count": 3,
      "metadata": {
        "id": "6lsu5lZ_8WFl",
        "outputId": "529ed5f0-43ed-4bd9-eaf5-38475b7024d6",
        "colab": {
          "base_uri": "https://localhost:8080/",
          "height": 297
        }
      },
      "outputs": [
        {
          "output_type": "execute_result",
          "data": {
            "text/plain": [
              "<IPython.core.display.HTML object>"
            ],
            "text/html": [
              "<table>\n",
              "<thead>\n",
              "<tr><th>Key            </th><th>Value                   </th></tr>\n",
              "</thead>\n",
              "<tbody>\n",
              "<tr><td>OS             </td><td>posix                   </td></tr>\n",
              "<tr><td>Platform       </td><td>Linux                   </td></tr>\n",
              "<tr><td>Release        </td><td>6.1.85+                 </td></tr>\n",
              "<tr><td>Time           </td><td>Sat Oct 26 22:29:42 2024</td></tr>\n",
              "<tr><td>Python         </td><td>3.10.12                 </td></tr>\n",
              "<tr><td>PyKEEN         </td><td>1.10.3-dev              </td></tr>\n",
              "<tr><td>PyKEEN Hash    </td><td>UNHASHED                </td></tr>\n",
              "<tr><td>PyKEEN Branch  </td><td>                        </td></tr>\n",
              "<tr><td>PyTorch        </td><td>2.5.0+cu121             </td></tr>\n",
              "<tr><td>CUDA Available?</td><td>true                    </td></tr>\n",
              "<tr><td>CUDA Version   </td><td>12.1                    </td></tr>\n",
              "<tr><td>cuDNN Version  </td><td>90100                   </td></tr>\n",
              "</tbody>\n",
              "</table>"
            ]
          },
          "metadata": {},
          "execution_count": 3
        }
      ],
      "source": [
        "pykeen.env()"
      ]
    },
    {
      "cell_type": "markdown",
      "metadata": {
        "id": "TUoEYg-z8WFm"
      },
      "source": [
        "## Toy Example\n",
        "\n",
        "Following the disussions proposed in https://github.com/pykeen/pykeen/issues/97, a very small set of triples are trained and visualized."
      ]
    },
    {
      "cell_type": "code",
      "execution_count": 4,
      "metadata": {
        "id": "k-5jDGtZ8WFm"
      },
      "outputs": [],
      "source": [
        "os.makedirs(\"results\", exist_ok=True)\n",
        "\n",
        "triples = \"\"\"\n",
        "Brussels\tlocatedIn\tBelgium\n",
        "Belgium\tpartOf\tEU\n",
        "EU\thasCapital\tBrussels\n",
        "\"\"\".strip()\n",
        "\n",
        "triples = np.array([triple.split(\"\\t\") for triple in triples.split(\"\\n\")])\n",
        "tf = TriplesFactory.from_labeled_triples(triples=triples)"
      ]
    },
    {
      "cell_type": "markdown",
      "metadata": {
        "id": "AA479ZzR8WFm"
      },
      "source": [
        "Training with default arguments"
      ]
    },
    {
      "cell_type": "code",
      "execution_count": 5,
      "metadata": {
        "id": "z1jlrzPn8WFn",
        "outputId": "7456ec05-d59c-4491-b4b8-fb719f1c6828",
        "colab": {
          "base_uri": "https://localhost:8080/",
          "height": 514,
          "referenced_widgets": [
            "a8390365bfaa4e67b760679e20e177b6",
            "c56249c6ffc2406fadaf0c9a4e8b9387",
            "54014c26333343cb93a22d9d3532a636",
            "d3a90613c99644aead516f12e7d08c29",
            "b9acab9149b04c818ebb4a141767511e",
            "625483d716cd4c4b8b7796f728a55260",
            "2233f8c3630f4b48af64a697706d766a",
            "22bf67490e5a4468b44c4fbd37a246c9",
            "1c1d5c4178fd4e929409a2a7a7ba7b48",
            "ee2b52a702804aa9b12f115788e68ec3",
            "e34ac1234b034474a96317a299813c9e"
          ]
        }
      },
      "outputs": [
        {
          "output_type": "stream",
          "name": "stderr",
          "text": [
            "INFO:pykeen.pipeline.api:Using device: cpu\n"
          ]
        },
        {
          "output_type": "display_data",
          "data": {
            "text/plain": [
              "Training epochs on cpu:   0%|          | 0/5 [00:00<?, ?epoch/s]"
            ],
            "application/vnd.jupyter.widget-view+json": {
              "version_major": 2,
              "version_minor": 0,
              "model_id": "a8390365bfaa4e67b760679e20e177b6"
            }
          },
          "metadata": {}
        },
        {
          "output_type": "stream",
          "name": "stderr",
          "text": [
            "WARNING:pykeen.utils:Using automatic batch size on device.type='cpu' can cause unexplained out-of-memory crashes. Therefore, we use a conservative small batch_size=32. Performance may be improved by explicitly specifying a larger batch size.\n",
            "WARNING:torch_max_mem.api:Encountered tensors on device_types={'cpu'} while only ['cuda'] are considered safe for automatic memory utilization maximization. This may lead to undocumented crashes (but can be safe, too).\n",
            "INFO:pykeen.evaluation.evaluator:Evaluation took 0.23s seconds\n"
          ]
        },
        {
          "output_type": "display_data",
          "data": {
            "text/plain": [
              "<Figure size 1000x400 with 2 Axes>"
            ],
            "image/svg+xml": "<?xml version=\"1.0\" encoding=\"utf-8\" standalone=\"no\"?>\n<!DOCTYPE svg PUBLIC \"-//W3C//DTD SVG 1.1//EN\"\n  \"http://www.w3.org/Graphics/SVG/1.1/DTD/svg11.dtd\">\n<svg xmlns:xlink=\"http://www.w3.org/1999/xlink\" width=\"712.37125pt\" height=\"279.034375pt\" viewBox=\"0 0 712.37125 279.034375\" xmlns=\"http://www.w3.org/2000/svg\" version=\"1.1\">\n <metadata>\n  <rdf:RDF xmlns:dc=\"http://purl.org/dc/elements/1.1/\" xmlns:cc=\"http://creativecommons.org/ns#\" xmlns:rdf=\"http://www.w3.org/1999/02/22-rdf-syntax-ns#\">\n   <cc:Work>\n    <dc:type rdf:resource=\"http://purl.org/dc/dcmitype/StillImage\"/>\n    <dc:date>2024-10-26T22:29:50.674062</dc:date>\n    <dc:format>image/svg+xml</dc:format>\n    <dc:creator>\n     <cc:Agent>\n      <dc:title>Matplotlib v3.7.1, https://matplotlib.org/</dc:title>\n     </cc:Agent>\n    </dc:creator>\n   </cc:Work>\n  </rdf:RDF>\n </metadata>\n <defs>\n  <style type=\"text/css\">*{stroke-linejoin: round; stroke-linecap: butt}</style>\n </defs>\n <g id=\"figure_1\">\n  <g id=\"patch_1\">\n   <path d=\"M 0 279.034375 \nL 712.37125 279.034375 \nL 712.37125 0 \nL 0 0 \nz\n\" style=\"fill: #ffffff\"/>\n  </g>\n  <g id=\"axes_1\">\n   <g id=\"patch_2\">\n    <path d=\"M 43.78125 241.478125 \nL 353.47125 241.478125 \nL 353.47125 22.318125 \nL 43.78125 22.318125 \nz\n\" style=\"fill: #ffffff\"/>\n   </g>\n   <g id=\"PolyCollection_1\"/>\n   <g id=\"matplotlib.axis_1\">\n    <g id=\"xtick_1\">\n     <g id=\"line2d_1\">\n      <defs>\n       <path id=\"ma7d9f971ee\" d=\"M 0 0 \nL 0 3.5 \n\" style=\"stroke: #000000; stroke-width: 0.8\"/>\n      </defs>\n      <g>\n       <use xlink:href=\"#ma7d9f971ee\" x=\"57.858068\" y=\"241.478125\" style=\"stroke: #000000; stroke-width: 0.8\"/>\n      </g>\n     </g>\n     <g id=\"text_1\">\n      <!-- 0.0 -->\n      <g transform=\"translate(49.906506 256.076563) scale(0.1 -0.1)\">\n       <defs>\n        <path id=\"DejaVuSans-30\" d=\"M 2034 4250 \nQ 1547 4250 1301 3770 \nQ 1056 3291 1056 2328 \nQ 1056 1369 1301 889 \nQ 1547 409 2034 409 \nQ 2525 409 2770 889 \nQ 3016 1369 3016 2328 \nQ 3016 3291 2770 3770 \nQ 2525 4250 2034 4250 \nz\nM 2034 4750 \nQ 2819 4750 3233 4129 \nQ 3647 3509 3647 2328 \nQ 3647 1150 3233 529 \nQ 2819 -91 2034 -91 \nQ 1250 -91 836 529 \nQ 422 1150 422 2328 \nQ 422 3509 836 4129 \nQ 1250 4750 2034 4750 \nz\n\" transform=\"scale(0.015625)\"/>\n        <path id=\"DejaVuSans-2e\" d=\"M 684 794 \nL 1344 794 \nL 1344 0 \nL 684 0 \nL 684 794 \nz\n\" transform=\"scale(0.015625)\"/>\n       </defs>\n       <use xlink:href=\"#DejaVuSans-30\"/>\n       <use xlink:href=\"#DejaVuSans-2e\" x=\"63.623047\"/>\n       <use xlink:href=\"#DejaVuSans-30\" x=\"95.410156\"/>\n      </g>\n     </g>\n    </g>\n    <g id=\"xtick_2\">\n     <g id=\"line2d_2\">\n      <g>\n       <use xlink:href=\"#ma7d9f971ee\" x=\"93.050114\" y=\"241.478125\" style=\"stroke: #000000; stroke-width: 0.8\"/>\n      </g>\n     </g>\n     <g id=\"text_2\">\n      <!-- 0.5 -->\n      <g transform=\"translate(85.098551 256.076563) scale(0.1 -0.1)\">\n       <defs>\n        <path id=\"DejaVuSans-35\" d=\"M 691 4666 \nL 3169 4666 \nL 3169 4134 \nL 1269 4134 \nL 1269 2991 \nQ 1406 3038 1543 3061 \nQ 1681 3084 1819 3084 \nQ 2600 3084 3056 2656 \nQ 3513 2228 3513 1497 \nQ 3513 744 3044 326 \nQ 2575 -91 1722 -91 \nQ 1428 -91 1123 -41 \nQ 819 9 494 109 \nL 494 744 \nQ 775 591 1075 516 \nQ 1375 441 1709 441 \nQ 2250 441 2565 725 \nQ 2881 1009 2881 1497 \nQ 2881 1984 2565 2268 \nQ 2250 2553 1709 2553 \nQ 1456 2553 1204 2497 \nQ 953 2441 691 2322 \nL 691 4666 \nz\n\" transform=\"scale(0.015625)\"/>\n       </defs>\n       <use xlink:href=\"#DejaVuSans-30\"/>\n       <use xlink:href=\"#DejaVuSans-2e\" x=\"63.623047\"/>\n       <use xlink:href=\"#DejaVuSans-35\" x=\"95.410156\"/>\n      </g>\n     </g>\n    </g>\n    <g id=\"xtick_3\">\n     <g id=\"line2d_3\">\n      <g>\n       <use xlink:href=\"#ma7d9f971ee\" x=\"128.242159\" y=\"241.478125\" style=\"stroke: #000000; stroke-width: 0.8\"/>\n      </g>\n     </g>\n     <g id=\"text_3\">\n      <!-- 1.0 -->\n      <g transform=\"translate(120.290597 256.076563) scale(0.1 -0.1)\">\n       <defs>\n        <path id=\"DejaVuSans-31\" d=\"M 794 531 \nL 1825 531 \nL 1825 4091 \nL 703 3866 \nL 703 4441 \nL 1819 4666 \nL 2450 4666 \nL 2450 531 \nL 3481 531 \nL 3481 0 \nL 794 0 \nL 794 531 \nz\n\" transform=\"scale(0.015625)\"/>\n       </defs>\n       <use xlink:href=\"#DejaVuSans-31\"/>\n       <use xlink:href=\"#DejaVuSans-2e\" x=\"63.623047\"/>\n       <use xlink:href=\"#DejaVuSans-30\" x=\"95.410156\"/>\n      </g>\n     </g>\n    </g>\n    <g id=\"xtick_4\">\n     <g id=\"line2d_4\">\n      <g>\n       <use xlink:href=\"#ma7d9f971ee\" x=\"163.434205\" y=\"241.478125\" style=\"stroke: #000000; stroke-width: 0.8\"/>\n      </g>\n     </g>\n     <g id=\"text_4\">\n      <!-- 1.5 -->\n      <g transform=\"translate(155.482642 256.076563) scale(0.1 -0.1)\">\n       <use xlink:href=\"#DejaVuSans-31\"/>\n       <use xlink:href=\"#DejaVuSans-2e\" x=\"63.623047\"/>\n       <use xlink:href=\"#DejaVuSans-35\" x=\"95.410156\"/>\n      </g>\n     </g>\n    </g>\n    <g id=\"xtick_5\">\n     <g id=\"line2d_5\">\n      <g>\n       <use xlink:href=\"#ma7d9f971ee\" x=\"198.62625\" y=\"241.478125\" style=\"stroke: #000000; stroke-width: 0.8\"/>\n      </g>\n     </g>\n     <g id=\"text_5\">\n      <!-- 2.0 -->\n      <g transform=\"translate(190.674688 256.076563) scale(0.1 -0.1)\">\n       <defs>\n        <path id=\"DejaVuSans-32\" d=\"M 1228 531 \nL 3431 531 \nL 3431 0 \nL 469 0 \nL 469 531 \nQ 828 903 1448 1529 \nQ 2069 2156 2228 2338 \nQ 2531 2678 2651 2914 \nQ 2772 3150 2772 3378 \nQ 2772 3750 2511 3984 \nQ 2250 4219 1831 4219 \nQ 1534 4219 1204 4116 \nQ 875 4013 500 3803 \nL 500 4441 \nQ 881 4594 1212 4672 \nQ 1544 4750 1819 4750 \nQ 2544 4750 2975 4387 \nQ 3406 4025 3406 3419 \nQ 3406 3131 3298 2873 \nQ 3191 2616 2906 2266 \nQ 2828 2175 2409 1742 \nQ 1991 1309 1228 531 \nz\n\" transform=\"scale(0.015625)\"/>\n       </defs>\n       <use xlink:href=\"#DejaVuSans-32\"/>\n       <use xlink:href=\"#DejaVuSans-2e\" x=\"63.623047\"/>\n       <use xlink:href=\"#DejaVuSans-30\" x=\"95.410156\"/>\n      </g>\n     </g>\n    </g>\n    <g id=\"xtick_6\">\n     <g id=\"line2d_6\">\n      <g>\n       <use xlink:href=\"#ma7d9f971ee\" x=\"233.818295\" y=\"241.478125\" style=\"stroke: #000000; stroke-width: 0.8\"/>\n      </g>\n     </g>\n     <g id=\"text_6\">\n      <!-- 2.5 -->\n      <g transform=\"translate(225.866733 256.076563) scale(0.1 -0.1)\">\n       <use xlink:href=\"#DejaVuSans-32\"/>\n       <use xlink:href=\"#DejaVuSans-2e\" x=\"63.623047\"/>\n       <use xlink:href=\"#DejaVuSans-35\" x=\"95.410156\"/>\n      </g>\n     </g>\n    </g>\n    <g id=\"xtick_7\">\n     <g id=\"line2d_7\">\n      <g>\n       <use xlink:href=\"#ma7d9f971ee\" x=\"269.010341\" y=\"241.478125\" style=\"stroke: #000000; stroke-width: 0.8\"/>\n      </g>\n     </g>\n     <g id=\"text_7\">\n      <!-- 3.0 -->\n      <g transform=\"translate(261.058778 256.076563) scale(0.1 -0.1)\">\n       <defs>\n        <path id=\"DejaVuSans-33\" d=\"M 2597 2516 \nQ 3050 2419 3304 2112 \nQ 3559 1806 3559 1356 \nQ 3559 666 3084 287 \nQ 2609 -91 1734 -91 \nQ 1441 -91 1130 -33 \nQ 819 25 488 141 \nL 488 750 \nQ 750 597 1062 519 \nQ 1375 441 1716 441 \nQ 2309 441 2620 675 \nQ 2931 909 2931 1356 \nQ 2931 1769 2642 2001 \nQ 2353 2234 1838 2234 \nL 1294 2234 \nL 1294 2753 \nL 1863 2753 \nQ 2328 2753 2575 2939 \nQ 2822 3125 2822 3475 \nQ 2822 3834 2567 4026 \nQ 2313 4219 1838 4219 \nQ 1578 4219 1281 4162 \nQ 984 4106 628 3988 \nL 628 4550 \nQ 988 4650 1302 4700 \nQ 1616 4750 1894 4750 \nQ 2613 4750 3031 4423 \nQ 3450 4097 3450 3541 \nQ 3450 3153 3228 2886 \nQ 3006 2619 2597 2516 \nz\n\" transform=\"scale(0.015625)\"/>\n       </defs>\n       <use xlink:href=\"#DejaVuSans-33\"/>\n       <use xlink:href=\"#DejaVuSans-2e\" x=\"63.623047\"/>\n       <use xlink:href=\"#DejaVuSans-30\" x=\"95.410156\"/>\n      </g>\n     </g>\n    </g>\n    <g id=\"xtick_8\">\n     <g id=\"line2d_8\">\n      <g>\n       <use xlink:href=\"#ma7d9f971ee\" x=\"304.202386\" y=\"241.478125\" style=\"stroke: #000000; stroke-width: 0.8\"/>\n      </g>\n     </g>\n     <g id=\"text_8\">\n      <!-- 3.5 -->\n      <g transform=\"translate(296.250824 256.076563) scale(0.1 -0.1)\">\n       <use xlink:href=\"#DejaVuSans-33\"/>\n       <use xlink:href=\"#DejaVuSans-2e\" x=\"63.623047\"/>\n       <use xlink:href=\"#DejaVuSans-35\" x=\"95.410156\"/>\n      </g>\n     </g>\n    </g>\n    <g id=\"xtick_9\">\n     <g id=\"line2d_9\">\n      <g>\n       <use xlink:href=\"#ma7d9f971ee\" x=\"339.394432\" y=\"241.478125\" style=\"stroke: #000000; stroke-width: 0.8\"/>\n      </g>\n     </g>\n     <g id=\"text_9\">\n      <!-- 4.0 -->\n      <g transform=\"translate(331.442869 256.076563) scale(0.1 -0.1)\">\n       <defs>\n        <path id=\"DejaVuSans-34\" d=\"M 2419 4116 \nL 825 1625 \nL 2419 1625 \nL 2419 4116 \nz\nM 2253 4666 \nL 3047 4666 \nL 3047 1625 \nL 3713 1625 \nL 3713 1100 \nL 3047 1100 \nL 3047 0 \nL 2419 0 \nL 2419 1100 \nL 313 1100 \nL 313 1709 \nL 2253 4666 \nz\n\" transform=\"scale(0.015625)\"/>\n       </defs>\n       <use xlink:href=\"#DejaVuSans-34\"/>\n       <use xlink:href=\"#DejaVuSans-2e\" x=\"63.623047\"/>\n       <use xlink:href=\"#DejaVuSans-30\" x=\"95.410156\"/>\n      </g>\n     </g>\n    </g>\n    <g id=\"text_10\">\n     <!-- Epoch -->\n     <g transform=\"translate(183.315313 269.754687) scale(0.1 -0.1)\">\n      <defs>\n       <path id=\"DejaVuSans-45\" d=\"M 628 4666 \nL 3578 4666 \nL 3578 4134 \nL 1259 4134 \nL 1259 2753 \nL 3481 2753 \nL 3481 2222 \nL 1259 2222 \nL 1259 531 \nL 3634 531 \nL 3634 0 \nL 628 0 \nL 628 4666 \nz\n\" transform=\"scale(0.015625)\"/>\n       <path id=\"DejaVuSans-70\" d=\"M 1159 525 \nL 1159 -1331 \nL 581 -1331 \nL 581 3500 \nL 1159 3500 \nL 1159 2969 \nQ 1341 3281 1617 3432 \nQ 1894 3584 2278 3584 \nQ 2916 3584 3314 3078 \nQ 3713 2572 3713 1747 \nQ 3713 922 3314 415 \nQ 2916 -91 2278 -91 \nQ 1894 -91 1617 61 \nQ 1341 213 1159 525 \nz\nM 3116 1747 \nQ 3116 2381 2855 2742 \nQ 2594 3103 2138 3103 \nQ 1681 3103 1420 2742 \nQ 1159 2381 1159 1747 \nQ 1159 1113 1420 752 \nQ 1681 391 2138 391 \nQ 2594 391 2855 752 \nQ 3116 1113 3116 1747 \nz\n\" transform=\"scale(0.015625)\"/>\n       <path id=\"DejaVuSans-6f\" d=\"M 1959 3097 \nQ 1497 3097 1228 2736 \nQ 959 2375 959 1747 \nQ 959 1119 1226 758 \nQ 1494 397 1959 397 \nQ 2419 397 2687 759 \nQ 2956 1122 2956 1747 \nQ 2956 2369 2687 2733 \nQ 2419 3097 1959 3097 \nz\nM 1959 3584 \nQ 2709 3584 3137 3096 \nQ 3566 2609 3566 1747 \nQ 3566 888 3137 398 \nQ 2709 -91 1959 -91 \nQ 1206 -91 779 398 \nQ 353 888 353 1747 \nQ 353 2609 779 3096 \nQ 1206 3584 1959 3584 \nz\n\" transform=\"scale(0.015625)\"/>\n       <path id=\"DejaVuSans-63\" d=\"M 3122 3366 \nL 3122 2828 \nQ 2878 2963 2633 3030 \nQ 2388 3097 2138 3097 \nQ 1578 3097 1268 2742 \nQ 959 2388 959 1747 \nQ 959 1106 1268 751 \nQ 1578 397 2138 397 \nQ 2388 397 2633 464 \nQ 2878 531 3122 666 \nL 3122 134 \nQ 2881 22 2623 -34 \nQ 2366 -91 2075 -91 \nQ 1284 -91 818 406 \nQ 353 903 353 1747 \nQ 353 2603 823 3093 \nQ 1294 3584 2113 3584 \nQ 2378 3584 2631 3529 \nQ 2884 3475 3122 3366 \nz\n\" transform=\"scale(0.015625)\"/>\n       <path id=\"DejaVuSans-68\" d=\"M 3513 2113 \nL 3513 0 \nL 2938 0 \nL 2938 2094 \nQ 2938 2591 2744 2837 \nQ 2550 3084 2163 3084 \nQ 1697 3084 1428 2787 \nQ 1159 2491 1159 1978 \nL 1159 0 \nL 581 0 \nL 581 4863 \nL 1159 4863 \nL 1159 2956 \nQ 1366 3272 1645 3428 \nQ 1925 3584 2291 3584 \nQ 2894 3584 3203 3211 \nQ 3513 2838 3513 2113 \nz\n\" transform=\"scale(0.015625)\"/>\n      </defs>\n      <use xlink:href=\"#DejaVuSans-45\"/>\n      <use xlink:href=\"#DejaVuSans-70\" x=\"63.183594\"/>\n      <use xlink:href=\"#DejaVuSans-6f\" x=\"126.660156\"/>\n      <use xlink:href=\"#DejaVuSans-63\" x=\"187.841797\"/>\n      <use xlink:href=\"#DejaVuSans-68\" x=\"242.822266\"/>\n     </g>\n    </g>\n   </g>\n   <g id=\"matplotlib.axis_2\">\n    <g id=\"ytick_1\">\n     <g id=\"line2d_10\">\n      <defs>\n       <path id=\"m4b6e12fd5c\" d=\"M 0 0 \nL -3.5 0 \n\" style=\"stroke: #000000; stroke-width: 0.8\"/>\n      </defs>\n      <g>\n       <use xlink:href=\"#m4b6e12fd5c\" x=\"43.78125\" y=\"236.878245\" style=\"stroke: #000000; stroke-width: 0.8\"/>\n      </g>\n     </g>\n     <g id=\"text_11\">\n      <!-- 1.1 -->\n      <g transform=\"translate(20.878125 240.677464) scale(0.1 -0.1)\">\n       <use xlink:href=\"#DejaVuSans-31\"/>\n       <use xlink:href=\"#DejaVuSans-2e\" x=\"63.623047\"/>\n       <use xlink:href=\"#DejaVuSans-31\" x=\"95.410156\"/>\n      </g>\n     </g>\n    </g>\n    <g id=\"ytick_2\">\n     <g id=\"line2d_11\">\n      <g>\n       <use xlink:href=\"#m4b6e12fd5c\" x=\"43.78125\" y=\"204.107759\" style=\"stroke: #000000; stroke-width: 0.8\"/>\n      </g>\n     </g>\n     <g id=\"text_12\">\n      <!-- 1.2 -->\n      <g transform=\"translate(20.878125 207.906978) scale(0.1 -0.1)\">\n       <use xlink:href=\"#DejaVuSans-31\"/>\n       <use xlink:href=\"#DejaVuSans-2e\" x=\"63.623047\"/>\n       <use xlink:href=\"#DejaVuSans-32\" x=\"95.410156\"/>\n      </g>\n     </g>\n    </g>\n    <g id=\"ytick_3\">\n     <g id=\"line2d_12\">\n      <g>\n       <use xlink:href=\"#m4b6e12fd5c\" x=\"43.78125\" y=\"171.337273\" style=\"stroke: #000000; stroke-width: 0.8\"/>\n      </g>\n     </g>\n     <g id=\"text_13\">\n      <!-- 1.3 -->\n      <g transform=\"translate(20.878125 175.136492) scale(0.1 -0.1)\">\n       <use xlink:href=\"#DejaVuSans-31\"/>\n       <use xlink:href=\"#DejaVuSans-2e\" x=\"63.623047\"/>\n       <use xlink:href=\"#DejaVuSans-33\" x=\"95.410156\"/>\n      </g>\n     </g>\n    </g>\n    <g id=\"ytick_4\">\n     <g id=\"line2d_13\">\n      <g>\n       <use xlink:href=\"#m4b6e12fd5c\" x=\"43.78125\" y=\"138.566787\" style=\"stroke: #000000; stroke-width: 0.8\"/>\n      </g>\n     </g>\n     <g id=\"text_14\">\n      <!-- 1.4 -->\n      <g transform=\"translate(20.878125 142.366006) scale(0.1 -0.1)\">\n       <use xlink:href=\"#DejaVuSans-31\"/>\n       <use xlink:href=\"#DejaVuSans-2e\" x=\"63.623047\"/>\n       <use xlink:href=\"#DejaVuSans-34\" x=\"95.410156\"/>\n      </g>\n     </g>\n    </g>\n    <g id=\"ytick_5\">\n     <g id=\"line2d_14\">\n      <g>\n       <use xlink:href=\"#m4b6e12fd5c\" x=\"43.78125\" y=\"105.796301\" style=\"stroke: #000000; stroke-width: 0.8\"/>\n      </g>\n     </g>\n     <g id=\"text_15\">\n      <!-- 1.5 -->\n      <g transform=\"translate(20.878125 109.59552) scale(0.1 -0.1)\">\n       <use xlink:href=\"#DejaVuSans-31\"/>\n       <use xlink:href=\"#DejaVuSans-2e\" x=\"63.623047\"/>\n       <use xlink:href=\"#DejaVuSans-35\" x=\"95.410156\"/>\n      </g>\n     </g>\n    </g>\n    <g id=\"ytick_6\">\n     <g id=\"line2d_15\">\n      <g>\n       <use xlink:href=\"#m4b6e12fd5c\" x=\"43.78125\" y=\"73.025815\" style=\"stroke: #000000; stroke-width: 0.8\"/>\n      </g>\n     </g>\n     <g id=\"text_16\">\n      <!-- 1.6 -->\n      <g transform=\"translate(20.878125 76.825034) scale(0.1 -0.1)\">\n       <defs>\n        <path id=\"DejaVuSans-36\" d=\"M 2113 2584 \nQ 1688 2584 1439 2293 \nQ 1191 2003 1191 1497 \nQ 1191 994 1439 701 \nQ 1688 409 2113 409 \nQ 2538 409 2786 701 \nQ 3034 994 3034 1497 \nQ 3034 2003 2786 2293 \nQ 2538 2584 2113 2584 \nz\nM 3366 4563 \nL 3366 3988 \nQ 3128 4100 2886 4159 \nQ 2644 4219 2406 4219 \nQ 1781 4219 1451 3797 \nQ 1122 3375 1075 2522 \nQ 1259 2794 1537 2939 \nQ 1816 3084 2150 3084 \nQ 2853 3084 3261 2657 \nQ 3669 2231 3669 1497 \nQ 3669 778 3244 343 \nQ 2819 -91 2113 -91 \nQ 1303 -91 875 529 \nQ 447 1150 447 2328 \nQ 447 3434 972 4092 \nQ 1497 4750 2381 4750 \nQ 2619 4750 2861 4703 \nQ 3103 4656 3366 4563 \nz\n\" transform=\"scale(0.015625)\"/>\n       </defs>\n       <use xlink:href=\"#DejaVuSans-31\"/>\n       <use xlink:href=\"#DejaVuSans-2e\" x=\"63.623047\"/>\n       <use xlink:href=\"#DejaVuSans-36\" x=\"95.410156\"/>\n      </g>\n     </g>\n    </g>\n    <g id=\"ytick_7\">\n     <g id=\"line2d_16\">\n      <g>\n       <use xlink:href=\"#m4b6e12fd5c\" x=\"43.78125\" y=\"40.255329\" style=\"stroke: #000000; stroke-width: 0.8\"/>\n      </g>\n     </g>\n     <g id=\"text_17\">\n      <!-- 1.7 -->\n      <g transform=\"translate(20.878125 44.054548) scale(0.1 -0.1)\">\n       <defs>\n        <path id=\"DejaVuSans-37\" d=\"M 525 4666 \nL 3525 4666 \nL 3525 4397 \nL 1831 0 \nL 1172 0 \nL 2766 4134 \nL 525 4134 \nL 525 4666 \nz\n\" transform=\"scale(0.015625)\"/>\n       </defs>\n       <use xlink:href=\"#DejaVuSans-31\"/>\n       <use xlink:href=\"#DejaVuSans-2e\" x=\"63.623047\"/>\n       <use xlink:href=\"#DejaVuSans-37\" x=\"95.410156\"/>\n      </g>\n     </g>\n    </g>\n    <g id=\"text_18\">\n     <!-- marginranking Loss -->\n     <g transform=\"translate(14.798438 181.004375) rotate(-90) scale(0.1 -0.1)\">\n      <defs>\n       <path id=\"DejaVuSans-6d\" d=\"M 3328 2828 \nQ 3544 3216 3844 3400 \nQ 4144 3584 4550 3584 \nQ 5097 3584 5394 3201 \nQ 5691 2819 5691 2113 \nL 5691 0 \nL 5113 0 \nL 5113 2094 \nQ 5113 2597 4934 2840 \nQ 4756 3084 4391 3084 \nQ 3944 3084 3684 2787 \nQ 3425 2491 3425 1978 \nL 3425 0 \nL 2847 0 \nL 2847 2094 \nQ 2847 2600 2669 2842 \nQ 2491 3084 2119 3084 \nQ 1678 3084 1418 2786 \nQ 1159 2488 1159 1978 \nL 1159 0 \nL 581 0 \nL 581 3500 \nL 1159 3500 \nL 1159 2956 \nQ 1356 3278 1631 3431 \nQ 1906 3584 2284 3584 \nQ 2666 3584 2933 3390 \nQ 3200 3197 3328 2828 \nz\n\" transform=\"scale(0.015625)\"/>\n       <path id=\"DejaVuSans-61\" d=\"M 2194 1759 \nQ 1497 1759 1228 1600 \nQ 959 1441 959 1056 \nQ 959 750 1161 570 \nQ 1363 391 1709 391 \nQ 2188 391 2477 730 \nQ 2766 1069 2766 1631 \nL 2766 1759 \nL 2194 1759 \nz\nM 3341 1997 \nL 3341 0 \nL 2766 0 \nL 2766 531 \nQ 2569 213 2275 61 \nQ 1981 -91 1556 -91 \nQ 1019 -91 701 211 \nQ 384 513 384 1019 \nQ 384 1609 779 1909 \nQ 1175 2209 1959 2209 \nL 2766 2209 \nL 2766 2266 \nQ 2766 2663 2505 2880 \nQ 2244 3097 1772 3097 \nQ 1472 3097 1187 3025 \nQ 903 2953 641 2809 \nL 641 3341 \nQ 956 3463 1253 3523 \nQ 1550 3584 1831 3584 \nQ 2591 3584 2966 3190 \nQ 3341 2797 3341 1997 \nz\n\" transform=\"scale(0.015625)\"/>\n       <path id=\"DejaVuSans-72\" d=\"M 2631 2963 \nQ 2534 3019 2420 3045 \nQ 2306 3072 2169 3072 \nQ 1681 3072 1420 2755 \nQ 1159 2438 1159 1844 \nL 1159 0 \nL 581 0 \nL 581 3500 \nL 1159 3500 \nL 1159 2956 \nQ 1341 3275 1631 3429 \nQ 1922 3584 2338 3584 \nQ 2397 3584 2469 3576 \nQ 2541 3569 2628 3553 \nL 2631 2963 \nz\n\" transform=\"scale(0.015625)\"/>\n       <path id=\"DejaVuSans-67\" d=\"M 2906 1791 \nQ 2906 2416 2648 2759 \nQ 2391 3103 1925 3103 \nQ 1463 3103 1205 2759 \nQ 947 2416 947 1791 \nQ 947 1169 1205 825 \nQ 1463 481 1925 481 \nQ 2391 481 2648 825 \nQ 2906 1169 2906 1791 \nz\nM 3481 434 \nQ 3481 -459 3084 -895 \nQ 2688 -1331 1869 -1331 \nQ 1566 -1331 1297 -1286 \nQ 1028 -1241 775 -1147 \nL 775 -588 \nQ 1028 -725 1275 -790 \nQ 1522 -856 1778 -856 \nQ 2344 -856 2625 -561 \nQ 2906 -266 2906 331 \nL 2906 616 \nQ 2728 306 2450 153 \nQ 2172 0 1784 0 \nQ 1141 0 747 490 \nQ 353 981 353 1791 \nQ 353 2603 747 3093 \nQ 1141 3584 1784 3584 \nQ 2172 3584 2450 3431 \nQ 2728 3278 2906 2969 \nL 2906 3500 \nL 3481 3500 \nL 3481 434 \nz\n\" transform=\"scale(0.015625)\"/>\n       <path id=\"DejaVuSans-69\" d=\"M 603 3500 \nL 1178 3500 \nL 1178 0 \nL 603 0 \nL 603 3500 \nz\nM 603 4863 \nL 1178 4863 \nL 1178 4134 \nL 603 4134 \nL 603 4863 \nz\n\" transform=\"scale(0.015625)\"/>\n       <path id=\"DejaVuSans-6e\" d=\"M 3513 2113 \nL 3513 0 \nL 2938 0 \nL 2938 2094 \nQ 2938 2591 2744 2837 \nQ 2550 3084 2163 3084 \nQ 1697 3084 1428 2787 \nQ 1159 2491 1159 1978 \nL 1159 0 \nL 581 0 \nL 581 3500 \nL 1159 3500 \nL 1159 2956 \nQ 1366 3272 1645 3428 \nQ 1925 3584 2291 3584 \nQ 2894 3584 3203 3211 \nQ 3513 2838 3513 2113 \nz\n\" transform=\"scale(0.015625)\"/>\n       <path id=\"DejaVuSans-6b\" d=\"M 581 4863 \nL 1159 4863 \nL 1159 1991 \nL 2875 3500 \nL 3609 3500 \nL 1753 1863 \nL 3688 0 \nL 2938 0 \nL 1159 1709 \nL 1159 0 \nL 581 0 \nL 581 4863 \nz\n\" transform=\"scale(0.015625)\"/>\n       <path id=\"DejaVuSans-20\" transform=\"scale(0.015625)\"/>\n       <path id=\"DejaVuSans-4c\" d=\"M 628 4666 \nL 1259 4666 \nL 1259 531 \nL 3531 531 \nL 3531 0 \nL 628 0 \nL 628 4666 \nz\n\" transform=\"scale(0.015625)\"/>\n       <path id=\"DejaVuSans-73\" d=\"M 2834 3397 \nL 2834 2853 \nQ 2591 2978 2328 3040 \nQ 2066 3103 1784 3103 \nQ 1356 3103 1142 2972 \nQ 928 2841 928 2578 \nQ 928 2378 1081 2264 \nQ 1234 2150 1697 2047 \nL 1894 2003 \nQ 2506 1872 2764 1633 \nQ 3022 1394 3022 966 \nQ 3022 478 2636 193 \nQ 2250 -91 1575 -91 \nQ 1294 -91 989 -36 \nQ 684 19 347 128 \nL 347 722 \nQ 666 556 975 473 \nQ 1284 391 1588 391 \nQ 1994 391 2212 530 \nQ 2431 669 2431 922 \nQ 2431 1156 2273 1281 \nQ 2116 1406 1581 1522 \nL 1381 1569 \nQ 847 1681 609 1914 \nQ 372 2147 372 2553 \nQ 372 3047 722 3315 \nQ 1072 3584 1716 3584 \nQ 2034 3584 2315 3537 \nQ 2597 3491 2834 3397 \nz\n\" transform=\"scale(0.015625)\"/>\n      </defs>\n      <use xlink:href=\"#DejaVuSans-6d\"/>\n      <use xlink:href=\"#DejaVuSans-61\" x=\"97.412109\"/>\n      <use xlink:href=\"#DejaVuSans-72\" x=\"158.691406\"/>\n      <use xlink:href=\"#DejaVuSans-67\" x=\"198.054688\"/>\n      <use xlink:href=\"#DejaVuSans-69\" x=\"261.53125\"/>\n      <use xlink:href=\"#DejaVuSans-6e\" x=\"289.314453\"/>\n      <use xlink:href=\"#DejaVuSans-72\" x=\"352.693359\"/>\n      <use xlink:href=\"#DejaVuSans-61\" x=\"393.806641\"/>\n      <use xlink:href=\"#DejaVuSans-6e\" x=\"455.085938\"/>\n      <use xlink:href=\"#DejaVuSans-6b\" x=\"518.464844\"/>\n      <use xlink:href=\"#DejaVuSans-69\" x=\"576.375\"/>\n      <use xlink:href=\"#DejaVuSans-6e\" x=\"604.158203\"/>\n      <use xlink:href=\"#DejaVuSans-67\" x=\"667.537109\"/>\n      <use xlink:href=\"#DejaVuSans-20\" x=\"731.013672\"/>\n      <use xlink:href=\"#DejaVuSans-4c\" x=\"762.800781\"/>\n      <use xlink:href=\"#DejaVuSans-6f\" x=\"816.763672\"/>\n      <use xlink:href=\"#DejaVuSans-73\" x=\"877.945312\"/>\n      <use xlink:href=\"#DejaVuSans-73\" x=\"930.044922\"/>\n     </g>\n    </g>\n   </g>\n   <g id=\"line2d_17\">\n    <path d=\"M 57.858068 40.102763 \nL 128.242159 166.030441 \nL 198.62625 231.516307 \nL 269.010341 32.279943 \nL 339.394432 165.727566 \n\" clip-path=\"url(#p4b8db26235)\" style=\"fill: none; stroke: #1f77b4; stroke-width: 1.5; stroke-linecap: round\"/>\n   </g>\n   <g id=\"patch_3\">\n    <path d=\"M 43.78125 241.478125 \nL 43.78125 22.318125 \n\" style=\"fill: none; stroke: #000000; stroke-width: 0.8; stroke-linejoin: miter; stroke-linecap: square\"/>\n   </g>\n   <g id=\"patch_4\">\n    <path d=\"M 353.47125 241.478125 \nL 353.47125 22.318125 \n\" style=\"fill: none; stroke: #000000; stroke-width: 0.8; stroke-linejoin: miter; stroke-linecap: square\"/>\n   </g>\n   <g id=\"patch_5\">\n    <path d=\"M 43.78125 241.478125 \nL 353.47125 241.478125 \n\" style=\"fill: none; stroke: #000000; stroke-width: 0.8; stroke-linejoin: miter; stroke-linecap: square\"/>\n   </g>\n   <g id=\"patch_6\">\n    <path d=\"M 43.78125 22.318125 \nL 353.47125 22.318125 \n\" style=\"fill: none; stroke: #000000; stroke-width: 0.8; stroke-linejoin: miter; stroke-linecap: square\"/>\n   </g>\n   <g id=\"text_19\">\n    <!-- Losses Plot -->\n    <g transform=\"translate(165.433125 16.318125) scale(0.12 -0.12)\">\n     <defs>\n      <path id=\"DejaVuSans-65\" d=\"M 3597 1894 \nL 3597 1613 \nL 953 1613 \nQ 991 1019 1311 708 \nQ 1631 397 2203 397 \nQ 2534 397 2845 478 \nQ 3156 559 3463 722 \nL 3463 178 \nQ 3153 47 2828 -22 \nQ 2503 -91 2169 -91 \nQ 1331 -91 842 396 \nQ 353 884 353 1716 \nQ 353 2575 817 3079 \nQ 1281 3584 2069 3584 \nQ 2775 3584 3186 3129 \nQ 3597 2675 3597 1894 \nz\nM 3022 2063 \nQ 3016 2534 2758 2815 \nQ 2500 3097 2075 3097 \nQ 1594 3097 1305 2825 \nQ 1016 2553 972 2059 \nL 3022 2063 \nz\n\" transform=\"scale(0.015625)\"/>\n      <path id=\"DejaVuSans-50\" d=\"M 1259 4147 \nL 1259 2394 \nL 2053 2394 \nQ 2494 2394 2734 2622 \nQ 2975 2850 2975 3272 \nQ 2975 3691 2734 3919 \nQ 2494 4147 2053 4147 \nL 1259 4147 \nz\nM 628 4666 \nL 2053 4666 \nQ 2838 4666 3239 4311 \nQ 3641 3956 3641 3272 \nQ 3641 2581 3239 2228 \nQ 2838 1875 2053 1875 \nL 1259 1875 \nL 1259 0 \nL 628 0 \nL 628 4666 \nz\n\" transform=\"scale(0.015625)\"/>\n      <path id=\"DejaVuSans-6c\" d=\"M 603 4863 \nL 1178 4863 \nL 1178 0 \nL 603 0 \nL 603 4863 \nz\n\" transform=\"scale(0.015625)\"/>\n      <path id=\"DejaVuSans-74\" d=\"M 1172 4494 \nL 1172 3500 \nL 2356 3500 \nL 2356 3053 \nL 1172 3053 \nL 1172 1153 \nQ 1172 725 1289 603 \nQ 1406 481 1766 481 \nL 2356 481 \nL 2356 0 \nL 1766 0 \nQ 1100 0 847 248 \nQ 594 497 594 1153 \nL 594 3053 \nL 172 3053 \nL 172 3500 \nL 594 3500 \nL 594 4494 \nL 1172 4494 \nz\n\" transform=\"scale(0.015625)\"/>\n     </defs>\n     <use xlink:href=\"#DejaVuSans-4c\"/>\n     <use xlink:href=\"#DejaVuSans-6f\" x=\"53.962891\"/>\n     <use xlink:href=\"#DejaVuSans-73\" x=\"115.144531\"/>\n     <use xlink:href=\"#DejaVuSans-73\" x=\"167.244141\"/>\n     <use xlink:href=\"#DejaVuSans-65\" x=\"219.34375\"/>\n     <use xlink:href=\"#DejaVuSans-73\" x=\"280.867188\"/>\n     <use xlink:href=\"#DejaVuSans-20\" x=\"332.966797\"/>\n     <use xlink:href=\"#DejaVuSans-50\" x=\"364.753906\"/>\n     <use xlink:href=\"#DejaVuSans-6c\" x=\"425.056641\"/>\n     <use xlink:href=\"#DejaVuSans-6f\" x=\"452.839844\"/>\n     <use xlink:href=\"#DejaVuSans-74\" x=\"514.021484\"/>\n    </g>\n   </g>\n  </g>\n  <g id=\"axes_2\">\n   <g id=\"patch_7\">\n    <path d=\"M 395.48125 241.478125 \nL 705.17125 241.478125 \nL 705.17125 22.318125 \nL 395.48125 22.318125 \nz\n\" style=\"fill: #ffffff\"/>\n   </g>\n   <g id=\"PathCollection_1\">\n    <defs>\n     <path id=\"m2a43aba304\" d=\"M 0 3 \nC 0.795609 3 1.55874 2.683901 2.12132 2.12132 \nC 2.683901 1.55874 3 0.795609 3 0 \nC 3 -0.795609 2.683901 -1.55874 2.12132 -2.12132 \nC 1.55874 -2.683901 0.795609 -3 0 -3 \nC -0.795609 -3 -1.55874 -2.683901 -2.12132 -2.12132 \nC -2.683901 -1.55874 -3 -0.795609 -3 0 \nC -3 0.795609 -2.683901 1.55874 -2.12132 2.12132 \nC -1.55874 2.683901 -0.795609 3 0 3 \nz\n\" style=\"stroke: #000000\"/>\n    </defs>\n    <g clip-path=\"url(#p4709e9d6c6)\">\n     <use xlink:href=\"#m2a43aba304\" x=\"458.127229\" y=\"57.273204\" style=\"stroke: #000000\"/>\n    </g>\n   </g>\n   <g id=\"PathCollection_2\">\n    <g clip-path=\"url(#p4709e9d6c6)\">\n     <use xlink:href=\"#m2a43aba304\" x=\"642.525271\" y=\"178.102387\" style=\"stroke: #000000\"/>\n    </g>\n   </g>\n   <g id=\"PathCollection_3\">\n    <g clip-path=\"url(#p4709e9d6c6)\">\n     <use xlink:href=\"#m2a43aba304\" x=\"549.554\" y=\"54.749632\" style=\"stroke: #000000\"/>\n    </g>\n   </g>\n   <g id=\"patch_8\">\n    <path d=\"M 626.122004 77.641755 \nL 625.770399 77.980542 \nL 625.662957 77.921552 \nL 511.868617 133.468763 \nL 511.761174 133.409772 \nL 625.555514 77.862561 \nL 625.448071 77.803571 \nz\n\" clip-path=\"url(#p4709e9d6c6)\" style=\"stroke: #000000; stroke-linejoin: miter\"/>\n   </g>\n   <g id=\"patch_9\">\n    <path d=\"M 629.326125 78.884365 \nL 628.958276 79.218498 \nL 628.853715 79.158135 \nL 511.867178 133.469446 \nL 511.762616 133.409084 \nL 628.749153 79.097773 \nL 628.644591 79.037411 \nz\n\" clip-path=\"url(#p4709e9d6c6)\" style=\"stroke: #000000; stroke-linejoin: miter\"/>\n   </g>\n   <g id=\"patch_10\">\n    <path d=\"M 567.948348 209.38738 \nL 567.477081 209.09008 \nL 567.623354 209.061106 \nL 511.741762 133.453754 \nL 511.888035 133.424779 \nL 567.769627 209.032131 \nL 567.9159 209.003156 \nz\n\" clip-path=\"url(#p4709e9d6c6)\" style=\"stroke: #000000; stroke-linejoin: miter\"/>\n   </g>\n   <g id=\"matplotlib.axis_3\">\n    <g id=\"xtick_10\">\n     <g id=\"line2d_18\">\n      <g>\n       <use xlink:href=\"#ma7d9f971ee\" x=\"433.507423\" y=\"241.478125\" style=\"stroke: #000000; stroke-width: 0.8\"/>\n      </g>\n     </g>\n     <g id=\"text_20\">\n      <!-- −0.50 -->\n      <g transform=\"translate(418.184767 256.076563) scale(0.1 -0.1)\">\n       <defs>\n        <path id=\"DejaVuSans-2212\" d=\"M 678 2272 \nL 4684 2272 \nL 4684 1741 \nL 678 1741 \nL 678 2272 \nz\n\" transform=\"scale(0.015625)\"/>\n       </defs>\n       <use xlink:href=\"#DejaVuSans-2212\"/>\n       <use xlink:href=\"#DejaVuSans-30\" x=\"83.789062\"/>\n       <use xlink:href=\"#DejaVuSans-2e\" x=\"147.412109\"/>\n       <use xlink:href=\"#DejaVuSans-35\" x=\"179.199219\"/>\n       <use xlink:href=\"#DejaVuSans-30\" x=\"242.822266\"/>\n      </g>\n     </g>\n    </g>\n    <g id=\"xtick_11\">\n     <g id=\"line2d_19\">\n      <g>\n       <use xlink:href=\"#ma7d9f971ee\" x=\"472.66116\" y=\"241.478125\" style=\"stroke: #000000; stroke-width: 0.8\"/>\n      </g>\n     </g>\n     <g id=\"text_21\">\n      <!-- −0.25 -->\n      <g transform=\"translate(457.338504 256.076563) scale(0.1 -0.1)\">\n       <use xlink:href=\"#DejaVuSans-2212\"/>\n       <use xlink:href=\"#DejaVuSans-30\" x=\"83.789062\"/>\n       <use xlink:href=\"#DejaVuSans-2e\" x=\"147.412109\"/>\n       <use xlink:href=\"#DejaVuSans-32\" x=\"179.199219\"/>\n       <use xlink:href=\"#DejaVuSans-35\" x=\"242.822266\"/>\n      </g>\n     </g>\n    </g>\n    <g id=\"xtick_12\">\n     <g id=\"line2d_20\">\n      <g>\n       <use xlink:href=\"#ma7d9f971ee\" x=\"511.814897\" y=\"241.478125\" style=\"stroke: #000000; stroke-width: 0.8\"/>\n      </g>\n     </g>\n     <g id=\"text_22\">\n      <!-- 0.00 -->\n      <g transform=\"translate(500.682085 256.076563) scale(0.1 -0.1)\">\n       <use xlink:href=\"#DejaVuSans-30\"/>\n       <use xlink:href=\"#DejaVuSans-2e\" x=\"63.623047\"/>\n       <use xlink:href=\"#DejaVuSans-30\" x=\"95.410156\"/>\n       <use xlink:href=\"#DejaVuSans-30\" x=\"159.033203\"/>\n      </g>\n     </g>\n    </g>\n    <g id=\"xtick_13\">\n     <g id=\"line2d_21\">\n      <g>\n       <use xlink:href=\"#ma7d9f971ee\" x=\"550.968634\" y=\"241.478125\" style=\"stroke: #000000; stroke-width: 0.8\"/>\n      </g>\n     </g>\n     <g id=\"text_23\">\n      <!-- 0.25 -->\n      <g transform=\"translate(539.835822 256.076563) scale(0.1 -0.1)\">\n       <use xlink:href=\"#DejaVuSans-30\"/>\n       <use xlink:href=\"#DejaVuSans-2e\" x=\"63.623047\"/>\n       <use xlink:href=\"#DejaVuSans-32\" x=\"95.410156\"/>\n       <use xlink:href=\"#DejaVuSans-35\" x=\"159.033203\"/>\n      </g>\n     </g>\n    </g>\n    <g id=\"xtick_14\">\n     <g id=\"line2d_22\">\n      <g>\n       <use xlink:href=\"#ma7d9f971ee\" x=\"590.122371\" y=\"241.478125\" style=\"stroke: #000000; stroke-width: 0.8\"/>\n      </g>\n     </g>\n     <g id=\"text_24\">\n      <!-- 0.50 -->\n      <g transform=\"translate(578.989559 256.076563) scale(0.1 -0.1)\">\n       <use xlink:href=\"#DejaVuSans-30\"/>\n       <use xlink:href=\"#DejaVuSans-2e\" x=\"63.623047\"/>\n       <use xlink:href=\"#DejaVuSans-35\" x=\"95.410156\"/>\n       <use xlink:href=\"#DejaVuSans-30\" x=\"159.033203\"/>\n      </g>\n     </g>\n    </g>\n    <g id=\"xtick_15\">\n     <g id=\"line2d_23\">\n      <g>\n       <use xlink:href=\"#ma7d9f971ee\" x=\"629.276108\" y=\"241.478125\" style=\"stroke: #000000; stroke-width: 0.8\"/>\n      </g>\n     </g>\n     <g id=\"text_25\">\n      <!-- 0.75 -->\n      <g transform=\"translate(618.143296 256.076563) scale(0.1 -0.1)\">\n       <use xlink:href=\"#DejaVuSans-30\"/>\n       <use xlink:href=\"#DejaVuSans-2e\" x=\"63.623047\"/>\n       <use xlink:href=\"#DejaVuSans-37\" x=\"95.410156\"/>\n       <use xlink:href=\"#DejaVuSans-35\" x=\"159.033203\"/>\n      </g>\n     </g>\n    </g>\n    <g id=\"xtick_16\">\n     <g id=\"line2d_24\">\n      <g>\n       <use xlink:href=\"#ma7d9f971ee\" x=\"668.429845\" y=\"241.478125\" style=\"stroke: #000000; stroke-width: 0.8\"/>\n      </g>\n     </g>\n     <g id=\"text_26\">\n      <!-- 1.00 -->\n      <g transform=\"translate(657.297033 256.076563) scale(0.1 -0.1)\">\n       <use xlink:href=\"#DejaVuSans-31\"/>\n       <use xlink:href=\"#DejaVuSans-2e\" x=\"63.623047\"/>\n       <use xlink:href=\"#DejaVuSans-30\" x=\"95.410156\"/>\n       <use xlink:href=\"#DejaVuSans-30\" x=\"159.033203\"/>\n      </g>\n     </g>\n    </g>\n   </g>\n   <g id=\"matplotlib.axis_4\">\n    <g id=\"ytick_8\">\n     <g id=\"line2d_25\">\n      <g>\n       <use xlink:href=\"#m4b6e12fd5c\" x=\"395.48125\" y=\"214.518033\" style=\"stroke: #000000; stroke-width: 0.8\"/>\n      </g>\n     </g>\n     <g id=\"text_27\">\n      <!-- −1.0 -->\n      <g transform=\"translate(364.198437 218.317252) scale(0.1 -0.1)\">\n       <use xlink:href=\"#DejaVuSans-2212\"/>\n       <use xlink:href=\"#DejaVuSans-31\" x=\"83.789062\"/>\n       <use xlink:href=\"#DejaVuSans-2e\" x=\"147.412109\"/>\n       <use xlink:href=\"#DejaVuSans-30\" x=\"179.199219\"/>\n      </g>\n     </g>\n    </g>\n    <g id=\"ytick_9\">\n     <g id=\"line2d_26\">\n      <g>\n       <use xlink:href=\"#m4b6e12fd5c\" x=\"395.48125\" y=\"173.97865\" style=\"stroke: #000000; stroke-width: 0.8\"/>\n      </g>\n     </g>\n     <g id=\"text_28\">\n      <!-- −0.5 -->\n      <g transform=\"translate(364.198437 177.777868) scale(0.1 -0.1)\">\n       <use xlink:href=\"#DejaVuSans-2212\"/>\n       <use xlink:href=\"#DejaVuSans-30\" x=\"83.789062\"/>\n       <use xlink:href=\"#DejaVuSans-2e\" x=\"147.412109\"/>\n       <use xlink:href=\"#DejaVuSans-35\" x=\"179.199219\"/>\n      </g>\n     </g>\n    </g>\n    <g id=\"ytick_10\">\n     <g id=\"line2d_27\">\n      <g>\n       <use xlink:href=\"#m4b6e12fd5c\" x=\"395.48125\" y=\"133.439266\" style=\"stroke: #000000; stroke-width: 0.8\"/>\n      </g>\n     </g>\n     <g id=\"text_29\">\n      <!-- 0.0 -->\n      <g transform=\"translate(372.578125 137.238485) scale(0.1 -0.1)\">\n       <use xlink:href=\"#DejaVuSans-30\"/>\n       <use xlink:href=\"#DejaVuSans-2e\" x=\"63.623047\"/>\n       <use xlink:href=\"#DejaVuSans-30\" x=\"95.410156\"/>\n      </g>\n     </g>\n    </g>\n    <g id=\"ytick_11\">\n     <g id=\"line2d_28\">\n      <g>\n       <use xlink:href=\"#m4b6e12fd5c\" x=\"395.48125\" y=\"92.899883\" style=\"stroke: #000000; stroke-width: 0.8\"/>\n      </g>\n     </g>\n     <g id=\"text_30\">\n      <!-- 0.5 -->\n      <g transform=\"translate(372.578125 96.699102) scale(0.1 -0.1)\">\n       <use xlink:href=\"#DejaVuSans-30\"/>\n       <use xlink:href=\"#DejaVuSans-2e\" x=\"63.623047\"/>\n       <use xlink:href=\"#DejaVuSans-35\" x=\"95.410156\"/>\n      </g>\n     </g>\n    </g>\n    <g id=\"ytick_12\">\n     <g id=\"line2d_29\">\n      <g>\n       <use xlink:href=\"#m4b6e12fd5c\" x=\"395.48125\" y=\"52.360499\" style=\"stroke: #000000; stroke-width: 0.8\"/>\n      </g>\n     </g>\n     <g id=\"text_31\">\n      <!-- 1.0 -->\n      <g transform=\"translate(372.578125 56.159718) scale(0.1 -0.1)\">\n       <use xlink:href=\"#DejaVuSans-31\"/>\n       <use xlink:href=\"#DejaVuSans-2e\" x=\"63.623047\"/>\n       <use xlink:href=\"#DejaVuSans-30\" x=\"95.410156\"/>\n      </g>\n     </g>\n    </g>\n   </g>\n   <g id=\"patch_11\">\n    <path d=\"M 395.48125 241.478125 \nL 395.48125 22.318125 \n\" style=\"fill: none; stroke: #000000; stroke-width: 0.8; stroke-linejoin: miter; stroke-linecap: square\"/>\n   </g>\n   <g id=\"patch_12\">\n    <path d=\"M 705.17125 241.478125 \nL 705.17125 22.318125 \n\" style=\"fill: none; stroke: #000000; stroke-width: 0.8; stroke-linejoin: miter; stroke-linecap: square\"/>\n   </g>\n   <g id=\"patch_13\">\n    <path d=\"M 395.48125 241.478125 \nL 705.17125 241.478125 \n\" style=\"fill: none; stroke: #000000; stroke-width: 0.8; stroke-linejoin: miter; stroke-linecap: square\"/>\n   </g>\n   <g id=\"patch_14\">\n    <path d=\"M 395.48125 22.318125 \nL 705.17125 22.318125 \n\" style=\"fill: none; stroke: #000000; stroke-width: 0.8; stroke-linejoin: miter; stroke-linecap: square\"/>\n   </g>\n   <g id=\"text_32\">\n    <!-- Belgium -->\n    <g style=\"fill: #262626\" transform=\"translate(461.259528 54.840841) scale(0.1 -0.1)\">\n     <defs>\n      <path id=\"DejaVuSans-42\" d=\"M 1259 2228 \nL 1259 519 \nL 2272 519 \nQ 2781 519 3026 730 \nQ 3272 941 3272 1375 \nQ 3272 1813 3026 2020 \nQ 2781 2228 2272 2228 \nL 1259 2228 \nz\nM 1259 4147 \nL 1259 2741 \nL 2194 2741 \nQ 2656 2741 2882 2914 \nQ 3109 3088 3109 3444 \nQ 3109 3797 2882 3972 \nQ 2656 4147 2194 4147 \nL 1259 4147 \nz\nM 628 4666 \nL 2241 4666 \nQ 2963 4666 3353 4366 \nQ 3744 4066 3744 3513 \nQ 3744 3084 3544 2831 \nQ 3344 2578 2956 2516 \nQ 3422 2416 3680 2098 \nQ 3938 1781 3938 1306 \nQ 3938 681 3513 340 \nQ 3088 0 2303 0 \nL 628 0 \nL 628 4666 \nz\n\" transform=\"scale(0.015625)\"/>\n      <path id=\"DejaVuSans-75\" d=\"M 544 1381 \nL 544 3500 \nL 1119 3500 \nL 1119 1403 \nQ 1119 906 1312 657 \nQ 1506 409 1894 409 \nQ 2359 409 2629 706 \nQ 2900 1003 2900 1516 \nL 2900 3500 \nL 3475 3500 \nL 3475 0 \nL 2900 0 \nL 2900 538 \nQ 2691 219 2414 64 \nQ 2138 -91 1772 -91 \nQ 1169 -91 856 284 \nQ 544 659 544 1381 \nz\nM 1991 3584 \nL 1991 3584 \nz\n\" transform=\"scale(0.015625)\"/>\n     </defs>\n     <use xlink:href=\"#DejaVuSans-42\"/>\n     <use xlink:href=\"#DejaVuSans-65\" x=\"68.603516\"/>\n     <use xlink:href=\"#DejaVuSans-6c\" x=\"130.126953\"/>\n     <use xlink:href=\"#DejaVuSans-67\" x=\"157.910156\"/>\n     <use xlink:href=\"#DejaVuSans-69\" x=\"221.386719\"/>\n     <use xlink:href=\"#DejaVuSans-75\" x=\"249.169922\"/>\n     <use xlink:href=\"#DejaVuSans-6d\" x=\"312.548828\"/>\n    </g>\n   </g>\n   <g id=\"text_33\">\n    <!-- Brussels -->\n    <g style=\"fill: #262626\" transform=\"translate(645.65757 175.670024) scale(0.1 -0.1)\">\n     <use xlink:href=\"#DejaVuSans-42\"/>\n     <use xlink:href=\"#DejaVuSans-72\" x=\"68.603516\"/>\n     <use xlink:href=\"#DejaVuSans-75\" x=\"109.716797\"/>\n     <use xlink:href=\"#DejaVuSans-73\" x=\"173.095703\"/>\n     <use xlink:href=\"#DejaVuSans-73\" x=\"225.195312\"/>\n     <use xlink:href=\"#DejaVuSans-65\" x=\"277.294922\"/>\n     <use xlink:href=\"#DejaVuSans-6c\" x=\"338.818359\"/>\n     <use xlink:href=\"#DejaVuSans-73\" x=\"366.601562\"/>\n    </g>\n   </g>\n   <g id=\"text_34\">\n    <!-- EU -->\n    <g style=\"fill: #262626\" transform=\"translate(552.686299 52.317269) scale(0.1 -0.1)\">\n     <defs>\n      <path id=\"DejaVuSans-55\" d=\"M 556 4666 \nL 1191 4666 \nL 1191 1831 \nQ 1191 1081 1462 751 \nQ 1734 422 2344 422 \nQ 2950 422 3222 751 \nQ 3494 1081 3494 1831 \nL 3494 4666 \nL 4128 4666 \nL 4128 1753 \nQ 4128 841 3676 375 \nQ 3225 -91 2344 -91 \nQ 1459 -91 1007 375 \nQ 556 841 556 1753 \nL 556 4666 \nz\n\" transform=\"scale(0.015625)\"/>\n     </defs>\n     <use xlink:href=\"#DejaVuSans-45\"/>\n     <use xlink:href=\"#DejaVuSans-55\" x=\"63.183594\"/>\n    </g>\n   </g>\n   <g id=\"text_35\">\n    <!-- hasCapital -->\n    <g style=\"fill: #262626\" transform=\"translate(628.741534 75.459693) scale(0.1 -0.1)\">\n     <defs>\n      <path id=\"DejaVuSans-43\" d=\"M 4122 4306 \nL 4122 3641 \nQ 3803 3938 3442 4084 \nQ 3081 4231 2675 4231 \nQ 1875 4231 1450 3742 \nQ 1025 3253 1025 2328 \nQ 1025 1406 1450 917 \nQ 1875 428 2675 428 \nQ 3081 428 3442 575 \nQ 3803 722 4122 1019 \nL 4122 359 \nQ 3791 134 3420 21 \nQ 3050 -91 2638 -91 \nQ 1578 -91 968 557 \nQ 359 1206 359 2328 \nQ 359 3453 968 4101 \nQ 1578 4750 2638 4750 \nQ 3056 4750 3426 4639 \nQ 3797 4528 4122 4306 \nz\n\" transform=\"scale(0.015625)\"/>\n     </defs>\n     <use xlink:href=\"#DejaVuSans-68\"/>\n     <use xlink:href=\"#DejaVuSans-61\" x=\"63.378906\"/>\n     <use xlink:href=\"#DejaVuSans-73\" x=\"124.658203\"/>\n     <use xlink:href=\"#DejaVuSans-43\" x=\"176.757812\"/>\n     <use xlink:href=\"#DejaVuSans-61\" x=\"246.582031\"/>\n     <use xlink:href=\"#DejaVuSans-70\" x=\"307.861328\"/>\n     <use xlink:href=\"#DejaVuSans-69\" x=\"371.337891\"/>\n     <use xlink:href=\"#DejaVuSans-74\" x=\"399.121094\"/>\n     <use xlink:href=\"#DejaVuSans-61\" x=\"438.330078\"/>\n     <use xlink:href=\"#DejaVuSans-6c\" x=\"499.609375\"/>\n    </g>\n   </g>\n   <g id=\"text_36\">\n    <!-- locatedIn -->\n    <g style=\"fill: #262626\" transform=\"translate(631.933733 76.695591) scale(0.1 -0.1)\">\n     <defs>\n      <path id=\"DejaVuSans-64\" d=\"M 2906 2969 \nL 2906 4863 \nL 3481 4863 \nL 3481 0 \nL 2906 0 \nL 2906 525 \nQ 2725 213 2448 61 \nQ 2172 -91 1784 -91 \nQ 1150 -91 751 415 \nQ 353 922 353 1747 \nQ 353 2572 751 3078 \nQ 1150 3584 1784 3584 \nQ 2172 3584 2448 3432 \nQ 2725 3281 2906 2969 \nz\nM 947 1747 \nQ 947 1113 1208 752 \nQ 1469 391 1925 391 \nQ 2381 391 2643 752 \nQ 2906 1113 2906 1747 \nQ 2906 2381 2643 2742 \nQ 2381 3103 1925 3103 \nQ 1469 3103 1208 2742 \nQ 947 2381 947 1747 \nz\n\" transform=\"scale(0.015625)\"/>\n      <path id=\"DejaVuSans-49\" d=\"M 628 4666 \nL 1259 4666 \nL 1259 0 \nL 628 0 \nL 628 4666 \nz\n\" transform=\"scale(0.015625)\"/>\n     </defs>\n     <use xlink:href=\"#DejaVuSans-6c\"/>\n     <use xlink:href=\"#DejaVuSans-6f\" x=\"27.783203\"/>\n     <use xlink:href=\"#DejaVuSans-63\" x=\"88.964844\"/>\n     <use xlink:href=\"#DejaVuSans-61\" x=\"143.945312\"/>\n     <use xlink:href=\"#DejaVuSans-74\" x=\"205.224609\"/>\n     <use xlink:href=\"#DejaVuSans-65\" x=\"244.433594\"/>\n     <use xlink:href=\"#DejaVuSans-64\" x=\"305.957031\"/>\n     <use xlink:href=\"#DejaVuSans-49\" x=\"369.433594\"/>\n     <use xlink:href=\"#DejaVuSans-6e\" x=\"398.925781\"/>\n    </g>\n   </g>\n   <g id=\"text_37\">\n    <!-- partOf -->\n    <g style=\"fill: #262626\" transform=\"translate(570.82879 206.614255) scale(0.1 -0.1)\">\n     <defs>\n      <path id=\"DejaVuSans-4f\" d=\"M 2522 4238 \nQ 1834 4238 1429 3725 \nQ 1025 3213 1025 2328 \nQ 1025 1447 1429 934 \nQ 1834 422 2522 422 \nQ 3209 422 3611 934 \nQ 4013 1447 4013 2328 \nQ 4013 3213 3611 3725 \nQ 3209 4238 2522 4238 \nz\nM 2522 4750 \nQ 3503 4750 4090 4092 \nQ 4678 3434 4678 2328 \nQ 4678 1225 4090 567 \nQ 3503 -91 2522 -91 \nQ 1538 -91 948 565 \nQ 359 1222 359 2328 \nQ 359 3434 948 4092 \nQ 1538 4750 2522 4750 \nz\n\" transform=\"scale(0.015625)\"/>\n      <path id=\"DejaVuSans-66\" d=\"M 2375 4863 \nL 2375 4384 \nL 1825 4384 \nQ 1516 4384 1395 4259 \nQ 1275 4134 1275 3809 \nL 1275 3500 \nL 2222 3500 \nL 2222 3053 \nL 1275 3053 \nL 1275 0 \nL 697 0 \nL 697 3053 \nL 147 3053 \nL 147 3500 \nL 697 3500 \nL 697 3744 \nQ 697 4328 969 4595 \nQ 1241 4863 1831 4863 \nL 2375 4863 \nz\n\" transform=\"scale(0.015625)\"/>\n     </defs>\n     <use xlink:href=\"#DejaVuSans-70\"/>\n     <use xlink:href=\"#DejaVuSans-61\" x=\"63.476562\"/>\n     <use xlink:href=\"#DejaVuSans-72\" x=\"124.755859\"/>\n     <use xlink:href=\"#DejaVuSans-74\" x=\"165.869141\"/>\n     <use xlink:href=\"#DejaVuSans-4f\" x=\"205.078125\"/>\n     <use xlink:href=\"#DejaVuSans-66\" x=\"283.789062\"/>\n    </g>\n   </g>\n   <g id=\"text_38\">\n    <!-- Entity/Relation Plot -->\n    <g transform=\"translate(493.14625 16.318125) scale(0.12 -0.12)\">\n     <defs>\n      <path id=\"DejaVuSans-79\" d=\"M 2059 -325 \nQ 1816 -950 1584 -1140 \nQ 1353 -1331 966 -1331 \nL 506 -1331 \nL 506 -850 \nL 844 -850 \nQ 1081 -850 1212 -737 \nQ 1344 -625 1503 -206 \nL 1606 56 \nL 191 3500 \nL 800 3500 \nL 1894 763 \nL 2988 3500 \nL 3597 3500 \nL 2059 -325 \nz\n\" transform=\"scale(0.015625)\"/>\n      <path id=\"DejaVuSans-2f\" d=\"M 1625 4666 \nL 2156 4666 \nL 531 -594 \nL 0 -594 \nL 1625 4666 \nz\n\" transform=\"scale(0.015625)\"/>\n      <path id=\"DejaVuSans-52\" d=\"M 2841 2188 \nQ 3044 2119 3236 1894 \nQ 3428 1669 3622 1275 \nL 4263 0 \nL 3584 0 \nL 2988 1197 \nQ 2756 1666 2539 1819 \nQ 2322 1972 1947 1972 \nL 1259 1972 \nL 1259 0 \nL 628 0 \nL 628 4666 \nL 2053 4666 \nQ 2853 4666 3247 4331 \nQ 3641 3997 3641 3322 \nQ 3641 2881 3436 2590 \nQ 3231 2300 2841 2188 \nz\nM 1259 4147 \nL 1259 2491 \nL 2053 2491 \nQ 2509 2491 2742 2702 \nQ 2975 2913 2975 3322 \nQ 2975 3731 2742 3939 \nQ 2509 4147 2053 4147 \nL 1259 4147 \nz\n\" transform=\"scale(0.015625)\"/>\n     </defs>\n     <use xlink:href=\"#DejaVuSans-45\"/>\n     <use xlink:href=\"#DejaVuSans-6e\" x=\"63.183594\"/>\n     <use xlink:href=\"#DejaVuSans-74\" x=\"126.5625\"/>\n     <use xlink:href=\"#DejaVuSans-69\" x=\"165.771484\"/>\n     <use xlink:href=\"#DejaVuSans-74\" x=\"193.554688\"/>\n     <use xlink:href=\"#DejaVuSans-79\" x=\"232.763672\"/>\n     <use xlink:href=\"#DejaVuSans-2f\" x=\"291.943359\"/>\n     <use xlink:href=\"#DejaVuSans-52\" x=\"325.634766\"/>\n     <use xlink:href=\"#DejaVuSans-65\" x=\"390.617188\"/>\n     <use xlink:href=\"#DejaVuSans-6c\" x=\"452.140625\"/>\n     <use xlink:href=\"#DejaVuSans-61\" x=\"479.923828\"/>\n     <use xlink:href=\"#DejaVuSans-74\" x=\"541.203125\"/>\n     <use xlink:href=\"#DejaVuSans-69\" x=\"580.412109\"/>\n     <use xlink:href=\"#DejaVuSans-6f\" x=\"608.195312\"/>\n     <use xlink:href=\"#DejaVuSans-6e\" x=\"669.376953\"/>\n     <use xlink:href=\"#DejaVuSans-20\" x=\"732.755859\"/>\n     <use xlink:href=\"#DejaVuSans-50\" x=\"764.542969\"/>\n     <use xlink:href=\"#DejaVuSans-6c\" x=\"824.845703\"/>\n     <use xlink:href=\"#DejaVuSans-6f\" x=\"852.628906\"/>\n     <use xlink:href=\"#DejaVuSans-74\" x=\"913.810547\"/>\n    </g>\n   </g>\n  </g>\n </g>\n <defs>\n  <clipPath id=\"p4b8db26235\">\n   <rect x=\"43.78125\" y=\"22.318125\" width=\"309.69\" height=\"219.16\"/>\n  </clipPath>\n  <clipPath id=\"p4709e9d6c6\">\n   <rect x=\"395.48125\" y=\"22.318125\" width=\"309.69\" height=\"219.16\"/>\n  </clipPath>\n </defs>\n</svg>\n"
          },
          "metadata": {}
        }
      ],
      "source": [
        "results = pipeline(\n",
        "    training=tf,\n",
        "    testing=tf,\n",
        "    model=\"TransE\",\n",
        "    model_kwargs=dict(embedding_dim=2),\n",
        "    training_kwargs=dict(use_tqdm_batch=False),\n",
        "    evaluation_kwargs=dict(use_tqdm=False),\n",
        "    random_seed=1,\n",
        "    device=\"cpu\",\n",
        ")\n",
        "results.plot(er_kwargs=dict(plot_relations=True))\n",
        "plt.savefig(\"results/toy_1.png\", dpi=300)"
      ]
    },
    {
      "cell_type": "markdown",
      "metadata": {
        "id": "APLrynM18WFn"
      },
      "source": [
        "Training with slower learning and more epochs"
      ]
    },
    {
      "cell_type": "code",
      "execution_count": 6,
      "metadata": {
        "id": "rBv27Q0r8WFn",
        "outputId": "a9521a77-f773-4d51-cb6b-b3f84fe2fba4",
        "colab": {
          "base_uri": "https://localhost:8080/",
          "height": 514,
          "referenced_widgets": [
            "98a7922325ab4c24b3aec2811c2d391c",
            "82898347305440498e4cb5eb22fb53a0",
            "d438e590ba8d4ce88b568d141b752aab",
            "17bd7d69c382481fa24822095c28a6d5",
            "03a9ce5cb83d4b64bd48ded98035e621",
            "a1e09f7c1bb94884b88ec78a1c022418",
            "7e50f31e42b74fb3bcc965f843e125fe",
            "2c0128cd06774fdb83a74aa820cd61cf",
            "6a61a4d1333f465f8af666727f012a3d",
            "97e4e0e38f36435592124e2d01901708",
            "49c0665920374c91bcd3ae18ab2e74b2"
          ]
        }
      },
      "outputs": [
        {
          "output_type": "stream",
          "name": "stderr",
          "text": [
            "INFO:pykeen.pipeline.api:Using device: cpu\n"
          ]
        },
        {
          "output_type": "display_data",
          "data": {
            "text/plain": [
              "Training epochs on cpu:   0%|          | 0/128 [00:00<?, ?epoch/s]"
            ],
            "application/vnd.jupyter.widget-view+json": {
              "version_major": 2,
              "version_minor": 0,
              "model_id": "98a7922325ab4c24b3aec2811c2d391c"
            }
          },
          "metadata": {}
        },
        {
          "output_type": "stream",
          "name": "stderr",
          "text": [
            "WARNING:pykeen.utils:Using automatic batch size on device.type='cpu' can cause unexplained out-of-memory crashes. Therefore, we use a conservative small batch_size=32. Performance may be improved by explicitly specifying a larger batch size.\n",
            "WARNING:torch_max_mem.api:Encountered tensors on device_types={'cpu'} while only ['cuda'] are considered safe for automatic memory utilization maximization. This may lead to undocumented crashes (but can be safe, too).\n",
            "INFO:pykeen.evaluation.evaluator:Evaluation took 0.06s seconds\n"
          ]
        },
        {
          "output_type": "display_data",
          "data": {
            "text/plain": [
              "<Figure size 1000x400 with 2 Axes>"
            ],
            "image/svg+xml": "<?xml version=\"1.0\" encoding=\"utf-8\" standalone=\"no\"?>\n<!DOCTYPE svg PUBLIC \"-//W3C//DTD SVG 1.1//EN\"\n  \"http://www.w3.org/Graphics/SVG/1.1/DTD/svg11.dtd\">\n<svg xmlns:xlink=\"http://www.w3.org/1999/xlink\" width=\"712.036715pt\" height=\"279.034375pt\" viewBox=\"0 0 712.036715 279.034375\" xmlns=\"http://www.w3.org/2000/svg\" version=\"1.1\">\n <metadata>\n  <rdf:RDF xmlns:dc=\"http://purl.org/dc/elements/1.1/\" xmlns:cc=\"http://creativecommons.org/ns#\" xmlns:rdf=\"http://www.w3.org/1999/02/22-rdf-syntax-ns#\">\n   <cc:Work>\n    <dc:type rdf:resource=\"http://purl.org/dc/dcmitype/StillImage\"/>\n    <dc:date>2024-10-26T22:30:18.827490</dc:date>\n    <dc:format>image/svg+xml</dc:format>\n    <dc:creator>\n     <cc:Agent>\n      <dc:title>Matplotlib v3.7.1, https://matplotlib.org/</dc:title>\n     </cc:Agent>\n    </dc:creator>\n   </cc:Work>\n  </rdf:RDF>\n </metadata>\n <defs>\n  <style type=\"text/css\">*{stroke-linejoin: round; stroke-linecap: butt}</style>\n </defs>\n <g id=\"figure_1\">\n  <g id=\"patch_1\">\n   <path d=\"M 0 279.034375 \nL 712.036715 279.034375 \nL 712.036715 0 \nL 0 0 \nz\n\" style=\"fill: #ffffff\"/>\n  </g>\n  <g id=\"axes_1\">\n   <g id=\"patch_2\">\n    <path d=\"M 50.14375 241.478125 \nL 356.485232 241.478125 \nL 356.485232 22.318125 \nL 50.14375 22.318125 \nz\n\" style=\"fill: #ffffff\"/>\n   </g>\n   <g id=\"matplotlib.axis_1\">\n    <g id=\"xtick_1\">\n     <g id=\"line2d_1\">\n      <path d=\"M 64.068363 241.478125 \nL 64.068363 22.318125 \n\" clip-path=\"url(#p352498adfe)\" style=\"fill: none; stroke: #cccccc; stroke-width: 0.8; stroke-linecap: round\"/>\n     </g>\n     <g id=\"text_1\">\n      <!-- 0 -->\n      <g style=\"fill: #262626\" transform=\"translate(60.887113 256.076563) scale(0.1 -0.1)\">\n       <defs>\n        <path id=\"DejaVuSans-30\" d=\"M 2034 4250 \nQ 1547 4250 1301 3770 \nQ 1056 3291 1056 2328 \nQ 1056 1369 1301 889 \nQ 1547 409 2034 409 \nQ 2525 409 2770 889 \nQ 3016 1369 3016 2328 \nQ 3016 3291 2770 3770 \nQ 2525 4250 2034 4250 \nz\nM 2034 4750 \nQ 2819 4750 3233 4129 \nQ 3647 3509 3647 2328 \nQ 3647 1150 3233 529 \nQ 2819 -91 2034 -91 \nQ 1250 -91 836 529 \nQ 422 1150 422 2328 \nQ 422 3509 836 4129 \nQ 1250 4750 2034 4750 \nz\n\" transform=\"scale(0.015625)\"/>\n       </defs>\n       <use xlink:href=\"#DejaVuSans-30\"/>\n      </g>\n     </g>\n    </g>\n    <g id=\"xtick_2\">\n     <g id=\"line2d_2\">\n      <path d=\"M 107.925411 241.478125 \nL 107.925411 22.318125 \n\" clip-path=\"url(#p352498adfe)\" style=\"fill: none; stroke: #cccccc; stroke-width: 0.8; stroke-linecap: round\"/>\n     </g>\n     <g id=\"text_2\">\n      <!-- 20 -->\n      <g style=\"fill: #262626\" transform=\"translate(101.562911 256.076563) scale(0.1 -0.1)\">\n       <defs>\n        <path id=\"DejaVuSans-32\" d=\"M 1228 531 \nL 3431 531 \nL 3431 0 \nL 469 0 \nL 469 531 \nQ 828 903 1448 1529 \nQ 2069 2156 2228 2338 \nQ 2531 2678 2651 2914 \nQ 2772 3150 2772 3378 \nQ 2772 3750 2511 3984 \nQ 2250 4219 1831 4219 \nQ 1534 4219 1204 4116 \nQ 875 4013 500 3803 \nL 500 4441 \nQ 881 4594 1212 4672 \nQ 1544 4750 1819 4750 \nQ 2544 4750 2975 4387 \nQ 3406 4025 3406 3419 \nQ 3406 3131 3298 2873 \nQ 3191 2616 2906 2266 \nQ 2828 2175 2409 1742 \nQ 1991 1309 1228 531 \nz\n\" transform=\"scale(0.015625)\"/>\n       </defs>\n       <use xlink:href=\"#DejaVuSans-32\"/>\n       <use xlink:href=\"#DejaVuSans-30\" x=\"63.623047\"/>\n      </g>\n     </g>\n    </g>\n    <g id=\"xtick_3\">\n     <g id=\"line2d_3\">\n      <path d=\"M 151.782459 241.478125 \nL 151.782459 22.318125 \n\" clip-path=\"url(#p352498adfe)\" style=\"fill: none; stroke: #cccccc; stroke-width: 0.8; stroke-linecap: round\"/>\n     </g>\n     <g id=\"text_3\">\n      <!-- 40 -->\n      <g style=\"fill: #262626\" transform=\"translate(145.419959 256.076563) scale(0.1 -0.1)\">\n       <defs>\n        <path id=\"DejaVuSans-34\" d=\"M 2419 4116 \nL 825 1625 \nL 2419 1625 \nL 2419 4116 \nz\nM 2253 4666 \nL 3047 4666 \nL 3047 1625 \nL 3713 1625 \nL 3713 1100 \nL 3047 1100 \nL 3047 0 \nL 2419 0 \nL 2419 1100 \nL 313 1100 \nL 313 1709 \nL 2253 4666 \nz\n\" transform=\"scale(0.015625)\"/>\n       </defs>\n       <use xlink:href=\"#DejaVuSans-34\"/>\n       <use xlink:href=\"#DejaVuSans-30\" x=\"63.623047\"/>\n      </g>\n     </g>\n    </g>\n    <g id=\"xtick_4\">\n     <g id=\"line2d_4\">\n      <path d=\"M 195.639508 241.478125 \nL 195.639508 22.318125 \n\" clip-path=\"url(#p352498adfe)\" style=\"fill: none; stroke: #cccccc; stroke-width: 0.8; stroke-linecap: round\"/>\n     </g>\n     <g id=\"text_4\">\n      <!-- 60 -->\n      <g style=\"fill: #262626\" transform=\"translate(189.277008 256.076563) scale(0.1 -0.1)\">\n       <defs>\n        <path id=\"DejaVuSans-36\" d=\"M 2113 2584 \nQ 1688 2584 1439 2293 \nQ 1191 2003 1191 1497 \nQ 1191 994 1439 701 \nQ 1688 409 2113 409 \nQ 2538 409 2786 701 \nQ 3034 994 3034 1497 \nQ 3034 2003 2786 2293 \nQ 2538 2584 2113 2584 \nz\nM 3366 4563 \nL 3366 3988 \nQ 3128 4100 2886 4159 \nQ 2644 4219 2406 4219 \nQ 1781 4219 1451 3797 \nQ 1122 3375 1075 2522 \nQ 1259 2794 1537 2939 \nQ 1816 3084 2150 3084 \nQ 2853 3084 3261 2657 \nQ 3669 2231 3669 1497 \nQ 3669 778 3244 343 \nQ 2819 -91 2113 -91 \nQ 1303 -91 875 529 \nQ 447 1150 447 2328 \nQ 447 3434 972 4092 \nQ 1497 4750 2381 4750 \nQ 2619 4750 2861 4703 \nQ 3103 4656 3366 4563 \nz\n\" transform=\"scale(0.015625)\"/>\n       </defs>\n       <use xlink:href=\"#DejaVuSans-36\"/>\n       <use xlink:href=\"#DejaVuSans-30\" x=\"63.623047\"/>\n      </g>\n     </g>\n    </g>\n    <g id=\"xtick_5\">\n     <g id=\"line2d_5\">\n      <path d=\"M 239.496556 241.478125 \nL 239.496556 22.318125 \n\" clip-path=\"url(#p352498adfe)\" style=\"fill: none; stroke: #cccccc; stroke-width: 0.8; stroke-linecap: round\"/>\n     </g>\n     <g id=\"text_5\">\n      <!-- 80 -->\n      <g style=\"fill: #262626\" transform=\"translate(233.134056 256.076563) scale(0.1 -0.1)\">\n       <defs>\n        <path id=\"DejaVuSans-38\" d=\"M 2034 2216 \nQ 1584 2216 1326 1975 \nQ 1069 1734 1069 1313 \nQ 1069 891 1326 650 \nQ 1584 409 2034 409 \nQ 2484 409 2743 651 \nQ 3003 894 3003 1313 \nQ 3003 1734 2745 1975 \nQ 2488 2216 2034 2216 \nz\nM 1403 2484 \nQ 997 2584 770 2862 \nQ 544 3141 544 3541 \nQ 544 4100 942 4425 \nQ 1341 4750 2034 4750 \nQ 2731 4750 3128 4425 \nQ 3525 4100 3525 3541 \nQ 3525 3141 3298 2862 \nQ 3072 2584 2669 2484 \nQ 3125 2378 3379 2068 \nQ 3634 1759 3634 1313 \nQ 3634 634 3220 271 \nQ 2806 -91 2034 -91 \nQ 1263 -91 848 271 \nQ 434 634 434 1313 \nQ 434 1759 690 2068 \nQ 947 2378 1403 2484 \nz\nM 1172 3481 \nQ 1172 3119 1398 2916 \nQ 1625 2713 2034 2713 \nQ 2441 2713 2670 2916 \nQ 2900 3119 2900 3481 \nQ 2900 3844 2670 4047 \nQ 2441 4250 2034 4250 \nQ 1625 4250 1398 4047 \nQ 1172 3844 1172 3481 \nz\n\" transform=\"scale(0.015625)\"/>\n       </defs>\n       <use xlink:href=\"#DejaVuSans-38\"/>\n       <use xlink:href=\"#DejaVuSans-30\" x=\"63.623047\"/>\n      </g>\n     </g>\n    </g>\n    <g id=\"xtick_6\">\n     <g id=\"line2d_6\">\n      <path d=\"M 283.353604 241.478125 \nL 283.353604 22.318125 \n\" clip-path=\"url(#p352498adfe)\" style=\"fill: none; stroke: #cccccc; stroke-width: 0.8; stroke-linecap: round\"/>\n     </g>\n     <g id=\"text_6\">\n      <!-- 100 -->\n      <g style=\"fill: #262626\" transform=\"translate(273.809854 256.076563) scale(0.1 -0.1)\">\n       <defs>\n        <path id=\"DejaVuSans-31\" d=\"M 794 531 \nL 1825 531 \nL 1825 4091 \nL 703 3866 \nL 703 4441 \nL 1819 4666 \nL 2450 4666 \nL 2450 531 \nL 3481 531 \nL 3481 0 \nL 794 0 \nL 794 531 \nz\n\" transform=\"scale(0.015625)\"/>\n       </defs>\n       <use xlink:href=\"#DejaVuSans-31\"/>\n       <use xlink:href=\"#DejaVuSans-30\" x=\"63.623047\"/>\n       <use xlink:href=\"#DejaVuSans-30\" x=\"127.246094\"/>\n      </g>\n     </g>\n    </g>\n    <g id=\"xtick_7\">\n     <g id=\"line2d_7\">\n      <path d=\"M 327.210653 241.478125 \nL 327.210653 22.318125 \n\" clip-path=\"url(#p352498adfe)\" style=\"fill: none; stroke: #cccccc; stroke-width: 0.8; stroke-linecap: round\"/>\n     </g>\n     <g id=\"text_7\">\n      <!-- 120 -->\n      <g style=\"fill: #262626\" transform=\"translate(317.666903 256.076563) scale(0.1 -0.1)\">\n       <use xlink:href=\"#DejaVuSans-31\"/>\n       <use xlink:href=\"#DejaVuSans-32\" x=\"63.623047\"/>\n       <use xlink:href=\"#DejaVuSans-30\" x=\"127.246094\"/>\n      </g>\n     </g>\n    </g>\n    <g id=\"text_8\">\n     <!-- Epoch -->\n     <g style=\"fill: #262626\" transform=\"translate(188.003554 269.754687) scale(0.1 -0.1)\">\n      <defs>\n       <path id=\"DejaVuSans-45\" d=\"M 628 4666 \nL 3578 4666 \nL 3578 4134 \nL 1259 4134 \nL 1259 2753 \nL 3481 2753 \nL 3481 2222 \nL 1259 2222 \nL 1259 531 \nL 3634 531 \nL 3634 0 \nL 628 0 \nL 628 4666 \nz\n\" transform=\"scale(0.015625)\"/>\n       <path id=\"DejaVuSans-70\" d=\"M 1159 525 \nL 1159 -1331 \nL 581 -1331 \nL 581 3500 \nL 1159 3500 \nL 1159 2969 \nQ 1341 3281 1617 3432 \nQ 1894 3584 2278 3584 \nQ 2916 3584 3314 3078 \nQ 3713 2572 3713 1747 \nQ 3713 922 3314 415 \nQ 2916 -91 2278 -91 \nQ 1894 -91 1617 61 \nQ 1341 213 1159 525 \nz\nM 3116 1747 \nQ 3116 2381 2855 2742 \nQ 2594 3103 2138 3103 \nQ 1681 3103 1420 2742 \nQ 1159 2381 1159 1747 \nQ 1159 1113 1420 752 \nQ 1681 391 2138 391 \nQ 2594 391 2855 752 \nQ 3116 1113 3116 1747 \nz\n\" transform=\"scale(0.015625)\"/>\n       <path id=\"DejaVuSans-6f\" d=\"M 1959 3097 \nQ 1497 3097 1228 2736 \nQ 959 2375 959 1747 \nQ 959 1119 1226 758 \nQ 1494 397 1959 397 \nQ 2419 397 2687 759 \nQ 2956 1122 2956 1747 \nQ 2956 2369 2687 2733 \nQ 2419 3097 1959 3097 \nz\nM 1959 3584 \nQ 2709 3584 3137 3096 \nQ 3566 2609 3566 1747 \nQ 3566 888 3137 398 \nQ 2709 -91 1959 -91 \nQ 1206 -91 779 398 \nQ 353 888 353 1747 \nQ 353 2609 779 3096 \nQ 1206 3584 1959 3584 \nz\n\" transform=\"scale(0.015625)\"/>\n       <path id=\"DejaVuSans-63\" d=\"M 3122 3366 \nL 3122 2828 \nQ 2878 2963 2633 3030 \nQ 2388 3097 2138 3097 \nQ 1578 3097 1268 2742 \nQ 959 2388 959 1747 \nQ 959 1106 1268 751 \nQ 1578 397 2138 397 \nQ 2388 397 2633 464 \nQ 2878 531 3122 666 \nL 3122 134 \nQ 2881 22 2623 -34 \nQ 2366 -91 2075 -91 \nQ 1284 -91 818 406 \nQ 353 903 353 1747 \nQ 353 2603 823 3093 \nQ 1294 3584 2113 3584 \nQ 2378 3584 2631 3529 \nQ 2884 3475 3122 3366 \nz\n\" transform=\"scale(0.015625)\"/>\n       <path id=\"DejaVuSans-68\" d=\"M 3513 2113 \nL 3513 0 \nL 2938 0 \nL 2938 2094 \nQ 2938 2591 2744 2837 \nQ 2550 3084 2163 3084 \nQ 1697 3084 1428 2787 \nQ 1159 2491 1159 1978 \nL 1159 0 \nL 581 0 \nL 581 4863 \nL 1159 4863 \nL 1159 2956 \nQ 1366 3272 1645 3428 \nQ 1925 3584 2291 3584 \nQ 2894 3584 3203 3211 \nQ 3513 2838 3513 2113 \nz\n\" transform=\"scale(0.015625)\"/>\n      </defs>\n      <use xlink:href=\"#DejaVuSans-45\"/>\n      <use xlink:href=\"#DejaVuSans-70\" x=\"63.183594\"/>\n      <use xlink:href=\"#DejaVuSans-6f\" x=\"126.660156\"/>\n      <use xlink:href=\"#DejaVuSans-63\" x=\"187.841797\"/>\n      <use xlink:href=\"#DejaVuSans-68\" x=\"242.822266\"/>\n     </g>\n    </g>\n   </g>\n   <g id=\"matplotlib.axis_2\">\n    <g id=\"ytick_1\">\n     <g id=\"line2d_8\">\n      <path d=\"M 50.14375 231.516307 \nL 356.485232 231.516307 \n\" clip-path=\"url(#p352498adfe)\" style=\"fill: none; stroke: #cccccc; stroke-width: 0.8; stroke-linecap: round\"/>\n     </g>\n     <g id=\"text_9\">\n      <!-- 0.00 -->\n      <g style=\"fill: #262626\" transform=\"translate(20.878125 235.315526) scale(0.1 -0.1)\">\n       <defs>\n        <path id=\"DejaVuSans-2e\" d=\"M 684 794 \nL 1344 794 \nL 1344 0 \nL 684 0 \nL 684 794 \nz\n\" transform=\"scale(0.015625)\"/>\n       </defs>\n       <use xlink:href=\"#DejaVuSans-30\"/>\n       <use xlink:href=\"#DejaVuSans-2e\" x=\"63.623047\"/>\n       <use xlink:href=\"#DejaVuSans-30\" x=\"95.410156\"/>\n       <use xlink:href=\"#DejaVuSans-30\" x=\"159.033203\"/>\n      </g>\n     </g>\n    </g>\n    <g id=\"ytick_2\">\n     <g id=\"line2d_9\">\n      <path d=\"M 50.14375 202.224863 \nL 356.485232 202.224863 \n\" clip-path=\"url(#p352498adfe)\" style=\"fill: none; stroke: #cccccc; stroke-width: 0.8; stroke-linecap: round\"/>\n     </g>\n     <g id=\"text_10\">\n      <!-- 0.25 -->\n      <g style=\"fill: #262626\" transform=\"translate(20.878125 206.024082) scale(0.1 -0.1)\">\n       <defs>\n        <path id=\"DejaVuSans-35\" d=\"M 691 4666 \nL 3169 4666 \nL 3169 4134 \nL 1269 4134 \nL 1269 2991 \nQ 1406 3038 1543 3061 \nQ 1681 3084 1819 3084 \nQ 2600 3084 3056 2656 \nQ 3513 2228 3513 1497 \nQ 3513 744 3044 326 \nQ 2575 -91 1722 -91 \nQ 1428 -91 1123 -41 \nQ 819 9 494 109 \nL 494 744 \nQ 775 591 1075 516 \nQ 1375 441 1709 441 \nQ 2250 441 2565 725 \nQ 2881 1009 2881 1497 \nQ 2881 1984 2565 2268 \nQ 2250 2553 1709 2553 \nQ 1456 2553 1204 2497 \nQ 953 2441 691 2322 \nL 691 4666 \nz\n\" transform=\"scale(0.015625)\"/>\n       </defs>\n       <use xlink:href=\"#DejaVuSans-30\"/>\n       <use xlink:href=\"#DejaVuSans-2e\" x=\"63.623047\"/>\n       <use xlink:href=\"#DejaVuSans-32\" x=\"95.410156\"/>\n       <use xlink:href=\"#DejaVuSans-35\" x=\"159.033203\"/>\n      </g>\n     </g>\n    </g>\n    <g id=\"ytick_3\">\n     <g id=\"line2d_10\">\n      <path d=\"M 50.14375 172.93342 \nL 356.485232 172.93342 \n\" clip-path=\"url(#p352498adfe)\" style=\"fill: none; stroke: #cccccc; stroke-width: 0.8; stroke-linecap: round\"/>\n     </g>\n     <g id=\"text_11\">\n      <!-- 0.50 -->\n      <g style=\"fill: #262626\" transform=\"translate(20.878125 176.732639) scale(0.1 -0.1)\">\n       <use xlink:href=\"#DejaVuSans-30\"/>\n       <use xlink:href=\"#DejaVuSans-2e\" x=\"63.623047\"/>\n       <use xlink:href=\"#DejaVuSans-35\" x=\"95.410156\"/>\n       <use xlink:href=\"#DejaVuSans-30\" x=\"159.033203\"/>\n      </g>\n     </g>\n    </g>\n    <g id=\"ytick_4\">\n     <g id=\"line2d_11\">\n      <path d=\"M 50.14375 143.641976 \nL 356.485232 143.641976 \n\" clip-path=\"url(#p352498adfe)\" style=\"fill: none; stroke: #cccccc; stroke-width: 0.8; stroke-linecap: round\"/>\n     </g>\n     <g id=\"text_12\">\n      <!-- 0.75 -->\n      <g style=\"fill: #262626\" transform=\"translate(20.878125 147.441195) scale(0.1 -0.1)\">\n       <defs>\n        <path id=\"DejaVuSans-37\" d=\"M 525 4666 \nL 3525 4666 \nL 3525 4397 \nL 1831 0 \nL 1172 0 \nL 2766 4134 \nL 525 4134 \nL 525 4666 \nz\n\" transform=\"scale(0.015625)\"/>\n       </defs>\n       <use xlink:href=\"#DejaVuSans-30\"/>\n       <use xlink:href=\"#DejaVuSans-2e\" x=\"63.623047\"/>\n       <use xlink:href=\"#DejaVuSans-37\" x=\"95.410156\"/>\n       <use xlink:href=\"#DejaVuSans-35\" x=\"159.033203\"/>\n      </g>\n     </g>\n    </g>\n    <g id=\"ytick_5\">\n     <g id=\"line2d_12\">\n      <path d=\"M 50.14375 114.350533 \nL 356.485232 114.350533 \n\" clip-path=\"url(#p352498adfe)\" style=\"fill: none; stroke: #cccccc; stroke-width: 0.8; stroke-linecap: round\"/>\n     </g>\n     <g id=\"text_13\">\n      <!-- 1.00 -->\n      <g style=\"fill: #262626\" transform=\"translate(20.878125 118.149751) scale(0.1 -0.1)\">\n       <use xlink:href=\"#DejaVuSans-31\"/>\n       <use xlink:href=\"#DejaVuSans-2e\" x=\"63.623047\"/>\n       <use xlink:href=\"#DejaVuSans-30\" x=\"95.410156\"/>\n       <use xlink:href=\"#DejaVuSans-30\" x=\"159.033203\"/>\n      </g>\n     </g>\n    </g>\n    <g id=\"ytick_6\">\n     <g id=\"line2d_13\">\n      <path d=\"M 50.14375 85.059089 \nL 356.485232 85.059089 \n\" clip-path=\"url(#p352498adfe)\" style=\"fill: none; stroke: #cccccc; stroke-width: 0.8; stroke-linecap: round\"/>\n     </g>\n     <g id=\"text_14\">\n      <!-- 1.25 -->\n      <g style=\"fill: #262626\" transform=\"translate(20.878125 88.858308) scale(0.1 -0.1)\">\n       <use xlink:href=\"#DejaVuSans-31\"/>\n       <use xlink:href=\"#DejaVuSans-2e\" x=\"63.623047\"/>\n       <use xlink:href=\"#DejaVuSans-32\" x=\"95.410156\"/>\n       <use xlink:href=\"#DejaVuSans-35\" x=\"159.033203\"/>\n      </g>\n     </g>\n    </g>\n    <g id=\"ytick_7\">\n     <g id=\"line2d_14\">\n      <path d=\"M 50.14375 55.767646 \nL 356.485232 55.767646 \n\" clip-path=\"url(#p352498adfe)\" style=\"fill: none; stroke: #cccccc; stroke-width: 0.8; stroke-linecap: round\"/>\n     </g>\n     <g id=\"text_15\">\n      <!-- 1.50 -->\n      <g style=\"fill: #262626\" transform=\"translate(20.878125 59.566864) scale(0.1 -0.1)\">\n       <use xlink:href=\"#DejaVuSans-31\"/>\n       <use xlink:href=\"#DejaVuSans-2e\" x=\"63.623047\"/>\n       <use xlink:href=\"#DejaVuSans-35\" x=\"95.410156\"/>\n       <use xlink:href=\"#DejaVuSans-30\" x=\"159.033203\"/>\n      </g>\n     </g>\n    </g>\n    <g id=\"ytick_8\">\n     <g id=\"line2d_15\">\n      <path d=\"M 50.14375 26.476202 \nL 356.485232 26.476202 \n\" clip-path=\"url(#p352498adfe)\" style=\"fill: none; stroke: #cccccc; stroke-width: 0.8; stroke-linecap: round\"/>\n     </g>\n     <g id=\"text_16\">\n      <!-- 1.75 -->\n      <g style=\"fill: #262626\" transform=\"translate(20.878125 30.275421) scale(0.1 -0.1)\">\n       <use xlink:href=\"#DejaVuSans-31\"/>\n       <use xlink:href=\"#DejaVuSans-2e\" x=\"63.623047\"/>\n       <use xlink:href=\"#DejaVuSans-37\" x=\"95.410156\"/>\n       <use xlink:href=\"#DejaVuSans-35\" x=\"159.033203\"/>\n      </g>\n     </g>\n    </g>\n    <g id=\"text_17\">\n     <!-- marginranking Loss -->\n     <g style=\"fill: #262626\" transform=\"translate(14.798438 181.004375) rotate(-90) scale(0.1 -0.1)\">\n      <defs>\n       <path id=\"DejaVuSans-6d\" d=\"M 3328 2828 \nQ 3544 3216 3844 3400 \nQ 4144 3584 4550 3584 \nQ 5097 3584 5394 3201 \nQ 5691 2819 5691 2113 \nL 5691 0 \nL 5113 0 \nL 5113 2094 \nQ 5113 2597 4934 2840 \nQ 4756 3084 4391 3084 \nQ 3944 3084 3684 2787 \nQ 3425 2491 3425 1978 \nL 3425 0 \nL 2847 0 \nL 2847 2094 \nQ 2847 2600 2669 2842 \nQ 2491 3084 2119 3084 \nQ 1678 3084 1418 2786 \nQ 1159 2488 1159 1978 \nL 1159 0 \nL 581 0 \nL 581 3500 \nL 1159 3500 \nL 1159 2956 \nQ 1356 3278 1631 3431 \nQ 1906 3584 2284 3584 \nQ 2666 3584 2933 3390 \nQ 3200 3197 3328 2828 \nz\n\" transform=\"scale(0.015625)\"/>\n       <path id=\"DejaVuSans-61\" d=\"M 2194 1759 \nQ 1497 1759 1228 1600 \nQ 959 1441 959 1056 \nQ 959 750 1161 570 \nQ 1363 391 1709 391 \nQ 2188 391 2477 730 \nQ 2766 1069 2766 1631 \nL 2766 1759 \nL 2194 1759 \nz\nM 3341 1997 \nL 3341 0 \nL 2766 0 \nL 2766 531 \nQ 2569 213 2275 61 \nQ 1981 -91 1556 -91 \nQ 1019 -91 701 211 \nQ 384 513 384 1019 \nQ 384 1609 779 1909 \nQ 1175 2209 1959 2209 \nL 2766 2209 \nL 2766 2266 \nQ 2766 2663 2505 2880 \nQ 2244 3097 1772 3097 \nQ 1472 3097 1187 3025 \nQ 903 2953 641 2809 \nL 641 3341 \nQ 956 3463 1253 3523 \nQ 1550 3584 1831 3584 \nQ 2591 3584 2966 3190 \nQ 3341 2797 3341 1997 \nz\n\" transform=\"scale(0.015625)\"/>\n       <path id=\"DejaVuSans-72\" d=\"M 2631 2963 \nQ 2534 3019 2420 3045 \nQ 2306 3072 2169 3072 \nQ 1681 3072 1420 2755 \nQ 1159 2438 1159 1844 \nL 1159 0 \nL 581 0 \nL 581 3500 \nL 1159 3500 \nL 1159 2956 \nQ 1341 3275 1631 3429 \nQ 1922 3584 2338 3584 \nQ 2397 3584 2469 3576 \nQ 2541 3569 2628 3553 \nL 2631 2963 \nz\n\" transform=\"scale(0.015625)\"/>\n       <path id=\"DejaVuSans-67\" d=\"M 2906 1791 \nQ 2906 2416 2648 2759 \nQ 2391 3103 1925 3103 \nQ 1463 3103 1205 2759 \nQ 947 2416 947 1791 \nQ 947 1169 1205 825 \nQ 1463 481 1925 481 \nQ 2391 481 2648 825 \nQ 2906 1169 2906 1791 \nz\nM 3481 434 \nQ 3481 -459 3084 -895 \nQ 2688 -1331 1869 -1331 \nQ 1566 -1331 1297 -1286 \nQ 1028 -1241 775 -1147 \nL 775 -588 \nQ 1028 -725 1275 -790 \nQ 1522 -856 1778 -856 \nQ 2344 -856 2625 -561 \nQ 2906 -266 2906 331 \nL 2906 616 \nQ 2728 306 2450 153 \nQ 2172 0 1784 0 \nQ 1141 0 747 490 \nQ 353 981 353 1791 \nQ 353 2603 747 3093 \nQ 1141 3584 1784 3584 \nQ 2172 3584 2450 3431 \nQ 2728 3278 2906 2969 \nL 2906 3500 \nL 3481 3500 \nL 3481 434 \nz\n\" transform=\"scale(0.015625)\"/>\n       <path id=\"DejaVuSans-69\" d=\"M 603 3500 \nL 1178 3500 \nL 1178 0 \nL 603 0 \nL 603 3500 \nz\nM 603 4863 \nL 1178 4863 \nL 1178 4134 \nL 603 4134 \nL 603 4863 \nz\n\" transform=\"scale(0.015625)\"/>\n       <path id=\"DejaVuSans-6e\" d=\"M 3513 2113 \nL 3513 0 \nL 2938 0 \nL 2938 2094 \nQ 2938 2591 2744 2837 \nQ 2550 3084 2163 3084 \nQ 1697 3084 1428 2787 \nQ 1159 2491 1159 1978 \nL 1159 0 \nL 581 0 \nL 581 3500 \nL 1159 3500 \nL 1159 2956 \nQ 1366 3272 1645 3428 \nQ 1925 3584 2291 3584 \nQ 2894 3584 3203 3211 \nQ 3513 2838 3513 2113 \nz\n\" transform=\"scale(0.015625)\"/>\n       <path id=\"DejaVuSans-6b\" d=\"M 581 4863 \nL 1159 4863 \nL 1159 1991 \nL 2875 3500 \nL 3609 3500 \nL 1753 1863 \nL 3688 0 \nL 2938 0 \nL 1159 1709 \nL 1159 0 \nL 581 0 \nL 581 4863 \nz\n\" transform=\"scale(0.015625)\"/>\n       <path id=\"DejaVuSans-20\" transform=\"scale(0.015625)\"/>\n       <path id=\"DejaVuSans-4c\" d=\"M 628 4666 \nL 1259 4666 \nL 1259 531 \nL 3531 531 \nL 3531 0 \nL 628 0 \nL 628 4666 \nz\n\" transform=\"scale(0.015625)\"/>\n       <path id=\"DejaVuSans-73\" d=\"M 2834 3397 \nL 2834 2853 \nQ 2591 2978 2328 3040 \nQ 2066 3103 1784 3103 \nQ 1356 3103 1142 2972 \nQ 928 2841 928 2578 \nQ 928 2378 1081 2264 \nQ 1234 2150 1697 2047 \nL 1894 2003 \nQ 2506 1872 2764 1633 \nQ 3022 1394 3022 966 \nQ 3022 478 2636 193 \nQ 2250 -91 1575 -91 \nQ 1294 -91 989 -36 \nQ 684 19 347 128 \nL 347 722 \nQ 666 556 975 473 \nQ 1284 391 1588 391 \nQ 1994 391 2212 530 \nQ 2431 669 2431 922 \nQ 2431 1156 2273 1281 \nQ 2116 1406 1581 1522 \nL 1381 1569 \nQ 847 1681 609 1914 \nQ 372 2147 372 2553 \nQ 372 3047 722 3315 \nQ 1072 3584 1716 3584 \nQ 2034 3584 2315 3537 \nQ 2597 3491 2834 3397 \nz\n\" transform=\"scale(0.015625)\"/>\n      </defs>\n      <use xlink:href=\"#DejaVuSans-6d\"/>\n      <use xlink:href=\"#DejaVuSans-61\" x=\"97.412109\"/>\n      <use xlink:href=\"#DejaVuSans-72\" x=\"158.691406\"/>\n      <use xlink:href=\"#DejaVuSans-67\" x=\"198.054688\"/>\n      <use xlink:href=\"#DejaVuSans-69\" x=\"261.53125\"/>\n      <use xlink:href=\"#DejaVuSans-6e\" x=\"289.314453\"/>\n      <use xlink:href=\"#DejaVuSans-72\" x=\"352.693359\"/>\n      <use xlink:href=\"#DejaVuSans-61\" x=\"393.806641\"/>\n      <use xlink:href=\"#DejaVuSans-6e\" x=\"455.085938\"/>\n      <use xlink:href=\"#DejaVuSans-6b\" x=\"518.464844\"/>\n      <use xlink:href=\"#DejaVuSans-69\" x=\"576.375\"/>\n      <use xlink:href=\"#DejaVuSans-6e\" x=\"604.158203\"/>\n      <use xlink:href=\"#DejaVuSans-67\" x=\"667.537109\"/>\n      <use xlink:href=\"#DejaVuSans-20\" x=\"731.013672\"/>\n      <use xlink:href=\"#DejaVuSans-4c\" x=\"762.800781\"/>\n      <use xlink:href=\"#DejaVuSans-6f\" x=\"816.763672\"/>\n      <use xlink:href=\"#DejaVuSans-73\" x=\"877.945312\"/>\n      <use xlink:href=\"#DejaVuSans-73\" x=\"930.044922\"/>\n     </g>\n    </g>\n   </g>\n   <g id=\"PolyCollection_1\"/>\n   <g id=\"line2d_16\">\n    <path d=\"M 64.068363 32.279943 \nL 66.261215 90.835482 \nL 68.454068 123.084889 \nL 70.64692 91.287435 \nL 72.839772 138.217097 \nL 75.032625 168.212357 \nL 77.225477 151.020064 \nL 79.41833 112.984703 \nL 81.611182 163.601726 \nL 83.804035 146.749556 \nL 85.996887 175.565101 \nL 88.189739 108.986704 \nL 90.382592 152.564346 \nL 92.575444 112.934924 \nL 94.768297 184.708359 \nL 96.961149 123.039537 \nL 99.154001 200.175795 \nL 101.346854 167.170372 \nL 103.539706 153.405788 \nL 105.732559 167.97203 \nL 107.925411 153.405802 \nL 110.118264 153.405802 \nL 112.311116 152.209354 \nL 114.503968 124.779235 \nL 116.696821 153.405781 \nL 118.889673 198.157754 \nL 121.082526 167.333705 \nL 123.275378 109.560283 \nL 125.46823 132.821151 \nL 127.661083 153.405795 \nL 129.853935 132.665926 \nL 132.046788 193.859085 \nL 134.23964 200.05048 \nL 136.432493 167.762235 \nL 138.625345 167.176162 \nL 140.818197 167.06147 \nL 143.01105 153.405795 \nL 145.203902 150.218197 \nL 147.396755 139.093507 \nL 149.589607 139.39654 \nL 151.782459 145.574212 \nL 153.975312 218.702316 \nL 156.168164 142.795372 \nL 158.361017 142.494706 \nL 160.553869 224.47781 \nL 162.746721 227.789603 \nL 164.939574 144.083928 \nL 167.132426 155.306005 \nL 169.325279 154.085819 \nL 171.518131 231.372367 \nL 173.710984 152.271955 \nL 175.903836 158.787076 \nL 178.096688 181.937089 \nL 180.289541 182.309246 \nL 182.482393 216.125591 \nL 184.675246 209.662174 \nL 186.868098 219.015769 \nL 189.06095 217.912211 \nL 191.253803 166.27871 \nL 193.446655 231.516307 \nL 195.639508 167.921056 \nL 197.83236 146.125018 \nL 200.025213 170.708612 \nL 202.218065 171.428672 \nL 204.410917 172.003362 \nL 206.60377 231.516307 \nL 208.796622 231.516307 \nL 210.989475 180.319116 \nL 213.182327 177.364533 \nL 215.375179 158.018354 \nL 217.568032 182.372752 \nL 219.760884 186.597565 \nL 221.953737 231.516307 \nL 224.146589 213.787208 \nL 226.339442 191.120492 \nL 228.532294 177.322806 \nL 230.725146 204.068386 \nL 232.917999 216.009729 \nL 235.110851 231.516307 \nL 237.303704 231.084793 \nL 239.496556 231.019748 \nL 241.689408 231.516307 \nL 243.882261 227.197678 \nL 246.075113 231.516307 \nL 248.267966 231.516307 \nL 250.460818 225.850725 \nL 252.65367 224.8099 \nL 254.846523 231.516307 \nL 342.560619 231.516307 \nL 342.560619 231.516307 \n\" clip-path=\"url(#p352498adfe)\" style=\"fill: none; stroke: #1f77b4; stroke-width: 1.5; stroke-linecap: round\"/>\n   </g>\n   <g id=\"patch_3\">\n    <path d=\"M 50.14375 241.478125 \nL 50.14375 22.318125 \n\" style=\"fill: none; stroke: #cccccc; stroke-width: 0.8; stroke-linejoin: miter; stroke-linecap: square\"/>\n   </g>\n   <g id=\"patch_4\">\n    <path d=\"M 356.485232 241.478125 \nL 356.485232 22.318125 \n\" style=\"fill: none; stroke: #cccccc; stroke-width: 0.8; stroke-linejoin: miter; stroke-linecap: square\"/>\n   </g>\n   <g id=\"patch_5\">\n    <path d=\"M 50.14375 241.478125 \nL 356.485232 241.478125 \n\" style=\"fill: none; stroke: #cccccc; stroke-width: 0.8; stroke-linejoin: miter; stroke-linecap: square\"/>\n   </g>\n   <g id=\"patch_6\">\n    <path d=\"M 50.14375 22.318125 \nL 356.485232 22.318125 \n\" style=\"fill: none; stroke: #cccccc; stroke-width: 0.8; stroke-linejoin: miter; stroke-linecap: square\"/>\n   </g>\n   <g id=\"text_18\">\n    <!-- Losses Plot -->\n    <g style=\"fill: #262626\" transform=\"translate(170.121366 16.318125) scale(0.12 -0.12)\">\n     <defs>\n      <path id=\"DejaVuSans-65\" d=\"M 3597 1894 \nL 3597 1613 \nL 953 1613 \nQ 991 1019 1311 708 \nQ 1631 397 2203 397 \nQ 2534 397 2845 478 \nQ 3156 559 3463 722 \nL 3463 178 \nQ 3153 47 2828 -22 \nQ 2503 -91 2169 -91 \nQ 1331 -91 842 396 \nQ 353 884 353 1716 \nQ 353 2575 817 3079 \nQ 1281 3584 2069 3584 \nQ 2775 3584 3186 3129 \nQ 3597 2675 3597 1894 \nz\nM 3022 2063 \nQ 3016 2534 2758 2815 \nQ 2500 3097 2075 3097 \nQ 1594 3097 1305 2825 \nQ 1016 2553 972 2059 \nL 3022 2063 \nz\n\" transform=\"scale(0.015625)\"/>\n      <path id=\"DejaVuSans-50\" d=\"M 1259 4147 \nL 1259 2394 \nL 2053 2394 \nQ 2494 2394 2734 2622 \nQ 2975 2850 2975 3272 \nQ 2975 3691 2734 3919 \nQ 2494 4147 2053 4147 \nL 1259 4147 \nz\nM 628 4666 \nL 2053 4666 \nQ 2838 4666 3239 4311 \nQ 3641 3956 3641 3272 \nQ 3641 2581 3239 2228 \nQ 2838 1875 2053 1875 \nL 1259 1875 \nL 1259 0 \nL 628 0 \nL 628 4666 \nz\n\" transform=\"scale(0.015625)\"/>\n      <path id=\"DejaVuSans-6c\" d=\"M 603 4863 \nL 1178 4863 \nL 1178 0 \nL 603 0 \nL 603 4863 \nz\n\" transform=\"scale(0.015625)\"/>\n      <path id=\"DejaVuSans-74\" d=\"M 1172 4494 \nL 1172 3500 \nL 2356 3500 \nL 2356 3053 \nL 1172 3053 \nL 1172 1153 \nQ 1172 725 1289 603 \nQ 1406 481 1766 481 \nL 2356 481 \nL 2356 0 \nL 1766 0 \nQ 1100 0 847 248 \nQ 594 497 594 1153 \nL 594 3053 \nL 172 3053 \nL 172 3500 \nL 594 3500 \nL 594 4494 \nL 1172 4494 \nz\n\" transform=\"scale(0.015625)\"/>\n     </defs>\n     <use xlink:href=\"#DejaVuSans-4c\"/>\n     <use xlink:href=\"#DejaVuSans-6f\" x=\"53.962891\"/>\n     <use xlink:href=\"#DejaVuSans-73\" x=\"115.144531\"/>\n     <use xlink:href=\"#DejaVuSans-73\" x=\"167.244141\"/>\n     <use xlink:href=\"#DejaVuSans-65\" x=\"219.34375\"/>\n     <use xlink:href=\"#DejaVuSans-73\" x=\"280.867188\"/>\n     <use xlink:href=\"#DejaVuSans-20\" x=\"332.966797\"/>\n     <use xlink:href=\"#DejaVuSans-50\" x=\"364.753906\"/>\n     <use xlink:href=\"#DejaVuSans-6c\" x=\"425.056641\"/>\n     <use xlink:href=\"#DejaVuSans-6f\" x=\"452.839844\"/>\n     <use xlink:href=\"#DejaVuSans-74\" x=\"514.021484\"/>\n    </g>\n   </g>\n  </g>\n  <g id=\"axes_2\">\n   <g id=\"patch_7\">\n    <path d=\"M 398.495232 241.478125 \nL 704.836715 241.478125 \nL 704.836715 22.318125 \nL 398.495232 22.318125 \nz\n\" style=\"fill: #ffffff\"/>\n   </g>\n   <g id=\"matplotlib.axis_3\">\n    <g id=\"xtick_8\">\n     <g id=\"line2d_17\">\n      <path d=\"M 431.353753 241.478125 \nL 431.353753 22.318125 \n\" clip-path=\"url(#pb5a4556670)\" style=\"fill: none; stroke: #cccccc; stroke-width: 0.8; stroke-linecap: round\"/>\n     </g>\n     <g id=\"text_19\">\n      <!-- −1.0 -->\n      <g style=\"fill: #262626\" transform=\"translate(419.212346 256.076563) scale(0.1 -0.1)\">\n       <defs>\n        <path id=\"DejaVuSans-2212\" d=\"M 678 2272 \nL 4684 2272 \nL 4684 1741 \nL 678 1741 \nL 678 2272 \nz\n\" transform=\"scale(0.015625)\"/>\n       </defs>\n       <use xlink:href=\"#DejaVuSans-2212\"/>\n       <use xlink:href=\"#DejaVuSans-31\" x=\"83.789062\"/>\n       <use xlink:href=\"#DejaVuSans-2e\" x=\"147.412109\"/>\n       <use xlink:href=\"#DejaVuSans-30\" x=\"179.199219\"/>\n      </g>\n     </g>\n    </g>\n    <g id=\"xtick_9\">\n     <g id=\"line2d_18\">\n      <path d=\"M 481.641 241.478125 \nL 481.641 22.318125 \n\" clip-path=\"url(#pb5a4556670)\" style=\"fill: none; stroke: #cccccc; stroke-width: 0.8; stroke-linecap: round\"/>\n     </g>\n     <g id=\"text_20\">\n      <!-- −0.5 -->\n      <g style=\"fill: #262626\" transform=\"translate(469.499594 256.076563) scale(0.1 -0.1)\">\n       <use xlink:href=\"#DejaVuSans-2212\"/>\n       <use xlink:href=\"#DejaVuSans-30\" x=\"83.789062\"/>\n       <use xlink:href=\"#DejaVuSans-2e\" x=\"147.412109\"/>\n       <use xlink:href=\"#DejaVuSans-35\" x=\"179.199219\"/>\n      </g>\n     </g>\n    </g>\n    <g id=\"xtick_10\">\n     <g id=\"line2d_19\">\n      <path d=\"M 531.928248 241.478125 \nL 531.928248 22.318125 \n\" clip-path=\"url(#pb5a4556670)\" style=\"fill: none; stroke: #cccccc; stroke-width: 0.8; stroke-linecap: round\"/>\n     </g>\n     <g id=\"text_21\">\n      <!-- 0.0 -->\n      <g style=\"fill: #262626\" transform=\"translate(523.976685 256.076563) scale(0.1 -0.1)\">\n       <use xlink:href=\"#DejaVuSans-30\"/>\n       <use xlink:href=\"#DejaVuSans-2e\" x=\"63.623047\"/>\n       <use xlink:href=\"#DejaVuSans-30\" x=\"95.410156\"/>\n      </g>\n     </g>\n    </g>\n    <g id=\"xtick_11\">\n     <g id=\"line2d_20\">\n      <path d=\"M 582.215495 241.478125 \nL 582.215495 22.318125 \n\" clip-path=\"url(#pb5a4556670)\" style=\"fill: none; stroke: #cccccc; stroke-width: 0.8; stroke-linecap: round\"/>\n     </g>\n     <g id=\"text_22\">\n      <!-- 0.5 -->\n      <g style=\"fill: #262626\" transform=\"translate(574.263933 256.076563) scale(0.1 -0.1)\">\n       <use xlink:href=\"#DejaVuSans-30\"/>\n       <use xlink:href=\"#DejaVuSans-2e\" x=\"63.623047\"/>\n       <use xlink:href=\"#DejaVuSans-35\" x=\"95.410156\"/>\n      </g>\n     </g>\n    </g>\n    <g id=\"xtick_12\">\n     <g id=\"line2d_21\">\n      <path d=\"M 632.502743 241.478125 \nL 632.502743 22.318125 \n\" clip-path=\"url(#pb5a4556670)\" style=\"fill: none; stroke: #cccccc; stroke-width: 0.8; stroke-linecap: round\"/>\n     </g>\n     <g id=\"text_23\">\n      <!-- 1.0 -->\n      <g style=\"fill: #262626\" transform=\"translate(624.55118 256.076563) scale(0.1 -0.1)\">\n       <use xlink:href=\"#DejaVuSans-31\"/>\n       <use xlink:href=\"#DejaVuSans-2e\" x=\"63.623047\"/>\n       <use xlink:href=\"#DejaVuSans-30\" x=\"95.410156\"/>\n      </g>\n     </g>\n    </g>\n    <g id=\"xtick_13\">\n     <g id=\"line2d_22\">\n      <path d=\"M 682.78999 241.478125 \nL 682.78999 22.318125 \n\" clip-path=\"url(#pb5a4556670)\" style=\"fill: none; stroke: #cccccc; stroke-width: 0.8; stroke-linecap: round\"/>\n     </g>\n     <g id=\"text_24\">\n      <!-- 1.5 -->\n      <g style=\"fill: #262626\" transform=\"translate(674.838428 256.076563) scale(0.1 -0.1)\">\n       <use xlink:href=\"#DejaVuSans-31\"/>\n       <use xlink:href=\"#DejaVuSans-2e\" x=\"63.623047\"/>\n       <use xlink:href=\"#DejaVuSans-35\" x=\"95.410156\"/>\n      </g>\n     </g>\n    </g>\n   </g>\n   <g id=\"matplotlib.axis_4\">\n    <g id=\"ytick_9\">\n     <g id=\"line2d_23\">\n      <path d=\"M 398.495232 232.457541 \nL 704.836715 232.457541 \n\" clip-path=\"url(#pb5a4556670)\" style=\"fill: none; stroke: #cccccc; stroke-width: 0.8; stroke-linecap: round\"/>\n     </g>\n     <g id=\"text_25\">\n      <!-- −1.5 -->\n      <g style=\"fill: #262626\" transform=\"translate(367.21242 236.25676) scale(0.1 -0.1)\">\n       <use xlink:href=\"#DejaVuSans-2212\"/>\n       <use xlink:href=\"#DejaVuSans-31\" x=\"83.789062\"/>\n       <use xlink:href=\"#DejaVuSans-2e\" x=\"147.412109\"/>\n       <use xlink:href=\"#DejaVuSans-35\" x=\"179.199219\"/>\n      </g>\n     </g>\n    </g>\n    <g id=\"ytick_10\">\n     <g id=\"line2d_24\">\n      <path d=\"M 398.495232 205.592781 \nL 704.836715 205.592781 \n\" clip-path=\"url(#pb5a4556670)\" style=\"fill: none; stroke: #cccccc; stroke-width: 0.8; stroke-linecap: round\"/>\n     </g>\n     <g id=\"text_26\">\n      <!-- −1.0 -->\n      <g style=\"fill: #262626\" transform=\"translate(367.21242 209.392) scale(0.1 -0.1)\">\n       <use xlink:href=\"#DejaVuSans-2212\"/>\n       <use xlink:href=\"#DejaVuSans-31\" x=\"83.789062\"/>\n       <use xlink:href=\"#DejaVuSans-2e\" x=\"147.412109\"/>\n       <use xlink:href=\"#DejaVuSans-30\" x=\"179.199219\"/>\n      </g>\n     </g>\n    </g>\n    <g id=\"ytick_11\">\n     <g id=\"line2d_25\">\n      <path d=\"M 398.495232 178.728021 \nL 704.836715 178.728021 \n\" clip-path=\"url(#pb5a4556670)\" style=\"fill: none; stroke: #cccccc; stroke-width: 0.8; stroke-linecap: round\"/>\n     </g>\n     <g id=\"text_27\">\n      <!-- −0.5 -->\n      <g style=\"fill: #262626\" transform=\"translate(367.21242 182.52724) scale(0.1 -0.1)\">\n       <use xlink:href=\"#DejaVuSans-2212\"/>\n       <use xlink:href=\"#DejaVuSans-30\" x=\"83.789062\"/>\n       <use xlink:href=\"#DejaVuSans-2e\" x=\"147.412109\"/>\n       <use xlink:href=\"#DejaVuSans-35\" x=\"179.199219\"/>\n      </g>\n     </g>\n    </g>\n    <g id=\"ytick_12\">\n     <g id=\"line2d_26\">\n      <path d=\"M 398.495232 151.863261 \nL 704.836715 151.863261 \n\" clip-path=\"url(#pb5a4556670)\" style=\"fill: none; stroke: #cccccc; stroke-width: 0.8; stroke-linecap: round\"/>\n     </g>\n     <g id=\"text_28\">\n      <!-- 0.0 -->\n      <g style=\"fill: #262626\" transform=\"translate(375.592107 155.662479) scale(0.1 -0.1)\">\n       <use xlink:href=\"#DejaVuSans-30\"/>\n       <use xlink:href=\"#DejaVuSans-2e\" x=\"63.623047\"/>\n       <use xlink:href=\"#DejaVuSans-30\" x=\"95.410156\"/>\n      </g>\n     </g>\n    </g>\n    <g id=\"ytick_13\">\n     <g id=\"line2d_27\">\n      <path d=\"M 398.495232 124.998501 \nL 704.836715 124.998501 \n\" clip-path=\"url(#pb5a4556670)\" style=\"fill: none; stroke: #cccccc; stroke-width: 0.8; stroke-linecap: round\"/>\n     </g>\n     <g id=\"text_29\">\n      <!-- 0.5 -->\n      <g style=\"fill: #262626\" transform=\"translate(375.592107 128.797719) scale(0.1 -0.1)\">\n       <use xlink:href=\"#DejaVuSans-30\"/>\n       <use xlink:href=\"#DejaVuSans-2e\" x=\"63.623047\"/>\n       <use xlink:href=\"#DejaVuSans-35\" x=\"95.410156\"/>\n      </g>\n     </g>\n    </g>\n    <g id=\"ytick_14\">\n     <g id=\"line2d_28\">\n      <path d=\"M 398.495232 98.13374 \nL 704.836715 98.13374 \n\" clip-path=\"url(#pb5a4556670)\" style=\"fill: none; stroke: #cccccc; stroke-width: 0.8; stroke-linecap: round\"/>\n     </g>\n     <g id=\"text_30\">\n      <!-- 1.0 -->\n      <g style=\"fill: #262626\" transform=\"translate(375.592107 101.932959) scale(0.1 -0.1)\">\n       <use xlink:href=\"#DejaVuSans-31\"/>\n       <use xlink:href=\"#DejaVuSans-2e\" x=\"63.623047\"/>\n       <use xlink:href=\"#DejaVuSans-30\" x=\"95.410156\"/>\n      </g>\n     </g>\n    </g>\n    <g id=\"ytick_15\">\n     <g id=\"line2d_29\">\n      <path d=\"M 398.495232 71.26898 \nL 704.836715 71.26898 \n\" clip-path=\"url(#pb5a4556670)\" style=\"fill: none; stroke: #cccccc; stroke-width: 0.8; stroke-linecap: round\"/>\n     </g>\n     <g id=\"text_31\">\n      <!-- 1.5 -->\n      <g style=\"fill: #262626\" transform=\"translate(375.592107 75.068199) scale(0.1 -0.1)\">\n       <use xlink:href=\"#DejaVuSans-31\"/>\n       <use xlink:href=\"#DejaVuSans-2e\" x=\"63.623047\"/>\n       <use xlink:href=\"#DejaVuSans-35\" x=\"95.410156\"/>\n      </g>\n     </g>\n    </g>\n    <g id=\"ytick_16\">\n     <g id=\"line2d_30\">\n      <path d=\"M 398.495232 44.40422 \nL 704.836715 44.40422 \n\" clip-path=\"url(#pb5a4556670)\" style=\"fill: none; stroke: #cccccc; stroke-width: 0.8; stroke-linecap: round\"/>\n     </g>\n     <g id=\"text_32\">\n      <!-- 2.0 -->\n      <g style=\"fill: #262626\" transform=\"translate(375.592107 48.203439) scale(0.1 -0.1)\">\n       <use xlink:href=\"#DejaVuSans-32\"/>\n       <use xlink:href=\"#DejaVuSans-2e\" x=\"63.623047\"/>\n       <use xlink:href=\"#DejaVuSans-30\" x=\"95.410156\"/>\n      </g>\n     </g>\n    </g>\n   </g>\n   <g id=\"PathCollection_1\">\n    <defs>\n     <path id=\"me61fce1c2d\" d=\"M 0 3 \nC 0.795609 3 1.55874 2.683901 2.12132 2.12132 \nC 2.683901 1.55874 3 0.795609 3 0 \nC 3 -0.795609 2.683901 -1.55874 2.12132 -2.12132 \nC 1.55874 -2.683901 0.795609 -3 0 -3 \nC -0.795609 -3 -1.55874 -2.683901 -2.12132 -2.12132 \nC -2.683901 -1.55874 -3 -0.795609 -3 0 \nC -3 0.795609 -2.683901 1.55874 -2.12132 2.12132 \nC -1.55874 2.683901 -0.795609 3 0 3 \nz\n\" style=\"stroke: #000000\"/>\n    </defs>\n    <g clip-path=\"url(#pb5a4556670)\">\n     <use xlink:href=\"#me61fce1c2d\" x=\"530.916851\" y=\"98.136456\" style=\"stroke: #000000\"/>\n    </g>\n   </g>\n   <g id=\"PathCollection_2\">\n    <g clip-path=\"url(#pb5a4556670)\">\n     <use xlink:href=\"#me61fce1c2d\" x=\"513.833376\" y=\"204.716031\" style=\"stroke: #000000\"/>\n    </g>\n   </g>\n   <g id=\"PathCollection_3\">\n    <g clip-path=\"url(#pb5a4556670)\">\n     <use xlink:href=\"#me61fce1c2d\" x=\"617.618886\" y=\"179.991892\" style=\"stroke: #000000\"/>\n    </g>\n   </g>\n   <g id=\"patch_8\">\n    <path d=\"M 438.399217 200.037404 \nL 438.62032 199.811567 \nL 438.690127 199.850246 \nL 531.893341 151.843919 \nL 531.963148 151.882599 \nL 438.759934 199.888926 \nL 438.829741 199.927606 \nz\n\" clip-path=\"url(#pb5a4556670)\" style=\"stroke: #000000; stroke-linejoin: miter\"/>\n   </g>\n   <g id=\"patch_9\">\n    <path d=\"M 607.211879 43.58328 \nL 607.195716 43.837995 \nL 607.101435 43.819287 \nL 531.975388 151.872616 \nL 531.881107 151.853908 \nL 607.007154 43.800579 \nL 606.912872 43.781871 \nz\n\" clip-path=\"url(#pb5a4556670)\" style=\"stroke: #000000; stroke-linejoin: miter\"/>\n   </g>\n   <g id=\"patch_10\">\n    <path d=\"M 664.933227 220.153859 \nL 664.502378 220.044425 \nL 664.57207 220.005686 \nL 531.893397 151.882633 \nL 531.96309 151.843894 \nL 664.641763 219.966948 \nL 664.711455 219.928209 \nz\n\" clip-path=\"url(#pb5a4556670)\" style=\"stroke: #000000; stroke-linejoin: miter\"/>\n   </g>\n   <g id=\"patch_11\">\n    <path d=\"M 398.495232 241.478125 \nL 398.495232 22.318125 \n\" style=\"fill: none; stroke: #cccccc; stroke-width: 0.8; stroke-linejoin: miter; stroke-linecap: square\"/>\n   </g>\n   <g id=\"patch_12\">\n    <path d=\"M 704.836715 241.478125 \nL 704.836715 22.318125 \n\" style=\"fill: none; stroke: #cccccc; stroke-width: 0.8; stroke-linejoin: miter; stroke-linecap: square\"/>\n   </g>\n   <g id=\"patch_13\">\n    <path d=\"M 398.495232 241.478125 \nL 704.836715 241.478125 \n\" style=\"fill: none; stroke: #cccccc; stroke-width: 0.8; stroke-linejoin: miter; stroke-linecap: square\"/>\n   </g>\n   <g id=\"patch_14\">\n    <path d=\"M 398.495232 22.318125 \nL 704.836715 22.318125 \n\" style=\"fill: none; stroke: #cccccc; stroke-width: 0.8; stroke-linejoin: miter; stroke-linecap: square\"/>\n   </g>\n   <g id=\"text_33\">\n    <!-- Belgium -->\n    <g style=\"fill: #262626\" transform=\"translate(532.928341 96.52457) scale(0.1 -0.1)\">\n     <defs>\n      <path id=\"DejaVuSans-42\" d=\"M 1259 2228 \nL 1259 519 \nL 2272 519 \nQ 2781 519 3026 730 \nQ 3272 941 3272 1375 \nQ 3272 1813 3026 2020 \nQ 2781 2228 2272 2228 \nL 1259 2228 \nz\nM 1259 4147 \nL 1259 2741 \nL 2194 2741 \nQ 2656 2741 2882 2914 \nQ 3109 3088 3109 3444 \nQ 3109 3797 2882 3972 \nQ 2656 4147 2194 4147 \nL 1259 4147 \nz\nM 628 4666 \nL 2241 4666 \nQ 2963 4666 3353 4366 \nQ 3744 4066 3744 3513 \nQ 3744 3084 3544 2831 \nQ 3344 2578 2956 2516 \nQ 3422 2416 3680 2098 \nQ 3938 1781 3938 1306 \nQ 3938 681 3513 340 \nQ 3088 0 2303 0 \nL 628 0 \nL 628 4666 \nz\n\" transform=\"scale(0.015625)\"/>\n      <path id=\"DejaVuSans-75\" d=\"M 544 1381 \nL 544 3500 \nL 1119 3500 \nL 1119 1403 \nQ 1119 906 1312 657 \nQ 1506 409 1894 409 \nQ 2359 409 2629 706 \nQ 2900 1003 2900 1516 \nL 2900 3500 \nL 3475 3500 \nL 3475 0 \nL 2900 0 \nL 2900 538 \nQ 2691 219 2414 64 \nQ 2138 -91 1772 -91 \nQ 1169 -91 856 284 \nQ 544 659 544 1381 \nz\nM 1991 3584 \nL 1991 3584 \nz\n\" transform=\"scale(0.015625)\"/>\n     </defs>\n     <use xlink:href=\"#DejaVuSans-42\"/>\n     <use xlink:href=\"#DejaVuSans-65\" x=\"68.603516\"/>\n     <use xlink:href=\"#DejaVuSans-6c\" x=\"130.126953\"/>\n     <use xlink:href=\"#DejaVuSans-67\" x=\"157.910156\"/>\n     <use xlink:href=\"#DejaVuSans-69\" x=\"221.386719\"/>\n     <use xlink:href=\"#DejaVuSans-75\" x=\"249.169922\"/>\n     <use xlink:href=\"#DejaVuSans-6d\" x=\"312.548828\"/>\n    </g>\n   </g>\n   <g id=\"text_34\">\n    <!-- Brussels -->\n    <g style=\"fill: #262626\" transform=\"translate(515.844866 203.104145) scale(0.1 -0.1)\">\n     <use xlink:href=\"#DejaVuSans-42\"/>\n     <use xlink:href=\"#DejaVuSans-72\" x=\"68.603516\"/>\n     <use xlink:href=\"#DejaVuSans-75\" x=\"109.716797\"/>\n     <use xlink:href=\"#DejaVuSans-73\" x=\"173.095703\"/>\n     <use xlink:href=\"#DejaVuSans-73\" x=\"225.195312\"/>\n     <use xlink:href=\"#DejaVuSans-65\" x=\"277.294922\"/>\n     <use xlink:href=\"#DejaVuSans-6c\" x=\"338.818359\"/>\n     <use xlink:href=\"#DejaVuSans-73\" x=\"366.601562\"/>\n    </g>\n   </g>\n   <g id=\"text_35\">\n    <!-- EU -->\n    <g style=\"fill: #262626\" transform=\"translate(619.630376 178.380007) scale(0.1 -0.1)\">\n     <defs>\n      <path id=\"DejaVuSans-55\" d=\"M 556 4666 \nL 1191 4666 \nL 1191 1831 \nQ 1191 1081 1462 751 \nQ 1734 422 2344 422 \nQ 2950 422 3222 751 \nQ 3494 1081 3494 1831 \nL 3494 4666 \nL 4128 4666 \nL 4128 1753 \nQ 4128 841 3676 375 \nQ 3225 -91 2344 -91 \nQ 1459 -91 1007 375 \nQ 556 841 556 1753 \nL 556 4666 \nz\n\" transform=\"scale(0.015625)\"/>\n     </defs>\n     <use xlink:href=\"#DejaVuSans-45\"/>\n     <use xlink:href=\"#DejaVuSans-55\" x=\"63.183594\"/>\n    </g>\n   </g>\n   <g id=\"text_36\">\n    <!-- hasCapital -->\n    <g style=\"fill: #262626\" transform=\"translate(440.73652 198.257701) scale(0.1 -0.1)\">\n     <defs>\n      <path id=\"DejaVuSans-43\" d=\"M 4122 4306 \nL 4122 3641 \nQ 3803 3938 3442 4084 \nQ 3081 4231 2675 4231 \nQ 1875 4231 1450 3742 \nQ 1025 3253 1025 2328 \nQ 1025 1406 1450 917 \nQ 1875 428 2675 428 \nQ 3081 428 3442 575 \nQ 3803 722 4122 1019 \nL 4122 359 \nQ 3791 134 3420 21 \nQ 3050 -91 2638 -91 \nQ 1578 -91 968 557 \nQ 359 1206 359 2328 \nQ 359 3453 968 4101 \nQ 1578 4750 2638 4750 \nQ 3056 4750 3426 4639 \nQ 3797 4528 4122 4306 \nz\n\" transform=\"scale(0.015625)\"/>\n     </defs>\n     <use xlink:href=\"#DejaVuSans-68\"/>\n     <use xlink:href=\"#DejaVuSans-61\" x=\"63.378906\"/>\n     <use xlink:href=\"#DejaVuSans-73\" x=\"124.658203\"/>\n     <use xlink:href=\"#DejaVuSans-43\" x=\"176.757812\"/>\n     <use xlink:href=\"#DejaVuSans-61\" x=\"246.582031\"/>\n     <use xlink:href=\"#DejaVuSans-70\" x=\"307.861328\"/>\n     <use xlink:href=\"#DejaVuSans-69\" x=\"371.337891\"/>\n     <use xlink:href=\"#DejaVuSans-74\" x=\"399.121094\"/>\n     <use xlink:href=\"#DejaVuSans-61\" x=\"438.330078\"/>\n     <use xlink:href=\"#DejaVuSans-6c\" x=\"499.609375\"/>\n    </g>\n   </g>\n   <g id=\"text_37\">\n    <!-- locatedIn -->\n    <g style=\"fill: #262626\" transform=\"translate(609.065784 42.198048) scale(0.1 -0.1)\">\n     <defs>\n      <path id=\"DejaVuSans-64\" d=\"M 2906 2969 \nL 2906 4863 \nL 3481 4863 \nL 3481 0 \nL 2906 0 \nL 2906 525 \nQ 2725 213 2448 61 \nQ 2172 -91 1784 -91 \nQ 1150 -91 751 415 \nQ 353 922 353 1747 \nQ 353 2572 751 3078 \nQ 1150 3584 1784 3584 \nQ 2172 3584 2448 3432 \nQ 2725 3281 2906 2969 \nz\nM 947 1747 \nQ 947 1113 1208 752 \nQ 1469 391 1925 391 \nQ 2381 391 2643 752 \nQ 2906 1113 2906 1747 \nQ 2906 2381 2643 2742 \nQ 2381 3103 1925 3103 \nQ 1469 3103 1208 2742 \nQ 947 2381 947 1747 \nz\n\" transform=\"scale(0.015625)\"/>\n      <path id=\"DejaVuSans-49\" d=\"M 628 4666 \nL 1259 4666 \nL 1259 0 \nL 628 0 \nL 628 4666 \nz\n\" transform=\"scale(0.015625)\"/>\n     </defs>\n     <use xlink:href=\"#DejaVuSans-6c\"/>\n     <use xlink:href=\"#DejaVuSans-6f\" x=\"27.783203\"/>\n     <use xlink:href=\"#DejaVuSans-63\" x=\"88.964844\"/>\n     <use xlink:href=\"#DejaVuSans-61\" x=\"143.945312\"/>\n     <use xlink:href=\"#DejaVuSans-74\" x=\"205.224609\"/>\n     <use xlink:href=\"#DejaVuSans-65\" x=\"244.433594\"/>\n     <use xlink:href=\"#DejaVuSans-64\" x=\"305.957031\"/>\n     <use xlink:href=\"#DejaVuSans-49\" x=\"369.433594\"/>\n     <use xlink:href=\"#DejaVuSans-6e\" x=\"398.925781\"/>\n    </g>\n   </g>\n   <g id=\"text_38\">\n    <!-- partOf -->\n    <g style=\"fill: #262626\" transform=\"translate(666.618407 218.374431) scale(0.1 -0.1)\">\n     <defs>\n      <path id=\"DejaVuSans-4f\" d=\"M 2522 4238 \nQ 1834 4238 1429 3725 \nQ 1025 3213 1025 2328 \nQ 1025 1447 1429 934 \nQ 1834 422 2522 422 \nQ 3209 422 3611 934 \nQ 4013 1447 4013 2328 \nQ 4013 3213 3611 3725 \nQ 3209 4238 2522 4238 \nz\nM 2522 4750 \nQ 3503 4750 4090 4092 \nQ 4678 3434 4678 2328 \nQ 4678 1225 4090 567 \nQ 3503 -91 2522 -91 \nQ 1538 -91 948 565 \nQ 359 1222 359 2328 \nQ 359 3434 948 4092 \nQ 1538 4750 2522 4750 \nz\n\" transform=\"scale(0.015625)\"/>\n      <path id=\"DejaVuSans-66\" d=\"M 2375 4863 \nL 2375 4384 \nL 1825 4384 \nQ 1516 4384 1395 4259 \nQ 1275 4134 1275 3809 \nL 1275 3500 \nL 2222 3500 \nL 2222 3053 \nL 1275 3053 \nL 1275 0 \nL 697 0 \nL 697 3053 \nL 147 3053 \nL 147 3500 \nL 697 3500 \nL 697 3744 \nQ 697 4328 969 4595 \nQ 1241 4863 1831 4863 \nL 2375 4863 \nz\n\" transform=\"scale(0.015625)\"/>\n     </defs>\n     <use xlink:href=\"#DejaVuSans-70\"/>\n     <use xlink:href=\"#DejaVuSans-61\" x=\"63.476562\"/>\n     <use xlink:href=\"#DejaVuSans-72\" x=\"124.755859\"/>\n     <use xlink:href=\"#DejaVuSans-74\" x=\"165.869141\"/>\n     <use xlink:href=\"#DejaVuSans-4f\" x=\"205.078125\"/>\n     <use xlink:href=\"#DejaVuSans-66\" x=\"283.789062\"/>\n    </g>\n   </g>\n   <g id=\"text_39\">\n    <!-- Entity/Relation Plot -->\n    <g style=\"fill: #262626\" transform=\"translate(494.485973 16.318125) scale(0.12 -0.12)\">\n     <defs>\n      <path id=\"DejaVuSans-79\" d=\"M 2059 -325 \nQ 1816 -950 1584 -1140 \nQ 1353 -1331 966 -1331 \nL 506 -1331 \nL 506 -850 \nL 844 -850 \nQ 1081 -850 1212 -737 \nQ 1344 -625 1503 -206 \nL 1606 56 \nL 191 3500 \nL 800 3500 \nL 1894 763 \nL 2988 3500 \nL 3597 3500 \nL 2059 -325 \nz\n\" transform=\"scale(0.015625)\"/>\n      <path id=\"DejaVuSans-2f\" d=\"M 1625 4666 \nL 2156 4666 \nL 531 -594 \nL 0 -594 \nL 1625 4666 \nz\n\" transform=\"scale(0.015625)\"/>\n      <path id=\"DejaVuSans-52\" d=\"M 2841 2188 \nQ 3044 2119 3236 1894 \nQ 3428 1669 3622 1275 \nL 4263 0 \nL 3584 0 \nL 2988 1197 \nQ 2756 1666 2539 1819 \nQ 2322 1972 1947 1972 \nL 1259 1972 \nL 1259 0 \nL 628 0 \nL 628 4666 \nL 2053 4666 \nQ 2853 4666 3247 4331 \nQ 3641 3997 3641 3322 \nQ 3641 2881 3436 2590 \nQ 3231 2300 2841 2188 \nz\nM 1259 4147 \nL 1259 2491 \nL 2053 2491 \nQ 2509 2491 2742 2702 \nQ 2975 2913 2975 3322 \nQ 2975 3731 2742 3939 \nQ 2509 4147 2053 4147 \nL 1259 4147 \nz\n\" transform=\"scale(0.015625)\"/>\n     </defs>\n     <use xlink:href=\"#DejaVuSans-45\"/>\n     <use xlink:href=\"#DejaVuSans-6e\" x=\"63.183594\"/>\n     <use xlink:href=\"#DejaVuSans-74\" x=\"126.5625\"/>\n     <use xlink:href=\"#DejaVuSans-69\" x=\"165.771484\"/>\n     <use xlink:href=\"#DejaVuSans-74\" x=\"193.554688\"/>\n     <use xlink:href=\"#DejaVuSans-79\" x=\"232.763672\"/>\n     <use xlink:href=\"#DejaVuSans-2f\" x=\"291.943359\"/>\n     <use xlink:href=\"#DejaVuSans-52\" x=\"325.634766\"/>\n     <use xlink:href=\"#DejaVuSans-65\" x=\"390.617188\"/>\n     <use xlink:href=\"#DejaVuSans-6c\" x=\"452.140625\"/>\n     <use xlink:href=\"#DejaVuSans-61\" x=\"479.923828\"/>\n     <use xlink:href=\"#DejaVuSans-74\" x=\"541.203125\"/>\n     <use xlink:href=\"#DejaVuSans-69\" x=\"580.412109\"/>\n     <use xlink:href=\"#DejaVuSans-6f\" x=\"608.195312\"/>\n     <use xlink:href=\"#DejaVuSans-6e\" x=\"669.376953\"/>\n     <use xlink:href=\"#DejaVuSans-20\" x=\"732.755859\"/>\n     <use xlink:href=\"#DejaVuSans-50\" x=\"764.542969\"/>\n     <use xlink:href=\"#DejaVuSans-6c\" x=\"824.845703\"/>\n     <use xlink:href=\"#DejaVuSans-6f\" x=\"852.628906\"/>\n     <use xlink:href=\"#DejaVuSans-74\" x=\"913.810547\"/>\n    </g>\n   </g>\n  </g>\n </g>\n <defs>\n  <clipPath id=\"p352498adfe\">\n   <rect x=\"50.14375\" y=\"22.318125\" width=\"306.341482\" height=\"219.16\"/>\n  </clipPath>\n  <clipPath id=\"pb5a4556670\">\n   <rect x=\"398.495232\" y=\"22.318125\" width=\"306.341482\" height=\"219.16\"/>\n  </clipPath>\n </defs>\n</svg>\n"
          },
          "metadata": {}
        }
      ],
      "source": [
        "results = pipeline(\n",
        "    training=tf,\n",
        "    testing=tf,\n",
        "    model=\"TransE\",\n",
        "    model_kwargs=dict(embedding_dim=2),\n",
        "    optimizer_kwargs=dict(lr=1.0e-1),\n",
        "    training_kwargs=dict(num_epochs=128, use_tqdm_batch=False),\n",
        "    evaluation_kwargs=dict(use_tqdm=False),\n",
        "    random_seed=1,\n",
        "    device=\"cpu\",\n",
        ")\n",
        "results.plot(er_kwargs=dict(plot_relations=True))\n",
        "plt.savefig(\"results/toy_2.png\", dpi=300)"
      ]
    },
    {
      "cell_type": "markdown",
      "metadata": {
        "id": "IfW3RZv-8WFn"
      },
      "source": [
        "Training with appropriate softplus"
      ]
    },
    {
      "cell_type": "code",
      "execution_count": 7,
      "metadata": {
        "id": "i5RtmwN18WFo",
        "outputId": "f16cfb24-a231-4af8-956b-742830eae0c1",
        "colab": {
          "base_uri": "https://localhost:8080/",
          "height": 138,
          "referenced_widgets": [
            "333c57c17fe64c489634c79a1284df9b",
            "814add1be4824ed48fa773b2bb057e0d",
            "6730f3df2ddb42b3b52a173811176ebf",
            "52a4ca3948384ee08191d2e02cdf8597",
            "c562008219cc40faa0e964ba5a65db90",
            "4bf4545f508a4023aa7f775025fd9138",
            "038aad45b08b46179bd9ba5cb8343ea8",
            "50b04efd761747dd9330835122e8ac33",
            "7fa991e624634ba5af552df500685af5",
            "a4ae58145eb1428fbeef9b8a061d704a",
            "6e28d8f6cd5a4eba8e09fc4c13c0c821"
          ]
        }
      },
      "outputs": [
        {
          "output_type": "stream",
          "name": "stderr",
          "text": [
            "INFO:pykeen.pipeline.api:Using device: cpu\n"
          ]
        },
        {
          "output_type": "display_data",
          "data": {
            "text/plain": [
              "Training epochs on cpu:   0%|          | 0/128 [00:00<?, ?epoch/s]"
            ],
            "application/vnd.jupyter.widget-view+json": {
              "version_major": 2,
              "version_minor": 0,
              "model_id": "333c57c17fe64c489634c79a1284df9b"
            }
          },
          "metadata": {}
        },
        {
          "output_type": "stream",
          "name": "stderr",
          "text": [
            "WARNING:pykeen.utils:Using automatic batch size on device.type='cpu' can cause unexplained out-of-memory crashes. Therefore, we use a conservative small batch_size=32. Performance may be improved by explicitly specifying a larger batch size.\n",
            "WARNING:torch_max_mem.api:Encountered tensors on device_types={'cpu'} while only ['cuda'] are considered safe for automatic memory utilization maximization. This may lead to undocumented crashes (but can be safe, too).\n",
            "INFO:pykeen.evaluation.evaluator:Evaluation took 0.05s seconds\n"
          ]
        }
      ],
      "source": [
        "toy_results = pipeline(\n",
        "    training=tf,\n",
        "    testing=tf,\n",
        "    model=\"TransE\",\n",
        "    loss=\"softplus\",\n",
        "    model_kwargs=dict(embedding_dim=2),\n",
        "    optimizer_kwargs=dict(lr=1.0e-1),\n",
        "    training_kwargs=dict(num_epochs=128, use_tqdm_batch=False),\n",
        "    evaluation_kwargs=dict(use_tqdm=False),\n",
        "    random_seed=1,\n",
        "    device=\"cpu\",\n",
        ")"
      ]
    },
    {
      "cell_type": "code",
      "execution_count": 8,
      "metadata": {
        "id": "Q8iO7a3R8WFo",
        "outputId": "a80d345f-2169-4d31-9f8c-abc04cd8af15",
        "colab": {
          "base_uri": "https://localhost:8080/",
          "height": 413
        }
      },
      "outputs": [
        {
          "output_type": "display_data",
          "data": {
            "text/plain": [
              "<Figure size 1000x400 with 2 Axes>"
            ],
            "image/svg+xml": "<?xml version=\"1.0\" encoding=\"utf-8\" standalone=\"no\"?>\n<!DOCTYPE svg PUBLIC \"-//W3C//DTD SVG 1.1//EN\"\n  \"http://www.w3.org/Graphics/SVG/1.1/DTD/svg11.dtd\">\n<svg xmlns:xlink=\"http://www.w3.org/1999/xlink\" width=\"706.958187pt\" height=\"279.034375pt\" viewBox=\"0 0 706.958187 279.034375\" xmlns=\"http://www.w3.org/2000/svg\" version=\"1.1\">\n <metadata>\n  <rdf:RDF xmlns:dc=\"http://purl.org/dc/elements/1.1/\" xmlns:cc=\"http://creativecommons.org/ns#\" xmlns:rdf=\"http://www.w3.org/1999/02/22-rdf-syntax-ns#\">\n   <cc:Work>\n    <dc:type rdf:resource=\"http://purl.org/dc/dcmitype/StillImage\"/>\n    <dc:date>2024-10-26T22:30:43.655066</dc:date>\n    <dc:format>image/svg+xml</dc:format>\n    <dc:creator>\n     <cc:Agent>\n      <dc:title>Matplotlib v3.7.1, https://matplotlib.org/</dc:title>\n     </cc:Agent>\n    </dc:creator>\n   </cc:Work>\n  </rdf:RDF>\n </metadata>\n <defs>\n  <style type=\"text/css\">*{stroke-linejoin: round; stroke-linecap: butt}</style>\n </defs>\n <g id=\"figure_1\">\n  <g id=\"patch_1\">\n   <path d=\"M 0 279.034375 \nL 706.958187 279.034375 \nL 706.958187 0 \nL 0 0 \nz\n\" style=\"fill: #ffffff\"/>\n  </g>\n  <g id=\"axes_1\">\n   <g id=\"patch_2\">\n    <path d=\"M 43.78125 241.478125 \nL 350.136012 241.478125 \nL 350.136012 22.318125 \nL 43.78125 22.318125 \nz\n\" style=\"fill: #ffffff\"/>\n   </g>\n   <g id=\"matplotlib.axis_1\">\n    <g id=\"xtick_1\">\n     <g id=\"line2d_1\">\n      <path d=\"M 57.706466 241.478125 \nL 57.706466 22.318125 \n\" clip-path=\"url(#pba28acb70c)\" style=\"fill: none; stroke: #cccccc; stroke-width: 0.8; stroke-linecap: round\"/>\n     </g>\n     <g id=\"text_1\">\n      <!-- 0 -->\n      <g style=\"fill: #262626\" transform=\"translate(54.525216 256.076563) scale(0.1 -0.1)\">\n       <defs>\n        <path id=\"DejaVuSans-30\" d=\"M 2034 4250 \nQ 1547 4250 1301 3770 \nQ 1056 3291 1056 2328 \nQ 1056 1369 1301 889 \nQ 1547 409 2034 409 \nQ 2525 409 2770 889 \nQ 3016 1369 3016 2328 \nQ 3016 3291 2770 3770 \nQ 2525 4250 2034 4250 \nz\nM 2034 4750 \nQ 2819 4750 3233 4129 \nQ 3647 3509 3647 2328 \nQ 3647 1150 3233 529 \nQ 2819 -91 2034 -91 \nQ 1250 -91 836 529 \nQ 422 1150 422 2328 \nQ 422 3509 836 4129 \nQ 1250 4750 2034 4750 \nz\n\" transform=\"scale(0.015625)\"/>\n       </defs>\n       <use xlink:href=\"#DejaVuSans-30\"/>\n      </g>\n     </g>\n    </g>\n    <g id=\"xtick_2\">\n     <g id=\"line2d_2\">\n      <path d=\"M 101.565416 241.478125 \nL 101.565416 22.318125 \n\" clip-path=\"url(#pba28acb70c)\" style=\"fill: none; stroke: #cccccc; stroke-width: 0.8; stroke-linecap: round\"/>\n     </g>\n     <g id=\"text_2\">\n      <!-- 20 -->\n      <g style=\"fill: #262626\" transform=\"translate(95.202916 256.076563) scale(0.1 -0.1)\">\n       <defs>\n        <path id=\"DejaVuSans-32\" d=\"M 1228 531 \nL 3431 531 \nL 3431 0 \nL 469 0 \nL 469 531 \nQ 828 903 1448 1529 \nQ 2069 2156 2228 2338 \nQ 2531 2678 2651 2914 \nQ 2772 3150 2772 3378 \nQ 2772 3750 2511 3984 \nQ 2250 4219 1831 4219 \nQ 1534 4219 1204 4116 \nQ 875 4013 500 3803 \nL 500 4441 \nQ 881 4594 1212 4672 \nQ 1544 4750 1819 4750 \nQ 2544 4750 2975 4387 \nQ 3406 4025 3406 3419 \nQ 3406 3131 3298 2873 \nQ 3191 2616 2906 2266 \nQ 2828 2175 2409 1742 \nQ 1991 1309 1228 531 \nz\n\" transform=\"scale(0.015625)\"/>\n       </defs>\n       <use xlink:href=\"#DejaVuSans-32\"/>\n       <use xlink:href=\"#DejaVuSans-30\" x=\"63.623047\"/>\n      </g>\n     </g>\n    </g>\n    <g id=\"xtick_3\">\n     <g id=\"line2d_3\">\n      <path d=\"M 145.424365 241.478125 \nL 145.424365 22.318125 \n\" clip-path=\"url(#pba28acb70c)\" style=\"fill: none; stroke: #cccccc; stroke-width: 0.8; stroke-linecap: round\"/>\n     </g>\n     <g id=\"text_3\">\n      <!-- 40 -->\n      <g style=\"fill: #262626\" transform=\"translate(139.061865 256.076563) scale(0.1 -0.1)\">\n       <defs>\n        <path id=\"DejaVuSans-34\" d=\"M 2419 4116 \nL 825 1625 \nL 2419 1625 \nL 2419 4116 \nz\nM 2253 4666 \nL 3047 4666 \nL 3047 1625 \nL 3713 1625 \nL 3713 1100 \nL 3047 1100 \nL 3047 0 \nL 2419 0 \nL 2419 1100 \nL 313 1100 \nL 313 1709 \nL 2253 4666 \nz\n\" transform=\"scale(0.015625)\"/>\n       </defs>\n       <use xlink:href=\"#DejaVuSans-34\"/>\n       <use xlink:href=\"#DejaVuSans-30\" x=\"63.623047\"/>\n      </g>\n     </g>\n    </g>\n    <g id=\"xtick_4\">\n     <g id=\"line2d_4\">\n      <path d=\"M 189.283315 241.478125 \nL 189.283315 22.318125 \n\" clip-path=\"url(#pba28acb70c)\" style=\"fill: none; stroke: #cccccc; stroke-width: 0.8; stroke-linecap: round\"/>\n     </g>\n     <g id=\"text_4\">\n      <!-- 60 -->\n      <g style=\"fill: #262626\" transform=\"translate(182.920815 256.076563) scale(0.1 -0.1)\">\n       <defs>\n        <path id=\"DejaVuSans-36\" d=\"M 2113 2584 \nQ 1688 2584 1439 2293 \nQ 1191 2003 1191 1497 \nQ 1191 994 1439 701 \nQ 1688 409 2113 409 \nQ 2538 409 2786 701 \nQ 3034 994 3034 1497 \nQ 3034 2003 2786 2293 \nQ 2538 2584 2113 2584 \nz\nM 3366 4563 \nL 3366 3988 \nQ 3128 4100 2886 4159 \nQ 2644 4219 2406 4219 \nQ 1781 4219 1451 3797 \nQ 1122 3375 1075 2522 \nQ 1259 2794 1537 2939 \nQ 1816 3084 2150 3084 \nQ 2853 3084 3261 2657 \nQ 3669 2231 3669 1497 \nQ 3669 778 3244 343 \nQ 2819 -91 2113 -91 \nQ 1303 -91 875 529 \nQ 447 1150 447 2328 \nQ 447 3434 972 4092 \nQ 1497 4750 2381 4750 \nQ 2619 4750 2861 4703 \nQ 3103 4656 3366 4563 \nz\n\" transform=\"scale(0.015625)\"/>\n       </defs>\n       <use xlink:href=\"#DejaVuSans-36\"/>\n       <use xlink:href=\"#DejaVuSans-30\" x=\"63.623047\"/>\n      </g>\n     </g>\n    </g>\n    <g id=\"xtick_5\">\n     <g id=\"line2d_5\">\n      <path d=\"M 233.142264 241.478125 \nL 233.142264 22.318125 \n\" clip-path=\"url(#pba28acb70c)\" style=\"fill: none; stroke: #cccccc; stroke-width: 0.8; stroke-linecap: round\"/>\n     </g>\n     <g id=\"text_5\">\n      <!-- 80 -->\n      <g style=\"fill: #262626\" transform=\"translate(226.779764 256.076563) scale(0.1 -0.1)\">\n       <defs>\n        <path id=\"DejaVuSans-38\" d=\"M 2034 2216 \nQ 1584 2216 1326 1975 \nQ 1069 1734 1069 1313 \nQ 1069 891 1326 650 \nQ 1584 409 2034 409 \nQ 2484 409 2743 651 \nQ 3003 894 3003 1313 \nQ 3003 1734 2745 1975 \nQ 2488 2216 2034 2216 \nz\nM 1403 2484 \nQ 997 2584 770 2862 \nQ 544 3141 544 3541 \nQ 544 4100 942 4425 \nQ 1341 4750 2034 4750 \nQ 2731 4750 3128 4425 \nQ 3525 4100 3525 3541 \nQ 3525 3141 3298 2862 \nQ 3072 2584 2669 2484 \nQ 3125 2378 3379 2068 \nQ 3634 1759 3634 1313 \nQ 3634 634 3220 271 \nQ 2806 -91 2034 -91 \nQ 1263 -91 848 271 \nQ 434 634 434 1313 \nQ 434 1759 690 2068 \nQ 947 2378 1403 2484 \nz\nM 1172 3481 \nQ 1172 3119 1398 2916 \nQ 1625 2713 2034 2713 \nQ 2441 2713 2670 2916 \nQ 2900 3119 2900 3481 \nQ 2900 3844 2670 4047 \nQ 2441 4250 2034 4250 \nQ 1625 4250 1398 4047 \nQ 1172 3844 1172 3481 \nz\n\" transform=\"scale(0.015625)\"/>\n       </defs>\n       <use xlink:href=\"#DejaVuSans-38\"/>\n       <use xlink:href=\"#DejaVuSans-30\" x=\"63.623047\"/>\n      </g>\n     </g>\n    </g>\n    <g id=\"xtick_6\">\n     <g id=\"line2d_6\">\n      <path d=\"M 277.001214 241.478125 \nL 277.001214 22.318125 \n\" clip-path=\"url(#pba28acb70c)\" style=\"fill: none; stroke: #cccccc; stroke-width: 0.8; stroke-linecap: round\"/>\n     </g>\n     <g id=\"text_6\">\n      <!-- 100 -->\n      <g style=\"fill: #262626\" transform=\"translate(267.457464 256.076563) scale(0.1 -0.1)\">\n       <defs>\n        <path id=\"DejaVuSans-31\" d=\"M 794 531 \nL 1825 531 \nL 1825 4091 \nL 703 3866 \nL 703 4441 \nL 1819 4666 \nL 2450 4666 \nL 2450 531 \nL 3481 531 \nL 3481 0 \nL 794 0 \nL 794 531 \nz\n\" transform=\"scale(0.015625)\"/>\n       </defs>\n       <use xlink:href=\"#DejaVuSans-31\"/>\n       <use xlink:href=\"#DejaVuSans-30\" x=\"63.623047\"/>\n       <use xlink:href=\"#DejaVuSans-30\" x=\"127.246094\"/>\n      </g>\n     </g>\n    </g>\n    <g id=\"xtick_7\">\n     <g id=\"line2d_7\">\n      <path d=\"M 320.860163 241.478125 \nL 320.860163 22.318125 \n\" clip-path=\"url(#pba28acb70c)\" style=\"fill: none; stroke: #cccccc; stroke-width: 0.8; stroke-linecap: round\"/>\n     </g>\n     <g id=\"text_7\">\n      <!-- 120 -->\n      <g style=\"fill: #262626\" transform=\"translate(311.316413 256.076563) scale(0.1 -0.1)\">\n       <use xlink:href=\"#DejaVuSans-31\"/>\n       <use xlink:href=\"#DejaVuSans-32\" x=\"63.623047\"/>\n       <use xlink:href=\"#DejaVuSans-30\" x=\"127.246094\"/>\n      </g>\n     </g>\n    </g>\n    <g id=\"text_8\">\n     <!-- Epoch -->\n     <g style=\"fill: #262626\" transform=\"translate(181.647693 269.754687) scale(0.1 -0.1)\">\n      <defs>\n       <path id=\"DejaVuSans-45\" d=\"M 628 4666 \nL 3578 4666 \nL 3578 4134 \nL 1259 4134 \nL 1259 2753 \nL 3481 2753 \nL 3481 2222 \nL 1259 2222 \nL 1259 531 \nL 3634 531 \nL 3634 0 \nL 628 0 \nL 628 4666 \nz\n\" transform=\"scale(0.015625)\"/>\n       <path id=\"DejaVuSans-70\" d=\"M 1159 525 \nL 1159 -1331 \nL 581 -1331 \nL 581 3500 \nL 1159 3500 \nL 1159 2969 \nQ 1341 3281 1617 3432 \nQ 1894 3584 2278 3584 \nQ 2916 3584 3314 3078 \nQ 3713 2572 3713 1747 \nQ 3713 922 3314 415 \nQ 2916 -91 2278 -91 \nQ 1894 -91 1617 61 \nQ 1341 213 1159 525 \nz\nM 3116 1747 \nQ 3116 2381 2855 2742 \nQ 2594 3103 2138 3103 \nQ 1681 3103 1420 2742 \nQ 1159 2381 1159 1747 \nQ 1159 1113 1420 752 \nQ 1681 391 2138 391 \nQ 2594 391 2855 752 \nQ 3116 1113 3116 1747 \nz\n\" transform=\"scale(0.015625)\"/>\n       <path id=\"DejaVuSans-6f\" d=\"M 1959 3097 \nQ 1497 3097 1228 2736 \nQ 959 2375 959 1747 \nQ 959 1119 1226 758 \nQ 1494 397 1959 397 \nQ 2419 397 2687 759 \nQ 2956 1122 2956 1747 \nQ 2956 2369 2687 2733 \nQ 2419 3097 1959 3097 \nz\nM 1959 3584 \nQ 2709 3584 3137 3096 \nQ 3566 2609 3566 1747 \nQ 3566 888 3137 398 \nQ 2709 -91 1959 -91 \nQ 1206 -91 779 398 \nQ 353 888 353 1747 \nQ 353 2609 779 3096 \nQ 1206 3584 1959 3584 \nz\n\" transform=\"scale(0.015625)\"/>\n       <path id=\"DejaVuSans-63\" d=\"M 3122 3366 \nL 3122 2828 \nQ 2878 2963 2633 3030 \nQ 2388 3097 2138 3097 \nQ 1578 3097 1268 2742 \nQ 959 2388 959 1747 \nQ 959 1106 1268 751 \nQ 1578 397 2138 397 \nQ 2388 397 2633 464 \nQ 2878 531 3122 666 \nL 3122 134 \nQ 2881 22 2623 -34 \nQ 2366 -91 2075 -91 \nQ 1284 -91 818 406 \nQ 353 903 353 1747 \nQ 353 2603 823 3093 \nQ 1294 3584 2113 3584 \nQ 2378 3584 2631 3529 \nQ 2884 3475 3122 3366 \nz\n\" transform=\"scale(0.015625)\"/>\n       <path id=\"DejaVuSans-68\" d=\"M 3513 2113 \nL 3513 0 \nL 2938 0 \nL 2938 2094 \nQ 2938 2591 2744 2837 \nQ 2550 3084 2163 3084 \nQ 1697 3084 1428 2787 \nQ 1159 2491 1159 1978 \nL 1159 0 \nL 581 0 \nL 581 4863 \nL 1159 4863 \nL 1159 2956 \nQ 1366 3272 1645 3428 \nQ 1925 3584 2291 3584 \nQ 2894 3584 3203 3211 \nQ 3513 2838 3513 2113 \nz\n\" transform=\"scale(0.015625)\"/>\n      </defs>\n      <use xlink:href=\"#DejaVuSans-45\"/>\n      <use xlink:href=\"#DejaVuSans-70\" x=\"63.183594\"/>\n      <use xlink:href=\"#DejaVuSans-6f\" x=\"126.660156\"/>\n      <use xlink:href=\"#DejaVuSans-63\" x=\"187.841797\"/>\n      <use xlink:href=\"#DejaVuSans-68\" x=\"242.822266\"/>\n     </g>\n    </g>\n   </g>\n   <g id=\"matplotlib.axis_2\">\n    <g id=\"ytick_1\">\n     <g id=\"line2d_8\">\n      <path d=\"M 43.78125 227.189889 \nL 350.136012 227.189889 \n\" clip-path=\"url(#pba28acb70c)\" style=\"fill: none; stroke: #cccccc; stroke-width: 0.8; stroke-linecap: round\"/>\n     </g>\n     <g id=\"text_9\">\n      <!-- 0.4 -->\n      <g style=\"fill: #262626\" transform=\"translate(20.878125 230.989107) scale(0.1 -0.1)\">\n       <defs>\n        <path id=\"DejaVuSans-2e\" d=\"M 684 794 \nL 1344 794 \nL 1344 0 \nL 684 0 \nL 684 794 \nz\n\" transform=\"scale(0.015625)\"/>\n       </defs>\n       <use xlink:href=\"#DejaVuSans-30\"/>\n       <use xlink:href=\"#DejaVuSans-2e\" x=\"63.623047\"/>\n       <use xlink:href=\"#DejaVuSans-34\" x=\"95.410156\"/>\n      </g>\n     </g>\n    </g>\n    <g id=\"ytick_2\">\n     <g id=\"line2d_9\">\n      <path d=\"M 43.78125 180.263268 \nL 350.136012 180.263268 \n\" clip-path=\"url(#pba28acb70c)\" style=\"fill: none; stroke: #cccccc; stroke-width: 0.8; stroke-linecap: round\"/>\n     </g>\n     <g id=\"text_10\">\n      <!-- 0.6 -->\n      <g style=\"fill: #262626\" transform=\"translate(20.878125 184.062487) scale(0.1 -0.1)\">\n       <use xlink:href=\"#DejaVuSans-30\"/>\n       <use xlink:href=\"#DejaVuSans-2e\" x=\"63.623047\"/>\n       <use xlink:href=\"#DejaVuSans-36\" x=\"95.410156\"/>\n      </g>\n     </g>\n    </g>\n    <g id=\"ytick_3\">\n     <g id=\"line2d_10\">\n      <path d=\"M 43.78125 133.336648 \nL 350.136012 133.336648 \n\" clip-path=\"url(#pba28acb70c)\" style=\"fill: none; stroke: #cccccc; stroke-width: 0.8; stroke-linecap: round\"/>\n     </g>\n     <g id=\"text_11\">\n      <!-- 0.8 -->\n      <g style=\"fill: #262626\" transform=\"translate(20.878125 137.135867) scale(0.1 -0.1)\">\n       <use xlink:href=\"#DejaVuSans-30\"/>\n       <use xlink:href=\"#DejaVuSans-2e\" x=\"63.623047\"/>\n       <use xlink:href=\"#DejaVuSans-38\" x=\"95.410156\"/>\n      </g>\n     </g>\n    </g>\n    <g id=\"ytick_4\">\n     <g id=\"line2d_11\">\n      <path d=\"M 43.78125 86.410027 \nL 350.136012 86.410027 \n\" clip-path=\"url(#pba28acb70c)\" style=\"fill: none; stroke: #cccccc; stroke-width: 0.8; stroke-linecap: round\"/>\n     </g>\n     <g id=\"text_12\">\n      <!-- 1.0 -->\n      <g style=\"fill: #262626\" transform=\"translate(20.878125 90.209246) scale(0.1 -0.1)\">\n       <use xlink:href=\"#DejaVuSans-31\"/>\n       <use xlink:href=\"#DejaVuSans-2e\" x=\"63.623047\"/>\n       <use xlink:href=\"#DejaVuSans-30\" x=\"95.410156\"/>\n      </g>\n     </g>\n    </g>\n    <g id=\"ytick_5\">\n     <g id=\"line2d_12\">\n      <path d=\"M 43.78125 39.483407 \nL 350.136012 39.483407 \n\" clip-path=\"url(#pba28acb70c)\" style=\"fill: none; stroke: #cccccc; stroke-width: 0.8; stroke-linecap: round\"/>\n     </g>\n     <g id=\"text_13\">\n      <!-- 1.2 -->\n      <g style=\"fill: #262626\" transform=\"translate(20.878125 43.282626) scale(0.1 -0.1)\">\n       <use xlink:href=\"#DejaVuSans-31\"/>\n       <use xlink:href=\"#DejaVuSans-2e\" x=\"63.623047\"/>\n       <use xlink:href=\"#DejaVuSans-32\" x=\"95.410156\"/>\n      </g>\n     </g>\n    </g>\n    <g id=\"text_14\">\n     <!-- softplus Loss -->\n     <g style=\"fill: #262626\" transform=\"translate(14.798438 164.087969) rotate(-90) scale(0.1 -0.1)\">\n      <defs>\n       <path id=\"DejaVuSans-73\" d=\"M 2834 3397 \nL 2834 2853 \nQ 2591 2978 2328 3040 \nQ 2066 3103 1784 3103 \nQ 1356 3103 1142 2972 \nQ 928 2841 928 2578 \nQ 928 2378 1081 2264 \nQ 1234 2150 1697 2047 \nL 1894 2003 \nQ 2506 1872 2764 1633 \nQ 3022 1394 3022 966 \nQ 3022 478 2636 193 \nQ 2250 -91 1575 -91 \nQ 1294 -91 989 -36 \nQ 684 19 347 128 \nL 347 722 \nQ 666 556 975 473 \nQ 1284 391 1588 391 \nQ 1994 391 2212 530 \nQ 2431 669 2431 922 \nQ 2431 1156 2273 1281 \nQ 2116 1406 1581 1522 \nL 1381 1569 \nQ 847 1681 609 1914 \nQ 372 2147 372 2553 \nQ 372 3047 722 3315 \nQ 1072 3584 1716 3584 \nQ 2034 3584 2315 3537 \nQ 2597 3491 2834 3397 \nz\n\" transform=\"scale(0.015625)\"/>\n       <path id=\"DejaVuSans-66\" d=\"M 2375 4863 \nL 2375 4384 \nL 1825 4384 \nQ 1516 4384 1395 4259 \nQ 1275 4134 1275 3809 \nL 1275 3500 \nL 2222 3500 \nL 2222 3053 \nL 1275 3053 \nL 1275 0 \nL 697 0 \nL 697 3053 \nL 147 3053 \nL 147 3500 \nL 697 3500 \nL 697 3744 \nQ 697 4328 969 4595 \nQ 1241 4863 1831 4863 \nL 2375 4863 \nz\n\" transform=\"scale(0.015625)\"/>\n       <path id=\"DejaVuSans-74\" d=\"M 1172 4494 \nL 1172 3500 \nL 2356 3500 \nL 2356 3053 \nL 1172 3053 \nL 1172 1153 \nQ 1172 725 1289 603 \nQ 1406 481 1766 481 \nL 2356 481 \nL 2356 0 \nL 1766 0 \nQ 1100 0 847 248 \nQ 594 497 594 1153 \nL 594 3053 \nL 172 3053 \nL 172 3500 \nL 594 3500 \nL 594 4494 \nL 1172 4494 \nz\n\" transform=\"scale(0.015625)\"/>\n       <path id=\"DejaVuSans-6c\" d=\"M 603 4863 \nL 1178 4863 \nL 1178 0 \nL 603 0 \nL 603 4863 \nz\n\" transform=\"scale(0.015625)\"/>\n       <path id=\"DejaVuSans-75\" d=\"M 544 1381 \nL 544 3500 \nL 1119 3500 \nL 1119 1403 \nQ 1119 906 1312 657 \nQ 1506 409 1894 409 \nQ 2359 409 2629 706 \nQ 2900 1003 2900 1516 \nL 2900 3500 \nL 3475 3500 \nL 3475 0 \nL 2900 0 \nL 2900 538 \nQ 2691 219 2414 64 \nQ 2138 -91 1772 -91 \nQ 1169 -91 856 284 \nQ 544 659 544 1381 \nz\nM 1991 3584 \nL 1991 3584 \nz\n\" transform=\"scale(0.015625)\"/>\n       <path id=\"DejaVuSans-20\" transform=\"scale(0.015625)\"/>\n       <path id=\"DejaVuSans-4c\" d=\"M 628 4666 \nL 1259 4666 \nL 1259 531 \nL 3531 531 \nL 3531 0 \nL 628 0 \nL 628 4666 \nz\n\" transform=\"scale(0.015625)\"/>\n      </defs>\n      <use xlink:href=\"#DejaVuSans-73\"/>\n      <use xlink:href=\"#DejaVuSans-6f\" x=\"52.099609\"/>\n      <use xlink:href=\"#DejaVuSans-66\" x=\"113.28125\"/>\n      <use xlink:href=\"#DejaVuSans-74\" x=\"146.736328\"/>\n      <use xlink:href=\"#DejaVuSans-70\" x=\"185.945312\"/>\n      <use xlink:href=\"#DejaVuSans-6c\" x=\"249.421875\"/>\n      <use xlink:href=\"#DejaVuSans-75\" x=\"277.205078\"/>\n      <use xlink:href=\"#DejaVuSans-73\" x=\"340.583984\"/>\n      <use xlink:href=\"#DejaVuSans-20\" x=\"392.683594\"/>\n      <use xlink:href=\"#DejaVuSans-4c\" x=\"424.470703\"/>\n      <use xlink:href=\"#DejaVuSans-6f\" x=\"478.433594\"/>\n      <use xlink:href=\"#DejaVuSans-73\" x=\"539.615234\"/>\n      <use xlink:href=\"#DejaVuSans-73\" x=\"591.714844\"/>\n     </g>\n    </g>\n   </g>\n   <g id=\"PolyCollection_1\"/>\n   <g id=\"line2d_13\">\n    <path d=\"M 57.706466 32.279943 \nL 59.899414 64.456752 \nL 62.092361 85.557684 \nL 64.285309 96.568949 \nL 66.478256 116.868668 \nL 68.671204 135.947714 \nL 70.864151 147.218153 \nL 73.057099 137.287652 \nL 75.250046 160.56151 \nL 77.442994 150.795937 \nL 79.635941 161.5407 \nL 81.828889 157.598125 \nL 84.021836 176.574394 \nL 86.214784 177.143173 \nL 88.407731 185.524378 \nL 90.600679 178.049262 \nL 92.793626 166.051675 \nL 94.986573 171.268177 \nL 97.179521 178.220064 \nL 99.372468 188.337365 \nL 101.565416 192.80556 \nL 103.758363 206.833473 \nL 105.951311 192.802917 \nL 108.144258 205.907497 \nL 110.337206 201.865509 \nL 112.530153 188.836666 \nL 114.723101 183.993611 \nL 116.916048 196.607764 \nL 119.108996 195.623946 \nL 121.301943 203.552309 \nL 123.494891 197.197787 \nL 125.687838 199.799794 \nL 127.880786 213.439882 \nL 130.073733 216.566859 \nL 132.26668 206.798824 \nL 134.459628 206.114031 \nL 136.652575 219.125644 \nL 138.845523 204.023177 \nL 141.03847 206.693313 \nL 143.231418 207.653237 \nL 145.424365 212.438568 \nL 147.617313 210.106029 \nL 149.81026 205.470459 \nL 152.003208 209.830744 \nL 154.196155 216.394953 \nL 156.389103 211.28464 \nL 158.58205 209.263615 \nL 160.774998 222.467106 \nL 162.967945 211.960043 \nL 165.160893 205.29493 \nL 167.35384 223.829532 \nL 169.546787 219.063941 \nL 171.739735 200.777529 \nL 173.932682 210.84735 \nL 176.12563 210.311667 \nL 178.318577 215.988801 \nL 180.511525 211.88139 \nL 182.704472 215.667644 \nL 184.89742 211.737461 \nL 187.090367 211.909528 \nL 189.283315 211.536731 \nL 191.476262 230.706835 \nL 193.66921 220.656194 \nL 195.862157 216.87366 \nL 198.055105 212.354657 \nL 200.248052 220.63623 \nL 202.441 216.586655 \nL 204.633947 225.673232 \nL 206.826894 217.129995 \nL 209.019842 217.552558 \nL 211.212789 213.128991 \nL 213.405737 226.220355 \nL 215.598684 221.934227 \nL 217.791632 230.52344 \nL 222.177527 209.323465 \nL 224.370474 213.191162 \nL 226.563422 219.015231 \nL 228.756369 229.877232 \nL 230.949317 217.204872 \nL 233.142264 216.269484 \nL 235.335212 213.808938 \nL 237.528159 209.393782 \nL 239.721107 225.942503 \nL 241.914054 217.629295 \nL 244.107001 212.613747 \nL 246.299949 210.499957 \nL 248.492896 223.216098 \nL 250.685844 219.419096 \nL 252.878791 215.076377 \nL 255.071739 211.972545 \nL 257.264686 224.249676 \nL 259.457634 216.849997 \nL 261.650581 217.652672 \nL 263.843529 218.607827 \nL 266.036476 224.599293 \nL 268.229424 216.262687 \nL 270.422371 221.283851 \nL 272.615319 230.855554 \nL 274.808266 220.217485 \nL 277.001214 231.371364 \nL 279.194161 226.23213 \nL 281.387108 231.516307 \nL 283.580056 221.347588 \nL 285.773003 221.424144 \nL 287.965951 221.364629 \nL 290.158898 220.528949 \nL 292.351846 222.514306 \nL 294.544793 219.219499 \nL 296.737741 216.142771 \nL 298.930688 223.317897 \nL 301.123636 222.625292 \nL 303.316583 222.461777 \nL 305.509531 222.653011 \nL 307.702478 220.064067 \nL 309.895426 220.004308 \nL 312.088373 222.1622 \nL 316.474268 220.094275 \nL 323.05311 223.3041 \nL 325.246058 226.909043 \nL 327.439005 222.704638 \nL 329.631953 219.615882 \nL 331.8249 221.141838 \nL 334.017848 226.900085 \nL 336.210795 226.571244 \nL 336.210795 226.571244 \n\" clip-path=\"url(#pba28acb70c)\" style=\"fill: none; stroke: #1f77b4; stroke-width: 1.5; stroke-linecap: round\"/>\n   </g>\n   <g id=\"patch_3\">\n    <path d=\"M 43.78125 241.478125 \nL 43.78125 22.318125 \n\" style=\"fill: none; stroke: #cccccc; stroke-width: 0.8; stroke-linejoin: miter; stroke-linecap: square\"/>\n   </g>\n   <g id=\"patch_4\">\n    <path d=\"M 350.136012 241.478125 \nL 350.136012 22.318125 \n\" style=\"fill: none; stroke: #cccccc; stroke-width: 0.8; stroke-linejoin: miter; stroke-linecap: square\"/>\n   </g>\n   <g id=\"patch_5\">\n    <path d=\"M 43.78125 241.478125 \nL 350.136012 241.478125 \n\" style=\"fill: none; stroke: #cccccc; stroke-width: 0.8; stroke-linejoin: miter; stroke-linecap: square\"/>\n   </g>\n   <g id=\"patch_6\">\n    <path d=\"M 43.78125 22.318125 \nL 350.136012 22.318125 \n\" style=\"fill: none; stroke: #cccccc; stroke-width: 0.8; stroke-linejoin: miter; stroke-linecap: square\"/>\n   </g>\n   <g id=\"text_15\">\n    <!-- Losses Plot -->\n    <g style=\"fill: #262626\" transform=\"translate(163.765506 16.318125) scale(0.12 -0.12)\">\n     <defs>\n      <path id=\"DejaVuSans-65\" d=\"M 3597 1894 \nL 3597 1613 \nL 953 1613 \nQ 991 1019 1311 708 \nQ 1631 397 2203 397 \nQ 2534 397 2845 478 \nQ 3156 559 3463 722 \nL 3463 178 \nQ 3153 47 2828 -22 \nQ 2503 -91 2169 -91 \nQ 1331 -91 842 396 \nQ 353 884 353 1716 \nQ 353 2575 817 3079 \nQ 1281 3584 2069 3584 \nQ 2775 3584 3186 3129 \nQ 3597 2675 3597 1894 \nz\nM 3022 2063 \nQ 3016 2534 2758 2815 \nQ 2500 3097 2075 3097 \nQ 1594 3097 1305 2825 \nQ 1016 2553 972 2059 \nL 3022 2063 \nz\n\" transform=\"scale(0.015625)\"/>\n      <path id=\"DejaVuSans-50\" d=\"M 1259 4147 \nL 1259 2394 \nL 2053 2394 \nQ 2494 2394 2734 2622 \nQ 2975 2850 2975 3272 \nQ 2975 3691 2734 3919 \nQ 2494 4147 2053 4147 \nL 1259 4147 \nz\nM 628 4666 \nL 2053 4666 \nQ 2838 4666 3239 4311 \nQ 3641 3956 3641 3272 \nQ 3641 2581 3239 2228 \nQ 2838 1875 2053 1875 \nL 1259 1875 \nL 1259 0 \nL 628 0 \nL 628 4666 \nz\n\" transform=\"scale(0.015625)\"/>\n     </defs>\n     <use xlink:href=\"#DejaVuSans-4c\"/>\n     <use xlink:href=\"#DejaVuSans-6f\" x=\"53.962891\"/>\n     <use xlink:href=\"#DejaVuSans-73\" x=\"115.144531\"/>\n     <use xlink:href=\"#DejaVuSans-73\" x=\"167.244141\"/>\n     <use xlink:href=\"#DejaVuSans-65\" x=\"219.34375\"/>\n     <use xlink:href=\"#DejaVuSans-73\" x=\"280.867188\"/>\n     <use xlink:href=\"#DejaVuSans-20\" x=\"332.966797\"/>\n     <use xlink:href=\"#DejaVuSans-50\" x=\"364.753906\"/>\n     <use xlink:href=\"#DejaVuSans-6c\" x=\"425.056641\"/>\n     <use xlink:href=\"#DejaVuSans-6f\" x=\"452.839844\"/>\n     <use xlink:href=\"#DejaVuSans-74\" x=\"514.021484\"/>\n    </g>\n   </g>\n  </g>\n  <g id=\"axes_2\">\n   <g id=\"patch_7\">\n    <path d=\"M 392.146012 241.478125 \nL 698.500773 241.478125 \nL 698.500773 22.318125 \nL 392.146012 22.318125 \nz\n\" style=\"fill: #ffffff\"/>\n   </g>\n   <g id=\"matplotlib.axis_3\">\n    <g id=\"xtick_8\">\n     <g id=\"line2d_14\">\n      <path d=\"M 396.583985 241.478125 \nL 396.583985 22.318125 \n\" clip-path=\"url(#pc04d1193b3)\" style=\"fill: none; stroke: #cccccc; stroke-width: 0.8; stroke-linecap: round\"/>\n     </g>\n     <g id=\"text_16\">\n      <!-- −2.0 -->\n      <g style=\"fill: #262626\" transform=\"translate(384.442579 256.076563) scale(0.1 -0.1)\">\n       <defs>\n        <path id=\"DejaVuSans-2212\" d=\"M 678 2272 \nL 4684 2272 \nL 4684 1741 \nL 678 1741 \nL 678 2272 \nz\n\" transform=\"scale(0.015625)\"/>\n       </defs>\n       <use xlink:href=\"#DejaVuSans-2212\"/>\n       <use xlink:href=\"#DejaVuSans-32\" x=\"83.789062\"/>\n       <use xlink:href=\"#DejaVuSans-2e\" x=\"147.412109\"/>\n       <use xlink:href=\"#DejaVuSans-30\" x=\"179.199219\"/>\n      </g>\n     </g>\n    </g>\n    <g id=\"xtick_9\">\n     <g id=\"line2d_15\">\n      <path d=\"M 436.903178 241.478125 \nL 436.903178 22.318125 \n\" clip-path=\"url(#pc04d1193b3)\" style=\"fill: none; stroke: #cccccc; stroke-width: 0.8; stroke-linecap: round\"/>\n     </g>\n     <g id=\"text_17\">\n      <!-- −1.5 -->\n      <g style=\"fill: #262626\" transform=\"translate(424.761772 256.076563) scale(0.1 -0.1)\">\n       <defs>\n        <path id=\"DejaVuSans-35\" d=\"M 691 4666 \nL 3169 4666 \nL 3169 4134 \nL 1269 4134 \nL 1269 2991 \nQ 1406 3038 1543 3061 \nQ 1681 3084 1819 3084 \nQ 2600 3084 3056 2656 \nQ 3513 2228 3513 1497 \nQ 3513 744 3044 326 \nQ 2575 -91 1722 -91 \nQ 1428 -91 1123 -41 \nQ 819 9 494 109 \nL 494 744 \nQ 775 591 1075 516 \nQ 1375 441 1709 441 \nQ 2250 441 2565 725 \nQ 2881 1009 2881 1497 \nQ 2881 1984 2565 2268 \nQ 2250 2553 1709 2553 \nQ 1456 2553 1204 2497 \nQ 953 2441 691 2322 \nL 691 4666 \nz\n\" transform=\"scale(0.015625)\"/>\n       </defs>\n       <use xlink:href=\"#DejaVuSans-2212\"/>\n       <use xlink:href=\"#DejaVuSans-31\" x=\"83.789062\"/>\n       <use xlink:href=\"#DejaVuSans-2e\" x=\"147.412109\"/>\n       <use xlink:href=\"#DejaVuSans-35\" x=\"179.199219\"/>\n      </g>\n     </g>\n    </g>\n    <g id=\"xtick_10\">\n     <g id=\"line2d_16\">\n      <path d=\"M 477.222372 241.478125 \nL 477.222372 22.318125 \n\" clip-path=\"url(#pc04d1193b3)\" style=\"fill: none; stroke: #cccccc; stroke-width: 0.8; stroke-linecap: round\"/>\n     </g>\n     <g id=\"text_18\">\n      <!-- −1.0 -->\n      <g style=\"fill: #262626\" transform=\"translate(465.080965 256.076563) scale(0.1 -0.1)\">\n       <use xlink:href=\"#DejaVuSans-2212\"/>\n       <use xlink:href=\"#DejaVuSans-31\" x=\"83.789062\"/>\n       <use xlink:href=\"#DejaVuSans-2e\" x=\"147.412109\"/>\n       <use xlink:href=\"#DejaVuSans-30\" x=\"179.199219\"/>\n      </g>\n     </g>\n    </g>\n    <g id=\"xtick_11\">\n     <g id=\"line2d_17\">\n      <path d=\"M 517.541565 241.478125 \nL 517.541565 22.318125 \n\" clip-path=\"url(#pc04d1193b3)\" style=\"fill: none; stroke: #cccccc; stroke-width: 0.8; stroke-linecap: round\"/>\n     </g>\n     <g id=\"text_19\">\n      <!-- −0.5 -->\n      <g style=\"fill: #262626\" transform=\"translate(505.400158 256.076563) scale(0.1 -0.1)\">\n       <use xlink:href=\"#DejaVuSans-2212\"/>\n       <use xlink:href=\"#DejaVuSans-30\" x=\"83.789062\"/>\n       <use xlink:href=\"#DejaVuSans-2e\" x=\"147.412109\"/>\n       <use xlink:href=\"#DejaVuSans-35\" x=\"179.199219\"/>\n      </g>\n     </g>\n    </g>\n    <g id=\"xtick_12\">\n     <g id=\"line2d_18\">\n      <path d=\"M 557.860758 241.478125 \nL 557.860758 22.318125 \n\" clip-path=\"url(#pc04d1193b3)\" style=\"fill: none; stroke: #cccccc; stroke-width: 0.8; stroke-linecap: round\"/>\n     </g>\n     <g id=\"text_20\">\n      <!-- 0.0 -->\n      <g style=\"fill: #262626\" transform=\"translate(549.909195 256.076563) scale(0.1 -0.1)\">\n       <use xlink:href=\"#DejaVuSans-30\"/>\n       <use xlink:href=\"#DejaVuSans-2e\" x=\"63.623047\"/>\n       <use xlink:href=\"#DejaVuSans-30\" x=\"95.410156\"/>\n      </g>\n     </g>\n    </g>\n    <g id=\"xtick_13\">\n     <g id=\"line2d_19\">\n      <path d=\"M 598.179951 241.478125 \nL 598.179951 22.318125 \n\" clip-path=\"url(#pc04d1193b3)\" style=\"fill: none; stroke: #cccccc; stroke-width: 0.8; stroke-linecap: round\"/>\n     </g>\n     <g id=\"text_21\">\n      <!-- 0.5 -->\n      <g style=\"fill: #262626\" transform=\"translate(590.228388 256.076563) scale(0.1 -0.1)\">\n       <use xlink:href=\"#DejaVuSans-30\"/>\n       <use xlink:href=\"#DejaVuSans-2e\" x=\"63.623047\"/>\n       <use xlink:href=\"#DejaVuSans-35\" x=\"95.410156\"/>\n      </g>\n     </g>\n    </g>\n    <g id=\"xtick_14\">\n     <g id=\"line2d_20\">\n      <path d=\"M 638.499144 241.478125 \nL 638.499144 22.318125 \n\" clip-path=\"url(#pc04d1193b3)\" style=\"fill: none; stroke: #cccccc; stroke-width: 0.8; stroke-linecap: round\"/>\n     </g>\n     <g id=\"text_22\">\n      <!-- 1.0 -->\n      <g style=\"fill: #262626\" transform=\"translate(630.547582 256.076563) scale(0.1 -0.1)\">\n       <use xlink:href=\"#DejaVuSans-31\"/>\n       <use xlink:href=\"#DejaVuSans-2e\" x=\"63.623047\"/>\n       <use xlink:href=\"#DejaVuSans-30\" x=\"95.410156\"/>\n      </g>\n     </g>\n    </g>\n    <g id=\"xtick_15\">\n     <g id=\"line2d_21\">\n      <path d=\"M 678.818337 241.478125 \nL 678.818337 22.318125 \n\" clip-path=\"url(#pc04d1193b3)\" style=\"fill: none; stroke: #cccccc; stroke-width: 0.8; stroke-linecap: round\"/>\n     </g>\n     <g id=\"text_23\">\n      <!-- 1.5 -->\n      <g style=\"fill: #262626\" transform=\"translate(670.866775 256.076563) scale(0.1 -0.1)\">\n       <use xlink:href=\"#DejaVuSans-31\"/>\n       <use xlink:href=\"#DejaVuSans-2e\" x=\"63.623047\"/>\n       <use xlink:href=\"#DejaVuSans-35\" x=\"95.410156\"/>\n      </g>\n     </g>\n    </g>\n   </g>\n   <g id=\"matplotlib.axis_4\">\n    <g id=\"ytick_6\">\n     <g id=\"line2d_22\">\n      <path d=\"M 392.146012 236.832734 \nL 698.500773 236.832734 \n\" clip-path=\"url(#pc04d1193b3)\" style=\"fill: none; stroke: #cccccc; stroke-width: 0.8; stroke-linecap: round\"/>\n     </g>\n     <g id=\"text_24\">\n      <!-- −2.0 -->\n      <g style=\"fill: #262626\" transform=\"translate(360.863199 240.631953) scale(0.1 -0.1)\">\n       <use xlink:href=\"#DejaVuSans-2212\"/>\n       <use xlink:href=\"#DejaVuSans-32\" x=\"83.789062\"/>\n       <use xlink:href=\"#DejaVuSans-2e\" x=\"147.412109\"/>\n       <use xlink:href=\"#DejaVuSans-30\" x=\"179.199219\"/>\n      </g>\n     </g>\n    </g>\n    <g id=\"ytick_7\">\n     <g id=\"line2d_23\">\n      <path d=\"M 392.146012 205.65865 \nL 698.500773 205.65865 \n\" clip-path=\"url(#pc04d1193b3)\" style=\"fill: none; stroke: #cccccc; stroke-width: 0.8; stroke-linecap: round\"/>\n     </g>\n     <g id=\"text_25\">\n      <!-- −1.5 -->\n      <g style=\"fill: #262626\" transform=\"translate(360.863199 209.457869) scale(0.1 -0.1)\">\n       <use xlink:href=\"#DejaVuSans-2212\"/>\n       <use xlink:href=\"#DejaVuSans-31\" x=\"83.789062\"/>\n       <use xlink:href=\"#DejaVuSans-2e\" x=\"147.412109\"/>\n       <use xlink:href=\"#DejaVuSans-35\" x=\"179.199219\"/>\n      </g>\n     </g>\n    </g>\n    <g id=\"ytick_8\">\n     <g id=\"line2d_24\">\n      <path d=\"M 392.146012 174.484567 \nL 698.500773 174.484567 \n\" clip-path=\"url(#pc04d1193b3)\" style=\"fill: none; stroke: #cccccc; stroke-width: 0.8; stroke-linecap: round\"/>\n     </g>\n     <g id=\"text_26\">\n      <!-- −1.0 -->\n      <g style=\"fill: #262626\" transform=\"translate(360.863199 178.283786) scale(0.1 -0.1)\">\n       <use xlink:href=\"#DejaVuSans-2212\"/>\n       <use xlink:href=\"#DejaVuSans-31\" x=\"83.789062\"/>\n       <use xlink:href=\"#DejaVuSans-2e\" x=\"147.412109\"/>\n       <use xlink:href=\"#DejaVuSans-30\" x=\"179.199219\"/>\n      </g>\n     </g>\n    </g>\n    <g id=\"ytick_9\">\n     <g id=\"line2d_25\">\n      <path d=\"M 392.146012 143.310484 \nL 698.500773 143.310484 \n\" clip-path=\"url(#pc04d1193b3)\" style=\"fill: none; stroke: #cccccc; stroke-width: 0.8; stroke-linecap: round\"/>\n     </g>\n     <g id=\"text_27\">\n      <!-- −0.5 -->\n      <g style=\"fill: #262626\" transform=\"translate(360.863199 147.109702) scale(0.1 -0.1)\">\n       <use xlink:href=\"#DejaVuSans-2212\"/>\n       <use xlink:href=\"#DejaVuSans-30\" x=\"83.789062\"/>\n       <use xlink:href=\"#DejaVuSans-2e\" x=\"147.412109\"/>\n       <use xlink:href=\"#DejaVuSans-35\" x=\"179.199219\"/>\n      </g>\n     </g>\n    </g>\n    <g id=\"ytick_10\">\n     <g id=\"line2d_26\">\n      <path d=\"M 392.146012 112.1364 \nL 698.500773 112.1364 \n\" clip-path=\"url(#pc04d1193b3)\" style=\"fill: none; stroke: #cccccc; stroke-width: 0.8; stroke-linecap: round\"/>\n     </g>\n     <g id=\"text_28\">\n      <!-- 0.0 -->\n      <g style=\"fill: #262626\" transform=\"translate(369.242887 115.935619) scale(0.1 -0.1)\">\n       <use xlink:href=\"#DejaVuSans-30\"/>\n       <use xlink:href=\"#DejaVuSans-2e\" x=\"63.623047\"/>\n       <use xlink:href=\"#DejaVuSans-30\" x=\"95.410156\"/>\n      </g>\n     </g>\n    </g>\n    <g id=\"ytick_11\">\n     <g id=\"line2d_27\">\n      <path d=\"M 392.146012 80.962317 \nL 698.500773 80.962317 \n\" clip-path=\"url(#pc04d1193b3)\" style=\"fill: none; stroke: #cccccc; stroke-width: 0.8; stroke-linecap: round\"/>\n     </g>\n     <g id=\"text_29\">\n      <!-- 0.5 -->\n      <g style=\"fill: #262626\" transform=\"translate(369.242887 84.761535) scale(0.1 -0.1)\">\n       <use xlink:href=\"#DejaVuSans-30\"/>\n       <use xlink:href=\"#DejaVuSans-2e\" x=\"63.623047\"/>\n       <use xlink:href=\"#DejaVuSans-35\" x=\"95.410156\"/>\n      </g>\n     </g>\n    </g>\n    <g id=\"ytick_12\">\n     <g id=\"line2d_28\">\n      <path d=\"M 392.146012 49.788233 \nL 698.500773 49.788233 \n\" clip-path=\"url(#pc04d1193b3)\" style=\"fill: none; stroke: #cccccc; stroke-width: 0.8; stroke-linecap: round\"/>\n     </g>\n     <g id=\"text_30\">\n      <!-- 1.0 -->\n      <g style=\"fill: #262626\" transform=\"translate(369.242887 53.587452) scale(0.1 -0.1)\">\n       <use xlink:href=\"#DejaVuSans-31\"/>\n       <use xlink:href=\"#DejaVuSans-2e\" x=\"63.623047\"/>\n       <use xlink:href=\"#DejaVuSans-30\" x=\"95.410156\"/>\n      </g>\n     </g>\n    </g>\n   </g>\n   <g id=\"PathCollection_1\">\n    <defs>\n     <path id=\"m1dadf0b526\" d=\"M 0 3 \nC 0.795609 3 1.55874 2.683901 2.12132 2.12132 \nC 2.683901 1.55874 3 0.795609 3 0 \nC 3 -0.795609 2.683901 -1.55874 2.12132 -2.12132 \nC 1.55874 -2.683901 0.795609 -3 0 -3 \nC -0.795609 -3 -1.55874 -2.683901 -2.12132 -2.12132 \nC -2.683901 -1.55874 -3 -0.795609 -3 0 \nC -3 0.795609 -2.683901 1.55874 -2.12132 2.12132 \nC -1.55874 2.683901 -0.795609 3 0 3 \nz\n\" style=\"stroke: #000000\"/>\n    </defs>\n    <g clip-path=\"url(#pc04d1193b3)\">\n     <use xlink:href=\"#m1dadf0b526\" x=\"481.873931\" y=\"91.266905\" style=\"stroke: #000000\"/>\n    </g>\n   </g>\n   <g id=\"PathCollection_2\">\n    <g clip-path=\"url(#pc04d1193b3)\">\n     <use xlink:href=\"#m1dadf0b526\" x=\"615.256453\" y=\"155.930761\" style=\"stroke: #000000\"/>\n    </g>\n   </g>\n   <g id=\"PathCollection_3\">\n    <g clip-path=\"url(#pc04d1193b3)\">\n     <use xlink:href=\"#m1dadf0b526\" x=\"591.305294\" y=\"55.40351\" style=\"stroke: #000000\"/>\n    </g>\n   </g>\n   <g id=\"patch_8\">\n    <path d=\"M 584.144857 216.814282 \nL 583.956959 216.556682 \nL 584.036119 216.5448 \nL 557.821178 112.142341 \nL 557.900339 112.130458 \nL 584.115279 216.532917 \nL 584.19444 216.521034 \nz\n\" clip-path=\"url(#pc04d1193b3)\" style=\"stroke: #000000; stroke-linejoin: miter\"/>\n   </g>\n   <g id=\"patch_9\">\n    <path d=\"M 424.094169 47.108053 \nL 424.465749 47.178219 \nL 424.422827 47.231001 \nL 557.88222 112.110008 \nL 557.839298 112.16279 \nL 424.379905 47.283783 \nL 424.336983 47.336565 \nz\n\" clip-path=\"url(#pc04d1193b3)\" style=\"stroke: #000000; stroke-linejoin: miter\"/>\n   </g>\n   <g id=\"patch_10\">\n    <path d=\"M 666.577158 74.874461 \nL 666.294438 75.073661 \nL 666.261759 75.016662 \nL 557.877099 112.164899 \nL 557.84442 112.1079 \nL 666.229079 74.959664 \nL 666.1964 74.902665 \nz\n\" clip-path=\"url(#pc04d1193b3)\" style=\"stroke: #000000; stroke-linejoin: miter\"/>\n   </g>\n   <g id=\"patch_11\">\n    <path d=\"M 392.146012 241.478125 \nL 392.146012 22.318125 \n\" style=\"fill: none; stroke: #cccccc; stroke-width: 0.8; stroke-linejoin: miter; stroke-linecap: square\"/>\n   </g>\n   <g id=\"patch_12\">\n    <path d=\"M 698.500773 241.478125 \nL 698.500773 22.318125 \n\" style=\"fill: none; stroke: #cccccc; stroke-width: 0.8; stroke-linejoin: miter; stroke-linecap: square\"/>\n   </g>\n   <g id=\"patch_13\">\n    <path d=\"M 392.146012 241.478125 \nL 698.500773 241.478125 \n\" style=\"fill: none; stroke: #cccccc; stroke-width: 0.8; stroke-linejoin: miter; stroke-linecap: square\"/>\n   </g>\n   <g id=\"patch_14\">\n    <path d=\"M 392.146012 22.318125 \nL 698.500773 22.318125 \n\" style=\"fill: none; stroke: #cccccc; stroke-width: 0.8; stroke-linejoin: miter; stroke-linecap: square\"/>\n   </g>\n   <g id=\"text_31\">\n    <!-- Belgium -->\n    <g style=\"fill: #262626\" transform=\"translate(483.486699 89.39646) scale(0.1 -0.1)\">\n     <defs>\n      <path id=\"DejaVuSans-42\" d=\"M 1259 2228 \nL 1259 519 \nL 2272 519 \nQ 2781 519 3026 730 \nQ 3272 941 3272 1375 \nQ 3272 1813 3026 2020 \nQ 2781 2228 2272 2228 \nL 1259 2228 \nz\nM 1259 4147 \nL 1259 2741 \nL 2194 2741 \nQ 2656 2741 2882 2914 \nQ 3109 3088 3109 3444 \nQ 3109 3797 2882 3972 \nQ 2656 4147 2194 4147 \nL 1259 4147 \nz\nM 628 4666 \nL 2241 4666 \nQ 2963 4666 3353 4366 \nQ 3744 4066 3744 3513 \nQ 3744 3084 3544 2831 \nQ 3344 2578 2956 2516 \nQ 3422 2416 3680 2098 \nQ 3938 1781 3938 1306 \nQ 3938 681 3513 340 \nQ 3088 0 2303 0 \nL 628 0 \nL 628 4666 \nz\n\" transform=\"scale(0.015625)\"/>\n      <path id=\"DejaVuSans-67\" d=\"M 2906 1791 \nQ 2906 2416 2648 2759 \nQ 2391 3103 1925 3103 \nQ 1463 3103 1205 2759 \nQ 947 2416 947 1791 \nQ 947 1169 1205 825 \nQ 1463 481 1925 481 \nQ 2391 481 2648 825 \nQ 2906 1169 2906 1791 \nz\nM 3481 434 \nQ 3481 -459 3084 -895 \nQ 2688 -1331 1869 -1331 \nQ 1566 -1331 1297 -1286 \nQ 1028 -1241 775 -1147 \nL 775 -588 \nQ 1028 -725 1275 -790 \nQ 1522 -856 1778 -856 \nQ 2344 -856 2625 -561 \nQ 2906 -266 2906 331 \nL 2906 616 \nQ 2728 306 2450 153 \nQ 2172 0 1784 0 \nQ 1141 0 747 490 \nQ 353 981 353 1791 \nQ 353 2603 747 3093 \nQ 1141 3584 1784 3584 \nQ 2172 3584 2450 3431 \nQ 2728 3278 2906 2969 \nL 2906 3500 \nL 3481 3500 \nL 3481 434 \nz\n\" transform=\"scale(0.015625)\"/>\n      <path id=\"DejaVuSans-69\" d=\"M 603 3500 \nL 1178 3500 \nL 1178 0 \nL 603 0 \nL 603 3500 \nz\nM 603 4863 \nL 1178 4863 \nL 1178 4134 \nL 603 4134 \nL 603 4863 \nz\n\" transform=\"scale(0.015625)\"/>\n      <path id=\"DejaVuSans-6d\" d=\"M 3328 2828 \nQ 3544 3216 3844 3400 \nQ 4144 3584 4550 3584 \nQ 5097 3584 5394 3201 \nQ 5691 2819 5691 2113 \nL 5691 0 \nL 5113 0 \nL 5113 2094 \nQ 5113 2597 4934 2840 \nQ 4756 3084 4391 3084 \nQ 3944 3084 3684 2787 \nQ 3425 2491 3425 1978 \nL 3425 0 \nL 2847 0 \nL 2847 2094 \nQ 2847 2600 2669 2842 \nQ 2491 3084 2119 3084 \nQ 1678 3084 1418 2786 \nQ 1159 2488 1159 1978 \nL 1159 0 \nL 581 0 \nL 581 3500 \nL 1159 3500 \nL 1159 2956 \nQ 1356 3278 1631 3431 \nQ 1906 3584 2284 3584 \nQ 2666 3584 2933 3390 \nQ 3200 3197 3328 2828 \nz\n\" transform=\"scale(0.015625)\"/>\n     </defs>\n     <use xlink:href=\"#DejaVuSans-42\"/>\n     <use xlink:href=\"#DejaVuSans-65\" x=\"68.603516\"/>\n     <use xlink:href=\"#DejaVuSans-6c\" x=\"130.126953\"/>\n     <use xlink:href=\"#DejaVuSans-67\" x=\"157.910156\"/>\n     <use xlink:href=\"#DejaVuSans-69\" x=\"221.386719\"/>\n     <use xlink:href=\"#DejaVuSans-75\" x=\"249.169922\"/>\n     <use xlink:href=\"#DejaVuSans-6d\" x=\"312.548828\"/>\n    </g>\n   </g>\n   <g id=\"text_32\">\n    <!-- Brussels -->\n    <g style=\"fill: #262626\" transform=\"translate(616.869221 154.060316) scale(0.1 -0.1)\">\n     <defs>\n      <path id=\"DejaVuSans-72\" d=\"M 2631 2963 \nQ 2534 3019 2420 3045 \nQ 2306 3072 2169 3072 \nQ 1681 3072 1420 2755 \nQ 1159 2438 1159 1844 \nL 1159 0 \nL 581 0 \nL 581 3500 \nL 1159 3500 \nL 1159 2956 \nQ 1341 3275 1631 3429 \nQ 1922 3584 2338 3584 \nQ 2397 3584 2469 3576 \nQ 2541 3569 2628 3553 \nL 2631 2963 \nz\n\" transform=\"scale(0.015625)\"/>\n     </defs>\n     <use xlink:href=\"#DejaVuSans-42\"/>\n     <use xlink:href=\"#DejaVuSans-72\" x=\"68.603516\"/>\n     <use xlink:href=\"#DejaVuSans-75\" x=\"109.716797\"/>\n     <use xlink:href=\"#DejaVuSans-73\" x=\"173.095703\"/>\n     <use xlink:href=\"#DejaVuSans-73\" x=\"225.195312\"/>\n     <use xlink:href=\"#DejaVuSans-65\" x=\"277.294922\"/>\n     <use xlink:href=\"#DejaVuSans-6c\" x=\"338.818359\"/>\n     <use xlink:href=\"#DejaVuSans-73\" x=\"366.601562\"/>\n    </g>\n   </g>\n   <g id=\"text_33\">\n    <!-- EU -->\n    <g style=\"fill: #262626\" transform=\"translate(592.918062 53.533065) scale(0.1 -0.1)\">\n     <defs>\n      <path id=\"DejaVuSans-55\" d=\"M 556 4666 \nL 1191 4666 \nL 1191 1831 \nQ 1191 1081 1462 751 \nQ 1734 422 2344 422 \nQ 2950 422 3222 751 \nQ 3494 1081 3494 1831 \nL 3494 4666 \nL 4128 4666 \nL 4128 1753 \nQ 4128 841 3676 375 \nQ 3225 -91 2344 -91 \nQ 1459 -91 1007 375 \nQ 556 841 556 1753 \nL 556 4666 \nz\n\" transform=\"scale(0.015625)\"/>\n     </defs>\n     <use xlink:href=\"#DejaVuSans-45\"/>\n     <use xlink:href=\"#DejaVuSans-55\" x=\"63.183594\"/>\n    </g>\n   </g>\n   <g id=\"text_34\">\n    <!-- hasCapital -->\n    <g style=\"fill: #262626\" transform=\"translate(585.688467 214.668413) scale(0.1 -0.1)\">\n     <defs>\n      <path id=\"DejaVuSans-61\" d=\"M 2194 1759 \nQ 1497 1759 1228 1600 \nQ 959 1441 959 1056 \nQ 959 750 1161 570 \nQ 1363 391 1709 391 \nQ 2188 391 2477 730 \nQ 2766 1069 2766 1631 \nL 2766 1759 \nL 2194 1759 \nz\nM 3341 1997 \nL 3341 0 \nL 2766 0 \nL 2766 531 \nQ 2569 213 2275 61 \nQ 1981 -91 1556 -91 \nQ 1019 -91 701 211 \nQ 384 513 384 1019 \nQ 384 1609 779 1909 \nQ 1175 2209 1959 2209 \nL 2766 2209 \nL 2766 2266 \nQ 2766 2663 2505 2880 \nQ 2244 3097 1772 3097 \nQ 1472 3097 1187 3025 \nQ 903 2953 641 2809 \nL 641 3341 \nQ 956 3463 1253 3523 \nQ 1550 3584 1831 3584 \nQ 2591 3584 2966 3190 \nQ 3341 2797 3341 1997 \nz\n\" transform=\"scale(0.015625)\"/>\n      <path id=\"DejaVuSans-43\" d=\"M 4122 4306 \nL 4122 3641 \nQ 3803 3938 3442 4084 \nQ 3081 4231 2675 4231 \nQ 1875 4231 1450 3742 \nQ 1025 3253 1025 2328 \nQ 1025 1406 1450 917 \nQ 1875 428 2675 428 \nQ 3081 428 3442 575 \nQ 3803 722 4122 1019 \nL 4122 359 \nQ 3791 134 3420 21 \nQ 3050 -91 2638 -91 \nQ 1578 -91 968 557 \nQ 359 1206 359 2328 \nQ 359 3453 968 4101 \nQ 1578 4750 2638 4750 \nQ 3056 4750 3426 4639 \nQ 3797 4528 4122 4306 \nz\n\" transform=\"scale(0.015625)\"/>\n     </defs>\n     <use xlink:href=\"#DejaVuSans-68\"/>\n     <use xlink:href=\"#DejaVuSans-61\" x=\"63.378906\"/>\n     <use xlink:href=\"#DejaVuSans-73\" x=\"124.658203\"/>\n     <use xlink:href=\"#DejaVuSans-43\" x=\"176.757812\"/>\n     <use xlink:href=\"#DejaVuSans-61\" x=\"246.582031\"/>\n     <use xlink:href=\"#DejaVuSans-70\" x=\"307.861328\"/>\n     <use xlink:href=\"#DejaVuSans-69\" x=\"371.337891\"/>\n     <use xlink:href=\"#DejaVuSans-74\" x=\"399.121094\"/>\n     <use xlink:href=\"#DejaVuSans-61\" x=\"438.330078\"/>\n     <use xlink:href=\"#DejaVuSans-6c\" x=\"499.609375\"/>\n    </g>\n   </g>\n   <g id=\"text_35\">\n    <!-- locatedIn -->\n    <g style=\"fill: #262626\" transform=\"translate(426.014134 45.386947) scale(0.1 -0.1)\">\n     <defs>\n      <path id=\"DejaVuSans-64\" d=\"M 2906 2969 \nL 2906 4863 \nL 3481 4863 \nL 3481 0 \nL 2906 0 \nL 2906 525 \nQ 2725 213 2448 61 \nQ 2172 -91 1784 -91 \nQ 1150 -91 751 415 \nQ 353 922 353 1747 \nQ 353 2572 751 3078 \nQ 1150 3584 1784 3584 \nQ 2172 3584 2448 3432 \nQ 2725 3281 2906 2969 \nz\nM 947 1747 \nQ 947 1113 1208 752 \nQ 1469 391 1925 391 \nQ 2381 391 2643 752 \nQ 2906 1113 2906 1747 \nQ 2906 2381 2643 2742 \nQ 2381 3103 1925 3103 \nQ 1469 3103 1208 2742 \nQ 947 2381 947 1747 \nz\n\" transform=\"scale(0.015625)\"/>\n      <path id=\"DejaVuSans-49\" d=\"M 628 4666 \nL 1259 4666 \nL 1259 0 \nL 628 0 \nL 628 4666 \nz\n\" transform=\"scale(0.015625)\"/>\n      <path id=\"DejaVuSans-6e\" d=\"M 3513 2113 \nL 3513 0 \nL 2938 0 \nL 2938 2094 \nQ 2938 2591 2744 2837 \nQ 2550 3084 2163 3084 \nQ 1697 3084 1428 2787 \nQ 1159 2491 1159 1978 \nL 1159 0 \nL 581 0 \nL 581 3500 \nL 1159 3500 \nL 1159 2956 \nQ 1366 3272 1645 3428 \nQ 1925 3584 2291 3584 \nQ 2894 3584 3203 3211 \nQ 3513 2838 3513 2113 \nz\n\" transform=\"scale(0.015625)\"/>\n     </defs>\n     <use xlink:href=\"#DejaVuSans-6c\"/>\n     <use xlink:href=\"#DejaVuSans-6f\" x=\"27.783203\"/>\n     <use xlink:href=\"#DejaVuSans-63\" x=\"88.964844\"/>\n     <use xlink:href=\"#DejaVuSans-61\" x=\"143.945312\"/>\n     <use xlink:href=\"#DejaVuSans-74\" x=\"205.224609\"/>\n     <use xlink:href=\"#DejaVuSans-65\" x=\"244.433594\"/>\n     <use xlink:href=\"#DejaVuSans-64\" x=\"305.957031\"/>\n     <use xlink:href=\"#DejaVuSans-49\" x=\"369.433594\"/>\n     <use xlink:href=\"#DejaVuSans-6e\" x=\"398.925781\"/>\n    </g>\n   </g>\n   <g id=\"text_36\">\n    <!-- partOf -->\n    <g style=\"fill: #262626\" transform=\"translate(667.858187 73.117718) scale(0.1 -0.1)\">\n     <defs>\n      <path id=\"DejaVuSans-4f\" d=\"M 2522 4238 \nQ 1834 4238 1429 3725 \nQ 1025 3213 1025 2328 \nQ 1025 1447 1429 934 \nQ 1834 422 2522 422 \nQ 3209 422 3611 934 \nQ 4013 1447 4013 2328 \nQ 4013 3213 3611 3725 \nQ 3209 4238 2522 4238 \nz\nM 2522 4750 \nQ 3503 4750 4090 4092 \nQ 4678 3434 4678 2328 \nQ 4678 1225 4090 567 \nQ 3503 -91 2522 -91 \nQ 1538 -91 948 565 \nQ 359 1222 359 2328 \nQ 359 3434 948 4092 \nQ 1538 4750 2522 4750 \nz\n\" transform=\"scale(0.015625)\"/>\n     </defs>\n     <use xlink:href=\"#DejaVuSans-70\"/>\n     <use xlink:href=\"#DejaVuSans-61\" x=\"63.476562\"/>\n     <use xlink:href=\"#DejaVuSans-72\" x=\"124.755859\"/>\n     <use xlink:href=\"#DejaVuSans-74\" x=\"165.869141\"/>\n     <use xlink:href=\"#DejaVuSans-4f\" x=\"205.078125\"/>\n     <use xlink:href=\"#DejaVuSans-66\" x=\"283.789062\"/>\n    </g>\n   </g>\n   <g id=\"text_37\">\n    <!-- Entity/Relation Plot -->\n    <g style=\"fill: #262626\" transform=\"translate(488.143393 16.318125) scale(0.12 -0.12)\">\n     <defs>\n      <path id=\"DejaVuSans-79\" d=\"M 2059 -325 \nQ 1816 -950 1584 -1140 \nQ 1353 -1331 966 -1331 \nL 506 -1331 \nL 506 -850 \nL 844 -850 \nQ 1081 -850 1212 -737 \nQ 1344 -625 1503 -206 \nL 1606 56 \nL 191 3500 \nL 800 3500 \nL 1894 763 \nL 2988 3500 \nL 3597 3500 \nL 2059 -325 \nz\n\" transform=\"scale(0.015625)\"/>\n      <path id=\"DejaVuSans-2f\" d=\"M 1625 4666 \nL 2156 4666 \nL 531 -594 \nL 0 -594 \nL 1625 4666 \nz\n\" transform=\"scale(0.015625)\"/>\n      <path id=\"DejaVuSans-52\" d=\"M 2841 2188 \nQ 3044 2119 3236 1894 \nQ 3428 1669 3622 1275 \nL 4263 0 \nL 3584 0 \nL 2988 1197 \nQ 2756 1666 2539 1819 \nQ 2322 1972 1947 1972 \nL 1259 1972 \nL 1259 0 \nL 628 0 \nL 628 4666 \nL 2053 4666 \nQ 2853 4666 3247 4331 \nQ 3641 3997 3641 3322 \nQ 3641 2881 3436 2590 \nQ 3231 2300 2841 2188 \nz\nM 1259 4147 \nL 1259 2491 \nL 2053 2491 \nQ 2509 2491 2742 2702 \nQ 2975 2913 2975 3322 \nQ 2975 3731 2742 3939 \nQ 2509 4147 2053 4147 \nL 1259 4147 \nz\n\" transform=\"scale(0.015625)\"/>\n     </defs>\n     <use xlink:href=\"#DejaVuSans-45\"/>\n     <use xlink:href=\"#DejaVuSans-6e\" x=\"63.183594\"/>\n     <use xlink:href=\"#DejaVuSans-74\" x=\"126.5625\"/>\n     <use xlink:href=\"#DejaVuSans-69\" x=\"165.771484\"/>\n     <use xlink:href=\"#DejaVuSans-74\" x=\"193.554688\"/>\n     <use xlink:href=\"#DejaVuSans-79\" x=\"232.763672\"/>\n     <use xlink:href=\"#DejaVuSans-2f\" x=\"291.943359\"/>\n     <use xlink:href=\"#DejaVuSans-52\" x=\"325.634766\"/>\n     <use xlink:href=\"#DejaVuSans-65\" x=\"390.617188\"/>\n     <use xlink:href=\"#DejaVuSans-6c\" x=\"452.140625\"/>\n     <use xlink:href=\"#DejaVuSans-61\" x=\"479.923828\"/>\n     <use xlink:href=\"#DejaVuSans-74\" x=\"541.203125\"/>\n     <use xlink:href=\"#DejaVuSans-69\" x=\"580.412109\"/>\n     <use xlink:href=\"#DejaVuSans-6f\" x=\"608.195312\"/>\n     <use xlink:href=\"#DejaVuSans-6e\" x=\"669.376953\"/>\n     <use xlink:href=\"#DejaVuSans-20\" x=\"732.755859\"/>\n     <use xlink:href=\"#DejaVuSans-50\" x=\"764.542969\"/>\n     <use xlink:href=\"#DejaVuSans-6c\" x=\"824.845703\"/>\n     <use xlink:href=\"#DejaVuSans-6f\" x=\"852.628906\"/>\n     <use xlink:href=\"#DejaVuSans-74\" x=\"913.810547\"/>\n    </g>\n   </g>\n  </g>\n </g>\n <defs>\n  <clipPath id=\"pba28acb70c\">\n   <rect x=\"43.78125\" y=\"22.318125\" width=\"306.354762\" height=\"219.16\"/>\n  </clipPath>\n  <clipPath id=\"pc04d1193b3\">\n   <rect x=\"392.146012\" y=\"22.318125\" width=\"306.354762\" height=\"219.16\"/>\n  </clipPath>\n </defs>\n</svg>\n"
          },
          "metadata": {}
        }
      ],
      "source": [
        "toy_results.plot(er_kwargs=dict(plot_relations=True))\n",
        "plt.savefig(\"results/toy_3.png\", dpi=300)"
      ]
    },
    {
      "cell_type": "markdown",
      "metadata": {
        "id": "niy9EaoQ8WFo"
      },
      "source": [
        "## Benchmark Dataset Example"
      ]
    },
    {
      "cell_type": "code",
      "execution_count": 9,
      "metadata": {
        "id": "Y473IOuN8WFo",
        "outputId": "7afe2e74-ed6a-470e-a060-36236c3d6db0",
        "colab": {
          "base_uri": "https://localhost:8080/",
          "height": 260,
          "referenced_widgets": [
            "67551a2f466448439542a2da7284a4d9",
            "c56a9d1bc7c4477c8d4d5f8db3a8b2c7",
            "2bab7d849af24ec2a071959688ae9a4b",
            "ba1f606ee50d46458f5c1a3369e8ac32",
            "68316afae525423f8bfd806b6b6d52c2",
            "7d6a97811d33473b8381af4cdd956464",
            "06fe3693857449ae88b7b3911f832025",
            "7ced4bed19104c79b1b706483a9ca6c3",
            "6be43e2a46fe4a19a8609d0a09ac9bfa",
            "e902490729c3489dac1dd9f98a076aee",
            "d700bfae24ab4dad823e293f22e0a3ee"
          ]
        }
      },
      "outputs": [
        {
          "output_type": "stream",
          "name": "stderr",
          "text": [
            "INFO:pykeen.datasets.utils:Caching preprocessed dataset to file:///root/.data/pykeen/datasets/nations/cache/47DEQpj8HBSa-_TImW-5JCeuQeRkm5NM\n",
            "INFO:pykeen.triples.triples_factory:Stored TriplesFactory(num_entities=14, num_relations=55, create_inverse_triples=False, num_triples=1592, path=\"/usr/local/lib/python3.10/dist-packages/pykeen/datasets/nations/train.txt\") to file:///root/.data/pykeen/datasets/nations/cache/47DEQpj8HBSa-_TImW-5JCeuQeRkm5NM/training\n",
            "INFO:pykeen.datasets.base:Stored training factory to file:///root/.data/pykeen/datasets/nations/cache/47DEQpj8HBSa-_TImW-5JCeuQeRkm5NM/training\n",
            "INFO:pykeen.triples.triples_factory:Stored TriplesFactory(num_entities=14, num_relations=55, create_inverse_triples=False, num_triples=201, path=\"/usr/local/lib/python3.10/dist-packages/pykeen/datasets/nations/test.txt\") to file:///root/.data/pykeen/datasets/nations/cache/47DEQpj8HBSa-_TImW-5JCeuQeRkm5NM/testing\n",
            "INFO:pykeen.datasets.base:Stored testing factory to file:///root/.data/pykeen/datasets/nations/cache/47DEQpj8HBSa-_TImW-5JCeuQeRkm5NM/testing\n",
            "INFO:pykeen.triples.triples_factory:Stored TriplesFactory(num_entities=14, num_relations=55, create_inverse_triples=False, num_triples=199, path=\"/usr/local/lib/python3.10/dist-packages/pykeen/datasets/nations/valid.txt\") to file:///root/.data/pykeen/datasets/nations/cache/47DEQpj8HBSa-_TImW-5JCeuQeRkm5NM/validation\n",
            "INFO:pykeen.datasets.base:Stored validation factory to file:///root/.data/pykeen/datasets/nations/cache/47DEQpj8HBSa-_TImW-5JCeuQeRkm5NM/validation\n",
            "INFO:pykeen.pipeline.api:Using device: cpu\n"
          ]
        },
        {
          "output_type": "display_data",
          "data": {
            "text/plain": [
              "Training epochs on cpu:   0%|          | 0/80 [00:00<?, ?epoch/s]"
            ],
            "application/vnd.jupyter.widget-view+json": {
              "version_major": 2,
              "version_minor": 0,
              "model_id": "67551a2f466448439542a2da7284a4d9"
            }
          },
          "metadata": {}
        },
        {
          "output_type": "stream",
          "name": "stderr",
          "text": [
            "WARNING:pykeen.utils:Using automatic batch size on device.type='cpu' can cause unexplained out-of-memory crashes. Therefore, we use a conservative small batch_size=32. Performance may be improved by explicitly specifying a larger batch size.\n",
            "WARNING:torch_max_mem.api:Encountered tensors on device_types={'cpu'} while only ['cuda'] are considered safe for automatic memory utilization maximization. This may lead to undocumented crashes (but can be safe, too).\n",
            "INFO:pykeen.evaluation.evaluator:Evaluation took 0.06s seconds\n"
          ]
        }
      ],
      "source": [
        "nations_results = pipeline(\n",
        "    dataset=\"Nations\",\n",
        "    model=\"TransE\",\n",
        "    model_kwargs=dict(embedding_dim=8),\n",
        "    optimizer_kwargs=dict(lr=1.0e-1),\n",
        "    training_kwargs=dict(num_epochs=80, use_tqdm_batch=False),\n",
        "    evaluation_kwargs=dict(use_tqdm=False),\n",
        "    random_seed=1,\n",
        "    device=\"cpu\",\n",
        ")"
      ]
    },
    {
      "cell_type": "code",
      "execution_count": 10,
      "metadata": {
        "id": "37NOzfxx8WFo",
        "outputId": "e3b0ba17-31e6-498d-d1e3-65f646d704b3",
        "colab": {
          "base_uri": "https://localhost:8080/",
          "height": 482
        }
      },
      "outputs": [
        {
          "output_type": "execute_result",
          "data": {
            "text/plain": [
              "(<Figure size 1000x400 with 2 Axes>,\n",
              " array([<Axes: title={'center': 'Losses Plot'}, xlabel='Epoch', ylabel='marginranking Loss'>,\n",
              "        <Axes: title={'center': 'Entity/Relation Plot using PCA'}>],\n",
              "       dtype=object))"
            ]
          },
          "metadata": {},
          "execution_count": 10
        },
        {
          "output_type": "display_data",
          "data": {
            "text/plain": [
              "<Figure size 1000x400 with 2 Axes>"
            ],
            "image/svg+xml": "<?xml version=\"1.0\" encoding=\"utf-8\" standalone=\"no\"?>\n<!DOCTYPE svg PUBLIC \"-//W3C//DTD SVG 1.1//EN\"\n  \"http://www.w3.org/Graphics/SVG/1.1/DTD/svg11.dtd\">\n<svg xmlns:xlink=\"http://www.w3.org/1999/xlink\" width=\"709.254482pt\" height=\"279.034375pt\" viewBox=\"0 0 709.254482 279.034375\" xmlns=\"http://www.w3.org/2000/svg\" version=\"1.1\">\n <metadata>\n  <rdf:RDF xmlns:dc=\"http://purl.org/dc/elements/1.1/\" xmlns:cc=\"http://creativecommons.org/ns#\" xmlns:rdf=\"http://www.w3.org/1999/02/22-rdf-syntax-ns#\">\n   <cc:Work>\n    <dc:type rdf:resource=\"http://purl.org/dc/dcmitype/StillImage\"/>\n    <dc:date>2024-10-26T22:31:02.330730</dc:date>\n    <dc:format>image/svg+xml</dc:format>\n    <dc:creator>\n     <cc:Agent>\n      <dc:title>Matplotlib v3.7.1, https://matplotlib.org/</dc:title>\n     </cc:Agent>\n    </dc:creator>\n   </cc:Work>\n  </rdf:RDF>\n </metadata>\n <defs>\n  <style type=\"text/css\">*{stroke-linejoin: round; stroke-linecap: butt}</style>\n </defs>\n <g id=\"figure_1\">\n  <g id=\"patch_1\">\n   <path d=\"M 0 279.034375 \nL 709.254482 279.034375 \nL 709.254482 0 \nL 0 0 \nz\n\" style=\"fill: #ffffff\"/>\n  </g>\n  <g id=\"axes_1\">\n   <g id=\"patch_2\">\n    <path d=\"M 43.78125 241.478125 \nL 337.95547 241.478125 \nL 337.95547 22.318125 \nL 43.78125 22.318125 \nz\n\" style=\"fill: #ffffff\"/>\n   </g>\n   <g id=\"matplotlib.axis_1\">\n    <g id=\"xtick_1\">\n     <g id=\"line2d_1\">\n      <path d=\"M 57.152805 241.478125 \nL 57.152805 22.318125 \n\" clip-path=\"url(#p16c4a68115)\" style=\"fill: none; stroke: #cccccc; stroke-width: 0.8; stroke-linecap: round\"/>\n     </g>\n     <g id=\"text_1\">\n      <!-- 0 -->\n      <g style=\"fill: #262626\" transform=\"translate(53.971555 256.076563) scale(0.1 -0.1)\">\n       <defs>\n        <path id=\"DejaVuSans-30\" d=\"M 2034 4250 \nQ 1547 4250 1301 3770 \nQ 1056 3291 1056 2328 \nQ 1056 1369 1301 889 \nQ 1547 409 2034 409 \nQ 2525 409 2770 889 \nQ 3016 1369 3016 2328 \nQ 3016 3291 2770 3770 \nQ 2525 4250 2034 4250 \nz\nM 2034 4750 \nQ 2819 4750 3233 4129 \nQ 3647 3509 3647 2328 \nQ 3647 1150 3233 529 \nQ 2819 -91 2034 -91 \nQ 1250 -91 836 529 \nQ 422 1150 422 2328 \nQ 422 3509 836 4129 \nQ 1250 4750 2034 4750 \nz\n\" transform=\"scale(0.015625)\"/>\n       </defs>\n       <use xlink:href=\"#DejaVuSans-30\"/>\n      </g>\n     </g>\n    </g>\n    <g id=\"xtick_2\">\n     <g id=\"line2d_2\">\n      <path d=\"M 91.004845 241.478125 \nL 91.004845 22.318125 \n\" clip-path=\"url(#p16c4a68115)\" style=\"fill: none; stroke: #cccccc; stroke-width: 0.8; stroke-linecap: round\"/>\n     </g>\n     <g id=\"text_2\">\n      <!-- 10 -->\n      <g style=\"fill: #262626\" transform=\"translate(84.642345 256.076563) scale(0.1 -0.1)\">\n       <defs>\n        <path id=\"DejaVuSans-31\" d=\"M 794 531 \nL 1825 531 \nL 1825 4091 \nL 703 3866 \nL 703 4441 \nL 1819 4666 \nL 2450 4666 \nL 2450 531 \nL 3481 531 \nL 3481 0 \nL 794 0 \nL 794 531 \nz\n\" transform=\"scale(0.015625)\"/>\n       </defs>\n       <use xlink:href=\"#DejaVuSans-31\"/>\n       <use xlink:href=\"#DejaVuSans-30\" x=\"63.623047\"/>\n      </g>\n     </g>\n    </g>\n    <g id=\"xtick_3\">\n     <g id=\"line2d_3\">\n      <path d=\"M 124.856884 241.478125 \nL 124.856884 22.318125 \n\" clip-path=\"url(#p16c4a68115)\" style=\"fill: none; stroke: #cccccc; stroke-width: 0.8; stroke-linecap: round\"/>\n     </g>\n     <g id=\"text_3\">\n      <!-- 20 -->\n      <g style=\"fill: #262626\" transform=\"translate(118.494384 256.076563) scale(0.1 -0.1)\">\n       <defs>\n        <path id=\"DejaVuSans-32\" d=\"M 1228 531 \nL 3431 531 \nL 3431 0 \nL 469 0 \nL 469 531 \nQ 828 903 1448 1529 \nQ 2069 2156 2228 2338 \nQ 2531 2678 2651 2914 \nQ 2772 3150 2772 3378 \nQ 2772 3750 2511 3984 \nQ 2250 4219 1831 4219 \nQ 1534 4219 1204 4116 \nQ 875 4013 500 3803 \nL 500 4441 \nQ 881 4594 1212 4672 \nQ 1544 4750 1819 4750 \nQ 2544 4750 2975 4387 \nQ 3406 4025 3406 3419 \nQ 3406 3131 3298 2873 \nQ 3191 2616 2906 2266 \nQ 2828 2175 2409 1742 \nQ 1991 1309 1228 531 \nz\n\" transform=\"scale(0.015625)\"/>\n       </defs>\n       <use xlink:href=\"#DejaVuSans-32\"/>\n       <use xlink:href=\"#DejaVuSans-30\" x=\"63.623047\"/>\n      </g>\n     </g>\n    </g>\n    <g id=\"xtick_4\">\n     <g id=\"line2d_4\">\n      <path d=\"M 158.708923 241.478125 \nL 158.708923 22.318125 \n\" clip-path=\"url(#p16c4a68115)\" style=\"fill: none; stroke: #cccccc; stroke-width: 0.8; stroke-linecap: round\"/>\n     </g>\n     <g id=\"text_4\">\n      <!-- 30 -->\n      <g style=\"fill: #262626\" transform=\"translate(152.346423 256.076563) scale(0.1 -0.1)\">\n       <defs>\n        <path id=\"DejaVuSans-33\" d=\"M 2597 2516 \nQ 3050 2419 3304 2112 \nQ 3559 1806 3559 1356 \nQ 3559 666 3084 287 \nQ 2609 -91 1734 -91 \nQ 1441 -91 1130 -33 \nQ 819 25 488 141 \nL 488 750 \nQ 750 597 1062 519 \nQ 1375 441 1716 441 \nQ 2309 441 2620 675 \nQ 2931 909 2931 1356 \nQ 2931 1769 2642 2001 \nQ 2353 2234 1838 2234 \nL 1294 2234 \nL 1294 2753 \nL 1863 2753 \nQ 2328 2753 2575 2939 \nQ 2822 3125 2822 3475 \nQ 2822 3834 2567 4026 \nQ 2313 4219 1838 4219 \nQ 1578 4219 1281 4162 \nQ 984 4106 628 3988 \nL 628 4550 \nQ 988 4650 1302 4700 \nQ 1616 4750 1894 4750 \nQ 2613 4750 3031 4423 \nQ 3450 4097 3450 3541 \nQ 3450 3153 3228 2886 \nQ 3006 2619 2597 2516 \nz\n\" transform=\"scale(0.015625)\"/>\n       </defs>\n       <use xlink:href=\"#DejaVuSans-33\"/>\n       <use xlink:href=\"#DejaVuSans-30\" x=\"63.623047\"/>\n      </g>\n     </g>\n    </g>\n    <g id=\"xtick_5\">\n     <g id=\"line2d_5\">\n      <path d=\"M 192.560962 241.478125 \nL 192.560962 22.318125 \n\" clip-path=\"url(#p16c4a68115)\" style=\"fill: none; stroke: #cccccc; stroke-width: 0.8; stroke-linecap: round\"/>\n     </g>\n     <g id=\"text_5\">\n      <!-- 40 -->\n      <g style=\"fill: #262626\" transform=\"translate(186.198462 256.076563) scale(0.1 -0.1)\">\n       <defs>\n        <path id=\"DejaVuSans-34\" d=\"M 2419 4116 \nL 825 1625 \nL 2419 1625 \nL 2419 4116 \nz\nM 2253 4666 \nL 3047 4666 \nL 3047 1625 \nL 3713 1625 \nL 3713 1100 \nL 3047 1100 \nL 3047 0 \nL 2419 0 \nL 2419 1100 \nL 313 1100 \nL 313 1709 \nL 2253 4666 \nz\n\" transform=\"scale(0.015625)\"/>\n       </defs>\n       <use xlink:href=\"#DejaVuSans-34\"/>\n       <use xlink:href=\"#DejaVuSans-30\" x=\"63.623047\"/>\n      </g>\n     </g>\n    </g>\n    <g id=\"xtick_6\">\n     <g id=\"line2d_6\">\n      <path d=\"M 226.413001 241.478125 \nL 226.413001 22.318125 \n\" clip-path=\"url(#p16c4a68115)\" style=\"fill: none; stroke: #cccccc; stroke-width: 0.8; stroke-linecap: round\"/>\n     </g>\n     <g id=\"text_6\">\n      <!-- 50 -->\n      <g style=\"fill: #262626\" transform=\"translate(220.050501 256.076563) scale(0.1 -0.1)\">\n       <defs>\n        <path id=\"DejaVuSans-35\" d=\"M 691 4666 \nL 3169 4666 \nL 3169 4134 \nL 1269 4134 \nL 1269 2991 \nQ 1406 3038 1543 3061 \nQ 1681 3084 1819 3084 \nQ 2600 3084 3056 2656 \nQ 3513 2228 3513 1497 \nQ 3513 744 3044 326 \nQ 2575 -91 1722 -91 \nQ 1428 -91 1123 -41 \nQ 819 9 494 109 \nL 494 744 \nQ 775 591 1075 516 \nQ 1375 441 1709 441 \nQ 2250 441 2565 725 \nQ 2881 1009 2881 1497 \nQ 2881 1984 2565 2268 \nQ 2250 2553 1709 2553 \nQ 1456 2553 1204 2497 \nQ 953 2441 691 2322 \nL 691 4666 \nz\n\" transform=\"scale(0.015625)\"/>\n       </defs>\n       <use xlink:href=\"#DejaVuSans-35\"/>\n       <use xlink:href=\"#DejaVuSans-30\" x=\"63.623047\"/>\n      </g>\n     </g>\n    </g>\n    <g id=\"xtick_7\">\n     <g id=\"line2d_7\">\n      <path d=\"M 260.26504 241.478125 \nL 260.26504 22.318125 \n\" clip-path=\"url(#p16c4a68115)\" style=\"fill: none; stroke: #cccccc; stroke-width: 0.8; stroke-linecap: round\"/>\n     </g>\n     <g id=\"text_7\">\n      <!-- 60 -->\n      <g style=\"fill: #262626\" transform=\"translate(253.90254 256.076563) scale(0.1 -0.1)\">\n       <defs>\n        <path id=\"DejaVuSans-36\" d=\"M 2113 2584 \nQ 1688 2584 1439 2293 \nQ 1191 2003 1191 1497 \nQ 1191 994 1439 701 \nQ 1688 409 2113 409 \nQ 2538 409 2786 701 \nQ 3034 994 3034 1497 \nQ 3034 2003 2786 2293 \nQ 2538 2584 2113 2584 \nz\nM 3366 4563 \nL 3366 3988 \nQ 3128 4100 2886 4159 \nQ 2644 4219 2406 4219 \nQ 1781 4219 1451 3797 \nQ 1122 3375 1075 2522 \nQ 1259 2794 1537 2939 \nQ 1816 3084 2150 3084 \nQ 2853 3084 3261 2657 \nQ 3669 2231 3669 1497 \nQ 3669 778 3244 343 \nQ 2819 -91 2113 -91 \nQ 1303 -91 875 529 \nQ 447 1150 447 2328 \nQ 447 3434 972 4092 \nQ 1497 4750 2381 4750 \nQ 2619 4750 2861 4703 \nQ 3103 4656 3366 4563 \nz\n\" transform=\"scale(0.015625)\"/>\n       </defs>\n       <use xlink:href=\"#DejaVuSans-36\"/>\n       <use xlink:href=\"#DejaVuSans-30\" x=\"63.623047\"/>\n      </g>\n     </g>\n    </g>\n    <g id=\"xtick_8\">\n     <g id=\"line2d_8\">\n      <path d=\"M 294.117079 241.478125 \nL 294.117079 22.318125 \n\" clip-path=\"url(#p16c4a68115)\" style=\"fill: none; stroke: #cccccc; stroke-width: 0.8; stroke-linecap: round\"/>\n     </g>\n     <g id=\"text_8\">\n      <!-- 70 -->\n      <g style=\"fill: #262626\" transform=\"translate(287.754579 256.076563) scale(0.1 -0.1)\">\n       <defs>\n        <path id=\"DejaVuSans-37\" d=\"M 525 4666 \nL 3525 4666 \nL 3525 4397 \nL 1831 0 \nL 1172 0 \nL 2766 4134 \nL 525 4134 \nL 525 4666 \nz\n\" transform=\"scale(0.015625)\"/>\n       </defs>\n       <use xlink:href=\"#DejaVuSans-37\"/>\n       <use xlink:href=\"#DejaVuSans-30\" x=\"63.623047\"/>\n      </g>\n     </g>\n    </g>\n    <g id=\"xtick_9\">\n     <g id=\"line2d_9\">\n      <path d=\"M 327.969118 241.478125 \nL 327.969118 22.318125 \n\" clip-path=\"url(#p16c4a68115)\" style=\"fill: none; stroke: #cccccc; stroke-width: 0.8; stroke-linecap: round\"/>\n     </g>\n     <g id=\"text_9\">\n      <!-- 80 -->\n      <g style=\"fill: #262626\" transform=\"translate(321.606618 256.076563) scale(0.1 -0.1)\">\n       <defs>\n        <path id=\"DejaVuSans-38\" d=\"M 2034 2216 \nQ 1584 2216 1326 1975 \nQ 1069 1734 1069 1313 \nQ 1069 891 1326 650 \nQ 1584 409 2034 409 \nQ 2484 409 2743 651 \nQ 3003 894 3003 1313 \nQ 3003 1734 2745 1975 \nQ 2488 2216 2034 2216 \nz\nM 1403 2484 \nQ 997 2584 770 2862 \nQ 544 3141 544 3541 \nQ 544 4100 942 4425 \nQ 1341 4750 2034 4750 \nQ 2731 4750 3128 4425 \nQ 3525 4100 3525 3541 \nQ 3525 3141 3298 2862 \nQ 3072 2584 2669 2484 \nQ 3125 2378 3379 2068 \nQ 3634 1759 3634 1313 \nQ 3634 634 3220 271 \nQ 2806 -91 2034 -91 \nQ 1263 -91 848 271 \nQ 434 634 434 1313 \nQ 434 1759 690 2068 \nQ 947 2378 1403 2484 \nz\nM 1172 3481 \nQ 1172 3119 1398 2916 \nQ 1625 2713 2034 2713 \nQ 2441 2713 2670 2916 \nQ 2900 3119 2900 3481 \nQ 2900 3844 2670 4047 \nQ 2441 4250 2034 4250 \nQ 1625 4250 1398 4047 \nQ 1172 3844 1172 3481 \nz\n\" transform=\"scale(0.015625)\"/>\n       </defs>\n       <use xlink:href=\"#DejaVuSans-38\"/>\n       <use xlink:href=\"#DejaVuSans-30\" x=\"63.623047\"/>\n      </g>\n     </g>\n    </g>\n    <g id=\"text_10\">\n     <!-- Epoch -->\n     <g style=\"fill: #262626\" transform=\"translate(175.557422 269.754687) scale(0.1 -0.1)\">\n      <defs>\n       <path id=\"DejaVuSans-45\" d=\"M 628 4666 \nL 3578 4666 \nL 3578 4134 \nL 1259 4134 \nL 1259 2753 \nL 3481 2753 \nL 3481 2222 \nL 1259 2222 \nL 1259 531 \nL 3634 531 \nL 3634 0 \nL 628 0 \nL 628 4666 \nz\n\" transform=\"scale(0.015625)\"/>\n       <path id=\"DejaVuSans-70\" d=\"M 1159 525 \nL 1159 -1331 \nL 581 -1331 \nL 581 3500 \nL 1159 3500 \nL 1159 2969 \nQ 1341 3281 1617 3432 \nQ 1894 3584 2278 3584 \nQ 2916 3584 3314 3078 \nQ 3713 2572 3713 1747 \nQ 3713 922 3314 415 \nQ 2916 -91 2278 -91 \nQ 1894 -91 1617 61 \nQ 1341 213 1159 525 \nz\nM 3116 1747 \nQ 3116 2381 2855 2742 \nQ 2594 3103 2138 3103 \nQ 1681 3103 1420 2742 \nQ 1159 2381 1159 1747 \nQ 1159 1113 1420 752 \nQ 1681 391 2138 391 \nQ 2594 391 2855 752 \nQ 3116 1113 3116 1747 \nz\n\" transform=\"scale(0.015625)\"/>\n       <path id=\"DejaVuSans-6f\" d=\"M 1959 3097 \nQ 1497 3097 1228 2736 \nQ 959 2375 959 1747 \nQ 959 1119 1226 758 \nQ 1494 397 1959 397 \nQ 2419 397 2687 759 \nQ 2956 1122 2956 1747 \nQ 2956 2369 2687 2733 \nQ 2419 3097 1959 3097 \nz\nM 1959 3584 \nQ 2709 3584 3137 3096 \nQ 3566 2609 3566 1747 \nQ 3566 888 3137 398 \nQ 2709 -91 1959 -91 \nQ 1206 -91 779 398 \nQ 353 888 353 1747 \nQ 353 2609 779 3096 \nQ 1206 3584 1959 3584 \nz\n\" transform=\"scale(0.015625)\"/>\n       <path id=\"DejaVuSans-63\" d=\"M 3122 3366 \nL 3122 2828 \nQ 2878 2963 2633 3030 \nQ 2388 3097 2138 3097 \nQ 1578 3097 1268 2742 \nQ 959 2388 959 1747 \nQ 959 1106 1268 751 \nQ 1578 397 2138 397 \nQ 2388 397 2633 464 \nQ 2878 531 3122 666 \nL 3122 134 \nQ 2881 22 2623 -34 \nQ 2366 -91 2075 -91 \nQ 1284 -91 818 406 \nQ 353 903 353 1747 \nQ 353 2603 823 3093 \nQ 1294 3584 2113 3584 \nQ 2378 3584 2631 3529 \nQ 2884 3475 3122 3366 \nz\n\" transform=\"scale(0.015625)\"/>\n       <path id=\"DejaVuSans-68\" d=\"M 3513 2113 \nL 3513 0 \nL 2938 0 \nL 2938 2094 \nQ 2938 2591 2744 2837 \nQ 2550 3084 2163 3084 \nQ 1697 3084 1428 2787 \nQ 1159 2491 1159 1978 \nL 1159 0 \nL 581 0 \nL 581 4863 \nL 1159 4863 \nL 1159 2956 \nQ 1366 3272 1645 3428 \nQ 1925 3584 2291 3584 \nQ 2894 3584 3203 3211 \nQ 3513 2838 3513 2113 \nz\n\" transform=\"scale(0.015625)\"/>\n      </defs>\n      <use xlink:href=\"#DejaVuSans-45\"/>\n      <use xlink:href=\"#DejaVuSans-70\" x=\"63.183594\"/>\n      <use xlink:href=\"#DejaVuSans-6f\" x=\"126.660156\"/>\n      <use xlink:href=\"#DejaVuSans-63\" x=\"187.841797\"/>\n      <use xlink:href=\"#DejaVuSans-68\" x=\"242.822266\"/>\n     </g>\n    </g>\n   </g>\n   <g id=\"matplotlib.axis_2\">\n    <g id=\"ytick_1\">\n     <g id=\"line2d_10\">\n      <path d=\"M 43.78125 197.98893 \nL 337.95547 197.98893 \n\" clip-path=\"url(#p16c4a68115)\" style=\"fill: none; stroke: #cccccc; stroke-width: 0.8; stroke-linecap: round\"/>\n     </g>\n     <g id=\"text_11\">\n      <!-- 0.9 -->\n      <g style=\"fill: #262626\" transform=\"translate(20.878125 201.788149) scale(0.1 -0.1)\">\n       <defs>\n        <path id=\"DejaVuSans-2e\" d=\"M 684 794 \nL 1344 794 \nL 1344 0 \nL 684 0 \nL 684 794 \nz\n\" transform=\"scale(0.015625)\"/>\n        <path id=\"DejaVuSans-39\" d=\"M 703 97 \nL 703 672 \nQ 941 559 1184 500 \nQ 1428 441 1663 441 \nQ 2288 441 2617 861 \nQ 2947 1281 2994 2138 \nQ 2813 1869 2534 1725 \nQ 2256 1581 1919 1581 \nQ 1219 1581 811 2004 \nQ 403 2428 403 3163 \nQ 403 3881 828 4315 \nQ 1253 4750 1959 4750 \nQ 2769 4750 3195 4129 \nQ 3622 3509 3622 2328 \nQ 3622 1225 3098 567 \nQ 2575 -91 1691 -91 \nQ 1453 -91 1209 -44 \nQ 966 3 703 97 \nz\nM 1959 2075 \nQ 2384 2075 2632 2365 \nQ 2881 2656 2881 3163 \nQ 2881 3666 2632 3958 \nQ 2384 4250 1959 4250 \nQ 1534 4250 1286 3958 \nQ 1038 3666 1038 3163 \nQ 1038 2656 1286 2365 \nQ 1534 2075 1959 2075 \nz\n\" transform=\"scale(0.015625)\"/>\n       </defs>\n       <use xlink:href=\"#DejaVuSans-30\"/>\n       <use xlink:href=\"#DejaVuSans-2e\" x=\"63.623047\"/>\n       <use xlink:href=\"#DejaVuSans-39\" x=\"95.410156\"/>\n      </g>\n     </g>\n    </g>\n    <g id=\"ytick_2\">\n     <g id=\"line2d_11\">\n      <path d=\"M 43.78125 154.22478 \nL 337.95547 154.22478 \n\" clip-path=\"url(#p16c4a68115)\" style=\"fill: none; stroke: #cccccc; stroke-width: 0.8; stroke-linecap: round\"/>\n     </g>\n     <g id=\"text_12\">\n      <!-- 1.0 -->\n      <g style=\"fill: #262626\" transform=\"translate(20.878125 158.023999) scale(0.1 -0.1)\">\n       <use xlink:href=\"#DejaVuSans-31\"/>\n       <use xlink:href=\"#DejaVuSans-2e\" x=\"63.623047\"/>\n       <use xlink:href=\"#DejaVuSans-30\" x=\"95.410156\"/>\n      </g>\n     </g>\n    </g>\n    <g id=\"ytick_3\">\n     <g id=\"line2d_12\">\n      <path d=\"M 43.78125 110.46063 \nL 337.95547 110.46063 \n\" clip-path=\"url(#p16c4a68115)\" style=\"fill: none; stroke: #cccccc; stroke-width: 0.8; stroke-linecap: round\"/>\n     </g>\n     <g id=\"text_13\">\n      <!-- 1.1 -->\n      <g style=\"fill: #262626\" transform=\"translate(20.878125 114.259849) scale(0.1 -0.1)\">\n       <use xlink:href=\"#DejaVuSans-31\"/>\n       <use xlink:href=\"#DejaVuSans-2e\" x=\"63.623047\"/>\n       <use xlink:href=\"#DejaVuSans-31\" x=\"95.410156\"/>\n      </g>\n     </g>\n    </g>\n    <g id=\"ytick_4\">\n     <g id=\"line2d_13\">\n      <path d=\"M 43.78125 66.69648 \nL 337.95547 66.69648 \n\" clip-path=\"url(#p16c4a68115)\" style=\"fill: none; stroke: #cccccc; stroke-width: 0.8; stroke-linecap: round\"/>\n     </g>\n     <g id=\"text_14\">\n      <!-- 1.2 -->\n      <g style=\"fill: #262626\" transform=\"translate(20.878125 70.495698) scale(0.1 -0.1)\">\n       <use xlink:href=\"#DejaVuSans-31\"/>\n       <use xlink:href=\"#DejaVuSans-2e\" x=\"63.623047\"/>\n       <use xlink:href=\"#DejaVuSans-32\" x=\"95.410156\"/>\n      </g>\n     </g>\n    </g>\n    <g id=\"ytick_5\">\n     <g id=\"line2d_14\">\n      <path d=\"M 43.78125 22.93233 \nL 337.95547 22.93233 \n\" clip-path=\"url(#p16c4a68115)\" style=\"fill: none; stroke: #cccccc; stroke-width: 0.8; stroke-linecap: round\"/>\n     </g>\n     <g id=\"text_15\">\n      <!-- 1.3 -->\n      <g style=\"fill: #262626\" transform=\"translate(20.878125 26.731548) scale(0.1 -0.1)\">\n       <use xlink:href=\"#DejaVuSans-31\"/>\n       <use xlink:href=\"#DejaVuSans-2e\" x=\"63.623047\"/>\n       <use xlink:href=\"#DejaVuSans-33\" x=\"95.410156\"/>\n      </g>\n     </g>\n    </g>\n    <g id=\"text_16\">\n     <!-- marginranking Loss -->\n     <g style=\"fill: #262626\" transform=\"translate(14.798438 181.004375) rotate(-90) scale(0.1 -0.1)\">\n      <defs>\n       <path id=\"DejaVuSans-6d\" d=\"M 3328 2828 \nQ 3544 3216 3844 3400 \nQ 4144 3584 4550 3584 \nQ 5097 3584 5394 3201 \nQ 5691 2819 5691 2113 \nL 5691 0 \nL 5113 0 \nL 5113 2094 \nQ 5113 2597 4934 2840 \nQ 4756 3084 4391 3084 \nQ 3944 3084 3684 2787 \nQ 3425 2491 3425 1978 \nL 3425 0 \nL 2847 0 \nL 2847 2094 \nQ 2847 2600 2669 2842 \nQ 2491 3084 2119 3084 \nQ 1678 3084 1418 2786 \nQ 1159 2488 1159 1978 \nL 1159 0 \nL 581 0 \nL 581 3500 \nL 1159 3500 \nL 1159 2956 \nQ 1356 3278 1631 3431 \nQ 1906 3584 2284 3584 \nQ 2666 3584 2933 3390 \nQ 3200 3197 3328 2828 \nz\n\" transform=\"scale(0.015625)\"/>\n       <path id=\"DejaVuSans-61\" d=\"M 2194 1759 \nQ 1497 1759 1228 1600 \nQ 959 1441 959 1056 \nQ 959 750 1161 570 \nQ 1363 391 1709 391 \nQ 2188 391 2477 730 \nQ 2766 1069 2766 1631 \nL 2766 1759 \nL 2194 1759 \nz\nM 3341 1997 \nL 3341 0 \nL 2766 0 \nL 2766 531 \nQ 2569 213 2275 61 \nQ 1981 -91 1556 -91 \nQ 1019 -91 701 211 \nQ 384 513 384 1019 \nQ 384 1609 779 1909 \nQ 1175 2209 1959 2209 \nL 2766 2209 \nL 2766 2266 \nQ 2766 2663 2505 2880 \nQ 2244 3097 1772 3097 \nQ 1472 3097 1187 3025 \nQ 903 2953 641 2809 \nL 641 3341 \nQ 956 3463 1253 3523 \nQ 1550 3584 1831 3584 \nQ 2591 3584 2966 3190 \nQ 3341 2797 3341 1997 \nz\n\" transform=\"scale(0.015625)\"/>\n       <path id=\"DejaVuSans-72\" d=\"M 2631 2963 \nQ 2534 3019 2420 3045 \nQ 2306 3072 2169 3072 \nQ 1681 3072 1420 2755 \nQ 1159 2438 1159 1844 \nL 1159 0 \nL 581 0 \nL 581 3500 \nL 1159 3500 \nL 1159 2956 \nQ 1341 3275 1631 3429 \nQ 1922 3584 2338 3584 \nQ 2397 3584 2469 3576 \nQ 2541 3569 2628 3553 \nL 2631 2963 \nz\n\" transform=\"scale(0.015625)\"/>\n       <path id=\"DejaVuSans-67\" d=\"M 2906 1791 \nQ 2906 2416 2648 2759 \nQ 2391 3103 1925 3103 \nQ 1463 3103 1205 2759 \nQ 947 2416 947 1791 \nQ 947 1169 1205 825 \nQ 1463 481 1925 481 \nQ 2391 481 2648 825 \nQ 2906 1169 2906 1791 \nz\nM 3481 434 \nQ 3481 -459 3084 -895 \nQ 2688 -1331 1869 -1331 \nQ 1566 -1331 1297 -1286 \nQ 1028 -1241 775 -1147 \nL 775 -588 \nQ 1028 -725 1275 -790 \nQ 1522 -856 1778 -856 \nQ 2344 -856 2625 -561 \nQ 2906 -266 2906 331 \nL 2906 616 \nQ 2728 306 2450 153 \nQ 2172 0 1784 0 \nQ 1141 0 747 490 \nQ 353 981 353 1791 \nQ 353 2603 747 3093 \nQ 1141 3584 1784 3584 \nQ 2172 3584 2450 3431 \nQ 2728 3278 2906 2969 \nL 2906 3500 \nL 3481 3500 \nL 3481 434 \nz\n\" transform=\"scale(0.015625)\"/>\n       <path id=\"DejaVuSans-69\" d=\"M 603 3500 \nL 1178 3500 \nL 1178 0 \nL 603 0 \nL 603 3500 \nz\nM 603 4863 \nL 1178 4863 \nL 1178 4134 \nL 603 4134 \nL 603 4863 \nz\n\" transform=\"scale(0.015625)\"/>\n       <path id=\"DejaVuSans-6e\" d=\"M 3513 2113 \nL 3513 0 \nL 2938 0 \nL 2938 2094 \nQ 2938 2591 2744 2837 \nQ 2550 3084 2163 3084 \nQ 1697 3084 1428 2787 \nQ 1159 2491 1159 1978 \nL 1159 0 \nL 581 0 \nL 581 3500 \nL 1159 3500 \nL 1159 2956 \nQ 1366 3272 1645 3428 \nQ 1925 3584 2291 3584 \nQ 2894 3584 3203 3211 \nQ 3513 2838 3513 2113 \nz\n\" transform=\"scale(0.015625)\"/>\n       <path id=\"DejaVuSans-6b\" d=\"M 581 4863 \nL 1159 4863 \nL 1159 1991 \nL 2875 3500 \nL 3609 3500 \nL 1753 1863 \nL 3688 0 \nL 2938 0 \nL 1159 1709 \nL 1159 0 \nL 581 0 \nL 581 4863 \nz\n\" transform=\"scale(0.015625)\"/>\n       <path id=\"DejaVuSans-20\" transform=\"scale(0.015625)\"/>\n       <path id=\"DejaVuSans-4c\" d=\"M 628 4666 \nL 1259 4666 \nL 1259 531 \nL 3531 531 \nL 3531 0 \nL 628 0 \nL 628 4666 \nz\n\" transform=\"scale(0.015625)\"/>\n       <path id=\"DejaVuSans-73\" d=\"M 2834 3397 \nL 2834 2853 \nQ 2591 2978 2328 3040 \nQ 2066 3103 1784 3103 \nQ 1356 3103 1142 2972 \nQ 928 2841 928 2578 \nQ 928 2378 1081 2264 \nQ 1234 2150 1697 2047 \nL 1894 2003 \nQ 2506 1872 2764 1633 \nQ 3022 1394 3022 966 \nQ 3022 478 2636 193 \nQ 2250 -91 1575 -91 \nQ 1294 -91 989 -36 \nQ 684 19 347 128 \nL 347 722 \nQ 666 556 975 473 \nQ 1284 391 1588 391 \nQ 1994 391 2212 530 \nQ 2431 669 2431 922 \nQ 2431 1156 2273 1281 \nQ 2116 1406 1581 1522 \nL 1381 1569 \nQ 847 1681 609 1914 \nQ 372 2147 372 2553 \nQ 372 3047 722 3315 \nQ 1072 3584 1716 3584 \nQ 2034 3584 2315 3537 \nQ 2597 3491 2834 3397 \nz\n\" transform=\"scale(0.015625)\"/>\n      </defs>\n      <use xlink:href=\"#DejaVuSans-6d\"/>\n      <use xlink:href=\"#DejaVuSans-61\" x=\"97.412109\"/>\n      <use xlink:href=\"#DejaVuSans-72\" x=\"158.691406\"/>\n      <use xlink:href=\"#DejaVuSans-67\" x=\"198.054688\"/>\n      <use xlink:href=\"#DejaVuSans-69\" x=\"261.53125\"/>\n      <use xlink:href=\"#DejaVuSans-6e\" x=\"289.314453\"/>\n      <use xlink:href=\"#DejaVuSans-72\" x=\"352.693359\"/>\n      <use xlink:href=\"#DejaVuSans-61\" x=\"393.806641\"/>\n      <use xlink:href=\"#DejaVuSans-6e\" x=\"455.085938\"/>\n      <use xlink:href=\"#DejaVuSans-6b\" x=\"518.464844\"/>\n      <use xlink:href=\"#DejaVuSans-69\" x=\"576.375\"/>\n      <use xlink:href=\"#DejaVuSans-6e\" x=\"604.158203\"/>\n      <use xlink:href=\"#DejaVuSans-67\" x=\"667.537109\"/>\n      <use xlink:href=\"#DejaVuSans-20\" x=\"731.013672\"/>\n      <use xlink:href=\"#DejaVuSans-4c\" x=\"762.800781\"/>\n      <use xlink:href=\"#DejaVuSans-6f\" x=\"816.763672\"/>\n      <use xlink:href=\"#DejaVuSans-73\" x=\"877.945312\"/>\n      <use xlink:href=\"#DejaVuSans-73\" x=\"930.044922\"/>\n     </g>\n    </g>\n   </g>\n   <g id=\"PolyCollection_1\"/>\n   <g id=\"line2d_15\">\n    <path d=\"M 57.152805 32.279943 \nL 60.538009 114.391856 \nL 63.923213 127.409114 \nL 67.308417 163.21518 \nL 70.693621 183.110335 \nL 74.078825 175.776186 \nL 77.464029 187.338438 \nL 80.849233 204.835078 \nL 84.234437 193.436482 \nL 87.619641 196.898639 \nL 91.004845 201.859647 \nL 94.390048 198.707543 \nL 97.775252 186.456045 \nL 101.160456 206.022761 \nL 104.54566 200.145109 \nL 107.930864 212.811544 \nL 111.316068 214.465497 \nL 114.701272 202.957752 \nL 118.086476 206.547269 \nL 121.47168 203.921837 \nL 124.856884 181.985339 \nL 128.242088 209.463136 \nL 131.627291 208.607096 \nL 135.012495 219.212508 \nL 138.397699 208.957607 \nL 141.782903 216.496795 \nL 145.168107 203.85953 \nL 148.553311 231.516307 \nL 151.938515 214.42281 \nL 155.323719 222.537592 \nL 158.708923 221.122549 \nL 162.094127 194.702149 \nL 165.479331 231.039934 \nL 168.864534 216.133156 \nL 172.249738 210.783463 \nL 175.634942 210.65561 \nL 179.020146 221.158595 \nL 182.40535 225.432285 \nL 185.790554 203.964957 \nL 189.175758 218.762124 \nL 192.560962 198.305979 \nL 195.946166 211.024414 \nL 199.33137 215.970606 \nL 202.716574 206.998234 \nL 206.101777 211.434288 \nL 209.486981 216.077419 \nL 212.872185 218.722369 \nL 216.257389 212.050467 \nL 219.642593 200.563427 \nL 223.027797 220.302709 \nL 226.413001 203.457151 \nL 229.798205 214.959351 \nL 233.183409 222.464829 \nL 236.568613 215.805735 \nL 239.953817 206.970863 \nL 243.33902 206.86215 \nL 246.724224 219.806206 \nL 250.109428 216.423372 \nL 253.494632 208.076522 \nL 256.879836 197.002735 \nL 260.26504 212.163775 \nL 263.650244 213.265882 \nL 267.035448 215.277053 \nL 270.420652 215.864032 \nL 273.805856 220.768588 \nL 277.19106 209.562108 \nL 280.576263 231.482977 \nL 283.961467 221.884081 \nL 287.346671 226.955263 \nL 290.731875 213.118201 \nL 294.117079 223.782678 \nL 297.502283 219.558979 \nL 300.887487 204.801715 \nL 304.272691 216.896663 \nL 307.657895 212.3876 \nL 311.043099 198.938802 \nL 314.428303 216.278605 \nL 317.813506 217.502967 \nL 321.19871 205.841966 \nL 324.583914 224.967446 \n\" clip-path=\"url(#p16c4a68115)\" style=\"fill: none; stroke: #1f77b4; stroke-width: 1.5; stroke-linecap: round\"/>\n   </g>\n   <g id=\"patch_3\">\n    <path d=\"M 43.78125 241.478125 \nL 43.78125 22.318125 \n\" style=\"fill: none; stroke: #cccccc; stroke-width: 0.8; stroke-linejoin: miter; stroke-linecap: square\"/>\n   </g>\n   <g id=\"patch_4\">\n    <path d=\"M 337.95547 241.478125 \nL 337.95547 22.318125 \n\" style=\"fill: none; stroke: #cccccc; stroke-width: 0.8; stroke-linejoin: miter; stroke-linecap: square\"/>\n   </g>\n   <g id=\"patch_5\">\n    <path d=\"M 43.78125 241.478125 \nL 337.95547 241.478125 \n\" style=\"fill: none; stroke: #cccccc; stroke-width: 0.8; stroke-linejoin: miter; stroke-linecap: square\"/>\n   </g>\n   <g id=\"patch_6\">\n    <path d=\"M 43.78125 22.318125 \nL 337.95547 22.318125 \n\" style=\"fill: none; stroke: #cccccc; stroke-width: 0.8; stroke-linejoin: miter; stroke-linecap: square\"/>\n   </g>\n   <g id=\"text_17\">\n    <!-- Losses Plot -->\n    <g style=\"fill: #262626\" transform=\"translate(157.675235 16.318125) scale(0.12 -0.12)\">\n     <defs>\n      <path id=\"DejaVuSans-65\" d=\"M 3597 1894 \nL 3597 1613 \nL 953 1613 \nQ 991 1019 1311 708 \nQ 1631 397 2203 397 \nQ 2534 397 2845 478 \nQ 3156 559 3463 722 \nL 3463 178 \nQ 3153 47 2828 -22 \nQ 2503 -91 2169 -91 \nQ 1331 -91 842 396 \nQ 353 884 353 1716 \nQ 353 2575 817 3079 \nQ 1281 3584 2069 3584 \nQ 2775 3584 3186 3129 \nQ 3597 2675 3597 1894 \nz\nM 3022 2063 \nQ 3016 2534 2758 2815 \nQ 2500 3097 2075 3097 \nQ 1594 3097 1305 2825 \nQ 1016 2553 972 2059 \nL 3022 2063 \nz\n\" transform=\"scale(0.015625)\"/>\n      <path id=\"DejaVuSans-50\" d=\"M 1259 4147 \nL 1259 2394 \nL 2053 2394 \nQ 2494 2394 2734 2622 \nQ 2975 2850 2975 3272 \nQ 2975 3691 2734 3919 \nQ 2494 4147 2053 4147 \nL 1259 4147 \nz\nM 628 4666 \nL 2053 4666 \nQ 2838 4666 3239 4311 \nQ 3641 3956 3641 3272 \nQ 3641 2581 3239 2228 \nQ 2838 1875 2053 1875 \nL 1259 1875 \nL 1259 0 \nL 628 0 \nL 628 4666 \nz\n\" transform=\"scale(0.015625)\"/>\n      <path id=\"DejaVuSans-6c\" d=\"M 603 4863 \nL 1178 4863 \nL 1178 0 \nL 603 0 \nL 603 4863 \nz\n\" transform=\"scale(0.015625)\"/>\n      <path id=\"DejaVuSans-74\" d=\"M 1172 4494 \nL 1172 3500 \nL 2356 3500 \nL 2356 3053 \nL 1172 3053 \nL 1172 1153 \nQ 1172 725 1289 603 \nQ 1406 481 1766 481 \nL 2356 481 \nL 2356 0 \nL 1766 0 \nQ 1100 0 847 248 \nQ 594 497 594 1153 \nL 594 3053 \nL 172 3053 \nL 172 3500 \nL 594 3500 \nL 594 4494 \nL 1172 4494 \nz\n\" transform=\"scale(0.015625)\"/>\n     </defs>\n     <use xlink:href=\"#DejaVuSans-4c\"/>\n     <use xlink:href=\"#DejaVuSans-6f\" x=\"53.962891\"/>\n     <use xlink:href=\"#DejaVuSans-73\" x=\"115.144531\"/>\n     <use xlink:href=\"#DejaVuSans-73\" x=\"167.244141\"/>\n     <use xlink:href=\"#DejaVuSans-65\" x=\"219.34375\"/>\n     <use xlink:href=\"#DejaVuSans-73\" x=\"280.867188\"/>\n     <use xlink:href=\"#DejaVuSans-20\" x=\"332.966797\"/>\n     <use xlink:href=\"#DejaVuSans-50\" x=\"364.753906\"/>\n     <use xlink:href=\"#DejaVuSans-6c\" x=\"425.056641\"/>\n     <use xlink:href=\"#DejaVuSans-6f\" x=\"452.839844\"/>\n     <use xlink:href=\"#DejaVuSans-74\" x=\"514.021484\"/>\n    </g>\n   </g>\n  </g>\n  <g id=\"axes_2\">\n   <g id=\"patch_7\">\n    <path d=\"M 370.51547 241.478125 \nL 664.689689 241.478125 \nL 664.689689 22.318125 \nL 370.51547 22.318125 \nz\n\" style=\"fill: #ffffff\"/>\n   </g>\n   <g id=\"matplotlib.axis_3\">\n    <g id=\"xtick_10\">\n     <g id=\"line2d_16\">\n      <path d=\"M 381.12981 241.478125 \nL 381.12981 22.318125 \n\" clip-path=\"url(#pbc6ce44246)\" style=\"fill: none; stroke: #cccccc; stroke-width: 0.8; stroke-linecap: round\"/>\n     </g>\n     <g id=\"text_18\">\n      <!-- −2 -->\n      <g style=\"fill: #262626\" transform=\"translate(373.758717 256.076563) scale(0.1 -0.1)\">\n       <defs>\n        <path id=\"DejaVuSans-2212\" d=\"M 678 2272 \nL 4684 2272 \nL 4684 1741 \nL 678 1741 \nL 678 2272 \nz\n\" transform=\"scale(0.015625)\"/>\n       </defs>\n       <use xlink:href=\"#DejaVuSans-2212\"/>\n       <use xlink:href=\"#DejaVuSans-32\" x=\"83.789062\"/>\n      </g>\n     </g>\n    </g>\n    <g id=\"xtick_11\">\n     <g id=\"line2d_17\">\n      <path d=\"M 438.048119 241.478125 \nL 438.048119 22.318125 \n\" clip-path=\"url(#pbc6ce44246)\" style=\"fill: none; stroke: #cccccc; stroke-width: 0.8; stroke-linecap: round\"/>\n     </g>\n     <g id=\"text_19\">\n      <!-- −1 -->\n      <g style=\"fill: #262626\" transform=\"translate(430.677026 256.076563) scale(0.1 -0.1)\">\n       <use xlink:href=\"#DejaVuSans-2212\"/>\n       <use xlink:href=\"#DejaVuSans-31\" x=\"83.789062\"/>\n      </g>\n     </g>\n    </g>\n    <g id=\"xtick_12\">\n     <g id=\"line2d_18\">\n      <path d=\"M 494.966429 241.478125 \nL 494.966429 22.318125 \n\" clip-path=\"url(#pbc6ce44246)\" style=\"fill: none; stroke: #cccccc; stroke-width: 0.8; stroke-linecap: round\"/>\n     </g>\n     <g id=\"text_20\">\n      <!-- 0 -->\n      <g style=\"fill: #262626\" transform=\"translate(491.785179 256.076563) scale(0.1 -0.1)\">\n       <use xlink:href=\"#DejaVuSans-30\"/>\n      </g>\n     </g>\n    </g>\n    <g id=\"xtick_13\">\n     <g id=\"line2d_19\">\n      <path d=\"M 551.884738 241.478125 \nL 551.884738 22.318125 \n\" clip-path=\"url(#pbc6ce44246)\" style=\"fill: none; stroke: #cccccc; stroke-width: 0.8; stroke-linecap: round\"/>\n     </g>\n     <g id=\"text_21\">\n      <!-- 1 -->\n      <g style=\"fill: #262626\" transform=\"translate(548.703488 256.076563) scale(0.1 -0.1)\">\n       <use xlink:href=\"#DejaVuSans-31\"/>\n      </g>\n     </g>\n    </g>\n    <g id=\"xtick_14\">\n     <g id=\"line2d_20\">\n      <path d=\"M 608.803047 241.478125 \nL 608.803047 22.318125 \n\" clip-path=\"url(#pbc6ce44246)\" style=\"fill: none; stroke: #cccccc; stroke-width: 0.8; stroke-linecap: round\"/>\n     </g>\n     <g id=\"text_22\">\n      <!-- 2 -->\n      <g style=\"fill: #262626\" transform=\"translate(605.621797 256.076563) scale(0.1 -0.1)\">\n       <use xlink:href=\"#DejaVuSans-32\"/>\n      </g>\n     </g>\n    </g>\n   </g>\n   <g id=\"matplotlib.axis_4\">\n    <g id=\"ytick_6\">\n     <g id=\"line2d_21\">\n      <path d=\"M 370.51547 224.292848 \nL 664.689689 224.292848 \n\" clip-path=\"url(#pbc6ce44246)\" style=\"fill: none; stroke: #cccccc; stroke-width: 0.8; stroke-linecap: round\"/>\n     </g>\n     <g id=\"text_23\">\n      <!-- −3 -->\n      <g style=\"fill: #262626\" transform=\"translate(348.773282 228.092067) scale(0.1 -0.1)\">\n       <use xlink:href=\"#DejaVuSans-2212\"/>\n       <use xlink:href=\"#DejaVuSans-33\" x=\"83.789062\"/>\n      </g>\n     </g>\n    </g>\n    <g id=\"ytick_7\">\n     <g id=\"line2d_22\">\n      <path d=\"M 370.51547 182.647727 \nL 664.689689 182.647727 \n\" clip-path=\"url(#pbc6ce44246)\" style=\"fill: none; stroke: #cccccc; stroke-width: 0.8; stroke-linecap: round\"/>\n     </g>\n     <g id=\"text_24\">\n      <!-- −2 -->\n      <g style=\"fill: #262626\" transform=\"translate(348.773282 186.446946) scale(0.1 -0.1)\">\n       <use xlink:href=\"#DejaVuSans-2212\"/>\n       <use xlink:href=\"#DejaVuSans-32\" x=\"83.789062\"/>\n      </g>\n     </g>\n    </g>\n    <g id=\"ytick_8\">\n     <g id=\"line2d_23\">\n      <path d=\"M 370.51547 141.002606 \nL 664.689689 141.002606 \n\" clip-path=\"url(#pbc6ce44246)\" style=\"fill: none; stroke: #cccccc; stroke-width: 0.8; stroke-linecap: round\"/>\n     </g>\n     <g id=\"text_25\">\n      <!-- −1 -->\n      <g style=\"fill: #262626\" transform=\"translate(348.773282 144.801825) scale(0.1 -0.1)\">\n       <use xlink:href=\"#DejaVuSans-2212\"/>\n       <use xlink:href=\"#DejaVuSans-31\" x=\"83.789062\"/>\n      </g>\n     </g>\n    </g>\n    <g id=\"ytick_9\">\n     <g id=\"line2d_24\">\n      <path d=\"M 370.51547 99.357485 \nL 664.689689 99.357485 \n\" clip-path=\"url(#pbc6ce44246)\" style=\"fill: none; stroke: #cccccc; stroke-width: 0.8; stroke-linecap: round\"/>\n     </g>\n     <g id=\"text_26\">\n      <!-- 0 -->\n      <g style=\"fill: #262626\" transform=\"translate(357.15297 103.156704) scale(0.1 -0.1)\">\n       <use xlink:href=\"#DejaVuSans-30\"/>\n      </g>\n     </g>\n    </g>\n    <g id=\"ytick_10\">\n     <g id=\"line2d_25\">\n      <path d=\"M 370.51547 57.712364 \nL 664.689689 57.712364 \n\" clip-path=\"url(#pbc6ce44246)\" style=\"fill: none; stroke: #cccccc; stroke-width: 0.8; stroke-linecap: round\"/>\n     </g>\n     <g id=\"text_27\">\n      <!-- 1 -->\n      <g style=\"fill: #262626\" transform=\"translate(357.15297 61.511583) scale(0.1 -0.1)\">\n       <use xlink:href=\"#DejaVuSans-31\"/>\n      </g>\n     </g>\n    </g>\n   </g>\n   <g id=\"PathCollection_1\">\n    <defs>\n     <path id=\"m4b880b4e44\" d=\"M 0 3 \nC 0.795609 3 1.55874 2.683901 2.12132 2.12132 \nC 2.683901 1.55874 3 0.795609 3 0 \nC 3 -0.795609 2.683901 -1.55874 2.12132 -2.12132 \nC 1.55874 -2.683901 0.795609 -3 0 -3 \nC -0.795609 -3 -1.55874 -2.683901 -2.12132 -2.12132 \nC -2.683901 -1.55874 -3 -0.795609 -3 0 \nC -3 0.795609 -2.683901 1.55874 -2.12132 2.12132 \nC -1.55874 2.683901 -0.795609 3 0 3 \nz\n\" style=\"stroke: #000000\"/>\n    </defs>\n    <g clip-path=\"url(#pbc6ce44246)\">\n     <use xlink:href=\"#m4b880b4e44\" x=\"465.781479\" y=\"100.560943\" style=\"stroke: #000000\"/>\n    </g>\n   </g>\n   <g id=\"PathCollection_2\">\n    <g clip-path=\"url(#pbc6ce44246)\">\n     <use xlink:href=\"#m4b880b4e44\" x=\"569.352351\" y=\"109.915698\" style=\"stroke: #000000\"/>\n    </g>\n   </g>\n   <g id=\"PathCollection_3\">\n    <g clip-path=\"url(#pbc6ce44246)\">\n     <use xlink:href=\"#m4b880b4e44\" x=\"489.987216\" y=\"128.499441\" style=\"stroke: #000000\"/>\n    </g>\n   </g>\n   <g id=\"PathCollection_4\">\n    <g clip-path=\"url(#pbc6ce44246)\">\n     <use xlink:href=\"#m4b880b4e44\" x=\"462.039029\" y=\"96.945505\" style=\"stroke: #000000\"/>\n    </g>\n   </g>\n   <g id=\"PathCollection_5\">\n    <g clip-path=\"url(#pbc6ce44246)\">\n     <use xlink:href=\"#m4b880b4e44\" x=\"523.807647\" y=\"71.007028\" style=\"stroke: #000000\"/>\n    </g>\n   </g>\n   <g id=\"PathCollection_6\">\n    <g clip-path=\"url(#pbc6ce44246)\">\n     <use xlink:href=\"#m4b880b4e44\" x=\"488.994618\" y=\"80.02697\" style=\"stroke: #000000\"/>\n    </g>\n   </g>\n   <g id=\"PathCollection_7\">\n    <g clip-path=\"url(#pbc6ce44246)\">\n     <use xlink:href=\"#m4b880b4e44\" x=\"549.560715\" y=\"133.778791\" style=\"stroke: #000000\"/>\n    </g>\n   </g>\n   <g id=\"PathCollection_8\">\n    <g clip-path=\"url(#pbc6ce44246)\">\n     <use xlink:href=\"#m4b880b4e44\" x=\"494.334157\" y=\"70.025665\" style=\"stroke: #000000\"/>\n    </g>\n   </g>\n   <g id=\"PathCollection_9\">\n    <g clip-path=\"url(#pbc6ce44246)\">\n     <use xlink:href=\"#m4b880b4e44\" x=\"559.087456\" y=\"81.391668\" style=\"stroke: #000000\"/>\n    </g>\n   </g>\n   <g id=\"PathCollection_10\">\n    <g clip-path=\"url(#pbc6ce44246)\">\n     <use xlink:href=\"#m4b880b4e44\" x=\"462.406203\" y=\"110.059698\" style=\"stroke: #000000\"/>\n    </g>\n   </g>\n   <g id=\"PathCollection_11\">\n    <g clip-path=\"url(#pbc6ce44246)\">\n     <use xlink:href=\"#m4b880b4e44\" x=\"463.4058\" y=\"111.258336\" style=\"stroke: #000000\"/>\n    </g>\n   </g>\n   <g id=\"PathCollection_12\">\n    <g clip-path=\"url(#pbc6ce44246)\">\n     <use xlink:href=\"#m4b880b4e44\" x=\"462.512221\" y=\"102.81199\" style=\"stroke: #000000\"/>\n    </g>\n   </g>\n   <g id=\"PathCollection_13\">\n    <g clip-path=\"url(#pbc6ce44246)\">\n     <use xlink:href=\"#m4b880b4e44\" x=\"467.875335\" y=\"95.399489\" style=\"stroke: #000000\"/>\n    </g>\n   </g>\n   <g id=\"PathCollection_14\">\n    <g clip-path=\"url(#pbc6ce44246)\">\n     <use xlink:href=\"#m4b880b4e44\" x=\"470.385791\" y=\"99.323561\" style=\"stroke: #000000\"/>\n    </g>\n   </g>\n   <g id=\"patch_8\">\n    <path d=\"M 503.646159 81.651699 \nL 503.640049 81.849189 \nL 503.586473 81.835129 \nL 494.993217 99.364515 \nL 494.939641 99.350455 \nL 503.532897 81.821069 \nL 503.479321 81.807009 \nz\n\" clip-path=\"url(#pbc6ce44246)\" style=\"stroke: #000000; stroke-linejoin: miter\"/>\n   </g>\n   <g id=\"patch_9\">\n    <path d=\"M 488.789184 73.678525 \nL 488.917668 73.852263 \nL 488.861611 73.859481 \nL 494.994457 99.353876 \nL 494.9384 99.361095 \nL 488.805554 73.8667 \nL 488.749498 73.873919 \nz\n\" clip-path=\"url(#pbc6ce44246)\" style=\"stroke: #000000; stroke-linejoin: miter\"/>\n   </g>\n   <g id=\"patch_10\">\n    <path d=\"M 612.580498 224.974681 \nL 612.365308 224.855381 \nL 612.412265 224.831845 \nL 494.942954 99.369257 \nL 494.989911 99.345721 \nL 612.459222 224.808309 \nL 612.506178 224.784773 \nz\n\" clip-path=\"url(#pbc6ce44246)\" style=\"stroke: #000000; stroke-linejoin: miter\"/>\n   </g>\n   <g id=\"patch_11\">\n    <path d=\"M 501.108814 70.250211 \nL 501.154108 70.444951 \nL 501.097856 70.438597 \nL 494.994555 99.360662 \nL 494.938303 99.354308 \nL 501.041604 70.432242 \nL 500.985352 70.425887 \nz\n\" clip-path=\"url(#pbc6ce44246)\" style=\"stroke: #000000; stroke-linejoin: miter\"/>\n   </g>\n   <g id=\"patch_12\">\n    <path d=\"M 477.962559 98.443864 \nL 478.224256 98.395289 \nL 478.220088 98.436823 \nL 494.968513 99.336719 \nL 494.964344 99.378252 \nL 478.215919 98.478356 \nL 478.211751 98.519889 \nz\n\" clip-path=\"url(#pbc6ce44246)\" style=\"stroke: #000000; stroke-linejoin: miter\"/>\n   </g>\n   <g id=\"patch_13\">\n    <path d=\"M 516.384825 103.982203 \nL 516.115001 103.989073 \nL 516.131111 103.94913 \nL 494.958374 99.377456 \nL 494.974484 99.337514 \nL 516.147222 103.909188 \nL 516.163332 103.869246 \nz\n\" clip-path=\"url(#pbc6ce44246)\" style=\"stroke: #000000; stroke-linejoin: miter\"/>\n   </g>\n   <g id=\"patch_14\">\n    <path d=\"M 518.314896 96.514465 \nL 518.076255 96.60685 \nL 518.066911 96.56577 \nL 494.9711 99.378025 \nL 494.961757 99.336945 \nL 518.057567 96.52469 \nL 518.048223 96.48361 \nz\n\" clip-path=\"url(#pbc6ce44246)\" style=\"stroke: #000000; stroke-linejoin: miter\"/>\n   </g>\n   <g id=\"patch_15\">\n    <path d=\"M 436.755624 108.952917 \nL 436.986729 108.850789 \nL 436.999239 108.891416 \nL 494.960173 99.337172 \nL 494.972683 99.377799 \nL 437.011748 108.932042 \nL 437.024258 108.972669 \nz\n\" clip-path=\"url(#pbc6ce44246)\" style=\"stroke: #000000; stroke-linejoin: miter\"/>\n   </g>\n   <g id=\"patch_16\">\n    <path d=\"M 512.361778 122.815413 \nL 512.164586 122.680484 \nL 512.214614 122.660624 \nL 494.941414 99.367416 \nL 494.991443 99.347556 \nL 512.264643 122.640764 \nL 512.314672 122.620903 \nz\n\" clip-path=\"url(#pbc6ce44246)\" style=\"stroke: #000000; stroke-linejoin: miter\"/>\n   </g>\n   <g id=\"patch_17\">\n    <path d=\"M 477.686041 108.174765 \nL 477.847293 108.016328 \nL 477.879852 108.050487 \nL 494.95015 99.340406 \nL 494.982708 99.374565 \nL 477.91241 108.084646 \nL 477.944968 108.118805 \nz\n\" clip-path=\"url(#pbc6ce44246)\" style=\"stroke: #000000; stroke-linejoin: miter\"/>\n   </g>\n   <g id=\"patch_18\">\n    <path d=\"M 438.968104 116.604544 \nL 439.171049 116.474262 \nL 439.193132 116.512645 \nL 494.955386 99.338293 \nL 494.977469 99.376676 \nL 439.215215 116.551028 \nL 439.237298 116.589411 \nz\n\" clip-path=\"url(#pbc6ce44246)\" style=\"stroke: #000000; stroke-linejoin: miter\"/>\n   </g>\n   <g id=\"patch_19\">\n    <path d=\"M 477.906835 108.064392 \nL 478.068061 107.90594 \nL 478.100625 107.940097 \nL 494.950146 99.340408 \nL 494.98271 99.374564 \nL 478.13319 107.974253 \nL 478.165754 108.008409 \nz\n\" clip-path=\"url(#pbc6ce44246)\" style=\"stroke: #000000; stroke-linejoin: miter\"/>\n   </g>\n   <g id=\"patch_20\">\n    <path d=\"M 622.739468 78.236817 \nL 622.508447 78.339046 \nL 622.495904 78.298425 \nL 494.972699 99.377796 \nL 494.960156 99.337175 \nL 622.483361 78.257804 \nL 622.470818 78.217182 \nz\n\" clip-path=\"url(#pbc6ce44246)\" style=\"stroke: #000000; stroke-linejoin: miter\"/>\n   </g>\n   <g id=\"patch_21\">\n    <path d=\"M 514.095045 93.109911 \nL 513.895959 93.243343 \nL 513.872758 93.205315 \nL 494.978029 99.376499 \nL 494.954828 99.338471 \nL 513.849557 93.167286 \nL 513.826356 93.129258 \nz\n\" clip-path=\"url(#pbc6ce44246)\" style=\"stroke: #000000; stroke-linejoin: miter\"/>\n   </g>\n   <g id=\"patch_22\">\n    <path d=\"M 487.418268 90.2022 \nL 487.623674 90.330401 \nL 487.574936 90.351912 \nL 494.990798 99.34673 \nL 494.94206 99.368241 \nL 487.526199 90.373423 \nL 487.477461 90.394934 \nz\n\" clip-path=\"url(#pbc6ce44246)\" style=\"stroke: #000000; stroke-linejoin: miter\"/>\n   </g>\n   <g id=\"patch_23\">\n    <path d=\"M 485.645219 41.185906 \nL 485.759841 41.36476 \nL 485.703309 41.369609 \nL 494.994694 99.355062 \nL 494.938163 99.359911 \nL 485.646778 41.374459 \nL 485.590247 41.379308 \nz\n\" clip-path=\"url(#pbc6ce44246)\" style=\"stroke: #000000; stroke-linejoin: miter\"/>\n   </g>\n   <g id=\"patch_24\">\n    <path d=\"M 536.124195 99.390101 \nL 535.867971 99.452366 \nL 535.868032 99.410721 \nL 494.966398 99.378308 \nL 494.96646 99.336663 \nL 535.868094 99.369076 \nL 535.868156 99.327431 \nz\n\" clip-path=\"url(#pbc6ce44246)\" style=\"stroke: #000000; stroke-linejoin: miter\"/>\n   </g>\n   <g id=\"patch_25\">\n    <path d=\"M 570.565723 81.954259 \nL 570.347022 82.070092 \nL 570.32994 82.030366 \nL 494.974972 99.377348 \nL 494.957889 99.337622 \nL 570.312857 81.990641 \nL 570.295774 81.950916 \nz\n\" clip-path=\"url(#pbc6ce44246)\" style=\"stroke: #000000; stroke-linejoin: miter\"/>\n   </g>\n   <g id=\"patch_26\">\n    <path d=\"M 428.620761 126.772864 \nL 428.801798 126.626314 \nL 428.829789 126.662576 \nL 494.952431 99.339354 \nL 494.980422 99.375615 \nL 428.857779 126.698837 \nL 428.885769 126.735099 \nz\n\" clip-path=\"url(#pbc6ce44246)\" style=\"stroke: #000000; stroke-linejoin: miter\"/>\n   </g>\n   <g id=\"patch_27\">\n    <path d=\"M 548.857645 106.747156 \nL 548.590169 106.774034 \nL 548.600654 106.733101 \nL 494.961187 99.377952 \nL 494.971671 99.337019 \nL 548.611138 106.692169 \nL 548.621623 106.651236 \nz\n\" clip-path=\"url(#pbc6ce44246)\" style=\"stroke: #000000; stroke-linejoin: miter\"/>\n   </g>\n   <g id=\"patch_28\">\n    <path d=\"M 515.098139 110.833798 \nL 514.843619 110.767896 \nL 514.878601 110.735045 \nL 494.948937 99.373911 \nL 494.983919 99.34106 \nL 514.913583 110.702194 \nL 514.948566 110.669343 \nz\n\" clip-path=\"url(#pbc6ce44246)\" style=\"stroke: #000000; stroke-linejoin: miter\"/>\n   </g>\n   <g id=\"patch_29\">\n    <path d=\"M 489.856291 58.855266 \nL 489.964851 59.036134 \nL 489.908174 59.039962 \nL 494.994767 99.355572 \nL 494.93809 99.3594 \nL 489.851497 59.04379 \nL 489.794819 59.047618 \nz\n\" clip-path=\"url(#pbc6ce44246)\" style=\"stroke: #000000; stroke-linejoin: miter\"/>\n   </g>\n   <g id=\"patch_30\">\n    <path d=\"M 642.175177 81.841248 \nL 641.93607 81.932987 \nL 641.926934 81.891882 \nL 494.970998 99.378038 \nL 494.961862 99.336933 \nL 641.917798 81.850777 \nL 641.908661 81.809672 \nz\n\" clip-path=\"url(#pbc6ce44246)\" style=\"stroke: #000000; stroke-linejoin: miter\"/>\n   </g>\n   <g id=\"patch_31\">\n    <path d=\"M 598.013193 83.370359 \nL 597.780342 83.470342 \nL 597.768535 83.429602 \nL 494.972331 99.377855 \nL 494.960524 99.337116 \nL 597.756728 83.388863 \nL 597.744922 83.348124 \nz\n\" clip-path=\"url(#pbc6ce44246)\" style=\"stroke: #000000; stroke-linejoin: miter\"/>\n   </g>\n   <g id=\"patch_32\">\n    <path d=\"M 513.170051 96.856123 \nL 512.934078 96.952108 \nL 512.923572 96.911178 \nL 494.971681 99.37795 \nL 494.961176 99.33702 \nL 512.913066 96.870248 \nL 512.902561 96.829319 \nz\n\" clip-path=\"url(#pbc6ce44246)\" style=\"stroke: #000000; stroke-linejoin: miter\"/>\n   </g>\n   <g id=\"patch_33\">\n    <path d=\"M 494.525998 154.395453 \nL 494.442122 154.207687 \nL 494.499039 154.207931 \nL 494.93797 99.357363 \nL 494.994887 99.357607 \nL 494.555957 154.208175 \nL 494.612874 154.208418 \nz\n\" clip-path=\"url(#pbc6ce44246)\" style=\"stroke: #000000; stroke-linejoin: miter\"/>\n   </g>\n   <g id=\"patch_34\">\n    <path d=\"M 457.030096 67.186612 \nL 457.262058 67.287696 \nL 457.218963 67.3149 \nL 494.987975 99.343882 \nL 494.94488 99.371087 \nL 457.175867 67.342105 \nL 457.132772 67.36931 \nz\n\" clip-path=\"url(#pbc6ce44246)\" style=\"stroke: #000000; stroke-linejoin: miter\"/>\n   </g>\n   <g id=\"patch_35\">\n    <path d=\"M 483.080671 95.07139 \nL 483.348159 95.098205 \nL 483.322996 95.13556 \nL 494.97901 99.338808 \nL 494.953848 99.376163 \nL 483.297834 95.172915 \nL 483.272671 95.210269 \nz\n\" clip-path=\"url(#pbc6ce44246)\" style=\"stroke: #000000; stroke-linejoin: miter\"/>\n   </g>\n   <g id=\"patch_36\">\n    <path d=\"M 459.797146 84.431727 \nL 460.061542 84.47172 \nL 460.032984 84.507744 \nL 494.980707 99.339473 \nL 494.952149 99.375497 \nL 460.004425 84.543767 \nL 459.975866 84.579791 \nz\n\" clip-path=\"url(#pbc6ce44246)\" style=\"stroke: #000000; stroke-linejoin: miter\"/>\n   </g>\n   <g id=\"patch_37\">\n    <path d=\"M 422.370019 69.340283 \nL 422.635013 69.3781 \nL 422.607009 69.414356 \nL 494.980429 99.339357 \nL 494.952426 99.375613 \nL 422.579006 69.450612 \nL 422.551002 69.486868 \nz\n\" clip-path=\"url(#pbc6ce44246)\" style=\"stroke: #000000; stroke-linejoin: miter\"/>\n   </g>\n   <g id=\"patch_38\">\n    <path d=\"M 492.583297 93.276499 \nL 492.735965 93.439425 \nL 492.681251 93.450903 \nL 494.993785 99.351746 \nL 494.939072 99.363225 \nL 492.626538 93.462382 \nL 492.571824 93.473861 \nz\n\" clip-path=\"url(#pbc6ce44246)\" style=\"stroke: #000000; stroke-linejoin: miter\"/>\n   </g>\n   <g id=\"patch_39\">\n    <path d=\"M 506.040089 58.053373 \nL 506.074567 58.249296 \nL 506.018713 58.24128 \nL 494.994355 99.361492 \nL 494.938501 99.353476 \nL 505.962859 58.233264 \nL 505.907005 58.225247 \nz\n\" clip-path=\"url(#pbc6ce44246)\" style=\"stroke: #000000; stroke-linejoin: miter\"/>\n   </g>\n   <g id=\"patch_40\">\n    <path d=\"M 458.930939 71.445473 \nL 459.168888 71.538811 \nL 459.127511 71.567408 \nL 494.987116 99.343186 \nL 494.945739 99.371783 \nL 459.086134 71.596005 \nL 459.044757 71.624602 \nz\n\" clip-path=\"url(#pbc6ce44246)\" style=\"stroke: #000000; stroke-linejoin: miter\"/>\n   </g>\n   <g id=\"patch_41\">\n    <path d=\"M 539.370555 64.783536 \nL 539.257376 64.962882 \nL 539.215897 64.934363 \nL 494.987168 99.371745 \nL 494.945689 99.343227 \nL 539.174419 64.905845 \nL 539.13294 64.877327 \nz\n\" clip-path=\"url(#pbc6ce44246)\" style=\"stroke: #000000; stroke-linejoin: miter\"/>\n   </g>\n   <g id=\"patch_42\">\n    <path d=\"M 604.049767 38.862972 \nL 603.897216 39.025957 \nL 603.862835 38.992768 \nL 494.983621 99.374077 \nL 494.94924 99.340888 \nL 603.828453 38.959579 \nL 603.794071 38.92639 \nz\n\" clip-path=\"url(#pbc6ce44246)\" style=\"stroke: #000000; stroke-linejoin: miter\"/>\n   </g>\n   <g id=\"patch_43\">\n    <path d=\"M 508.9575 117.802891 \nL 508.758559 117.669344 \nL 508.808326 117.649135 \nL 494.941544 99.367589 \nL 494.991312 99.34738 \nL 508.858094 117.628927 \nL 508.907862 117.608718 \nz\n\" clip-path=\"url(#pbc6ce44246)\" style=\"stroke: #000000; stroke-linejoin: miter\"/>\n   </g>\n   <g id=\"patch_44\">\n    <path d=\"M 515.087069 111.13577 \nL 514.833732 111.067471 \nL 514.86929 111.034953 \nL 494.948649 99.373744 \nL 494.984208 99.341226 \nL 514.904849 111.002435 \nL 514.940407 110.969916 \nz\n\" clip-path=\"url(#pbc6ce44246)\" style=\"stroke: #000000; stroke-linejoin: miter\"/>\n   </g>\n   <g id=\"patch_45\">\n    <path d=\"M 446.541459 118.604303 \nL 446.725773 118.459957 \nL 446.752942 118.496551 \nL 494.952845 99.339188 \nL 494.980014 99.375782 \nL 446.780112 118.533145 \nL 446.807281 118.56974 \nz\n\" clip-path=\"url(#pbc6ce44246)\" style=\"stroke: #000000; stroke-linejoin: miter\"/>\n   </g>\n   <g id=\"patch_46\">\n    <path d=\"M 443.543622 70.95763 \nL 443.79949 71.020675 \nL 443.765199 71.053914 \nL 494.983575 99.340867 \nL 494.949283 99.374106 \nL 443.730908 71.087153 \nL 443.696616 71.120392 \nz\n\" clip-path=\"url(#pbc6ce44246)\" style=\"stroke: #000000; stroke-linejoin: miter\"/>\n   </g>\n   <g id=\"patch_47\">\n    <path d=\"M 445.840176 61.704161 \nL 446.078791 61.796582 \nL 446.03762 61.825338 \nL 494.987016 99.343106 \nL 494.945845 99.371862 \nL 445.996449 61.854094 \nL 445.955278 61.882849 \nz\n\" clip-path=\"url(#pbc6ce44246)\" style=\"stroke: #000000; stroke-linejoin: miter\"/>\n   </g>\n   <g id=\"patch_48\">\n    <path d=\"M 404.361301 69.018628 \nL 404.629732 69.039812 \nL 404.606045 69.07768 \nL 494.97827 99.338551 \nL 494.954584 99.376419 \nL 404.582359 69.115548 \nL 404.558673 69.153416 \nz\n\" clip-path=\"url(#pbc6ce44246)\" style=\"stroke: #000000; stroke-linejoin: miter\"/>\n   </g>\n   <g id=\"patch_49\">\n    <path d=\"M 559.091531 66.245577 \nL 558.931494 66.404672 \nL 558.898674 66.370647 \nL 494.982837 99.374498 \nL 494.950018 99.340472 \nL 558.865855 66.336622 \nL 558.833036 66.302597 \nz\n\" clip-path=\"url(#pbc6ce44246)\" style=\"stroke: #000000; stroke-linejoin: miter\"/>\n   </g>\n   <g id=\"patch_50\">\n    <path d=\"M 516.985852 117.816616 \nL 516.753106 117.716502 \nL 516.795988 117.689118 \nL 494.944988 99.371177 \nL 494.98787 99.343793 \nL 516.838871 117.661734 \nL 516.881753 117.63435 \nz\n\" clip-path=\"url(#pbc6ce44246)\" style=\"stroke: #000000; stroke-linejoin: miter\"/>\n   </g>\n   <g id=\"patch_51\">\n    <path d=\"M 393.032565 115.654059 \nL 393.264568 115.553026 \nL 393.276718 115.593711 \nL 494.960356 99.337142 \nL 494.972506 99.377828 \nL 393.288869 115.634396 \nL 393.301019 115.675081 \nz\n\" clip-path=\"url(#pbc6ce44246)\" style=\"stroke: #000000; stroke-linejoin: miter\"/>\n   </g>\n   <g id=\"patch_52\">\n    <path d=\"M 469.393572 144.667046 \nL 469.412421 144.469988 \nL 469.46503 144.485883 \nL 494.940124 99.349538 \nL 494.992733 99.365434 \nL 469.517639 144.501779 \nL 469.570249 144.517674 \nz\n\" clip-path=\"url(#pbc6ce44246)\" style=\"stroke: #000000; stroke-linejoin: miter\"/>\n   </g>\n   <g id=\"patch_53\">\n    <path d=\"M 506.668805 107.123129 \nL 506.421725 107.043501 \nL 506.459963 107.012653 \nL 494.94731 99.372909 \nL 494.985548 99.342061 \nL 506.498201 106.981806 \nL 506.53644 106.950958 \nz\n\" clip-path=\"url(#pbc6ce44246)\" style=\"stroke: #000000; stroke-linejoin: miter\"/>\n   </g>\n   <g id=\"patch_54\">\n    <path d=\"M 510.886146 143.34273 \nL 510.738046 143.177563 \nL 510.793068 143.166902 \nL 494.938918 99.362816 \nL 494.99394 99.352155 \nL 510.84809 143.156241 \nL 510.903112 143.14558 \nz\n\" clip-path=\"url(#pbc6ce44246)\" style=\"stroke: #000000; stroke-linejoin: miter\"/>\n   </g>\n   <g id=\"patch_55\">\n    <path d=\"M 508.711798 69.455659 \nL 508.711069 69.653199 \nL 508.657121 69.639923 \nL 494.993403 99.364124 \nL 494.939455 99.350848 \nL 508.603172 69.626647 \nL 508.549223 69.613371 \nz\n\" clip-path=\"url(#pbc6ce44246)\" style=\"stroke: #000000; stroke-linejoin: miter\"/>\n   </g>\n   <g id=\"patch_56\">\n    <path d=\"M 528.434711 120.41234 \nL 528.184835 120.337527 \nL 528.221943 120.305949 \nL 494.947875 99.373273 \nL 494.984983 99.341696 \nL 528.259052 120.274372 \nL 528.29616 120.242794 \nz\n\" clip-path=\"url(#pbc6ce44246)\" style=\"stroke: #000000; stroke-linejoin: miter\"/>\n   </g>\n   <g id=\"patch_57\">\n    <path d=\"M 545.811487 91.493703 \nL 545.578549 91.593578 \nL 545.566778 91.552833 \nL 494.972316 99.377857 \nL 494.960544 99.337113 \nL 545.555006 91.512088 \nL 545.543235 91.471343 \nz\n\" clip-path=\"url(#pbc6ce44246)\" style=\"stroke: #000000; stroke-linejoin: miter\"/>\n   </g>\n   <g id=\"patch_58\">\n    <path d=\"M 422.310033 161.740913 \nL 422.411177 161.557758 \nL 422.454499 161.584769 \nL 494.944767 99.343979 \nL 494.988089 99.370989 \nL 422.497821 161.61178 \nL 422.541143 161.638791 \nz\n\" clip-path=\"url(#pbc6ce44246)\" style=\"stroke: #000000; stroke-linejoin: miter\"/>\n   </g>\n   <g id=\"patch_59\">\n    <path d=\"M 510.04487 118.228023 \nL 509.841892 118.097768 \nL 509.891029 118.076749 \nL 494.941861 99.367994 \nL 494.990998 99.346976 \nL 509.940166 118.055731 \nL 509.989303 118.034712 \nz\n\" clip-path=\"url(#pbc6ce44246)\" style=\"stroke: #000000; stroke-linejoin: miter\"/>\n   </g>\n   <g id=\"patch_60\">\n    <path d=\"M 453.931191 83.404672 \nL 454.197438 83.437439 \nL 454.170731 83.474216 \nL 494.979782 99.339097 \nL 494.953075 99.375873 \nL 454.144024 83.510992 \nL 454.117318 83.547768 \nz\n\" clip-path=\"url(#pbc6ce44246)\" style=\"stroke: #000000; stroke-linejoin: miter\"/>\n   </g>\n   <g id=\"patch_61\">\n    <path d=\"M 584.433522 59.287897 \nL 584.259642 59.439014 \nL 584.229926 59.403495 \nL 494.981287 99.375245 \nL 494.951571 99.339726 \nL 584.20021 59.367976 \nL 584.170494 59.332457 \nz\n\" clip-path=\"url(#pbc6ce44246)\" style=\"stroke: #000000; stroke-linejoin: miter\"/>\n   </g>\n   <g id=\"patch_62\">\n    <path d=\"M 512.572452 127.48359 \nL 512.388175 127.339219 \nL 512.439924 127.321877 \nL 494.940554 99.366156 \nL 494.992303 99.348815 \nL 512.491673 127.304536 \nL 512.543422 127.287195 \nz\n\" clip-path=\"url(#pbc6ce44246)\" style=\"stroke: #000000; stroke-linejoin: miter\"/>\n   </g>\n   <g id=\"patch_63\">\n    <path d=\"M 370.51547 241.478125 \nL 370.51547 22.318125 \n\" style=\"fill: none; stroke: #cccccc; stroke-width: 0.8; stroke-linejoin: miter; stroke-linecap: square\"/>\n   </g>\n   <g id=\"patch_64\">\n    <path d=\"M 664.689689 241.478125 \nL 664.689689 22.318125 \n\" style=\"fill: none; stroke: #cccccc; stroke-width: 0.8; stroke-linejoin: miter; stroke-linecap: square\"/>\n   </g>\n   <g id=\"patch_65\">\n    <path d=\"M 370.51547 241.478125 \nL 664.689689 241.478125 \n\" style=\"fill: none; stroke: #cccccc; stroke-width: 0.8; stroke-linejoin: miter; stroke-linecap: square\"/>\n   </g>\n   <g id=\"patch_66\">\n    <path d=\"M 370.51547 22.318125 \nL 664.689689 22.318125 \n\" style=\"fill: none; stroke: #cccccc; stroke-width: 0.8; stroke-linejoin: miter; stroke-linecap: square\"/>\n   </g>\n   <g id=\"text_28\">\n    <!-- brazil -->\n    <g style=\"fill: #262626\" transform=\"translate(466.919845 99.31159) scale(0.1 -0.1)\">\n     <defs>\n      <path id=\"DejaVuSans-62\" d=\"M 3116 1747 \nQ 3116 2381 2855 2742 \nQ 2594 3103 2138 3103 \nQ 1681 3103 1420 2742 \nQ 1159 2381 1159 1747 \nQ 1159 1113 1420 752 \nQ 1681 391 2138 391 \nQ 2594 391 2855 752 \nQ 3116 1113 3116 1747 \nz\nM 1159 2969 \nQ 1341 3281 1617 3432 \nQ 1894 3584 2278 3584 \nQ 2916 3584 3314 3078 \nQ 3713 2572 3713 1747 \nQ 3713 922 3314 415 \nQ 2916 -91 2278 -91 \nQ 1894 -91 1617 61 \nQ 1341 213 1159 525 \nL 1159 0 \nL 581 0 \nL 581 4863 \nL 1159 4863 \nL 1159 2969 \nz\n\" transform=\"scale(0.015625)\"/>\n      <path id=\"DejaVuSans-7a\" d=\"M 353 3500 \nL 3084 3500 \nL 3084 2975 \nL 922 459 \nL 3084 459 \nL 3084 0 \nL 275 0 \nL 275 525 \nL 2438 3041 \nL 353 3041 \nL 353 3500 \nz\n\" transform=\"scale(0.015625)\"/>\n     </defs>\n     <use xlink:href=\"#DejaVuSans-62\"/>\n     <use xlink:href=\"#DejaVuSans-72\" x=\"63.476562\"/>\n     <use xlink:href=\"#DejaVuSans-61\" x=\"104.589844\"/>\n     <use xlink:href=\"#DejaVuSans-7a\" x=\"165.869141\"/>\n     <use xlink:href=\"#DejaVuSans-69\" x=\"218.359375\"/>\n     <use xlink:href=\"#DejaVuSans-6c\" x=\"246.142578\"/>\n    </g>\n   </g>\n   <g id=\"text_29\">\n    <!-- burma -->\n    <g style=\"fill: #262626\" transform=\"translate(570.490717 108.666345) scale(0.1 -0.1)\">\n     <defs>\n      <path id=\"DejaVuSans-75\" d=\"M 544 1381 \nL 544 3500 \nL 1119 3500 \nL 1119 1403 \nQ 1119 906 1312 657 \nQ 1506 409 1894 409 \nQ 2359 409 2629 706 \nQ 2900 1003 2900 1516 \nL 2900 3500 \nL 3475 3500 \nL 3475 0 \nL 2900 0 \nL 2900 538 \nQ 2691 219 2414 64 \nQ 2138 -91 1772 -91 \nQ 1169 -91 856 284 \nQ 544 659 544 1381 \nz\nM 1991 3584 \nL 1991 3584 \nz\n\" transform=\"scale(0.015625)\"/>\n     </defs>\n     <use xlink:href=\"#DejaVuSans-62\"/>\n     <use xlink:href=\"#DejaVuSans-75\" x=\"63.476562\"/>\n     <use xlink:href=\"#DejaVuSans-72\" x=\"126.855469\"/>\n     <use xlink:href=\"#DejaVuSans-6d\" x=\"166.21875\"/>\n     <use xlink:href=\"#DejaVuSans-61\" x=\"263.630859\"/>\n    </g>\n   </g>\n   <g id=\"text_30\">\n    <!-- china -->\n    <g style=\"fill: #262626\" transform=\"translate(491.125582 127.250087) scale(0.1 -0.1)\">\n     <use xlink:href=\"#DejaVuSans-63\"/>\n     <use xlink:href=\"#DejaVuSans-68\" x=\"54.980469\"/>\n     <use xlink:href=\"#DejaVuSans-69\" x=\"118.359375\"/>\n     <use xlink:href=\"#DejaVuSans-6e\" x=\"146.142578\"/>\n     <use xlink:href=\"#DejaVuSans-61\" x=\"209.521484\"/>\n    </g>\n   </g>\n   <g id=\"text_31\">\n    <!-- cuba -->\n    <g style=\"fill: #262626\" transform=\"translate(463.177395 95.696151) scale(0.1 -0.1)\">\n     <use xlink:href=\"#DejaVuSans-63\"/>\n     <use xlink:href=\"#DejaVuSans-75\" x=\"54.980469\"/>\n     <use xlink:href=\"#DejaVuSans-62\" x=\"118.359375\"/>\n     <use xlink:href=\"#DejaVuSans-61\" x=\"181.835938\"/>\n    </g>\n   </g>\n   <g id=\"text_32\">\n    <!-- egypt -->\n    <g style=\"fill: #262626\" transform=\"translate(524.946013 69.757674) scale(0.1 -0.1)\">\n     <defs>\n      <path id=\"DejaVuSans-79\" d=\"M 2059 -325 \nQ 1816 -950 1584 -1140 \nQ 1353 -1331 966 -1331 \nL 506 -1331 \nL 506 -850 \nL 844 -850 \nQ 1081 -850 1212 -737 \nQ 1344 -625 1503 -206 \nL 1606 56 \nL 191 3500 \nL 800 3500 \nL 1894 763 \nL 2988 3500 \nL 3597 3500 \nL 2059 -325 \nz\n\" transform=\"scale(0.015625)\"/>\n     </defs>\n     <use xlink:href=\"#DejaVuSans-65\"/>\n     <use xlink:href=\"#DejaVuSans-67\" x=\"61.523438\"/>\n     <use xlink:href=\"#DejaVuSans-79\" x=\"125\"/>\n     <use xlink:href=\"#DejaVuSans-70\" x=\"184.179688\"/>\n     <use xlink:href=\"#DejaVuSans-74\" x=\"247.65625\"/>\n    </g>\n   </g>\n   <g id=\"text_33\">\n    <!-- india -->\n    <g style=\"fill: #262626\" transform=\"translate(490.132984 78.777616) scale(0.1 -0.1)\">\n     <defs>\n      <path id=\"DejaVuSans-64\" d=\"M 2906 2969 \nL 2906 4863 \nL 3481 4863 \nL 3481 0 \nL 2906 0 \nL 2906 525 \nQ 2725 213 2448 61 \nQ 2172 -91 1784 -91 \nQ 1150 -91 751 415 \nQ 353 922 353 1747 \nQ 353 2572 751 3078 \nQ 1150 3584 1784 3584 \nQ 2172 3584 2448 3432 \nQ 2725 3281 2906 2969 \nz\nM 947 1747 \nQ 947 1113 1208 752 \nQ 1469 391 1925 391 \nQ 2381 391 2643 752 \nQ 2906 1113 2906 1747 \nQ 2906 2381 2643 2742 \nQ 2381 3103 1925 3103 \nQ 1469 3103 1208 2742 \nQ 947 2381 947 1747 \nz\n\" transform=\"scale(0.015625)\"/>\n     </defs>\n     <use xlink:href=\"#DejaVuSans-69\"/>\n     <use xlink:href=\"#DejaVuSans-6e\" x=\"27.783203\"/>\n     <use xlink:href=\"#DejaVuSans-64\" x=\"91.162109\"/>\n     <use xlink:href=\"#DejaVuSans-69\" x=\"154.638672\"/>\n     <use xlink:href=\"#DejaVuSans-61\" x=\"182.421875\"/>\n    </g>\n   </g>\n   <g id=\"text_34\">\n    <!-- indonesia -->\n    <g style=\"fill: #262626\" transform=\"translate(550.699081 132.529438) scale(0.1 -0.1)\">\n     <use xlink:href=\"#DejaVuSans-69\"/>\n     <use xlink:href=\"#DejaVuSans-6e\" x=\"27.783203\"/>\n     <use xlink:href=\"#DejaVuSans-64\" x=\"91.162109\"/>\n     <use xlink:href=\"#DejaVuSans-6f\" x=\"154.638672\"/>\n     <use xlink:href=\"#DejaVuSans-6e\" x=\"215.820312\"/>\n     <use xlink:href=\"#DejaVuSans-65\" x=\"279.199219\"/>\n     <use xlink:href=\"#DejaVuSans-73\" x=\"340.722656\"/>\n     <use xlink:href=\"#DejaVuSans-69\" x=\"392.822266\"/>\n     <use xlink:href=\"#DejaVuSans-61\" x=\"420.605469\"/>\n    </g>\n   </g>\n   <g id=\"text_35\">\n    <!-- israel -->\n    <g style=\"fill: #262626\" transform=\"translate(495.472523 68.776312) scale(0.1 -0.1)\">\n     <use xlink:href=\"#DejaVuSans-69\"/>\n     <use xlink:href=\"#DejaVuSans-73\" x=\"27.783203\"/>\n     <use xlink:href=\"#DejaVuSans-72\" x=\"79.882812\"/>\n     <use xlink:href=\"#DejaVuSans-61\" x=\"120.996094\"/>\n     <use xlink:href=\"#DejaVuSans-65\" x=\"182.275391\"/>\n     <use xlink:href=\"#DejaVuSans-6c\" x=\"243.798828\"/>\n    </g>\n   </g>\n   <g id=\"text_36\">\n    <!-- jordan -->\n    <g style=\"fill: #262626\" transform=\"translate(560.225822 80.142315) scale(0.1 -0.1)\">\n     <defs>\n      <path id=\"DejaVuSans-6a\" d=\"M 603 3500 \nL 1178 3500 \nL 1178 -63 \nQ 1178 -731 923 -1031 \nQ 669 -1331 103 -1331 \nL -116 -1331 \nL -116 -844 \nL 38 -844 \nQ 366 -844 484 -692 \nQ 603 -541 603 -63 \nL 603 3500 \nz\nM 603 4863 \nL 1178 4863 \nL 1178 4134 \nL 603 4134 \nL 603 4863 \nz\n\" transform=\"scale(0.015625)\"/>\n     </defs>\n     <use xlink:href=\"#DejaVuSans-6a\"/>\n     <use xlink:href=\"#DejaVuSans-6f\" x=\"27.783203\"/>\n     <use xlink:href=\"#DejaVuSans-72\" x=\"88.964844\"/>\n     <use xlink:href=\"#DejaVuSans-64\" x=\"128.328125\"/>\n     <use xlink:href=\"#DejaVuSans-61\" x=\"191.804688\"/>\n     <use xlink:href=\"#DejaVuSans-6e\" x=\"253.083984\"/>\n    </g>\n   </g>\n   <g id=\"text_37\">\n    <!-- netherlands -->\n    <g style=\"fill: #262626\" transform=\"translate(463.544569 108.810344) scale(0.1 -0.1)\">\n     <use xlink:href=\"#DejaVuSans-6e\"/>\n     <use xlink:href=\"#DejaVuSans-65\" x=\"63.378906\"/>\n     <use xlink:href=\"#DejaVuSans-74\" x=\"124.902344\"/>\n     <use xlink:href=\"#DejaVuSans-68\" x=\"164.111328\"/>\n     <use xlink:href=\"#DejaVuSans-65\" x=\"227.490234\"/>\n     <use xlink:href=\"#DejaVuSans-72\" x=\"289.013672\"/>\n     <use xlink:href=\"#DejaVuSans-6c\" x=\"330.126953\"/>\n     <use xlink:href=\"#DejaVuSans-61\" x=\"357.910156\"/>\n     <use xlink:href=\"#DejaVuSans-6e\" x=\"419.189453\"/>\n     <use xlink:href=\"#DejaVuSans-64\" x=\"482.568359\"/>\n     <use xlink:href=\"#DejaVuSans-73\" x=\"546.044922\"/>\n    </g>\n   </g>\n   <g id=\"text_38\">\n    <!-- poland -->\n    <g style=\"fill: #262626\" transform=\"translate(464.544167 110.008982) scale(0.1 -0.1)\">\n     <use xlink:href=\"#DejaVuSans-70\"/>\n     <use xlink:href=\"#DejaVuSans-6f\" x=\"63.476562\"/>\n     <use xlink:href=\"#DejaVuSans-6c\" x=\"124.658203\"/>\n     <use xlink:href=\"#DejaVuSans-61\" x=\"152.441406\"/>\n     <use xlink:href=\"#DejaVuSans-6e\" x=\"213.720703\"/>\n     <use xlink:href=\"#DejaVuSans-64\" x=\"277.099609\"/>\n    </g>\n   </g>\n   <g id=\"text_39\">\n    <!-- uk -->\n    <g style=\"fill: #262626\" transform=\"translate(463.650587 101.562637) scale(0.1 -0.1)\">\n     <use xlink:href=\"#DejaVuSans-75\"/>\n     <use xlink:href=\"#DejaVuSans-6b\" x=\"63.378906\"/>\n    </g>\n   </g>\n   <g id=\"text_40\">\n    <!-- usa -->\n    <g style=\"fill: #262626\" transform=\"translate(469.013701 94.150136) scale(0.1 -0.1)\">\n     <use xlink:href=\"#DejaVuSans-75\"/>\n     <use xlink:href=\"#DejaVuSans-73\" x=\"63.378906\"/>\n     <use xlink:href=\"#DejaVuSans-61\" x=\"115.478516\"/>\n    </g>\n   </g>\n   <g id=\"text_41\">\n    <!-- ussr -->\n    <g style=\"fill: #262626\" transform=\"translate(471.524157 98.074208) scale(0.1 -0.1)\">\n     <use xlink:href=\"#DejaVuSans-75\"/>\n     <use xlink:href=\"#DejaVuSans-73\" x=\"63.378906\"/>\n     <use xlink:href=\"#DejaVuSans-73\" x=\"115.478516\"/>\n     <use xlink:href=\"#DejaVuSans-72\" x=\"167.578125\"/>\n    </g>\n   </g>\n   <g id=\"text_42\">\n    <!-- accusation -->\n    <g style=\"fill: #262626\" transform=\"translate(504.698051 80.578745) scale(0.1 -0.1)\">\n     <use xlink:href=\"#DejaVuSans-61\"/>\n     <use xlink:href=\"#DejaVuSans-63\" x=\"61.279297\"/>\n     <use xlink:href=\"#DejaVuSans-63\" x=\"116.259766\"/>\n     <use xlink:href=\"#DejaVuSans-75\" x=\"171.240234\"/>\n     <use xlink:href=\"#DejaVuSans-73\" x=\"234.619141\"/>\n     <use xlink:href=\"#DejaVuSans-61\" x=\"286.71875\"/>\n     <use xlink:href=\"#DejaVuSans-74\" x=\"347.998047\"/>\n     <use xlink:href=\"#DejaVuSans-69\" x=\"387.207031\"/>\n     <use xlink:href=\"#DejaVuSans-6f\" x=\"414.990234\"/>\n     <use xlink:href=\"#DejaVuSans-6e\" x=\"476.171875\"/>\n    </g>\n   </g>\n   <g id=\"text_43\">\n    <!-- aidenemy -->\n    <g style=\"fill: #262626\" transform=\"translate(489.971949 72.613737) scale(0.1 -0.1)\">\n     <use xlink:href=\"#DejaVuSans-61\"/>\n     <use xlink:href=\"#DejaVuSans-69\" x=\"61.279297\"/>\n     <use xlink:href=\"#DejaVuSans-64\" x=\"89.0625\"/>\n     <use xlink:href=\"#DejaVuSans-65\" x=\"152.539062\"/>\n     <use xlink:href=\"#DejaVuSans-6e\" x=\"214.0625\"/>\n     <use xlink:href=\"#DejaVuSans-65\" x=\"277.441406\"/>\n     <use xlink:href=\"#DejaVuSans-6d\" x=\"338.964844\"/>\n     <use xlink:href=\"#DejaVuSans-79\" x=\"436.376953\"/>\n    </g>\n   </g>\n   <g id=\"text_44\">\n    <!-- attackembassy -->\n    <g style=\"fill: #262626\" transform=\"translate(613.574109 223.570723) scale(0.1 -0.1)\">\n     <use xlink:href=\"#DejaVuSans-61\"/>\n     <use xlink:href=\"#DejaVuSans-74\" x=\"61.279297\"/>\n     <use xlink:href=\"#DejaVuSans-74\" x=\"100.488281\"/>\n     <use xlink:href=\"#DejaVuSans-61\" x=\"139.697266\"/>\n     <use xlink:href=\"#DejaVuSans-63\" x=\"200.976562\"/>\n     <use xlink:href=\"#DejaVuSans-6b\" x=\"255.957031\"/>\n     <use xlink:href=\"#DejaVuSans-65\" x=\"310.242188\"/>\n     <use xlink:href=\"#DejaVuSans-6d\" x=\"371.765625\"/>\n     <use xlink:href=\"#DejaVuSans-62\" x=\"469.177734\"/>\n     <use xlink:href=\"#DejaVuSans-61\" x=\"532.654297\"/>\n     <use xlink:href=\"#DejaVuSans-73\" x=\"593.933594\"/>\n     <use xlink:href=\"#DejaVuSans-73\" x=\"646.033203\"/>\n     <use xlink:href=\"#DejaVuSans-79\" x=\"698.132812\"/>\n    </g>\n   </g>\n   <g id=\"text_45\">\n    <!-- blockpositionindex -->\n    <g style=\"fill: #262626\" transform=\"translate(502.208096 69.186066) scale(0.1 -0.1)\">\n     <defs>\n      <path id=\"DejaVuSans-78\" d=\"M 3513 3500 \nL 2247 1797 \nL 3578 0 \nL 2900 0 \nL 1881 1375 \nL 863 0 \nL 184 0 \nL 1544 1831 \nL 300 3500 \nL 978 3500 \nL 1906 2253 \nL 2834 3500 \nL 3513 3500 \nz\n\" transform=\"scale(0.015625)\"/>\n     </defs>\n     <use xlink:href=\"#DejaVuSans-62\"/>\n     <use xlink:href=\"#DejaVuSans-6c\" x=\"63.476562\"/>\n     <use xlink:href=\"#DejaVuSans-6f\" x=\"91.259766\"/>\n     <use xlink:href=\"#DejaVuSans-63\" x=\"152.441406\"/>\n     <use xlink:href=\"#DejaVuSans-6b\" x=\"207.421875\"/>\n     <use xlink:href=\"#DejaVuSans-70\" x=\"265.332031\"/>\n     <use xlink:href=\"#DejaVuSans-6f\" x=\"328.808594\"/>\n     <use xlink:href=\"#DejaVuSans-73\" x=\"389.990234\"/>\n     <use xlink:href=\"#DejaVuSans-69\" x=\"442.089844\"/>\n     <use xlink:href=\"#DejaVuSans-74\" x=\"469.873047\"/>\n     <use xlink:href=\"#DejaVuSans-69\" x=\"509.082031\"/>\n     <use xlink:href=\"#DejaVuSans-6f\" x=\"536.865234\"/>\n     <use xlink:href=\"#DejaVuSans-6e\" x=\"598.046875\"/>\n     <use xlink:href=\"#DejaVuSans-69\" x=\"661.425781\"/>\n     <use xlink:href=\"#DejaVuSans-6e\" x=\"689.208984\"/>\n     <use xlink:href=\"#DejaVuSans-64\" x=\"752.587891\"/>\n     <use xlink:href=\"#DejaVuSans-65\" x=\"816.064453\"/>\n     <use xlink:href=\"#DejaVuSans-78\" x=\"875.837891\"/>\n    </g>\n   </g>\n   <g id=\"text_46\">\n    <!-- booktranslations -->\n    <g style=\"fill: #262626\" transform=\"translate(479.35637 97.208236) scale(0.1 -0.1)\">\n     <use xlink:href=\"#DejaVuSans-62\"/>\n     <use xlink:href=\"#DejaVuSans-6f\" x=\"63.476562\"/>\n     <use xlink:href=\"#DejaVuSans-6f\" x=\"124.658203\"/>\n     <use xlink:href=\"#DejaVuSans-6b\" x=\"185.839844\"/>\n     <use xlink:href=\"#DejaVuSans-74\" x=\"243.75\"/>\n     <use xlink:href=\"#DejaVuSans-72\" x=\"282.958984\"/>\n     <use xlink:href=\"#DejaVuSans-61\" x=\"324.072266\"/>\n     <use xlink:href=\"#DejaVuSans-6e\" x=\"385.351562\"/>\n     <use xlink:href=\"#DejaVuSans-73\" x=\"448.730469\"/>\n     <use xlink:href=\"#DejaVuSans-6c\" x=\"500.830078\"/>\n     <use xlink:href=\"#DejaVuSans-61\" x=\"528.613281\"/>\n     <use xlink:href=\"#DejaVuSans-74\" x=\"589.892578\"/>\n     <use xlink:href=\"#DejaVuSans-69\" x=\"629.101562\"/>\n     <use xlink:href=\"#DejaVuSans-6f\" x=\"656.884766\"/>\n     <use xlink:href=\"#DejaVuSans-6e\" x=\"718.066406\"/>\n     <use xlink:href=\"#DejaVuSans-73\" x=\"781.445312\"/>\n    </g>\n   </g>\n   <g id=\"text_47\">\n    <!-- boycottembargo -->\n    <g style=\"fill: #262626\" transform=\"translate(517.277533 102.679806) scale(0.1 -0.1)\">\n     <use xlink:href=\"#DejaVuSans-62\"/>\n     <use xlink:href=\"#DejaVuSans-6f\" x=\"63.476562\"/>\n     <use xlink:href=\"#DejaVuSans-79\" x=\"124.658203\"/>\n     <use xlink:href=\"#DejaVuSans-63\" x=\"183.837891\"/>\n     <use xlink:href=\"#DejaVuSans-6f\" x=\"238.818359\"/>\n     <use xlink:href=\"#DejaVuSans-74\" x=\"300\"/>\n     <use xlink:href=\"#DejaVuSans-74\" x=\"339.208984\"/>\n     <use xlink:href=\"#DejaVuSans-65\" x=\"378.417969\"/>\n     <use xlink:href=\"#DejaVuSans-6d\" x=\"439.941406\"/>\n     <use xlink:href=\"#DejaVuSans-62\" x=\"537.353516\"/>\n     <use xlink:href=\"#DejaVuSans-61\" x=\"600.830078\"/>\n     <use xlink:href=\"#DejaVuSans-72\" x=\"662.109375\"/>\n     <use xlink:href=\"#DejaVuSans-67\" x=\"701.472656\"/>\n     <use xlink:href=\"#DejaVuSans-6f\" x=\"764.949219\"/>\n    </g>\n   </g>\n   <g id=\"text_48\">\n    <!-- commonbloc0 -->\n    <g style=\"fill: #262626\" transform=\"translate(519.200605 95.295876) scale(0.1 -0.1)\">\n     <use xlink:href=\"#DejaVuSans-63\"/>\n     <use xlink:href=\"#DejaVuSans-6f\" x=\"54.980469\"/>\n     <use xlink:href=\"#DejaVuSans-6d\" x=\"116.162109\"/>\n     <use xlink:href=\"#DejaVuSans-6d\" x=\"213.574219\"/>\n     <use xlink:href=\"#DejaVuSans-6f\" x=\"310.986328\"/>\n     <use xlink:href=\"#DejaVuSans-6e\" x=\"372.167969\"/>\n     <use xlink:href=\"#DejaVuSans-62\" x=\"435.546875\"/>\n     <use xlink:href=\"#DejaVuSans-6c\" x=\"499.023438\"/>\n     <use xlink:href=\"#DejaVuSans-6f\" x=\"526.806641\"/>\n     <use xlink:href=\"#DejaVuSans-63\" x=\"587.988281\"/>\n     <use xlink:href=\"#DejaVuSans-30\" x=\"642.96875\"/>\n    </g>\n   </g>\n   <g id=\"text_49\">\n    <!-- commonbloc1 -->\n    <g style=\"fill: #262626\" transform=\"translate(438.14386 107.662375) scale(0.1 -0.1)\">\n     <use xlink:href=\"#DejaVuSans-63\"/>\n     <use xlink:href=\"#DejaVuSans-6f\" x=\"54.980469\"/>\n     <use xlink:href=\"#DejaVuSans-6d\" x=\"116.162109\"/>\n     <use xlink:href=\"#DejaVuSans-6d\" x=\"213.574219\"/>\n     <use xlink:href=\"#DejaVuSans-6f\" x=\"310.986328\"/>\n     <use xlink:href=\"#DejaVuSans-6e\" x=\"372.167969\"/>\n     <use xlink:href=\"#DejaVuSans-62\" x=\"435.546875\"/>\n     <use xlink:href=\"#DejaVuSans-6c\" x=\"499.023438\"/>\n     <use xlink:href=\"#DejaVuSans-6f\" x=\"526.806641\"/>\n     <use xlink:href=\"#DejaVuSans-63\" x=\"587.988281\"/>\n     <use xlink:href=\"#DejaVuSans-31\" x=\"642.96875\"/>\n    </g>\n   </g>\n   <g id=\"text_50\">\n    <!-- commonbloc2 -->\n    <g style=\"fill: #262626\" transform=\"translate(513.377995 121.40134) scale(0.1 -0.1)\">\n     <use xlink:href=\"#DejaVuSans-63\"/>\n     <use xlink:href=\"#DejaVuSans-6f\" x=\"54.980469\"/>\n     <use xlink:href=\"#DejaVuSans-6d\" x=\"116.162109\"/>\n     <use xlink:href=\"#DejaVuSans-6d\" x=\"213.574219\"/>\n     <use xlink:href=\"#DejaVuSans-6f\" x=\"310.986328\"/>\n     <use xlink:href=\"#DejaVuSans-6e\" x=\"372.167969\"/>\n     <use xlink:href=\"#DejaVuSans-62\" x=\"435.546875\"/>\n     <use xlink:href=\"#DejaVuSans-6c\" x=\"499.023438\"/>\n     <use xlink:href=\"#DejaVuSans-6f\" x=\"526.806641\"/>\n     <use xlink:href=\"#DejaVuSans-63\" x=\"587.988281\"/>\n     <use xlink:href=\"#DejaVuSans-32\" x=\"642.96875\"/>\n    </g>\n   </g>\n   <g id=\"text_51\">\n    <!-- conferences -->\n    <g style=\"fill: #262626\" transform=\"translate(479.034497 106.818213) scale(0.1 -0.1)\">\n     <defs>\n      <path id=\"DejaVuSans-66\" d=\"M 2375 4863 \nL 2375 4384 \nL 1825 4384 \nQ 1516 4384 1395 4259 \nQ 1275 4134 1275 3809 \nL 1275 3500 \nL 2222 3500 \nL 2222 3053 \nL 1275 3053 \nL 1275 0 \nL 697 0 \nL 697 3053 \nL 147 3053 \nL 147 3500 \nL 697 3500 \nL 697 3744 \nQ 697 4328 969 4595 \nQ 1241 4863 1831 4863 \nL 2375 4863 \nz\n\" transform=\"scale(0.015625)\"/>\n     </defs>\n     <use xlink:href=\"#DejaVuSans-63\"/>\n     <use xlink:href=\"#DejaVuSans-6f\" x=\"54.980469\"/>\n     <use xlink:href=\"#DejaVuSans-6e\" x=\"116.162109\"/>\n     <use xlink:href=\"#DejaVuSans-66\" x=\"179.541016\"/>\n     <use xlink:href=\"#DejaVuSans-65\" x=\"214.746094\"/>\n     <use xlink:href=\"#DejaVuSans-72\" x=\"276.269531\"/>\n     <use xlink:href=\"#DejaVuSans-65\" x=\"315.132812\"/>\n     <use xlink:href=\"#DejaVuSans-6e\" x=\"376.65625\"/>\n     <use xlink:href=\"#DejaVuSans-63\" x=\"440.035156\"/>\n     <use xlink:href=\"#DejaVuSans-65\" x=\"495.015625\"/>\n     <use xlink:href=\"#DejaVuSans-73\" x=\"556.539062\"/>\n    </g>\n   </g>\n   <g id=\"text_52\">\n    <!-- dependent -->\n    <g style=\"fill: #262626\" transform=\"translate(440.34254 115.282483) scale(0.1 -0.1)\">\n     <use xlink:href=\"#DejaVuSans-64\"/>\n     <use xlink:href=\"#DejaVuSans-65\" x=\"63.476562\"/>\n     <use xlink:href=\"#DejaVuSans-70\" x=\"125\"/>\n     <use xlink:href=\"#DejaVuSans-65\" x=\"188.476562\"/>\n     <use xlink:href=\"#DejaVuSans-6e\" x=\"250\"/>\n     <use xlink:href=\"#DejaVuSans-64\" x=\"313.378906\"/>\n     <use xlink:href=\"#DejaVuSans-65\" x=\"376.855469\"/>\n     <use xlink:href=\"#DejaVuSans-6e\" x=\"438.378906\"/>\n     <use xlink:href=\"#DejaVuSans-74\" x=\"501.757812\"/>\n    </g>\n   </g>\n   <g id=\"text_53\">\n    <!-- duration -->\n    <g style=\"fill: #262626\" transform=\"translate(479.255274 106.707821) scale(0.1 -0.1)\">\n     <use xlink:href=\"#DejaVuSans-64\"/>\n     <use xlink:href=\"#DejaVuSans-75\" x=\"63.476562\"/>\n     <use xlink:href=\"#DejaVuSans-72\" x=\"126.855469\"/>\n     <use xlink:href=\"#DejaVuSans-61\" x=\"167.96875\"/>\n     <use xlink:href=\"#DejaVuSans-74\" x=\"229.248047\"/>\n     <use xlink:href=\"#DejaVuSans-69\" x=\"268.457031\"/>\n     <use xlink:href=\"#DejaVuSans-6f\" x=\"296.240234\"/>\n     <use xlink:href=\"#DejaVuSans-6e\" x=\"357.421875\"/>\n    </g>\n   </g>\n   <g id=\"text_54\">\n    <!-- economicaid -->\n    <g style=\"fill: #262626\" transform=\"translate(623.627999 77.028761) scale(0.1 -0.1)\">\n     <use xlink:href=\"#DejaVuSans-65\"/>\n     <use xlink:href=\"#DejaVuSans-63\" x=\"61.523438\"/>\n     <use xlink:href=\"#DejaVuSans-6f\" x=\"116.503906\"/>\n     <use xlink:href=\"#DejaVuSans-6e\" x=\"177.685547\"/>\n     <use xlink:href=\"#DejaVuSans-6f\" x=\"241.064453\"/>\n     <use xlink:href=\"#DejaVuSans-6d\" x=\"302.246094\"/>\n     <use xlink:href=\"#DejaVuSans-69\" x=\"399.658203\"/>\n     <use xlink:href=\"#DejaVuSans-63\" x=\"427.441406\"/>\n     <use xlink:href=\"#DejaVuSans-61\" x=\"482.421875\"/>\n     <use xlink:href=\"#DejaVuSans-69\" x=\"543.701172\"/>\n     <use xlink:href=\"#DejaVuSans-64\" x=\"571.484375\"/>\n    </g>\n   </g>\n   <g id=\"text_55\">\n    <!-- eemigrants -->\n    <g style=\"fill: #262626\" transform=\"translate(514.999523 91.936947) scale(0.1 -0.1)\">\n     <use xlink:href=\"#DejaVuSans-65\"/>\n     <use xlink:href=\"#DejaVuSans-65\" x=\"61.523438\"/>\n     <use xlink:href=\"#DejaVuSans-6d\" x=\"123.046875\"/>\n     <use xlink:href=\"#DejaVuSans-69\" x=\"220.458984\"/>\n     <use xlink:href=\"#DejaVuSans-67\" x=\"248.242188\"/>\n     <use xlink:href=\"#DejaVuSans-72\" x=\"311.71875\"/>\n     <use xlink:href=\"#DejaVuSans-61\" x=\"352.832031\"/>\n     <use xlink:href=\"#DejaVuSans-6e\" x=\"414.111328\"/>\n     <use xlink:href=\"#DejaVuSans-74\" x=\"477.490234\"/>\n     <use xlink:href=\"#DejaVuSans-73\" x=\"516.699219\"/>\n    </g>\n   </g>\n   <g id=\"text_56\">\n    <!-- embassy -->\n    <g style=\"fill: #262626\" transform=\"translate(488.688934 89.113314) scale(0.1 -0.1)\">\n     <use xlink:href=\"#DejaVuSans-65\"/>\n     <use xlink:href=\"#DejaVuSans-6d\" x=\"61.523438\"/>\n     <use xlink:href=\"#DejaVuSans-62\" x=\"158.935547\"/>\n     <use xlink:href=\"#DejaVuSans-61\" x=\"222.412109\"/>\n     <use xlink:href=\"#DejaVuSans-73\" x=\"283.691406\"/>\n     <use xlink:href=\"#DejaVuSans-73\" x=\"335.791016\"/>\n     <use xlink:href=\"#DejaVuSans-79\" x=\"387.890625\"/>\n    </g>\n   </g>\n   <g id=\"text_57\">\n    <!-- emigrants3 -->\n    <g style=\"fill: #262626\" transform=\"translate(486.81341 40.12268) scale(0.1 -0.1)\">\n     <use xlink:href=\"#DejaVuSans-65\"/>\n     <use xlink:href=\"#DejaVuSans-6d\" x=\"61.523438\"/>\n     <use xlink:href=\"#DejaVuSans-69\" x=\"158.935547\"/>\n     <use xlink:href=\"#DejaVuSans-67\" x=\"186.71875\"/>\n     <use xlink:href=\"#DejaVuSans-72\" x=\"250.195312\"/>\n     <use xlink:href=\"#DejaVuSans-61\" x=\"291.308594\"/>\n     <use xlink:href=\"#DejaVuSans-6e\" x=\"352.587891\"/>\n     <use xlink:href=\"#DejaVuSans-74\" x=\"415.966797\"/>\n     <use xlink:href=\"#DejaVuSans-73\" x=\"455.175781\"/>\n     <use xlink:href=\"#DejaVuSans-33\" x=\"507.275391\"/>\n    </g>\n   </g>\n   <g id=\"text_58\">\n    <!-- expeldiplomats -->\n    <g style=\"fill: #262626\" transform=\"translate(537.006429 98.140545) scale(0.1 -0.1)\">\n     <use xlink:href=\"#DejaVuSans-65\"/>\n     <use xlink:href=\"#DejaVuSans-78\" x=\"59.773438\"/>\n     <use xlink:href=\"#DejaVuSans-70\" x=\"118.953125\"/>\n     <use xlink:href=\"#DejaVuSans-65\" x=\"182.429688\"/>\n     <use xlink:href=\"#DejaVuSans-6c\" x=\"243.953125\"/>\n     <use xlink:href=\"#DejaVuSans-64\" x=\"271.736328\"/>\n     <use xlink:href=\"#DejaVuSans-69\" x=\"335.212891\"/>\n     <use xlink:href=\"#DejaVuSans-70\" x=\"362.996094\"/>\n     <use xlink:href=\"#DejaVuSans-6c\" x=\"426.472656\"/>\n     <use xlink:href=\"#DejaVuSans-6f\" x=\"454.255859\"/>\n     <use xlink:href=\"#DejaVuSans-6d\" x=\"515.4375\"/>\n     <use xlink:href=\"#DejaVuSans-61\" x=\"612.849609\"/>\n     <use xlink:href=\"#DejaVuSans-74\" x=\"674.128906\"/>\n     <use xlink:href=\"#DejaVuSans-73\" x=\"713.337891\"/>\n    </g>\n   </g>\n   <g id=\"text_59\">\n    <!-- exportbooks -->\n    <g style=\"fill: #262626\" transform=\"translate(571.459764 80.76115) scale(0.1 -0.1)\">\n     <use xlink:href=\"#DejaVuSans-65\"/>\n     <use xlink:href=\"#DejaVuSans-78\" x=\"59.773438\"/>\n     <use xlink:href=\"#DejaVuSans-70\" x=\"118.953125\"/>\n     <use xlink:href=\"#DejaVuSans-6f\" x=\"182.429688\"/>\n     <use xlink:href=\"#DejaVuSans-72\" x=\"243.611328\"/>\n     <use xlink:href=\"#DejaVuSans-74\" x=\"284.724609\"/>\n     <use xlink:href=\"#DejaVuSans-62\" x=\"323.933594\"/>\n     <use xlink:href=\"#DejaVuSans-6f\" x=\"387.410156\"/>\n     <use xlink:href=\"#DejaVuSans-6f\" x=\"448.591797\"/>\n     <use xlink:href=\"#DejaVuSans-6b\" x=\"509.773438\"/>\n     <use xlink:href=\"#DejaVuSans-73\" x=\"567.683594\"/>\n    </g>\n   </g>\n   <g id=\"text_60\">\n    <!-- exports3 -->\n    <g style=\"fill: #262626\" transform=\"translate(429.98215 125.431353) scale(0.1 -0.1)\">\n     <use xlink:href=\"#DejaVuSans-65\"/>\n     <use xlink:href=\"#DejaVuSans-78\" x=\"59.773438\"/>\n     <use xlink:href=\"#DejaVuSans-70\" x=\"118.953125\"/>\n     <use xlink:href=\"#DejaVuSans-6f\" x=\"182.429688\"/>\n     <use xlink:href=\"#DejaVuSans-72\" x=\"243.611328\"/>\n     <use xlink:href=\"#DejaVuSans-74\" x=\"284.724609\"/>\n     <use xlink:href=\"#DejaVuSans-73\" x=\"323.933594\"/>\n     <use xlink:href=\"#DejaVuSans-33\" x=\"376.033203\"/>\n    </g>\n   </g>\n   <g id=\"text_61\">\n    <!-- independence -->\n    <g style=\"fill: #262626\" transform=\"translate(549.744262 105.463282) scale(0.1 -0.1)\">\n     <use xlink:href=\"#DejaVuSans-69\"/>\n     <use xlink:href=\"#DejaVuSans-6e\" x=\"27.783203\"/>\n     <use xlink:href=\"#DejaVuSans-64\" x=\"91.162109\"/>\n     <use xlink:href=\"#DejaVuSans-65\" x=\"154.638672\"/>\n     <use xlink:href=\"#DejaVuSans-70\" x=\"216.162109\"/>\n     <use xlink:href=\"#DejaVuSans-65\" x=\"279.638672\"/>\n     <use xlink:href=\"#DejaVuSans-6e\" x=\"341.162109\"/>\n     <use xlink:href=\"#DejaVuSans-64\" x=\"404.541016\"/>\n     <use xlink:href=\"#DejaVuSans-65\" x=\"468.017578\"/>\n     <use xlink:href=\"#DejaVuSans-6e\" x=\"529.541016\"/>\n     <use xlink:href=\"#DejaVuSans-63\" x=\"592.919922\"/>\n     <use xlink:href=\"#DejaVuSans-65\" x=\"647.900391\"/>\n    </g>\n   </g>\n   <g id=\"text_62\">\n    <!-- intergovorgs -->\n    <g style=\"fill: #262626\" transform=\"translate(516.034459 109.469266) scale(0.1 -0.1)\">\n     <defs>\n      <path id=\"DejaVuSans-76\" d=\"M 191 3500 \nL 800 3500 \nL 1894 563 \nL 2988 3500 \nL 3597 3500 \nL 2284 0 \nL 1503 0 \nL 191 3500 \nz\n\" transform=\"scale(0.015625)\"/>\n     </defs>\n     <use xlink:href=\"#DejaVuSans-69\"/>\n     <use xlink:href=\"#DejaVuSans-6e\" x=\"27.783203\"/>\n     <use xlink:href=\"#DejaVuSans-74\" x=\"91.162109\"/>\n     <use xlink:href=\"#DejaVuSans-65\" x=\"130.371094\"/>\n     <use xlink:href=\"#DejaVuSans-72\" x=\"191.894531\"/>\n     <use xlink:href=\"#DejaVuSans-67\" x=\"231.257812\"/>\n     <use xlink:href=\"#DejaVuSans-6f\" x=\"294.734375\"/>\n     <use xlink:href=\"#DejaVuSans-76\" x=\"355.916016\"/>\n     <use xlink:href=\"#DejaVuSans-6f\" x=\"415.095703\"/>\n     <use xlink:href=\"#DejaVuSans-72\" x=\"476.277344\"/>\n     <use xlink:href=\"#DejaVuSans-67\" x=\"515.640625\"/>\n     <use xlink:href=\"#DejaVuSans-73\" x=\"579.117188\"/>\n    </g>\n   </g>\n   <g id=\"text_63\">\n    <!-- intergovorgs3 -->\n    <g style=\"fill: #262626\" transform=\"translate(491.018202 57.792522) scale(0.1 -0.1)\">\n     <use xlink:href=\"#DejaVuSans-69\"/>\n     <use xlink:href=\"#DejaVuSans-6e\" x=\"27.783203\"/>\n     <use xlink:href=\"#DejaVuSans-74\" x=\"91.162109\"/>\n     <use xlink:href=\"#DejaVuSans-65\" x=\"130.371094\"/>\n     <use xlink:href=\"#DejaVuSans-72\" x=\"191.894531\"/>\n     <use xlink:href=\"#DejaVuSans-67\" x=\"231.257812\"/>\n     <use xlink:href=\"#DejaVuSans-6f\" x=\"294.734375\"/>\n     <use xlink:href=\"#DejaVuSans-76\" x=\"355.916016\"/>\n     <use xlink:href=\"#DejaVuSans-6f\" x=\"415.095703\"/>\n     <use xlink:href=\"#DejaVuSans-72\" x=\"476.277344\"/>\n     <use xlink:href=\"#DejaVuSans-67\" x=\"515.640625\"/>\n     <use xlink:href=\"#DejaVuSans-73\" x=\"579.117188\"/>\n     <use xlink:href=\"#DejaVuSans-33\" x=\"631.216797\"/>\n    </g>\n   </g>\n   <g id=\"text_64\">\n    <!-- lostterritory -->\n    <g style=\"fill: #262626\" transform=\"translate(643.060732 80.621976) scale(0.1 -0.1)\">\n     <use xlink:href=\"#DejaVuSans-6c\"/>\n     <use xlink:href=\"#DejaVuSans-6f\" x=\"27.783203\"/>\n     <use xlink:href=\"#DejaVuSans-73\" x=\"88.964844\"/>\n     <use xlink:href=\"#DejaVuSans-74\" x=\"141.064453\"/>\n     <use xlink:href=\"#DejaVuSans-74\" x=\"180.273438\"/>\n     <use xlink:href=\"#DejaVuSans-65\" x=\"219.482422\"/>\n     <use xlink:href=\"#DejaVuSans-72\" x=\"281.005859\"/>\n     <use xlink:href=\"#DejaVuSans-72\" x=\"320.369141\"/>\n     <use xlink:href=\"#DejaVuSans-69\" x=\"361.482422\"/>\n     <use xlink:href=\"#DejaVuSans-74\" x=\"389.265625\"/>\n     <use xlink:href=\"#DejaVuSans-6f\" x=\"428.474609\"/>\n     <use xlink:href=\"#DejaVuSans-72\" x=\"489.65625\"/>\n     <use xlink:href=\"#DejaVuSans-79\" x=\"530.769531\"/>\n    </g>\n   </g>\n   <g id=\"text_65\">\n    <!-- militaryactions -->\n    <g style=\"fill: #262626\" transform=\"translate(598.900998 82.159879) scale(0.1 -0.1)\">\n     <use xlink:href=\"#DejaVuSans-6d\"/>\n     <use xlink:href=\"#DejaVuSans-69\" x=\"97.412109\"/>\n     <use xlink:href=\"#DejaVuSans-6c\" x=\"125.195312\"/>\n     <use xlink:href=\"#DejaVuSans-69\" x=\"152.978516\"/>\n     <use xlink:href=\"#DejaVuSans-74\" x=\"180.761719\"/>\n     <use xlink:href=\"#DejaVuSans-61\" x=\"219.970703\"/>\n     <use xlink:href=\"#DejaVuSans-72\" x=\"281.25\"/>\n     <use xlink:href=\"#DejaVuSans-79\" x=\"322.363281\"/>\n     <use xlink:href=\"#DejaVuSans-61\" x=\"381.542969\"/>\n     <use xlink:href=\"#DejaVuSans-63\" x=\"442.822266\"/>\n     <use xlink:href=\"#DejaVuSans-74\" x=\"497.802734\"/>\n     <use xlink:href=\"#DejaVuSans-69\" x=\"537.011719\"/>\n     <use xlink:href=\"#DejaVuSans-6f\" x=\"564.794922\"/>\n     <use xlink:href=\"#DejaVuSans-6e\" x=\"625.976562\"/>\n     <use xlink:href=\"#DejaVuSans-73\" x=\"689.355469\"/>\n    </g>\n   </g>\n   <g id=\"text_66\">\n    <!-- militaryalliance -->\n    <g style=\"fill: #262626\" transform=\"translate(514.056686 95.64136) scale(0.1 -0.1)\">\n     <use xlink:href=\"#DejaVuSans-6d\"/>\n     <use xlink:href=\"#DejaVuSans-69\" x=\"97.412109\"/>\n     <use xlink:href=\"#DejaVuSans-6c\" x=\"125.195312\"/>\n     <use xlink:href=\"#DejaVuSans-69\" x=\"152.978516\"/>\n     <use xlink:href=\"#DejaVuSans-74\" x=\"180.761719\"/>\n     <use xlink:href=\"#DejaVuSans-61\" x=\"219.970703\"/>\n     <use xlink:href=\"#DejaVuSans-72\" x=\"281.25\"/>\n     <use xlink:href=\"#DejaVuSans-79\" x=\"322.363281\"/>\n     <use xlink:href=\"#DejaVuSans-61\" x=\"381.542969\"/>\n     <use xlink:href=\"#DejaVuSans-6c\" x=\"442.822266\"/>\n     <use xlink:href=\"#DejaVuSans-6c\" x=\"470.605469\"/>\n     <use xlink:href=\"#DejaVuSans-69\" x=\"498.388672\"/>\n     <use xlink:href=\"#DejaVuSans-61\" x=\"526.171875\"/>\n     <use xlink:href=\"#DejaVuSans-6e\" x=\"587.451172\"/>\n     <use xlink:href=\"#DejaVuSans-63\" x=\"650.830078\"/>\n     <use xlink:href=\"#DejaVuSans-65\" x=\"705.810547\"/>\n    </g>\n   </g>\n   <g id=\"text_67\">\n    <!-- negativebehavior -->\n    <g style=\"fill: #262626\" transform=\"translate(495.665864 152.958699) scale(0.1 -0.1)\">\n     <use xlink:href=\"#DejaVuSans-6e\"/>\n     <use xlink:href=\"#DejaVuSans-65\" x=\"63.378906\"/>\n     <use xlink:href=\"#DejaVuSans-67\" x=\"124.902344\"/>\n     <use xlink:href=\"#DejaVuSans-61\" x=\"188.378906\"/>\n     <use xlink:href=\"#DejaVuSans-74\" x=\"249.658203\"/>\n     <use xlink:href=\"#DejaVuSans-69\" x=\"288.867188\"/>\n     <use xlink:href=\"#DejaVuSans-76\" x=\"316.650391\"/>\n     <use xlink:href=\"#DejaVuSans-65\" x=\"375.830078\"/>\n     <use xlink:href=\"#DejaVuSans-62\" x=\"437.353516\"/>\n     <use xlink:href=\"#DejaVuSans-65\" x=\"500.830078\"/>\n     <use xlink:href=\"#DejaVuSans-68\" x=\"562.353516\"/>\n     <use xlink:href=\"#DejaVuSans-61\" x=\"625.732422\"/>\n     <use xlink:href=\"#DejaVuSans-76\" x=\"687.011719\"/>\n     <use xlink:href=\"#DejaVuSans-69\" x=\"746.191406\"/>\n     <use xlink:href=\"#DejaVuSans-6f\" x=\"773.974609\"/>\n     <use xlink:href=\"#DejaVuSans-72\" x=\"835.15625\"/>\n    </g>\n   </g>\n   <g id=\"text_68\">\n    <!-- negativecomm -->\n    <g style=\"fill: #262626\" transform=\"translate(458.335781 66.079149) scale(0.1 -0.1)\">\n     <use xlink:href=\"#DejaVuSans-6e\"/>\n     <use xlink:href=\"#DejaVuSans-65\" x=\"63.378906\"/>\n     <use xlink:href=\"#DejaVuSans-67\" x=\"124.902344\"/>\n     <use xlink:href=\"#DejaVuSans-61\" x=\"188.378906\"/>\n     <use xlink:href=\"#DejaVuSans-74\" x=\"249.658203\"/>\n     <use xlink:href=\"#DejaVuSans-69\" x=\"288.867188\"/>\n     <use xlink:href=\"#DejaVuSans-76\" x=\"316.650391\"/>\n     <use xlink:href=\"#DejaVuSans-65\" x=\"375.830078\"/>\n     <use xlink:href=\"#DejaVuSans-63\" x=\"437.353516\"/>\n     <use xlink:href=\"#DejaVuSans-6f\" x=\"492.333984\"/>\n     <use xlink:href=\"#DejaVuSans-6d\" x=\"553.515625\"/>\n     <use xlink:href=\"#DejaVuSans-6d\" x=\"650.927734\"/>\n    </g>\n   </g>\n   <g id=\"text_69\">\n    <!-- ngo -->\n    <g style=\"fill: #262626\" transform=\"translate(484.448781 93.904884) scale(0.1 -0.1)\">\n     <use xlink:href=\"#DejaVuSans-6e\"/>\n     <use xlink:href=\"#DejaVuSans-67\" x=\"63.378906\"/>\n     <use xlink:href=\"#DejaVuSans-6f\" x=\"126.855469\"/>\n    </g>\n   </g>\n   <g id=\"text_70\">\n    <!-- ngoorgs3 -->\n    <g style=\"fill: #262626\" transform=\"translate(461.15707 83.276402) scale(0.1 -0.1)\">\n     <use xlink:href=\"#DejaVuSans-6e\"/>\n     <use xlink:href=\"#DejaVuSans-67\" x=\"63.378906\"/>\n     <use xlink:href=\"#DejaVuSans-6f\" x=\"126.855469\"/>\n     <use xlink:href=\"#DejaVuSans-6f\" x=\"188.037109\"/>\n     <use xlink:href=\"#DejaVuSans-72\" x=\"249.21875\"/>\n     <use xlink:href=\"#DejaVuSans-67\" x=\"288.582031\"/>\n     <use xlink:href=\"#DejaVuSans-73\" x=\"352.058594\"/>\n     <use xlink:href=\"#DejaVuSans-33\" x=\"404.158203\"/>\n    </g>\n   </g>\n   <g id=\"text_71\">\n    <!-- nonviolentbehavior -->\n    <g style=\"fill: #262626\" transform=\"translate(423.731374 68.18313) scale(0.1 -0.1)\">\n     <use xlink:href=\"#DejaVuSans-6e\"/>\n     <use xlink:href=\"#DejaVuSans-6f\" x=\"63.378906\"/>\n     <use xlink:href=\"#DejaVuSans-6e\" x=\"124.560547\"/>\n     <use xlink:href=\"#DejaVuSans-76\" x=\"187.939453\"/>\n     <use xlink:href=\"#DejaVuSans-69\" x=\"247.119141\"/>\n     <use xlink:href=\"#DejaVuSans-6f\" x=\"274.902344\"/>\n     <use xlink:href=\"#DejaVuSans-6c\" x=\"336.083984\"/>\n     <use xlink:href=\"#DejaVuSans-65\" x=\"363.867188\"/>\n     <use xlink:href=\"#DejaVuSans-6e\" x=\"425.390625\"/>\n     <use xlink:href=\"#DejaVuSans-74\" x=\"488.769531\"/>\n     <use xlink:href=\"#DejaVuSans-62\" x=\"527.978516\"/>\n     <use xlink:href=\"#DejaVuSans-65\" x=\"591.455078\"/>\n     <use xlink:href=\"#DejaVuSans-68\" x=\"652.978516\"/>\n     <use xlink:href=\"#DejaVuSans-61\" x=\"716.357422\"/>\n     <use xlink:href=\"#DejaVuSans-76\" x=\"777.636719\"/>\n     <use xlink:href=\"#DejaVuSans-69\" x=\"836.816406\"/>\n     <use xlink:href=\"#DejaVuSans-6f\" x=\"864.599609\"/>\n     <use xlink:href=\"#DejaVuSans-72\" x=\"925.78125\"/>\n    </g>\n   </g>\n   <g id=\"text_72\">\n    <!-- officialvisits -->\n    <g style=\"fill: #262626\" transform=\"translate(493.792261 92.207289) scale(0.1 -0.1)\">\n     <use xlink:href=\"#DejaVuSans-6f\"/>\n     <use xlink:href=\"#DejaVuSans-66\" x=\"61.181641\"/>\n     <use xlink:href=\"#DejaVuSans-66\" x=\"96.386719\"/>\n     <use xlink:href=\"#DejaVuSans-69\" x=\"131.591797\"/>\n     <use xlink:href=\"#DejaVuSans-63\" x=\"159.375\"/>\n     <use xlink:href=\"#DejaVuSans-69\" x=\"214.355469\"/>\n     <use xlink:href=\"#DejaVuSans-61\" x=\"242.138672\"/>\n     <use xlink:href=\"#DejaVuSans-6c\" x=\"303.417969\"/>\n     <use xlink:href=\"#DejaVuSans-76\" x=\"331.201172\"/>\n     <use xlink:href=\"#DejaVuSans-69\" x=\"390.380859\"/>\n     <use xlink:href=\"#DejaVuSans-73\" x=\"418.164062\"/>\n     <use xlink:href=\"#DejaVuSans-69\" x=\"470.263672\"/>\n     <use xlink:href=\"#DejaVuSans-74\" x=\"498.046875\"/>\n     <use xlink:href=\"#DejaVuSans-73\" x=\"537.255859\"/>\n    </g>\n   </g>\n   <g id=\"text_73\">\n    <!-- pprotests -->\n    <g style=\"fill: #262626\" transform=\"translate(507.129152 56.987918) scale(0.1 -0.1)\">\n     <use xlink:href=\"#DejaVuSans-70\"/>\n     <use xlink:href=\"#DejaVuSans-70\" x=\"63.476562\"/>\n     <use xlink:href=\"#DejaVuSans-72\" x=\"126.953125\"/>\n     <use xlink:href=\"#DejaVuSans-6f\" x=\"165.816406\"/>\n     <use xlink:href=\"#DejaVuSans-74\" x=\"226.998047\"/>\n     <use xlink:href=\"#DejaVuSans-65\" x=\"266.207031\"/>\n     <use xlink:href=\"#DejaVuSans-73\" x=\"327.730469\"/>\n     <use xlink:href=\"#DejaVuSans-74\" x=\"379.830078\"/>\n     <use xlink:href=\"#DejaVuSans-73\" x=\"419.039062\"/>\n    </g>\n   </g>\n   <g id=\"text_74\">\n    <!-- relbooktranslations -->\n    <g style=\"fill: #262626\" transform=\"translate(460.245188 70.332353) scale(0.1 -0.1)\">\n     <use xlink:href=\"#DejaVuSans-72\"/>\n     <use xlink:href=\"#DejaVuSans-65\" x=\"38.863281\"/>\n     <use xlink:href=\"#DejaVuSans-6c\" x=\"100.386719\"/>\n     <use xlink:href=\"#DejaVuSans-62\" x=\"128.169922\"/>\n     <use xlink:href=\"#DejaVuSans-6f\" x=\"191.646484\"/>\n     <use xlink:href=\"#DejaVuSans-6f\" x=\"252.828125\"/>\n     <use xlink:href=\"#DejaVuSans-6b\" x=\"314.009766\"/>\n     <use xlink:href=\"#DejaVuSans-74\" x=\"371.919922\"/>\n     <use xlink:href=\"#DejaVuSans-72\" x=\"411.128906\"/>\n     <use xlink:href=\"#DejaVuSans-61\" x=\"452.242188\"/>\n     <use xlink:href=\"#DejaVuSans-6e\" x=\"513.521484\"/>\n     <use xlink:href=\"#DejaVuSans-73\" x=\"576.900391\"/>\n     <use xlink:href=\"#DejaVuSans-6c\" x=\"629\"/>\n     <use xlink:href=\"#DejaVuSans-61\" x=\"656.783203\"/>\n     <use xlink:href=\"#DejaVuSans-74\" x=\"718.0625\"/>\n     <use xlink:href=\"#DejaVuSans-69\" x=\"757.271484\"/>\n     <use xlink:href=\"#DejaVuSans-6f\" x=\"785.054688\"/>\n     <use xlink:href=\"#DejaVuSans-6e\" x=\"846.236328\"/>\n     <use xlink:href=\"#DejaVuSans-73\" x=\"909.615234\"/>\n    </g>\n   </g>\n   <g id=\"text_75\">\n    <!-- reldiplomacy -->\n    <g style=\"fill: #262626\" transform=\"translate(540.333524 63.670751) scale(0.1 -0.1)\">\n     <use xlink:href=\"#DejaVuSans-72\"/>\n     <use xlink:href=\"#DejaVuSans-65\" x=\"38.863281\"/>\n     <use xlink:href=\"#DejaVuSans-6c\" x=\"100.386719\"/>\n     <use xlink:href=\"#DejaVuSans-64\" x=\"128.169922\"/>\n     <use xlink:href=\"#DejaVuSans-69\" x=\"191.646484\"/>\n     <use xlink:href=\"#DejaVuSans-70\" x=\"219.429688\"/>\n     <use xlink:href=\"#DejaVuSans-6c\" x=\"282.90625\"/>\n     <use xlink:href=\"#DejaVuSans-6f\" x=\"310.689453\"/>\n     <use xlink:href=\"#DejaVuSans-6d\" x=\"371.871094\"/>\n     <use xlink:href=\"#DejaVuSans-61\" x=\"469.283203\"/>\n     <use xlink:href=\"#DejaVuSans-63\" x=\"530.5625\"/>\n     <use xlink:href=\"#DejaVuSans-79\" x=\"585.542969\"/>\n    </g>\n   </g>\n   <g id=\"text_76\">\n    <!-- releconomicaid -->\n    <g style=\"fill: #262626\" transform=\"translate(604.98401 37.72682) scale(0.1 -0.1)\">\n     <use xlink:href=\"#DejaVuSans-72\"/>\n     <use xlink:href=\"#DejaVuSans-65\" x=\"38.863281\"/>\n     <use xlink:href=\"#DejaVuSans-6c\" x=\"100.386719\"/>\n     <use xlink:href=\"#DejaVuSans-65\" x=\"128.169922\"/>\n     <use xlink:href=\"#DejaVuSans-63\" x=\"189.693359\"/>\n     <use xlink:href=\"#DejaVuSans-6f\" x=\"244.673828\"/>\n     <use xlink:href=\"#DejaVuSans-6e\" x=\"305.855469\"/>\n     <use xlink:href=\"#DejaVuSans-6f\" x=\"369.234375\"/>\n     <use xlink:href=\"#DejaVuSans-6d\" x=\"430.416016\"/>\n     <use xlink:href=\"#DejaVuSans-69\" x=\"527.828125\"/>\n     <use xlink:href=\"#DejaVuSans-63\" x=\"555.611328\"/>\n     <use xlink:href=\"#DejaVuSans-61\" x=\"610.591797\"/>\n     <use xlink:href=\"#DejaVuSans-69\" x=\"671.871094\"/>\n     <use xlink:href=\"#DejaVuSans-64\" x=\"699.654297\"/>\n    </g>\n   </g>\n   <g id=\"text_77\">\n    <!-- relemigrants -->\n    <g style=\"fill: #262626\" transform=\"translate(509.971576 116.389677) scale(0.1 -0.1)\">\n     <use xlink:href=\"#DejaVuSans-72\"/>\n     <use xlink:href=\"#DejaVuSans-65\" x=\"38.863281\"/>\n     <use xlink:href=\"#DejaVuSans-6c\" x=\"100.386719\"/>\n     <use xlink:href=\"#DejaVuSans-65\" x=\"128.169922\"/>\n     <use xlink:href=\"#DejaVuSans-6d\" x=\"189.693359\"/>\n     <use xlink:href=\"#DejaVuSans-69\" x=\"287.105469\"/>\n     <use xlink:href=\"#DejaVuSans-67\" x=\"314.888672\"/>\n     <use xlink:href=\"#DejaVuSans-72\" x=\"378.365234\"/>\n     <use xlink:href=\"#DejaVuSans-61\" x=\"419.478516\"/>\n     <use xlink:href=\"#DejaVuSans-6e\" x=\"480.757812\"/>\n     <use xlink:href=\"#DejaVuSans-74\" x=\"544.136719\"/>\n     <use xlink:href=\"#DejaVuSans-73\" x=\"583.345703\"/>\n    </g>\n   </g>\n   <g id=\"text_78\">\n    <!-- relexportbooks -->\n    <g style=\"fill: #262626\" transform=\"translate(516.025436 109.76934) scale(0.1 -0.1)\">\n     <use xlink:href=\"#DejaVuSans-72\"/>\n     <use xlink:href=\"#DejaVuSans-65\" x=\"38.863281\"/>\n     <use xlink:href=\"#DejaVuSans-6c\" x=\"100.386719\"/>\n     <use xlink:href=\"#DejaVuSans-65\" x=\"128.169922\"/>\n     <use xlink:href=\"#DejaVuSans-78\" x=\"187.943359\"/>\n     <use xlink:href=\"#DejaVuSans-70\" x=\"247.123047\"/>\n     <use xlink:href=\"#DejaVuSans-6f\" x=\"310.599609\"/>\n     <use xlink:href=\"#DejaVuSans-72\" x=\"371.78125\"/>\n     <use xlink:href=\"#DejaVuSans-74\" x=\"412.894531\"/>\n     <use xlink:href=\"#DejaVuSans-62\" x=\"452.103516\"/>\n     <use xlink:href=\"#DejaVuSans-6f\" x=\"515.580078\"/>\n     <use xlink:href=\"#DejaVuSans-6f\" x=\"576.761719\"/>\n     <use xlink:href=\"#DejaVuSans-6b\" x=\"637.943359\"/>\n     <use xlink:href=\"#DejaVuSans-73\" x=\"695.853516\"/>\n    </g>\n   </g>\n   <g id=\"text_79\">\n    <!-- relexports -->\n    <g style=\"fill: #262626\" transform=\"translate(447.904893 117.265495) scale(0.1 -0.1)\">\n     <use xlink:href=\"#DejaVuSans-72\"/>\n     <use xlink:href=\"#DejaVuSans-65\" x=\"38.863281\"/>\n     <use xlink:href=\"#DejaVuSans-6c\" x=\"100.386719\"/>\n     <use xlink:href=\"#DejaVuSans-65\" x=\"128.169922\"/>\n     <use xlink:href=\"#DejaVuSans-78\" x=\"187.943359\"/>\n     <use xlink:href=\"#DejaVuSans-70\" x=\"247.123047\"/>\n     <use xlink:href=\"#DejaVuSans-6f\" x=\"310.599609\"/>\n     <use xlink:href=\"#DejaVuSans-72\" x=\"371.78125\"/>\n     <use xlink:href=\"#DejaVuSans-74\" x=\"412.894531\"/>\n     <use xlink:href=\"#DejaVuSans-73\" x=\"452.103516\"/>\n    </g>\n   </g>\n   <g id=\"text_80\">\n    <!-- relintergovorgs -->\n    <g style=\"fill: #262626\" transform=\"translate(444.886419 69.82118) scale(0.1 -0.1)\">\n     <use xlink:href=\"#DejaVuSans-72\"/>\n     <use xlink:href=\"#DejaVuSans-65\" x=\"38.863281\"/>\n     <use xlink:href=\"#DejaVuSans-6c\" x=\"100.386719\"/>\n     <use xlink:href=\"#DejaVuSans-69\" x=\"128.169922\"/>\n     <use xlink:href=\"#DejaVuSans-6e\" x=\"155.953125\"/>\n     <use xlink:href=\"#DejaVuSans-74\" x=\"219.332031\"/>\n     <use xlink:href=\"#DejaVuSans-65\" x=\"258.541016\"/>\n     <use xlink:href=\"#DejaVuSans-72\" x=\"320.064453\"/>\n     <use xlink:href=\"#DejaVuSans-67\" x=\"359.427734\"/>\n     <use xlink:href=\"#DejaVuSans-6f\" x=\"422.904297\"/>\n     <use xlink:href=\"#DejaVuSans-76\" x=\"484.085938\"/>\n     <use xlink:href=\"#DejaVuSans-6f\" x=\"543.265625\"/>\n     <use xlink:href=\"#DejaVuSans-72\" x=\"604.447266\"/>\n     <use xlink:href=\"#DejaVuSans-67\" x=\"643.810547\"/>\n     <use xlink:href=\"#DejaVuSans-73\" x=\"707.287109\"/>\n    </g>\n   </g>\n   <g id=\"text_81\">\n    <!-- relngo -->\n    <g style=\"fill: #262626\" transform=\"translate(447.155401 60.590362) scale(0.1 -0.1)\">\n     <use xlink:href=\"#DejaVuSans-72\"/>\n     <use xlink:href=\"#DejaVuSans-65\" x=\"38.863281\"/>\n     <use xlink:href=\"#DejaVuSans-6c\" x=\"100.386719\"/>\n     <use xlink:href=\"#DejaVuSans-6e\" x=\"128.169922\"/>\n     <use xlink:href=\"#DejaVuSans-67\" x=\"191.548828\"/>\n     <use xlink:href=\"#DejaVuSans-6f\" x=\"255.025391\"/>\n    </g>\n   </g>\n   <g id=\"text_82\">\n    <!-- relstudents -->\n    <g style=\"fill: #262626\" transform=\"translate(405.732569 67.847261) scale(0.1 -0.1)\">\n     <use xlink:href=\"#DejaVuSans-72\"/>\n     <use xlink:href=\"#DejaVuSans-65\" x=\"38.863281\"/>\n     <use xlink:href=\"#DejaVuSans-6c\" x=\"100.386719\"/>\n     <use xlink:href=\"#DejaVuSans-73\" x=\"128.169922\"/>\n     <use xlink:href=\"#DejaVuSans-74\" x=\"180.269531\"/>\n     <use xlink:href=\"#DejaVuSans-75\" x=\"219.478516\"/>\n     <use xlink:href=\"#DejaVuSans-64\" x=\"282.857422\"/>\n     <use xlink:href=\"#DejaVuSans-65\" x=\"346.333984\"/>\n     <use xlink:href=\"#DejaVuSans-6e\" x=\"407.857422\"/>\n     <use xlink:href=\"#DejaVuSans-74\" x=\"471.236328\"/>\n     <use xlink:href=\"#DejaVuSans-73\" x=\"510.445312\"/>\n    </g>\n   </g>\n   <g id=\"text_83\">\n    <!-- reltourism -->\n    <g style=\"fill: #262626\" transform=\"translate(560.020631 65.104281) scale(0.1 -0.1)\">\n     <use xlink:href=\"#DejaVuSans-72\"/>\n     <use xlink:href=\"#DejaVuSans-65\" x=\"38.863281\"/>\n     <use xlink:href=\"#DejaVuSans-6c\" x=\"100.386719\"/>\n     <use xlink:href=\"#DejaVuSans-74\" x=\"128.169922\"/>\n     <use xlink:href=\"#DejaVuSans-6f\" x=\"167.378906\"/>\n     <use xlink:href=\"#DejaVuSans-75\" x=\"228.560547\"/>\n     <use xlink:href=\"#DejaVuSans-72\" x=\"291.939453\"/>\n     <use xlink:href=\"#DejaVuSans-69\" x=\"333.052734\"/>\n     <use xlink:href=\"#DejaVuSans-73\" x=\"360.835938\"/>\n     <use xlink:href=\"#DejaVuSans-6d\" x=\"412.935547\"/>\n    </g>\n   </g>\n   <g id=\"text_84\">\n    <!-- reltreaties -->\n    <g style=\"fill: #262626\" transform=\"translate(517.955796 116.426072) scale(0.1 -0.1)\">\n     <use xlink:href=\"#DejaVuSans-72\"/>\n     <use xlink:href=\"#DejaVuSans-65\" x=\"38.863281\"/>\n     <use xlink:href=\"#DejaVuSans-6c\" x=\"100.386719\"/>\n     <use xlink:href=\"#DejaVuSans-74\" x=\"128.169922\"/>\n     <use xlink:href=\"#DejaVuSans-72\" x=\"167.378906\"/>\n     <use xlink:href=\"#DejaVuSans-65\" x=\"206.242188\"/>\n     <use xlink:href=\"#DejaVuSans-61\" x=\"267.765625\"/>\n     <use xlink:href=\"#DejaVuSans-74\" x=\"329.044922\"/>\n     <use xlink:href=\"#DejaVuSans-69\" x=\"368.253906\"/>\n     <use xlink:href=\"#DejaVuSans-65\" x=\"396.037109\"/>\n     <use xlink:href=\"#DejaVuSans-73\" x=\"457.560547\"/>\n    </g>\n   </g>\n   <g id=\"text_85\">\n    <!-- severdiplomatic -->\n    <g style=\"fill: #262626\" transform=\"translate(394.42116 114.3647) scale(0.1 -0.1)\">\n     <use xlink:href=\"#DejaVuSans-73\"/>\n     <use xlink:href=\"#DejaVuSans-65\" x=\"52.099609\"/>\n     <use xlink:href=\"#DejaVuSans-76\" x=\"113.623047\"/>\n     <use xlink:href=\"#DejaVuSans-65\" x=\"172.802734\"/>\n     <use xlink:href=\"#DejaVuSans-72\" x=\"234.326172\"/>\n     <use xlink:href=\"#DejaVuSans-64\" x=\"273.689453\"/>\n     <use xlink:href=\"#DejaVuSans-69\" x=\"337.166016\"/>\n     <use xlink:href=\"#DejaVuSans-70\" x=\"364.949219\"/>\n     <use xlink:href=\"#DejaVuSans-6c\" x=\"428.425781\"/>\n     <use xlink:href=\"#DejaVuSans-6f\" x=\"456.208984\"/>\n     <use xlink:href=\"#DejaVuSans-6d\" x=\"517.390625\"/>\n     <use xlink:href=\"#DejaVuSans-61\" x=\"614.802734\"/>\n     <use xlink:href=\"#DejaVuSans-74\" x=\"676.082031\"/>\n     <use xlink:href=\"#DejaVuSans-69\" x=\"715.291016\"/>\n     <use xlink:href=\"#DejaVuSans-63\" x=\"743.074219\"/>\n    </g>\n   </g>\n   <g id=\"text_86\">\n    <!-- students -->\n    <g style=\"fill: #262626\" transform=\"translate(470.629701 143.244477) scale(0.1 -0.1)\">\n     <use xlink:href=\"#DejaVuSans-73\"/>\n     <use xlink:href=\"#DejaVuSans-74\" x=\"52.099609\"/>\n     <use xlink:href=\"#DejaVuSans-75\" x=\"91.308594\"/>\n     <use xlink:href=\"#DejaVuSans-64\" x=\"154.6875\"/>\n     <use xlink:href=\"#DejaVuSans-65\" x=\"218.164062\"/>\n     <use xlink:href=\"#DejaVuSans-6e\" x=\"279.6875\"/>\n     <use xlink:href=\"#DejaVuSans-74\" x=\"343.066406\"/>\n     <use xlink:href=\"#DejaVuSans-73\" x=\"382.275391\"/>\n    </g>\n   </g>\n   <g id=\"text_87\">\n    <!-- timesinceally -->\n    <g style=\"fill: #262626\" transform=\"translate(507.617448 105.747876) scale(0.1 -0.1)\">\n     <use xlink:href=\"#DejaVuSans-74\"/>\n     <use xlink:href=\"#DejaVuSans-69\" x=\"39.208984\"/>\n     <use xlink:href=\"#DejaVuSans-6d\" x=\"66.992188\"/>\n     <use xlink:href=\"#DejaVuSans-65\" x=\"164.404297\"/>\n     <use xlink:href=\"#DejaVuSans-73\" x=\"225.927734\"/>\n     <use xlink:href=\"#DejaVuSans-69\" x=\"278.027344\"/>\n     <use xlink:href=\"#DejaVuSans-6e\" x=\"305.810547\"/>\n     <use xlink:href=\"#DejaVuSans-63\" x=\"369.189453\"/>\n     <use xlink:href=\"#DejaVuSans-65\" x=\"424.169922\"/>\n     <use xlink:href=\"#DejaVuSans-61\" x=\"485.693359\"/>\n     <use xlink:href=\"#DejaVuSans-6c\" x=\"546.972656\"/>\n     <use xlink:href=\"#DejaVuSans-6c\" x=\"574.755859\"/>\n     <use xlink:href=\"#DejaVuSans-79\" x=\"602.539062\"/>\n    </g>\n   </g>\n   <g id=\"text_88\">\n    <!-- timesincewar -->\n    <g style=\"fill: #262626\" transform=\"translate(511.958945 141.912218) scale(0.1 -0.1)\">\n     <defs>\n      <path id=\"DejaVuSans-77\" d=\"M 269 3500 \nL 844 3500 \nL 1563 769 \nL 2278 3500 \nL 2956 3500 \nL 3675 769 \nL 4391 3500 \nL 4966 3500 \nL 4050 0 \nL 3372 0 \nL 2619 2869 \nL 1863 0 \nL 1184 0 \nL 269 3500 \nz\n\" transform=\"scale(0.015625)\"/>\n     </defs>\n     <use xlink:href=\"#DejaVuSans-74\"/>\n     <use xlink:href=\"#DejaVuSans-69\" x=\"39.208984\"/>\n     <use xlink:href=\"#DejaVuSans-6d\" x=\"66.992188\"/>\n     <use xlink:href=\"#DejaVuSans-65\" x=\"164.404297\"/>\n     <use xlink:href=\"#DejaVuSans-73\" x=\"225.927734\"/>\n     <use xlink:href=\"#DejaVuSans-69\" x=\"278.027344\"/>\n     <use xlink:href=\"#DejaVuSans-6e\" x=\"305.810547\"/>\n     <use xlink:href=\"#DejaVuSans-63\" x=\"369.189453\"/>\n     <use xlink:href=\"#DejaVuSans-65\" x=\"424.169922\"/>\n     <use xlink:href=\"#DejaVuSans-77\" x=\"485.693359\"/>\n     <use xlink:href=\"#DejaVuSans-61\" x=\"567.480469\"/>\n     <use xlink:href=\"#DejaVuSans-72\" x=\"628.759766\"/>\n    </g>\n   </g>\n   <g id=\"text_89\">\n    <!-- tourism -->\n    <g style=\"fill: #262626\" transform=\"translate(509.768513 68.383931) scale(0.1 -0.1)\">\n     <use xlink:href=\"#DejaVuSans-74\"/>\n     <use xlink:href=\"#DejaVuSans-6f\" x=\"39.208984\"/>\n     <use xlink:href=\"#DejaVuSans-75\" x=\"100.390625\"/>\n     <use xlink:href=\"#DejaVuSans-72\" x=\"163.769531\"/>\n     <use xlink:href=\"#DejaVuSans-69\" x=\"204.882812\"/>\n     <use xlink:href=\"#DejaVuSans-73\" x=\"232.666016\"/>\n     <use xlink:href=\"#DejaVuSans-6d\" x=\"284.765625\"/>\n    </g>\n   </g>\n   <g id=\"text_90\">\n    <!-- tourism3 -->\n    <g style=\"fill: #262626\" transform=\"translate(529.378864 119.040807) scale(0.1 -0.1)\">\n     <use xlink:href=\"#DejaVuSans-74\"/>\n     <use xlink:href=\"#DejaVuSans-6f\" x=\"39.208984\"/>\n     <use xlink:href=\"#DejaVuSans-75\" x=\"100.390625\"/>\n     <use xlink:href=\"#DejaVuSans-72\" x=\"163.769531\"/>\n     <use xlink:href=\"#DejaVuSans-69\" x=\"204.882812\"/>\n     <use xlink:href=\"#DejaVuSans-73\" x=\"232.666016\"/>\n     <use xlink:href=\"#DejaVuSans-6d\" x=\"284.765625\"/>\n     <use xlink:href=\"#DejaVuSans-33\" x=\"382.177734\"/>\n    </g>\n   </g>\n   <g id=\"text_91\">\n    <!-- treaties -->\n    <g style=\"fill: #262626\" transform=\"translate(546.699258 90.283107) scale(0.1 -0.1)\">\n     <use xlink:href=\"#DejaVuSans-74\"/>\n     <use xlink:href=\"#DejaVuSans-72\" x=\"39.208984\"/>\n     <use xlink:href=\"#DejaVuSans-65\" x=\"78.072266\"/>\n     <use xlink:href=\"#DejaVuSans-61\" x=\"139.595703\"/>\n     <use xlink:href=\"#DejaVuSans-74\" x=\"200.875\"/>\n     <use xlink:href=\"#DejaVuSans-69\" x=\"240.083984\"/>\n     <use xlink:href=\"#DejaVuSans-65\" x=\"267.867188\"/>\n     <use xlink:href=\"#DejaVuSans-73\" x=\"329.390625\"/>\n    </g>\n   </g>\n   <g id=\"text_92\">\n    <!-- unoffialacts -->\n    <g style=\"fill: #262626\" transform=\"translate(423.614526 160.348921) scale(0.1 -0.1)\">\n     <use xlink:href=\"#DejaVuSans-75\"/>\n     <use xlink:href=\"#DejaVuSans-6e\" x=\"63.378906\"/>\n     <use xlink:href=\"#DejaVuSans-6f\" x=\"126.757812\"/>\n     <use xlink:href=\"#DejaVuSans-66\" x=\"187.939453\"/>\n     <use xlink:href=\"#DejaVuSans-66\" x=\"223.144531\"/>\n     <use xlink:href=\"#DejaVuSans-69\" x=\"258.349609\"/>\n     <use xlink:href=\"#DejaVuSans-61\" x=\"286.132812\"/>\n     <use xlink:href=\"#DejaVuSans-6c\" x=\"347.412109\"/>\n     <use xlink:href=\"#DejaVuSans-61\" x=\"375.195312\"/>\n     <use xlink:href=\"#DejaVuSans-63\" x=\"436.474609\"/>\n     <use xlink:href=\"#DejaVuSans-74\" x=\"491.455078\"/>\n     <use xlink:href=\"#DejaVuSans-73\" x=\"530.664062\"/>\n    </g>\n   </g>\n   <g id=\"text_93\">\n    <!-- unweightedunvote -->\n    <g style=\"fill: #262626\" transform=\"translate(511.053964 116.816886) scale(0.1 -0.1)\">\n     <use xlink:href=\"#DejaVuSans-75\"/>\n     <use xlink:href=\"#DejaVuSans-6e\" x=\"63.378906\"/>\n     <use xlink:href=\"#DejaVuSans-77\" x=\"126.757812\"/>\n     <use xlink:href=\"#DejaVuSans-65\" x=\"208.544922\"/>\n     <use xlink:href=\"#DejaVuSans-69\" x=\"270.068359\"/>\n     <use xlink:href=\"#DejaVuSans-67\" x=\"297.851562\"/>\n     <use xlink:href=\"#DejaVuSans-68\" x=\"361.328125\"/>\n     <use xlink:href=\"#DejaVuSans-74\" x=\"424.707031\"/>\n     <use xlink:href=\"#DejaVuSans-65\" x=\"463.916016\"/>\n     <use xlink:href=\"#DejaVuSans-64\" x=\"525.439453\"/>\n     <use xlink:href=\"#DejaVuSans-75\" x=\"588.916016\"/>\n     <use xlink:href=\"#DejaVuSans-6e\" x=\"652.294922\"/>\n     <use xlink:href=\"#DejaVuSans-76\" x=\"715.673828\"/>\n     <use xlink:href=\"#DejaVuSans-6f\" x=\"774.853516\"/>\n     <use xlink:href=\"#DejaVuSans-74\" x=\"836.035156\"/>\n     <use xlink:href=\"#DejaVuSans-65\" x=\"875.244141\"/>\n    </g>\n   </g>\n   <g id=\"text_94\">\n    <!-- violentactions -->\n    <g style=\"fill: #262626\" transform=\"translate(455.295744 82.24325) scale(0.1 -0.1)\">\n     <use xlink:href=\"#DejaVuSans-76\"/>\n     <use xlink:href=\"#DejaVuSans-69\" x=\"59.179688\"/>\n     <use xlink:href=\"#DejaVuSans-6f\" x=\"86.962891\"/>\n     <use xlink:href=\"#DejaVuSans-6c\" x=\"148.144531\"/>\n     <use xlink:href=\"#DejaVuSans-65\" x=\"175.927734\"/>\n     <use xlink:href=\"#DejaVuSans-6e\" x=\"237.451172\"/>\n     <use xlink:href=\"#DejaVuSans-74\" x=\"300.830078\"/>\n     <use xlink:href=\"#DejaVuSans-61\" x=\"340.039062\"/>\n     <use xlink:href=\"#DejaVuSans-63\" x=\"401.318359\"/>\n     <use xlink:href=\"#DejaVuSans-74\" x=\"456.298828\"/>\n     <use xlink:href=\"#DejaVuSans-69\" x=\"495.507812\"/>\n     <use xlink:href=\"#DejaVuSans-6f\" x=\"523.291016\"/>\n     <use xlink:href=\"#DejaVuSans-6e\" x=\"584.472656\"/>\n     <use xlink:href=\"#DejaVuSans-73\" x=\"647.851562\"/>\n    </g>\n   </g>\n   <g id=\"text_95\">\n    <!-- warning -->\n    <g style=\"fill: #262626\" transform=\"translate(585.353434 58.136382) scale(0.1 -0.1)\">\n     <use xlink:href=\"#DejaVuSans-77\"/>\n     <use xlink:href=\"#DejaVuSans-61\" x=\"81.787109\"/>\n     <use xlink:href=\"#DejaVuSans-72\" x=\"143.066406\"/>\n     <use xlink:href=\"#DejaVuSans-6e\" x=\"182.429688\"/>\n     <use xlink:href=\"#DejaVuSans-69\" x=\"245.808594\"/>\n     <use xlink:href=\"#DejaVuSans-6e\" x=\"273.591797\"/>\n     <use xlink:href=\"#DejaVuSans-67\" x=\"336.970703\"/>\n    </g>\n   </g>\n   <g id=\"text_96\">\n    <!-- weightedunvote -->\n    <g style=\"fill: #262626\" transform=\"translate(513.604164 126.063853) scale(0.1 -0.1)\">\n     <use xlink:href=\"#DejaVuSans-77\"/>\n     <use xlink:href=\"#DejaVuSans-65\" x=\"81.787109\"/>\n     <use xlink:href=\"#DejaVuSans-69\" x=\"143.310547\"/>\n     <use xlink:href=\"#DejaVuSans-67\" x=\"171.09375\"/>\n     <use xlink:href=\"#DejaVuSans-68\" x=\"234.570312\"/>\n     <use xlink:href=\"#DejaVuSans-74\" x=\"297.949219\"/>\n     <use xlink:href=\"#DejaVuSans-65\" x=\"337.158203\"/>\n     <use xlink:href=\"#DejaVuSans-64\" x=\"398.681641\"/>\n     <use xlink:href=\"#DejaVuSans-75\" x=\"462.158203\"/>\n     <use xlink:href=\"#DejaVuSans-6e\" x=\"525.537109\"/>\n     <use xlink:href=\"#DejaVuSans-76\" x=\"588.916016\"/>\n     <use xlink:href=\"#DejaVuSans-6f\" x=\"648.095703\"/>\n     <use xlink:href=\"#DejaVuSans-74\" x=\"709.277344\"/>\n     <use xlink:href=\"#DejaVuSans-65\" x=\"748.486328\"/>\n    </g>\n   </g>\n   <g id=\"text_97\">\n    <!-- Entity/Relation Plot using PCA -->\n    <g style=\"fill: #262626\" transform=\"translate(428.490392 16.318125) scale(0.12 -0.12)\">\n     <defs>\n      <path id=\"DejaVuSans-2f\" d=\"M 1625 4666 \nL 2156 4666 \nL 531 -594 \nL 0 -594 \nL 1625 4666 \nz\n\" transform=\"scale(0.015625)\"/>\n      <path id=\"DejaVuSans-52\" d=\"M 2841 2188 \nQ 3044 2119 3236 1894 \nQ 3428 1669 3622 1275 \nL 4263 0 \nL 3584 0 \nL 2988 1197 \nQ 2756 1666 2539 1819 \nQ 2322 1972 1947 1972 \nL 1259 1972 \nL 1259 0 \nL 628 0 \nL 628 4666 \nL 2053 4666 \nQ 2853 4666 3247 4331 \nQ 3641 3997 3641 3322 \nQ 3641 2881 3436 2590 \nQ 3231 2300 2841 2188 \nz\nM 1259 4147 \nL 1259 2491 \nL 2053 2491 \nQ 2509 2491 2742 2702 \nQ 2975 2913 2975 3322 \nQ 2975 3731 2742 3939 \nQ 2509 4147 2053 4147 \nL 1259 4147 \nz\n\" transform=\"scale(0.015625)\"/>\n      <path id=\"DejaVuSans-43\" d=\"M 4122 4306 \nL 4122 3641 \nQ 3803 3938 3442 4084 \nQ 3081 4231 2675 4231 \nQ 1875 4231 1450 3742 \nQ 1025 3253 1025 2328 \nQ 1025 1406 1450 917 \nQ 1875 428 2675 428 \nQ 3081 428 3442 575 \nQ 3803 722 4122 1019 \nL 4122 359 \nQ 3791 134 3420 21 \nQ 3050 -91 2638 -91 \nQ 1578 -91 968 557 \nQ 359 1206 359 2328 \nQ 359 3453 968 4101 \nQ 1578 4750 2638 4750 \nQ 3056 4750 3426 4639 \nQ 3797 4528 4122 4306 \nz\n\" transform=\"scale(0.015625)\"/>\n      <path id=\"DejaVuSans-41\" d=\"M 2188 4044 \nL 1331 1722 \nL 3047 1722 \nL 2188 4044 \nz\nM 1831 4666 \nL 2547 4666 \nL 4325 0 \nL 3669 0 \nL 3244 1197 \nL 1141 1197 \nL 716 0 \nL 50 0 \nL 1831 4666 \nz\n\" transform=\"scale(0.015625)\"/>\n     </defs>\n     <use xlink:href=\"#DejaVuSans-45\"/>\n     <use xlink:href=\"#DejaVuSans-6e\" x=\"63.183594\"/>\n     <use xlink:href=\"#DejaVuSans-74\" x=\"126.5625\"/>\n     <use xlink:href=\"#DejaVuSans-69\" x=\"165.771484\"/>\n     <use xlink:href=\"#DejaVuSans-74\" x=\"193.554688\"/>\n     <use xlink:href=\"#DejaVuSans-79\" x=\"232.763672\"/>\n     <use xlink:href=\"#DejaVuSans-2f\" x=\"291.943359\"/>\n     <use xlink:href=\"#DejaVuSans-52\" x=\"325.634766\"/>\n     <use xlink:href=\"#DejaVuSans-65\" x=\"390.617188\"/>\n     <use xlink:href=\"#DejaVuSans-6c\" x=\"452.140625\"/>\n     <use xlink:href=\"#DejaVuSans-61\" x=\"479.923828\"/>\n     <use xlink:href=\"#DejaVuSans-74\" x=\"541.203125\"/>\n     <use xlink:href=\"#DejaVuSans-69\" x=\"580.412109\"/>\n     <use xlink:href=\"#DejaVuSans-6f\" x=\"608.195312\"/>\n     <use xlink:href=\"#DejaVuSans-6e\" x=\"669.376953\"/>\n     <use xlink:href=\"#DejaVuSans-20\" x=\"732.755859\"/>\n     <use xlink:href=\"#DejaVuSans-50\" x=\"764.542969\"/>\n     <use xlink:href=\"#DejaVuSans-6c\" x=\"824.845703\"/>\n     <use xlink:href=\"#DejaVuSans-6f\" x=\"852.628906\"/>\n     <use xlink:href=\"#DejaVuSans-74\" x=\"913.810547\"/>\n     <use xlink:href=\"#DejaVuSans-20\" x=\"953.019531\"/>\n     <use xlink:href=\"#DejaVuSans-75\" x=\"984.806641\"/>\n     <use xlink:href=\"#DejaVuSans-73\" x=\"1048.185547\"/>\n     <use xlink:href=\"#DejaVuSans-69\" x=\"1100.285156\"/>\n     <use xlink:href=\"#DejaVuSans-6e\" x=\"1128.068359\"/>\n     <use xlink:href=\"#DejaVuSans-67\" x=\"1191.447266\"/>\n     <use xlink:href=\"#DejaVuSans-20\" x=\"1254.923828\"/>\n     <use xlink:href=\"#DejaVuSans-50\" x=\"1286.710938\"/>\n     <use xlink:href=\"#DejaVuSans-43\" x=\"1347.013672\"/>\n     <use xlink:href=\"#DejaVuSans-41\" x=\"1416.837891\"/>\n    </g>\n   </g>\n  </g>\n </g>\n <defs>\n  <clipPath id=\"p16c4a68115\">\n   <rect x=\"43.78125\" y=\"22.318125\" width=\"294.17422\" height=\"219.16\"/>\n  </clipPath>\n  <clipPath id=\"pbc6ce44246\">\n   <rect x=\"370.51547\" y=\"22.318125\" width=\"294.17422\" height=\"219.16\"/>\n  </clipPath>\n </defs>\n</svg>\n"
          },
          "metadata": {}
        }
      ],
      "source": [
        "nations_results.plot(er_kwargs=dict(plot_relations=True))"
      ]
    },
    {
      "cell_type": "code",
      "execution_count": 11,
      "metadata": {
        "id": "XyMgBEg58WFo",
        "outputId": "aa4cd161-6e04-4d19-8309-20137b4c1a6e",
        "colab": {
          "base_uri": "https://localhost:8080/",
          "height": 437
        }
      },
      "outputs": [
        {
          "output_type": "display_data",
          "data": {
            "text/plain": [
              "<Figure size 640x480 with 1 Axes>"
            ],
            "image/svg+xml": "<?xml version=\"1.0\" encoding=\"utf-8\" standalone=\"no\"?>\n<!DOCTYPE svg PUBLIC \"-//W3C//DTD SVG 1.1//EN\"\n  \"http://www.w3.org/Graphics/SVG/1.1/DTD/svg11.dtd\">\n<svg xmlns:xlink=\"http://www.w3.org/1999/xlink\" width=\"422.504605pt\" height=\"312.30825pt\" viewBox=\"0 0 422.504605 312.30825\" xmlns=\"http://www.w3.org/2000/svg\" version=\"1.1\">\n <metadata>\n  <rdf:RDF xmlns:dc=\"http://purl.org/dc/elements/1.1/\" xmlns:cc=\"http://creativecommons.org/ns#\" xmlns:rdf=\"http://www.w3.org/1999/02/22-rdf-syntax-ns#\">\n   <cc:Work>\n    <dc:type rdf:resource=\"http://purl.org/dc/dcmitype/StillImage\"/>\n    <dc:date>2024-10-26T22:31:03.054617</dc:date>\n    <dc:format>image/svg+xml</dc:format>\n    <dc:creator>\n     <cc:Agent>\n      <dc:title>Matplotlib v3.7.1, https://matplotlib.org/</dc:title>\n     </cc:Agent>\n    </dc:creator>\n   </cc:Work>\n  </rdf:RDF>\n </metadata>\n <defs>\n  <style type=\"text/css\">*{stroke-linejoin: round; stroke-linecap: butt}</style>\n </defs>\n <g id=\"figure_1\">\n  <g id=\"patch_1\">\n   <path d=\"M 0 312.30825 \nL 422.504605 312.30825 \nL 422.504605 0 \nL 0 0 \nz\n\" style=\"fill: #ffffff\"/>\n  </g>\n  <g id=\"axes_1\">\n   <g id=\"patch_2\">\n    <path d=\"M 38.482813 288.430125 \nL 395.602813 288.430125 \nL 395.602813 22.318125 \nL 38.482813 22.318125 \nz\n\" style=\"fill: #ffffff\"/>\n   </g>\n   <g id=\"matplotlib.axis_1\">\n    <g id=\"xtick_1\">\n     <g id=\"line2d_1\">\n      <path d=\"M 68.233303 288.430125 \nL 68.233303 22.318125 \n\" clip-path=\"url(#pa4cefce8b9)\" style=\"fill: none; stroke: #cccccc; stroke-width: 0.8; stroke-linecap: round\"/>\n     </g>\n     <g id=\"text_1\">\n      <!-- −0.50 -->\n      <g style=\"fill: #262626\" transform=\"translate(52.910647 303.028562) scale(0.1 -0.1)\">\n       <defs>\n        <path id=\"DejaVuSans-2212\" d=\"M 678 2272 \nL 4684 2272 \nL 4684 1741 \nL 678 1741 \nL 678 2272 \nz\n\" transform=\"scale(0.015625)\"/>\n        <path id=\"DejaVuSans-30\" d=\"M 2034 4250 \nQ 1547 4250 1301 3770 \nQ 1056 3291 1056 2328 \nQ 1056 1369 1301 889 \nQ 1547 409 2034 409 \nQ 2525 409 2770 889 \nQ 3016 1369 3016 2328 \nQ 3016 3291 2770 3770 \nQ 2525 4250 2034 4250 \nz\nM 2034 4750 \nQ 2819 4750 3233 4129 \nQ 3647 3509 3647 2328 \nQ 3647 1150 3233 529 \nQ 2819 -91 2034 -91 \nQ 1250 -91 836 529 \nQ 422 1150 422 2328 \nQ 422 3509 836 4129 \nQ 1250 4750 2034 4750 \nz\n\" transform=\"scale(0.015625)\"/>\n        <path id=\"DejaVuSans-2e\" d=\"M 684 794 \nL 1344 794 \nL 1344 0 \nL 684 0 \nL 684 794 \nz\n\" transform=\"scale(0.015625)\"/>\n        <path id=\"DejaVuSans-35\" d=\"M 691 4666 \nL 3169 4666 \nL 3169 4134 \nL 1269 4134 \nL 1269 2991 \nQ 1406 3038 1543 3061 \nQ 1681 3084 1819 3084 \nQ 2600 3084 3056 2656 \nQ 3513 2228 3513 1497 \nQ 3513 744 3044 326 \nQ 2575 -91 1722 -91 \nQ 1428 -91 1123 -41 \nQ 819 9 494 109 \nL 494 744 \nQ 775 591 1075 516 \nQ 1375 441 1709 441 \nQ 2250 441 2565 725 \nQ 2881 1009 2881 1497 \nQ 2881 1984 2565 2268 \nQ 2250 2553 1709 2553 \nQ 1456 2553 1204 2497 \nQ 953 2441 691 2322 \nL 691 4666 \nz\n\" transform=\"scale(0.015625)\"/>\n       </defs>\n       <use xlink:href=\"#DejaVuSans-2212\"/>\n       <use xlink:href=\"#DejaVuSans-30\" x=\"83.789062\"/>\n       <use xlink:href=\"#DejaVuSans-2e\" x=\"147.412109\"/>\n       <use xlink:href=\"#DejaVuSans-35\" x=\"179.199219\"/>\n       <use xlink:href=\"#DejaVuSans-30\" x=\"242.822266\"/>\n      </g>\n     </g>\n    </g>\n    <g id=\"xtick_2\">\n     <g id=\"line2d_2\">\n      <path d=\"M 111.281984 288.430125 \nL 111.281984 22.318125 \n\" clip-path=\"url(#pa4cefce8b9)\" style=\"fill: none; stroke: #cccccc; stroke-width: 0.8; stroke-linecap: round\"/>\n     </g>\n     <g id=\"text_2\">\n      <!-- −0.25 -->\n      <g style=\"fill: #262626\" transform=\"translate(95.959328 303.028562) scale(0.1 -0.1)\">\n       <defs>\n        <path id=\"DejaVuSans-32\" d=\"M 1228 531 \nL 3431 531 \nL 3431 0 \nL 469 0 \nL 469 531 \nQ 828 903 1448 1529 \nQ 2069 2156 2228 2338 \nQ 2531 2678 2651 2914 \nQ 2772 3150 2772 3378 \nQ 2772 3750 2511 3984 \nQ 2250 4219 1831 4219 \nQ 1534 4219 1204 4116 \nQ 875 4013 500 3803 \nL 500 4441 \nQ 881 4594 1212 4672 \nQ 1544 4750 1819 4750 \nQ 2544 4750 2975 4387 \nQ 3406 4025 3406 3419 \nQ 3406 3131 3298 2873 \nQ 3191 2616 2906 2266 \nQ 2828 2175 2409 1742 \nQ 1991 1309 1228 531 \nz\n\" transform=\"scale(0.015625)\"/>\n       </defs>\n       <use xlink:href=\"#DejaVuSans-2212\"/>\n       <use xlink:href=\"#DejaVuSans-30\" x=\"83.789062\"/>\n       <use xlink:href=\"#DejaVuSans-2e\" x=\"147.412109\"/>\n       <use xlink:href=\"#DejaVuSans-32\" x=\"179.199219\"/>\n       <use xlink:href=\"#DejaVuSans-35\" x=\"242.822266\"/>\n      </g>\n     </g>\n    </g>\n    <g id=\"xtick_3\">\n     <g id=\"line2d_3\">\n      <path d=\"M 154.330665 288.430125 \nL 154.330665 22.318125 \n\" clip-path=\"url(#pa4cefce8b9)\" style=\"fill: none; stroke: #cccccc; stroke-width: 0.8; stroke-linecap: round\"/>\n     </g>\n     <g id=\"text_3\">\n      <!-- 0.00 -->\n      <g style=\"fill: #262626\" transform=\"translate(143.197852 303.028562) scale(0.1 -0.1)\">\n       <use xlink:href=\"#DejaVuSans-30\"/>\n       <use xlink:href=\"#DejaVuSans-2e\" x=\"63.623047\"/>\n       <use xlink:href=\"#DejaVuSans-30\" x=\"95.410156\"/>\n       <use xlink:href=\"#DejaVuSans-30\" x=\"159.033203\"/>\n      </g>\n     </g>\n    </g>\n    <g id=\"xtick_4\">\n     <g id=\"line2d_4\">\n      <path d=\"M 197.379346 288.430125 \nL 197.379346 22.318125 \n\" clip-path=\"url(#pa4cefce8b9)\" style=\"fill: none; stroke: #cccccc; stroke-width: 0.8; stroke-linecap: round\"/>\n     </g>\n     <g id=\"text_4\">\n      <!-- 0.25 -->\n      <g style=\"fill: #262626\" transform=\"translate(186.246533 303.028562) scale(0.1 -0.1)\">\n       <use xlink:href=\"#DejaVuSans-30\"/>\n       <use xlink:href=\"#DejaVuSans-2e\" x=\"63.623047\"/>\n       <use xlink:href=\"#DejaVuSans-32\" x=\"95.410156\"/>\n       <use xlink:href=\"#DejaVuSans-35\" x=\"159.033203\"/>\n      </g>\n     </g>\n    </g>\n    <g id=\"xtick_5\">\n     <g id=\"line2d_5\">\n      <path d=\"M 240.428027 288.430125 \nL 240.428027 22.318125 \n\" clip-path=\"url(#pa4cefce8b9)\" style=\"fill: none; stroke: #cccccc; stroke-width: 0.8; stroke-linecap: round\"/>\n     </g>\n     <g id=\"text_5\">\n      <!-- 0.50 -->\n      <g style=\"fill: #262626\" transform=\"translate(229.295214 303.028562) scale(0.1 -0.1)\">\n       <use xlink:href=\"#DejaVuSans-30\"/>\n       <use xlink:href=\"#DejaVuSans-2e\" x=\"63.623047\"/>\n       <use xlink:href=\"#DejaVuSans-35\" x=\"95.410156\"/>\n       <use xlink:href=\"#DejaVuSans-30\" x=\"159.033203\"/>\n      </g>\n     </g>\n    </g>\n    <g id=\"xtick_6\">\n     <g id=\"line2d_6\">\n      <path d=\"M 283.476708 288.430125 \nL 283.476708 22.318125 \n\" clip-path=\"url(#pa4cefce8b9)\" style=\"fill: none; stroke: #cccccc; stroke-width: 0.8; stroke-linecap: round\"/>\n     </g>\n     <g id=\"text_6\">\n      <!-- 0.75 -->\n      <g style=\"fill: #262626\" transform=\"translate(272.343895 303.028562) scale(0.1 -0.1)\">\n       <defs>\n        <path id=\"DejaVuSans-37\" d=\"M 525 4666 \nL 3525 4666 \nL 3525 4397 \nL 1831 0 \nL 1172 0 \nL 2766 4134 \nL 525 4134 \nL 525 4666 \nz\n\" transform=\"scale(0.015625)\"/>\n       </defs>\n       <use xlink:href=\"#DejaVuSans-30\"/>\n       <use xlink:href=\"#DejaVuSans-2e\" x=\"63.623047\"/>\n       <use xlink:href=\"#DejaVuSans-37\" x=\"95.410156\"/>\n       <use xlink:href=\"#DejaVuSans-35\" x=\"159.033203\"/>\n      </g>\n     </g>\n    </g>\n    <g id=\"xtick_7\">\n     <g id=\"line2d_7\">\n      <path d=\"M 326.525388 288.430125 \nL 326.525388 22.318125 \n\" clip-path=\"url(#pa4cefce8b9)\" style=\"fill: none; stroke: #cccccc; stroke-width: 0.8; stroke-linecap: round\"/>\n     </g>\n     <g id=\"text_7\">\n      <!-- 1.00 -->\n      <g style=\"fill: #262626\" transform=\"translate(315.392576 303.028562) scale(0.1 -0.1)\">\n       <defs>\n        <path id=\"DejaVuSans-31\" d=\"M 794 531 \nL 1825 531 \nL 1825 4091 \nL 703 3866 \nL 703 4441 \nL 1819 4666 \nL 2450 4666 \nL 2450 531 \nL 3481 531 \nL 3481 0 \nL 794 0 \nL 794 531 \nz\n\" transform=\"scale(0.015625)\"/>\n       </defs>\n       <use xlink:href=\"#DejaVuSans-31\"/>\n       <use xlink:href=\"#DejaVuSans-2e\" x=\"63.623047\"/>\n       <use xlink:href=\"#DejaVuSans-30\" x=\"95.410156\"/>\n       <use xlink:href=\"#DejaVuSans-30\" x=\"159.033203\"/>\n      </g>\n     </g>\n    </g>\n    <g id=\"xtick_8\">\n     <g id=\"line2d_8\">\n      <path d=\"M 369.574069 288.430125 \nL 369.574069 22.318125 \n\" clip-path=\"url(#pa4cefce8b9)\" style=\"fill: none; stroke: #cccccc; stroke-width: 0.8; stroke-linecap: round\"/>\n     </g>\n     <g id=\"text_8\">\n      <!-- 1.25 -->\n      <g style=\"fill: #262626\" transform=\"translate(358.441257 303.028562) scale(0.1 -0.1)\">\n       <use xlink:href=\"#DejaVuSans-31\"/>\n       <use xlink:href=\"#DejaVuSans-2e\" x=\"63.623047\"/>\n       <use xlink:href=\"#DejaVuSans-32\" x=\"95.410156\"/>\n       <use xlink:href=\"#DejaVuSans-35\" x=\"159.033203\"/>\n      </g>\n     </g>\n    </g>\n   </g>\n   <g id=\"matplotlib.axis_2\">\n    <g id=\"ytick_1\">\n     <g id=\"line2d_9\">\n      <path d=\"M 38.482813 272.140257 \nL 395.602813 272.140257 \n\" clip-path=\"url(#pa4cefce8b9)\" style=\"fill: none; stroke: #cccccc; stroke-width: 0.8; stroke-linecap: round\"/>\n     </g>\n     <g id=\"text_9\">\n      <!-- −0.8 -->\n      <g style=\"fill: #262626\" transform=\"translate(7.2 275.939476) scale(0.1 -0.1)\">\n       <defs>\n        <path id=\"DejaVuSans-38\" d=\"M 2034 2216 \nQ 1584 2216 1326 1975 \nQ 1069 1734 1069 1313 \nQ 1069 891 1326 650 \nQ 1584 409 2034 409 \nQ 2484 409 2743 651 \nQ 3003 894 3003 1313 \nQ 3003 1734 2745 1975 \nQ 2488 2216 2034 2216 \nz\nM 1403 2484 \nQ 997 2584 770 2862 \nQ 544 3141 544 3541 \nQ 544 4100 942 4425 \nQ 1341 4750 2034 4750 \nQ 2731 4750 3128 4425 \nQ 3525 4100 3525 3541 \nQ 3525 3141 3298 2862 \nQ 3072 2584 2669 2484 \nQ 3125 2378 3379 2068 \nQ 3634 1759 3634 1313 \nQ 3634 634 3220 271 \nQ 2806 -91 2034 -91 \nQ 1263 -91 848 271 \nQ 434 634 434 1313 \nQ 434 1759 690 2068 \nQ 947 2378 1403 2484 \nz\nM 1172 3481 \nQ 1172 3119 1398 2916 \nQ 1625 2713 2034 2713 \nQ 2441 2713 2670 2916 \nQ 2900 3119 2900 3481 \nQ 2900 3844 2670 4047 \nQ 2441 4250 2034 4250 \nQ 1625 4250 1398 4047 \nQ 1172 3844 1172 3481 \nz\n\" transform=\"scale(0.015625)\"/>\n       </defs>\n       <use xlink:href=\"#DejaVuSans-2212\"/>\n       <use xlink:href=\"#DejaVuSans-30\" x=\"83.789062\"/>\n       <use xlink:href=\"#DejaVuSans-2e\" x=\"147.412109\"/>\n       <use xlink:href=\"#DejaVuSans-38\" x=\"179.199219\"/>\n      </g>\n     </g>\n    </g>\n    <g id=\"ytick_2\">\n     <g id=\"line2d_10\">\n      <path d=\"M 38.482813 240.53463 \nL 395.602813 240.53463 \n\" clip-path=\"url(#pa4cefce8b9)\" style=\"fill: none; stroke: #cccccc; stroke-width: 0.8; stroke-linecap: round\"/>\n     </g>\n     <g id=\"text_10\">\n      <!-- −0.6 -->\n      <g style=\"fill: #262626\" transform=\"translate(7.2 244.333849) scale(0.1 -0.1)\">\n       <defs>\n        <path id=\"DejaVuSans-36\" d=\"M 2113 2584 \nQ 1688 2584 1439 2293 \nQ 1191 2003 1191 1497 \nQ 1191 994 1439 701 \nQ 1688 409 2113 409 \nQ 2538 409 2786 701 \nQ 3034 994 3034 1497 \nQ 3034 2003 2786 2293 \nQ 2538 2584 2113 2584 \nz\nM 3366 4563 \nL 3366 3988 \nQ 3128 4100 2886 4159 \nQ 2644 4219 2406 4219 \nQ 1781 4219 1451 3797 \nQ 1122 3375 1075 2522 \nQ 1259 2794 1537 2939 \nQ 1816 3084 2150 3084 \nQ 2853 3084 3261 2657 \nQ 3669 2231 3669 1497 \nQ 3669 778 3244 343 \nQ 2819 -91 2113 -91 \nQ 1303 -91 875 529 \nQ 447 1150 447 2328 \nQ 447 3434 972 4092 \nQ 1497 4750 2381 4750 \nQ 2619 4750 2861 4703 \nQ 3103 4656 3366 4563 \nz\n\" transform=\"scale(0.015625)\"/>\n       </defs>\n       <use xlink:href=\"#DejaVuSans-2212\"/>\n       <use xlink:href=\"#DejaVuSans-30\" x=\"83.789062\"/>\n       <use xlink:href=\"#DejaVuSans-2e\" x=\"147.412109\"/>\n       <use xlink:href=\"#DejaVuSans-36\" x=\"179.199219\"/>\n      </g>\n     </g>\n    </g>\n    <g id=\"ytick_3\">\n     <g id=\"line2d_11\">\n      <path d=\"M 38.482813 208.929002 \nL 395.602813 208.929002 \n\" clip-path=\"url(#pa4cefce8b9)\" style=\"fill: none; stroke: #cccccc; stroke-width: 0.8; stroke-linecap: round\"/>\n     </g>\n     <g id=\"text_11\">\n      <!-- −0.4 -->\n      <g style=\"fill: #262626\" transform=\"translate(7.2 212.728221) scale(0.1 -0.1)\">\n       <defs>\n        <path id=\"DejaVuSans-34\" d=\"M 2419 4116 \nL 825 1625 \nL 2419 1625 \nL 2419 4116 \nz\nM 2253 4666 \nL 3047 4666 \nL 3047 1625 \nL 3713 1625 \nL 3713 1100 \nL 3047 1100 \nL 3047 0 \nL 2419 0 \nL 2419 1100 \nL 313 1100 \nL 313 1709 \nL 2253 4666 \nz\n\" transform=\"scale(0.015625)\"/>\n       </defs>\n       <use xlink:href=\"#DejaVuSans-2212\"/>\n       <use xlink:href=\"#DejaVuSans-30\" x=\"83.789062\"/>\n       <use xlink:href=\"#DejaVuSans-2e\" x=\"147.412109\"/>\n       <use xlink:href=\"#DejaVuSans-34\" x=\"179.199219\"/>\n      </g>\n     </g>\n    </g>\n    <g id=\"ytick_4\">\n     <g id=\"line2d_12\">\n      <path d=\"M 38.482813 177.323375 \nL 395.602813 177.323375 \n\" clip-path=\"url(#pa4cefce8b9)\" style=\"fill: none; stroke: #cccccc; stroke-width: 0.8; stroke-linecap: round\"/>\n     </g>\n     <g id=\"text_12\">\n      <!-- −0.2 -->\n      <g style=\"fill: #262626\" transform=\"translate(7.2 181.122594) scale(0.1 -0.1)\">\n       <use xlink:href=\"#DejaVuSans-2212\"/>\n       <use xlink:href=\"#DejaVuSans-30\" x=\"83.789062\"/>\n       <use xlink:href=\"#DejaVuSans-2e\" x=\"147.412109\"/>\n       <use xlink:href=\"#DejaVuSans-32\" x=\"179.199219\"/>\n      </g>\n     </g>\n    </g>\n    <g id=\"ytick_5\">\n     <g id=\"line2d_13\">\n      <path d=\"M 38.482813 145.717748 \nL 395.602813 145.717748 \n\" clip-path=\"url(#pa4cefce8b9)\" style=\"fill: none; stroke: #cccccc; stroke-width: 0.8; stroke-linecap: round\"/>\n     </g>\n     <g id=\"text_13\">\n      <!-- 0.0 -->\n      <g style=\"fill: #262626\" transform=\"translate(15.579688 149.516966) scale(0.1 -0.1)\">\n       <use xlink:href=\"#DejaVuSans-30\"/>\n       <use xlink:href=\"#DejaVuSans-2e\" x=\"63.623047\"/>\n       <use xlink:href=\"#DejaVuSans-30\" x=\"95.410156\"/>\n      </g>\n     </g>\n    </g>\n    <g id=\"ytick_6\">\n     <g id=\"line2d_14\">\n      <path d=\"M 38.482813 114.11212 \nL 395.602813 114.11212 \n\" clip-path=\"url(#pa4cefce8b9)\" style=\"fill: none; stroke: #cccccc; stroke-width: 0.8; stroke-linecap: round\"/>\n     </g>\n     <g id=\"text_14\">\n      <!-- 0.2 -->\n      <g style=\"fill: #262626\" transform=\"translate(15.579688 117.911339) scale(0.1 -0.1)\">\n       <use xlink:href=\"#DejaVuSans-30\"/>\n       <use xlink:href=\"#DejaVuSans-2e\" x=\"63.623047\"/>\n       <use xlink:href=\"#DejaVuSans-32\" x=\"95.410156\"/>\n      </g>\n     </g>\n    </g>\n    <g id=\"ytick_7\">\n     <g id=\"line2d_15\">\n      <path d=\"M 38.482813 82.506493 \nL 395.602813 82.506493 \n\" clip-path=\"url(#pa4cefce8b9)\" style=\"fill: none; stroke: #cccccc; stroke-width: 0.8; stroke-linecap: round\"/>\n     </g>\n     <g id=\"text_15\">\n      <!-- 0.4 -->\n      <g style=\"fill: #262626\" transform=\"translate(15.579688 86.305712) scale(0.1 -0.1)\">\n       <use xlink:href=\"#DejaVuSans-30\"/>\n       <use xlink:href=\"#DejaVuSans-2e\" x=\"63.623047\"/>\n       <use xlink:href=\"#DejaVuSans-34\" x=\"95.410156\"/>\n      </g>\n     </g>\n    </g>\n    <g id=\"ytick_8\">\n     <g id=\"line2d_16\">\n      <path d=\"M 38.482813 50.900866 \nL 395.602813 50.900866 \n\" clip-path=\"url(#pa4cefce8b9)\" style=\"fill: none; stroke: #cccccc; stroke-width: 0.8; stroke-linecap: round\"/>\n     </g>\n     <g id=\"text_16\">\n      <!-- 0.6 -->\n      <g style=\"fill: #262626\" transform=\"translate(15.579688 54.700084) scale(0.1 -0.1)\">\n       <use xlink:href=\"#DejaVuSans-30\"/>\n       <use xlink:href=\"#DejaVuSans-2e\" x=\"63.623047\"/>\n       <use xlink:href=\"#DejaVuSans-36\" x=\"95.410156\"/>\n      </g>\n     </g>\n    </g>\n   </g>\n   <g id=\"PathCollection_1\">\n    <defs>\n     <path id=\"m6289a61666\" d=\"M 0 3 \nC 0.795609 3 1.55874 2.683901 2.12132 2.12132 \nC 2.683901 1.55874 3 0.795609 3 0 \nC 3 -0.795609 2.683901 -1.55874 2.12132 -2.12132 \nC 1.55874 -2.683901 0.795609 -3 0 -3 \nC -0.795609 -3 -1.55874 -2.683901 -2.12132 -2.12132 \nC -2.683901 -1.55874 -3 -0.795609 -3 0 \nC -3 0.795609 -2.683901 1.55874 -2.12132 2.12132 \nC -1.55874 2.683901 -0.795609 3 0 3 \nz\n\" style=\"stroke: #000000\"/>\n    </defs>\n    <g clip-path=\"url(#pa4cefce8b9)\">\n     <use xlink:href=\"#m6289a61666\" x=\"66.037559\" y=\"150.284435\" style=\"stroke: #000000\"/>\n    </g>\n   </g>\n   <g id=\"PathCollection_2\">\n    <g clip-path=\"url(#pa4cefce8b9)\">\n     <use xlink:href=\"#m6289a61666\" x=\"379.370085\" y=\"185.782338\" style=\"stroke: #000000\"/>\n    </g>\n   </g>\n   <g id=\"PathCollection_3\">\n    <g clip-path=\"url(#pa4cefce8b9)\">\n     <use xlink:href=\"#m6289a61666\" x=\"139.267074\" y=\"256.300904\" style=\"stroke: #000000\"/>\n    </g>\n   </g>\n   <g id=\"PathCollection_4\">\n    <g clip-path=\"url(#pa4cefce8b9)\">\n     <use xlink:href=\"#m6289a61666\" x=\"54.71554\" y=\"136.565155\" style=\"stroke: #000000\"/>\n    </g>\n   </g>\n   <g id=\"PathCollection_5\">\n    <g clip-path=\"url(#pa4cefce8b9)\">\n     <use xlink:href=\"#m6289a61666\" x=\"241.583883\" y=\"38.138038\" style=\"stroke: #000000\"/>\n    </g>\n   </g>\n   <g id=\"PathCollection_6\">\n    <g clip-path=\"url(#pa4cefce8b9)\">\n     <use xlink:href=\"#m6289a61666\" x=\"136.264172\" y=\"72.365449\" style=\"stroke: #000000\"/>\n    </g>\n   </g>\n   <g id=\"PathCollection_7\">\n    <g clip-path=\"url(#pa4cefce8b9)\">\n     <use xlink:href=\"#m6289a61666\" x=\"319.494531\" y=\"276.334125\" style=\"stroke: #000000\"/>\n    </g>\n   </g>\n   <g id=\"PathCollection_8\">\n    <g clip-path=\"url(#pa4cefce8b9)\">\n     <use xlink:href=\"#m6289a61666\" x=\"152.417857\" y=\"34.414125\" style=\"stroke: #000000\"/>\n    </g>\n   </g>\n   <g id=\"PathCollection_9\">\n    <g clip-path=\"url(#pa4cefce8b9)\">\n     <use xlink:href=\"#m6289a61666\" x=\"348.315741\" y=\"77.543986\" style=\"stroke: #000000\"/>\n    </g>\n   </g>\n   <g id=\"PathCollection_10\">\n    <g clip-path=\"url(#pa4cefce8b9)\">\n     <use xlink:href=\"#m6289a61666\" x=\"55.826349\" y=\"186.328765\" style=\"stroke: #000000\"/>\n    </g>\n   </g>\n   <g id=\"PathCollection_11\">\n    <g clip-path=\"url(#pa4cefce8b9)\">\n     <use xlink:href=\"#m6289a61666\" x=\"58.850428\" y=\"190.877161\" style=\"stroke: #000000\"/>\n    </g>\n   </g>\n   <g id=\"PathCollection_12\">\n    <g clip-path=\"url(#pa4cefce8b9)\">\n     <use xlink:href=\"#m6289a61666\" x=\"56.147087\" y=\"158.826342\" style=\"stroke: #000000\"/>\n    </g>\n   </g>\n   <g id=\"PathCollection_13\">\n    <g clip-path=\"url(#pa4cefce8b9)\">\n     <use xlink:href=\"#m6289a61666\" x=\"72.372092\" y=\"130.698587\" style=\"stroke: #000000\"/>\n    </g>\n   </g>\n   <g id=\"PathCollection_14\">\n    <g clip-path=\"url(#pa4cefce8b9)\">\n     <use xlink:href=\"#m6289a61666\" x=\"79.966965\" y=\"145.589019\" style=\"stroke: #000000\"/>\n    </g>\n   </g>\n   <g id=\"patch_3\">\n    <path d=\"M 308.152008 115.877545 \nL 307.447303 116.256533 \nL 307.41169 116.101921 \nL 154.348475 145.795053 \nL 154.312863 145.640441 \nL 307.376078 115.94731 \nL 307.340466 115.792698 \nz\n\" clip-path=\"url(#pa4cefce8b9)\" style=\"stroke: #000000; stroke-linejoin: miter\"/>\n   </g>\n   <g id=\"patch_4\">\n    <path d=\"M 38.482813 288.430125 \nL 38.482813 22.318125 \n\" style=\"fill: none; stroke: #cccccc; stroke-width: 0.8; stroke-linejoin: miter; stroke-linecap: square\"/>\n   </g>\n   <g id=\"patch_5\">\n    <path d=\"M 395.602813 288.430125 \nL 395.602813 22.318125 \n\" style=\"fill: none; stroke: #cccccc; stroke-width: 0.8; stroke-linejoin: miter; stroke-linecap: square\"/>\n   </g>\n   <g id=\"patch_6\">\n    <path d=\"M 38.482812 288.430125 \nL 395.602813 288.430125 \n\" style=\"fill: none; stroke: #cccccc; stroke-width: 0.8; stroke-linejoin: miter; stroke-linecap: square\"/>\n   </g>\n   <g id=\"patch_7\">\n    <path d=\"M 38.482812 22.318125 \nL 395.602813 22.318125 \n\" style=\"fill: none; stroke: #cccccc; stroke-width: 0.8; stroke-linejoin: miter; stroke-linecap: square\"/>\n   </g>\n   <g id=\"text_17\">\n    <!-- brazil -->\n    <g style=\"fill: #262626\" transform=\"translate(69.481453 145.543591) scale(0.1 -0.1)\">\n     <defs>\n      <path id=\"DejaVuSans-62\" d=\"M 3116 1747 \nQ 3116 2381 2855 2742 \nQ 2594 3103 2138 3103 \nQ 1681 3103 1420 2742 \nQ 1159 2381 1159 1747 \nQ 1159 1113 1420 752 \nQ 1681 391 2138 391 \nQ 2594 391 2855 752 \nQ 3116 1113 3116 1747 \nz\nM 1159 2969 \nQ 1341 3281 1617 3432 \nQ 1894 3584 2278 3584 \nQ 2916 3584 3314 3078 \nQ 3713 2572 3713 1747 \nQ 3713 922 3314 415 \nQ 2916 -91 2278 -91 \nQ 1894 -91 1617 61 \nQ 1341 213 1159 525 \nL 1159 0 \nL 581 0 \nL 581 4863 \nL 1159 4863 \nL 1159 2969 \nz\n\" transform=\"scale(0.015625)\"/>\n      <path id=\"DejaVuSans-72\" d=\"M 2631 2963 \nQ 2534 3019 2420 3045 \nQ 2306 3072 2169 3072 \nQ 1681 3072 1420 2755 \nQ 1159 2438 1159 1844 \nL 1159 0 \nL 581 0 \nL 581 3500 \nL 1159 3500 \nL 1159 2956 \nQ 1341 3275 1631 3429 \nQ 1922 3584 2338 3584 \nQ 2397 3584 2469 3576 \nQ 2541 3569 2628 3553 \nL 2631 2963 \nz\n\" transform=\"scale(0.015625)\"/>\n      <path id=\"DejaVuSans-61\" d=\"M 2194 1759 \nQ 1497 1759 1228 1600 \nQ 959 1441 959 1056 \nQ 959 750 1161 570 \nQ 1363 391 1709 391 \nQ 2188 391 2477 730 \nQ 2766 1069 2766 1631 \nL 2766 1759 \nL 2194 1759 \nz\nM 3341 1997 \nL 3341 0 \nL 2766 0 \nL 2766 531 \nQ 2569 213 2275 61 \nQ 1981 -91 1556 -91 \nQ 1019 -91 701 211 \nQ 384 513 384 1019 \nQ 384 1609 779 1909 \nQ 1175 2209 1959 2209 \nL 2766 2209 \nL 2766 2266 \nQ 2766 2663 2505 2880 \nQ 2244 3097 1772 3097 \nQ 1472 3097 1187 3025 \nQ 903 2953 641 2809 \nL 641 3341 \nQ 956 3463 1253 3523 \nQ 1550 3584 1831 3584 \nQ 2591 3584 2966 3190 \nQ 3341 2797 3341 1997 \nz\n\" transform=\"scale(0.015625)\"/>\n      <path id=\"DejaVuSans-7a\" d=\"M 353 3500 \nL 3084 3500 \nL 3084 2975 \nL 922 459 \nL 3084 459 \nL 3084 0 \nL 275 0 \nL 275 525 \nL 2438 3041 \nL 353 3041 \nL 353 3500 \nz\n\" transform=\"scale(0.015625)\"/>\n      <path id=\"DejaVuSans-69\" d=\"M 603 3500 \nL 1178 3500 \nL 1178 0 \nL 603 0 \nL 603 3500 \nz\nM 603 4863 \nL 1178 4863 \nL 1178 4134 \nL 603 4134 \nL 603 4863 \nz\n\" transform=\"scale(0.015625)\"/>\n      <path id=\"DejaVuSans-6c\" d=\"M 603 4863 \nL 1178 4863 \nL 1178 0 \nL 603 0 \nL 603 4863 \nz\n\" transform=\"scale(0.015625)\"/>\n     </defs>\n     <use xlink:href=\"#DejaVuSans-62\"/>\n     <use xlink:href=\"#DejaVuSans-72\" x=\"63.476562\"/>\n     <use xlink:href=\"#DejaVuSans-61\" x=\"104.589844\"/>\n     <use xlink:href=\"#DejaVuSans-7a\" x=\"165.869141\"/>\n     <use xlink:href=\"#DejaVuSans-69\" x=\"218.359375\"/>\n     <use xlink:href=\"#DejaVuSans-6c\" x=\"246.142578\"/>\n    </g>\n   </g>\n   <g id=\"text_18\">\n    <!-- burma -->\n    <g style=\"fill: #262626\" transform=\"translate(382.81398 181.041494) scale(0.1 -0.1)\">\n     <defs>\n      <path id=\"DejaVuSans-75\" d=\"M 544 1381 \nL 544 3500 \nL 1119 3500 \nL 1119 1403 \nQ 1119 906 1312 657 \nQ 1506 409 1894 409 \nQ 2359 409 2629 706 \nQ 2900 1003 2900 1516 \nL 2900 3500 \nL 3475 3500 \nL 3475 0 \nL 2900 0 \nL 2900 538 \nQ 2691 219 2414 64 \nQ 2138 -91 1772 -91 \nQ 1169 -91 856 284 \nQ 544 659 544 1381 \nz\nM 1991 3584 \nL 1991 3584 \nz\n\" transform=\"scale(0.015625)\"/>\n      <path id=\"DejaVuSans-6d\" d=\"M 3328 2828 \nQ 3544 3216 3844 3400 \nQ 4144 3584 4550 3584 \nQ 5097 3584 5394 3201 \nQ 5691 2819 5691 2113 \nL 5691 0 \nL 5113 0 \nL 5113 2094 \nQ 5113 2597 4934 2840 \nQ 4756 3084 4391 3084 \nQ 3944 3084 3684 2787 \nQ 3425 2491 3425 1978 \nL 3425 0 \nL 2847 0 \nL 2847 2094 \nQ 2847 2600 2669 2842 \nQ 2491 3084 2119 3084 \nQ 1678 3084 1418 2786 \nQ 1159 2488 1159 1978 \nL 1159 0 \nL 581 0 \nL 581 3500 \nL 1159 3500 \nL 1159 2956 \nQ 1356 3278 1631 3431 \nQ 1906 3584 2284 3584 \nQ 2666 3584 2933 3390 \nQ 3200 3197 3328 2828 \nz\n\" transform=\"scale(0.015625)\"/>\n     </defs>\n     <use xlink:href=\"#DejaVuSans-62\"/>\n     <use xlink:href=\"#DejaVuSans-75\" x=\"63.476562\"/>\n     <use xlink:href=\"#DejaVuSans-72\" x=\"126.855469\"/>\n     <use xlink:href=\"#DejaVuSans-6d\" x=\"166.21875\"/>\n     <use xlink:href=\"#DejaVuSans-61\" x=\"263.630859\"/>\n    </g>\n   </g>\n   <g id=\"text_19\">\n    <!-- china -->\n    <g style=\"fill: #262626\" transform=\"translate(142.710969 251.56006) scale(0.1 -0.1)\">\n     <defs>\n      <path id=\"DejaVuSans-63\" d=\"M 3122 3366 \nL 3122 2828 \nQ 2878 2963 2633 3030 \nQ 2388 3097 2138 3097 \nQ 1578 3097 1268 2742 \nQ 959 2388 959 1747 \nQ 959 1106 1268 751 \nQ 1578 397 2138 397 \nQ 2388 397 2633 464 \nQ 2878 531 3122 666 \nL 3122 134 \nQ 2881 22 2623 -34 \nQ 2366 -91 2075 -91 \nQ 1284 -91 818 406 \nQ 353 903 353 1747 \nQ 353 2603 823 3093 \nQ 1294 3584 2113 3584 \nQ 2378 3584 2631 3529 \nQ 2884 3475 3122 3366 \nz\n\" transform=\"scale(0.015625)\"/>\n      <path id=\"DejaVuSans-68\" d=\"M 3513 2113 \nL 3513 0 \nL 2938 0 \nL 2938 2094 \nQ 2938 2591 2744 2837 \nQ 2550 3084 2163 3084 \nQ 1697 3084 1428 2787 \nQ 1159 2491 1159 1978 \nL 1159 0 \nL 581 0 \nL 581 4863 \nL 1159 4863 \nL 1159 2956 \nQ 1366 3272 1645 3428 \nQ 1925 3584 2291 3584 \nQ 2894 3584 3203 3211 \nQ 3513 2838 3513 2113 \nz\n\" transform=\"scale(0.015625)\"/>\n      <path id=\"DejaVuSans-6e\" d=\"M 3513 2113 \nL 3513 0 \nL 2938 0 \nL 2938 2094 \nQ 2938 2591 2744 2837 \nQ 2550 3084 2163 3084 \nQ 1697 3084 1428 2787 \nQ 1159 2491 1159 1978 \nL 1159 0 \nL 581 0 \nL 581 3500 \nL 1159 3500 \nL 1159 2956 \nQ 1366 3272 1645 3428 \nQ 1925 3584 2291 3584 \nQ 2894 3584 3203 3211 \nQ 3513 2838 3513 2113 \nz\n\" transform=\"scale(0.015625)\"/>\n     </defs>\n     <use xlink:href=\"#DejaVuSans-63\"/>\n     <use xlink:href=\"#DejaVuSans-68\" x=\"54.980469\"/>\n     <use xlink:href=\"#DejaVuSans-69\" x=\"118.359375\"/>\n     <use xlink:href=\"#DejaVuSans-6e\" x=\"146.142578\"/>\n     <use xlink:href=\"#DejaVuSans-61\" x=\"209.521484\"/>\n    </g>\n   </g>\n   <g id=\"text_20\">\n    <!-- cuba -->\n    <g style=\"fill: #262626\" transform=\"translate(58.159434 131.824311) scale(0.1 -0.1)\">\n     <use xlink:href=\"#DejaVuSans-63\"/>\n     <use xlink:href=\"#DejaVuSans-75\" x=\"54.980469\"/>\n     <use xlink:href=\"#DejaVuSans-62\" x=\"118.359375\"/>\n     <use xlink:href=\"#DejaVuSans-61\" x=\"181.835938\"/>\n    </g>\n   </g>\n   <g id=\"text_21\">\n    <!-- egypt -->\n    <g style=\"fill: #262626\" transform=\"translate(245.027778 33.397194) scale(0.1 -0.1)\">\n     <defs>\n      <path id=\"DejaVuSans-65\" d=\"M 3597 1894 \nL 3597 1613 \nL 953 1613 \nQ 991 1019 1311 708 \nQ 1631 397 2203 397 \nQ 2534 397 2845 478 \nQ 3156 559 3463 722 \nL 3463 178 \nQ 3153 47 2828 -22 \nQ 2503 -91 2169 -91 \nQ 1331 -91 842 396 \nQ 353 884 353 1716 \nQ 353 2575 817 3079 \nQ 1281 3584 2069 3584 \nQ 2775 3584 3186 3129 \nQ 3597 2675 3597 1894 \nz\nM 3022 2063 \nQ 3016 2534 2758 2815 \nQ 2500 3097 2075 3097 \nQ 1594 3097 1305 2825 \nQ 1016 2553 972 2059 \nL 3022 2063 \nz\n\" transform=\"scale(0.015625)\"/>\n      <path id=\"DejaVuSans-67\" d=\"M 2906 1791 \nQ 2906 2416 2648 2759 \nQ 2391 3103 1925 3103 \nQ 1463 3103 1205 2759 \nQ 947 2416 947 1791 \nQ 947 1169 1205 825 \nQ 1463 481 1925 481 \nQ 2391 481 2648 825 \nQ 2906 1169 2906 1791 \nz\nM 3481 434 \nQ 3481 -459 3084 -895 \nQ 2688 -1331 1869 -1331 \nQ 1566 -1331 1297 -1286 \nQ 1028 -1241 775 -1147 \nL 775 -588 \nQ 1028 -725 1275 -790 \nQ 1522 -856 1778 -856 \nQ 2344 -856 2625 -561 \nQ 2906 -266 2906 331 \nL 2906 616 \nQ 2728 306 2450 153 \nQ 2172 0 1784 0 \nQ 1141 0 747 490 \nQ 353 981 353 1791 \nQ 353 2603 747 3093 \nQ 1141 3584 1784 3584 \nQ 2172 3584 2450 3431 \nQ 2728 3278 2906 2969 \nL 2906 3500 \nL 3481 3500 \nL 3481 434 \nz\n\" transform=\"scale(0.015625)\"/>\n      <path id=\"DejaVuSans-79\" d=\"M 2059 -325 \nQ 1816 -950 1584 -1140 \nQ 1353 -1331 966 -1331 \nL 506 -1331 \nL 506 -850 \nL 844 -850 \nQ 1081 -850 1212 -737 \nQ 1344 -625 1503 -206 \nL 1606 56 \nL 191 3500 \nL 800 3500 \nL 1894 763 \nL 2988 3500 \nL 3597 3500 \nL 2059 -325 \nz\n\" transform=\"scale(0.015625)\"/>\n      <path id=\"DejaVuSans-70\" d=\"M 1159 525 \nL 1159 -1331 \nL 581 -1331 \nL 581 3500 \nL 1159 3500 \nL 1159 2969 \nQ 1341 3281 1617 3432 \nQ 1894 3584 2278 3584 \nQ 2916 3584 3314 3078 \nQ 3713 2572 3713 1747 \nQ 3713 922 3314 415 \nQ 2916 -91 2278 -91 \nQ 1894 -91 1617 61 \nQ 1341 213 1159 525 \nz\nM 3116 1747 \nQ 3116 2381 2855 2742 \nQ 2594 3103 2138 3103 \nQ 1681 3103 1420 2742 \nQ 1159 2381 1159 1747 \nQ 1159 1113 1420 752 \nQ 1681 391 2138 391 \nQ 2594 391 2855 752 \nQ 3116 1113 3116 1747 \nz\n\" transform=\"scale(0.015625)\"/>\n      <path id=\"DejaVuSans-74\" d=\"M 1172 4494 \nL 1172 3500 \nL 2356 3500 \nL 2356 3053 \nL 1172 3053 \nL 1172 1153 \nQ 1172 725 1289 603 \nQ 1406 481 1766 481 \nL 2356 481 \nL 2356 0 \nL 1766 0 \nQ 1100 0 847 248 \nQ 594 497 594 1153 \nL 594 3053 \nL 172 3053 \nL 172 3500 \nL 594 3500 \nL 594 4494 \nL 1172 4494 \nz\n\" transform=\"scale(0.015625)\"/>\n     </defs>\n     <use xlink:href=\"#DejaVuSans-65\"/>\n     <use xlink:href=\"#DejaVuSans-67\" x=\"61.523438\"/>\n     <use xlink:href=\"#DejaVuSans-79\" x=\"125\"/>\n     <use xlink:href=\"#DejaVuSans-70\" x=\"184.179688\"/>\n     <use xlink:href=\"#DejaVuSans-74\" x=\"247.65625\"/>\n    </g>\n   </g>\n   <g id=\"text_22\">\n    <!-- india -->\n    <g style=\"fill: #262626\" transform=\"translate(139.708066 67.624605) scale(0.1 -0.1)\">\n     <defs>\n      <path id=\"DejaVuSans-64\" d=\"M 2906 2969 \nL 2906 4863 \nL 3481 4863 \nL 3481 0 \nL 2906 0 \nL 2906 525 \nQ 2725 213 2448 61 \nQ 2172 -91 1784 -91 \nQ 1150 -91 751 415 \nQ 353 922 353 1747 \nQ 353 2572 751 3078 \nQ 1150 3584 1784 3584 \nQ 2172 3584 2448 3432 \nQ 2725 3281 2906 2969 \nz\nM 947 1747 \nQ 947 1113 1208 752 \nQ 1469 391 1925 391 \nQ 2381 391 2643 752 \nQ 2906 1113 2906 1747 \nQ 2906 2381 2643 2742 \nQ 2381 3103 1925 3103 \nQ 1469 3103 1208 2742 \nQ 947 2381 947 1747 \nz\n\" transform=\"scale(0.015625)\"/>\n     </defs>\n     <use xlink:href=\"#DejaVuSans-69\"/>\n     <use xlink:href=\"#DejaVuSans-6e\" x=\"27.783203\"/>\n     <use xlink:href=\"#DejaVuSans-64\" x=\"91.162109\"/>\n     <use xlink:href=\"#DejaVuSans-69\" x=\"154.638672\"/>\n     <use xlink:href=\"#DejaVuSans-61\" x=\"182.421875\"/>\n    </g>\n   </g>\n   <g id=\"text_23\">\n    <!-- indonesia -->\n    <g style=\"fill: #262626\" transform=\"translate(322.938426 271.593281) scale(0.1 -0.1)\">\n     <defs>\n      <path id=\"DejaVuSans-6f\" d=\"M 1959 3097 \nQ 1497 3097 1228 2736 \nQ 959 2375 959 1747 \nQ 959 1119 1226 758 \nQ 1494 397 1959 397 \nQ 2419 397 2687 759 \nQ 2956 1122 2956 1747 \nQ 2956 2369 2687 2733 \nQ 2419 3097 1959 3097 \nz\nM 1959 3584 \nQ 2709 3584 3137 3096 \nQ 3566 2609 3566 1747 \nQ 3566 888 3137 398 \nQ 2709 -91 1959 -91 \nQ 1206 -91 779 398 \nQ 353 888 353 1747 \nQ 353 2609 779 3096 \nQ 1206 3584 1959 3584 \nz\n\" transform=\"scale(0.015625)\"/>\n      <path id=\"DejaVuSans-73\" d=\"M 2834 3397 \nL 2834 2853 \nQ 2591 2978 2328 3040 \nQ 2066 3103 1784 3103 \nQ 1356 3103 1142 2972 \nQ 928 2841 928 2578 \nQ 928 2378 1081 2264 \nQ 1234 2150 1697 2047 \nL 1894 2003 \nQ 2506 1872 2764 1633 \nQ 3022 1394 3022 966 \nQ 3022 478 2636 193 \nQ 2250 -91 1575 -91 \nQ 1294 -91 989 -36 \nQ 684 19 347 128 \nL 347 722 \nQ 666 556 975 473 \nQ 1284 391 1588 391 \nQ 1994 391 2212 530 \nQ 2431 669 2431 922 \nQ 2431 1156 2273 1281 \nQ 2116 1406 1581 1522 \nL 1381 1569 \nQ 847 1681 609 1914 \nQ 372 2147 372 2553 \nQ 372 3047 722 3315 \nQ 1072 3584 1716 3584 \nQ 2034 3584 2315 3537 \nQ 2597 3491 2834 3397 \nz\n\" transform=\"scale(0.015625)\"/>\n     </defs>\n     <use xlink:href=\"#DejaVuSans-69\"/>\n     <use xlink:href=\"#DejaVuSans-6e\" x=\"27.783203\"/>\n     <use xlink:href=\"#DejaVuSans-64\" x=\"91.162109\"/>\n     <use xlink:href=\"#DejaVuSans-6f\" x=\"154.638672\"/>\n     <use xlink:href=\"#DejaVuSans-6e\" x=\"215.820312\"/>\n     <use xlink:href=\"#DejaVuSans-65\" x=\"279.199219\"/>\n     <use xlink:href=\"#DejaVuSans-73\" x=\"340.722656\"/>\n     <use xlink:href=\"#DejaVuSans-69\" x=\"392.822266\"/>\n     <use xlink:href=\"#DejaVuSans-61\" x=\"420.605469\"/>\n    </g>\n   </g>\n   <g id=\"text_24\">\n    <!-- israel -->\n    <g style=\"fill: #262626\" transform=\"translate(155.861751 29.673281) scale(0.1 -0.1)\">\n     <use xlink:href=\"#DejaVuSans-69\"/>\n     <use xlink:href=\"#DejaVuSans-73\" x=\"27.783203\"/>\n     <use xlink:href=\"#DejaVuSans-72\" x=\"79.882812\"/>\n     <use xlink:href=\"#DejaVuSans-61\" x=\"120.996094\"/>\n     <use xlink:href=\"#DejaVuSans-65\" x=\"182.275391\"/>\n     <use xlink:href=\"#DejaVuSans-6c\" x=\"243.798828\"/>\n    </g>\n   </g>\n   <g id=\"text_25\">\n    <!-- jordan -->\n    <g style=\"fill: #262626\" transform=\"translate(351.759635 72.803141) scale(0.1 -0.1)\">\n     <defs>\n      <path id=\"DejaVuSans-6a\" d=\"M 603 3500 \nL 1178 3500 \nL 1178 -63 \nQ 1178 -731 923 -1031 \nQ 669 -1331 103 -1331 \nL -116 -1331 \nL -116 -844 \nL 38 -844 \nQ 366 -844 484 -692 \nQ 603 -541 603 -63 \nL 603 3500 \nz\nM 603 4863 \nL 1178 4863 \nL 1178 4134 \nL 603 4134 \nL 603 4863 \nz\n\" transform=\"scale(0.015625)\"/>\n     </defs>\n     <use xlink:href=\"#DejaVuSans-6a\"/>\n     <use xlink:href=\"#DejaVuSans-6f\" x=\"27.783203\"/>\n     <use xlink:href=\"#DejaVuSans-72\" x=\"88.964844\"/>\n     <use xlink:href=\"#DejaVuSans-64\" x=\"128.328125\"/>\n     <use xlink:href=\"#DejaVuSans-61\" x=\"191.804688\"/>\n     <use xlink:href=\"#DejaVuSans-6e\" x=\"253.083984\"/>\n    </g>\n   </g>\n   <g id=\"text_26\">\n    <!-- netherlands -->\n    <g style=\"fill: #262626\" transform=\"translate(59.270244 181.587921) scale(0.1 -0.1)\">\n     <use xlink:href=\"#DejaVuSans-6e\"/>\n     <use xlink:href=\"#DejaVuSans-65\" x=\"63.378906\"/>\n     <use xlink:href=\"#DejaVuSans-74\" x=\"124.902344\"/>\n     <use xlink:href=\"#DejaVuSans-68\" x=\"164.111328\"/>\n     <use xlink:href=\"#DejaVuSans-65\" x=\"227.490234\"/>\n     <use xlink:href=\"#DejaVuSans-72\" x=\"289.013672\"/>\n     <use xlink:href=\"#DejaVuSans-6c\" x=\"330.126953\"/>\n     <use xlink:href=\"#DejaVuSans-61\" x=\"357.910156\"/>\n     <use xlink:href=\"#DejaVuSans-6e\" x=\"419.189453\"/>\n     <use xlink:href=\"#DejaVuSans-64\" x=\"482.568359\"/>\n     <use xlink:href=\"#DejaVuSans-73\" x=\"546.044922\"/>\n    </g>\n   </g>\n   <g id=\"text_27\">\n    <!-- poland -->\n    <g style=\"fill: #262626\" transform=\"translate(62.294323 186.136317) scale(0.1 -0.1)\">\n     <use xlink:href=\"#DejaVuSans-70\"/>\n     <use xlink:href=\"#DejaVuSans-6f\" x=\"63.476562\"/>\n     <use xlink:href=\"#DejaVuSans-6c\" x=\"124.658203\"/>\n     <use xlink:href=\"#DejaVuSans-61\" x=\"152.441406\"/>\n     <use xlink:href=\"#DejaVuSans-6e\" x=\"213.720703\"/>\n     <use xlink:href=\"#DejaVuSans-64\" x=\"277.099609\"/>\n    </g>\n   </g>\n   <g id=\"text_28\">\n    <!-- uk -->\n    <g style=\"fill: #262626\" transform=\"translate(59.590981 154.085498) scale(0.1 -0.1)\">\n     <defs>\n      <path id=\"DejaVuSans-6b\" d=\"M 581 4863 \nL 1159 4863 \nL 1159 1991 \nL 2875 3500 \nL 3609 3500 \nL 1753 1863 \nL 3688 0 \nL 2938 0 \nL 1159 1709 \nL 1159 0 \nL 581 0 \nL 581 4863 \nz\n\" transform=\"scale(0.015625)\"/>\n     </defs>\n     <use xlink:href=\"#DejaVuSans-75\"/>\n     <use xlink:href=\"#DejaVuSans-6b\" x=\"63.378906\"/>\n    </g>\n   </g>\n   <g id=\"text_29\">\n    <!-- usa -->\n    <g style=\"fill: #262626\" transform=\"translate(75.815986 125.957743) scale(0.1 -0.1)\">\n     <use xlink:href=\"#DejaVuSans-75\"/>\n     <use xlink:href=\"#DejaVuSans-73\" x=\"63.378906\"/>\n     <use xlink:href=\"#DejaVuSans-61\" x=\"115.478516\"/>\n    </g>\n   </g>\n   <g id=\"text_30\">\n    <!-- ussr -->\n    <g style=\"fill: #262626\" transform=\"translate(83.410859 140.848175) scale(0.1 -0.1)\">\n     <use xlink:href=\"#DejaVuSans-75\"/>\n     <use xlink:href=\"#DejaVuSans-73\" x=\"63.378906\"/>\n     <use xlink:href=\"#DejaVuSans-73\" x=\"115.478516\"/>\n     <use xlink:href=\"#DejaVuSans-72\" x=\"167.578125\"/>\n    </g>\n   </g>\n   <g id=\"text_31\">\n    <!-- treaties -->\n    <g style=\"fill: #262626\" transform=\"translate(310.837779 111.283771) scale(0.1 -0.1)\">\n     <use xlink:href=\"#DejaVuSans-74\"/>\n     <use xlink:href=\"#DejaVuSans-72\" x=\"39.208984\"/>\n     <use xlink:href=\"#DejaVuSans-65\" x=\"78.072266\"/>\n     <use xlink:href=\"#DejaVuSans-61\" x=\"139.595703\"/>\n     <use xlink:href=\"#DejaVuSans-74\" x=\"200.875\"/>\n     <use xlink:href=\"#DejaVuSans-69\" x=\"240.083984\"/>\n     <use xlink:href=\"#DejaVuSans-65\" x=\"267.867188\"/>\n     <use xlink:href=\"#DejaVuSans-73\" x=\"329.390625\"/>\n    </g>\n   </g>\n   <g id=\"text_32\">\n    <!-- Entity/Relation Plot using PCA -->\n    <g style=\"fill: #262626\" transform=\"translate(127.930625 16.318125) scale(0.12 -0.12)\">\n     <defs>\n      <path id=\"DejaVuSans-45\" d=\"M 628 4666 \nL 3578 4666 \nL 3578 4134 \nL 1259 4134 \nL 1259 2753 \nL 3481 2753 \nL 3481 2222 \nL 1259 2222 \nL 1259 531 \nL 3634 531 \nL 3634 0 \nL 628 0 \nL 628 4666 \nz\n\" transform=\"scale(0.015625)\"/>\n      <path id=\"DejaVuSans-2f\" d=\"M 1625 4666 \nL 2156 4666 \nL 531 -594 \nL 0 -594 \nL 1625 4666 \nz\n\" transform=\"scale(0.015625)\"/>\n      <path id=\"DejaVuSans-52\" d=\"M 2841 2188 \nQ 3044 2119 3236 1894 \nQ 3428 1669 3622 1275 \nL 4263 0 \nL 3584 0 \nL 2988 1197 \nQ 2756 1666 2539 1819 \nQ 2322 1972 1947 1972 \nL 1259 1972 \nL 1259 0 \nL 628 0 \nL 628 4666 \nL 2053 4666 \nQ 2853 4666 3247 4331 \nQ 3641 3997 3641 3322 \nQ 3641 2881 3436 2590 \nQ 3231 2300 2841 2188 \nz\nM 1259 4147 \nL 1259 2491 \nL 2053 2491 \nQ 2509 2491 2742 2702 \nQ 2975 2913 2975 3322 \nQ 2975 3731 2742 3939 \nQ 2509 4147 2053 4147 \nL 1259 4147 \nz\n\" transform=\"scale(0.015625)\"/>\n      <path id=\"DejaVuSans-20\" transform=\"scale(0.015625)\"/>\n      <path id=\"DejaVuSans-50\" d=\"M 1259 4147 \nL 1259 2394 \nL 2053 2394 \nQ 2494 2394 2734 2622 \nQ 2975 2850 2975 3272 \nQ 2975 3691 2734 3919 \nQ 2494 4147 2053 4147 \nL 1259 4147 \nz\nM 628 4666 \nL 2053 4666 \nQ 2838 4666 3239 4311 \nQ 3641 3956 3641 3272 \nQ 3641 2581 3239 2228 \nQ 2838 1875 2053 1875 \nL 1259 1875 \nL 1259 0 \nL 628 0 \nL 628 4666 \nz\n\" transform=\"scale(0.015625)\"/>\n      <path id=\"DejaVuSans-43\" d=\"M 4122 4306 \nL 4122 3641 \nQ 3803 3938 3442 4084 \nQ 3081 4231 2675 4231 \nQ 1875 4231 1450 3742 \nQ 1025 3253 1025 2328 \nQ 1025 1406 1450 917 \nQ 1875 428 2675 428 \nQ 3081 428 3442 575 \nQ 3803 722 4122 1019 \nL 4122 359 \nQ 3791 134 3420 21 \nQ 3050 -91 2638 -91 \nQ 1578 -91 968 557 \nQ 359 1206 359 2328 \nQ 359 3453 968 4101 \nQ 1578 4750 2638 4750 \nQ 3056 4750 3426 4639 \nQ 3797 4528 4122 4306 \nz\n\" transform=\"scale(0.015625)\"/>\n      <path id=\"DejaVuSans-41\" d=\"M 2188 4044 \nL 1331 1722 \nL 3047 1722 \nL 2188 4044 \nz\nM 1831 4666 \nL 2547 4666 \nL 4325 0 \nL 3669 0 \nL 3244 1197 \nL 1141 1197 \nL 716 0 \nL 50 0 \nL 1831 4666 \nz\n\" transform=\"scale(0.015625)\"/>\n     </defs>\n     <use xlink:href=\"#DejaVuSans-45\"/>\n     <use xlink:href=\"#DejaVuSans-6e\" x=\"63.183594\"/>\n     <use xlink:href=\"#DejaVuSans-74\" x=\"126.5625\"/>\n     <use xlink:href=\"#DejaVuSans-69\" x=\"165.771484\"/>\n     <use xlink:href=\"#DejaVuSans-74\" x=\"193.554688\"/>\n     <use xlink:href=\"#DejaVuSans-79\" x=\"232.763672\"/>\n     <use xlink:href=\"#DejaVuSans-2f\" x=\"291.943359\"/>\n     <use xlink:href=\"#DejaVuSans-52\" x=\"325.634766\"/>\n     <use xlink:href=\"#DejaVuSans-65\" x=\"390.617188\"/>\n     <use xlink:href=\"#DejaVuSans-6c\" x=\"452.140625\"/>\n     <use xlink:href=\"#DejaVuSans-61\" x=\"479.923828\"/>\n     <use xlink:href=\"#DejaVuSans-74\" x=\"541.203125\"/>\n     <use xlink:href=\"#DejaVuSans-69\" x=\"580.412109\"/>\n     <use xlink:href=\"#DejaVuSans-6f\" x=\"608.195312\"/>\n     <use xlink:href=\"#DejaVuSans-6e\" x=\"669.376953\"/>\n     <use xlink:href=\"#DejaVuSans-20\" x=\"732.755859\"/>\n     <use xlink:href=\"#DejaVuSans-50\" x=\"764.542969\"/>\n     <use xlink:href=\"#DejaVuSans-6c\" x=\"824.845703\"/>\n     <use xlink:href=\"#DejaVuSans-6f\" x=\"852.628906\"/>\n     <use xlink:href=\"#DejaVuSans-74\" x=\"913.810547\"/>\n     <use xlink:href=\"#DejaVuSans-20\" x=\"953.019531\"/>\n     <use xlink:href=\"#DejaVuSans-75\" x=\"984.806641\"/>\n     <use xlink:href=\"#DejaVuSans-73\" x=\"1048.185547\"/>\n     <use xlink:href=\"#DejaVuSans-69\" x=\"1100.285156\"/>\n     <use xlink:href=\"#DejaVuSans-6e\" x=\"1128.068359\"/>\n     <use xlink:href=\"#DejaVuSans-67\" x=\"1191.447266\"/>\n     <use xlink:href=\"#DejaVuSans-20\" x=\"1254.923828\"/>\n     <use xlink:href=\"#DejaVuSans-50\" x=\"1286.710938\"/>\n     <use xlink:href=\"#DejaVuSans-43\" x=\"1347.013672\"/>\n     <use xlink:href=\"#DejaVuSans-41\" x=\"1416.837891\"/>\n    </g>\n   </g>\n  </g>\n </g>\n <defs>\n  <clipPath id=\"pa4cefce8b9\">\n   <rect x=\"38.482813\" y=\"22.318125\" width=\"357.12\" height=\"266.112\"/>\n  </clipPath>\n </defs>\n</svg>\n"
          },
          "metadata": {}
        }
      ],
      "source": [
        "# Filter the ER plot down to a specific set of entities and relations\n",
        "nations_results.plot_er(\n",
        "    relations={\"treaties\"},\n",
        "    apply_limits=False,\n",
        "    plot_relations=True,\n",
        ");"
      ]
    }
  ],
  "metadata": {
    "kernelspec": {
      "display_name": "Python 3",
      "name": "python3"
    },
    "language_info": {
      "codemirror_mode": {
        "name": "ipython",
        "version": 3
      },
      "file_extension": ".py",
      "mimetype": "text/x-python",
      "name": "python",
      "nbconvert_exporter": "python",
      "pygments_lexer": "ipython3",
      "version": "3.12.4"
    },
    "colab": {
      "provenance": [],
      "gpuType": "T4",
      "include_colab_link": true
    },
    "accelerator": "GPU",
    "widgets": {
      "application/vnd.jupyter.widget-state+json": {
        "a8390365bfaa4e67b760679e20e177b6": {
          "model_module": "@jupyter-widgets/controls",
          "model_name": "HBoxModel",
          "model_module_version": "1.5.0",
          "state": {
            "_dom_classes": [],
            "_model_module": "@jupyter-widgets/controls",
            "_model_module_version": "1.5.0",
            "_model_name": "HBoxModel",
            "_view_count": null,
            "_view_module": "@jupyter-widgets/controls",
            "_view_module_version": "1.5.0",
            "_view_name": "HBoxView",
            "box_style": "",
            "children": [
              "IPY_MODEL_c56249c6ffc2406fadaf0c9a4e8b9387",
              "IPY_MODEL_54014c26333343cb93a22d9d3532a636",
              "IPY_MODEL_d3a90613c99644aead516f12e7d08c29"
            ],
            "layout": "IPY_MODEL_b9acab9149b04c818ebb4a141767511e"
          }
        },
        "c56249c6ffc2406fadaf0c9a4e8b9387": {
          "model_module": "@jupyter-widgets/controls",
          "model_name": "HTMLModel",
          "model_module_version": "1.5.0",
          "state": {
            "_dom_classes": [],
            "_model_module": "@jupyter-widgets/controls",
            "_model_module_version": "1.5.0",
            "_model_name": "HTMLModel",
            "_view_count": null,
            "_view_module": "@jupyter-widgets/controls",
            "_view_module_version": "1.5.0",
            "_view_name": "HTMLView",
            "description": "",
            "description_tooltip": null,
            "layout": "IPY_MODEL_625483d716cd4c4b8b7796f728a55260",
            "placeholder": "​",
            "style": "IPY_MODEL_2233f8c3630f4b48af64a697706d766a",
            "value": "Training epochs on cpu: 100%"
          }
        },
        "54014c26333343cb93a22d9d3532a636": {
          "model_module": "@jupyter-widgets/controls",
          "model_name": "FloatProgressModel",
          "model_module_version": "1.5.0",
          "state": {
            "_dom_classes": [],
            "_model_module": "@jupyter-widgets/controls",
            "_model_module_version": "1.5.0",
            "_model_name": "FloatProgressModel",
            "_view_count": null,
            "_view_module": "@jupyter-widgets/controls",
            "_view_module_version": "1.5.0",
            "_view_name": "ProgressView",
            "bar_style": "success",
            "description": "",
            "description_tooltip": null,
            "layout": "IPY_MODEL_22bf67490e5a4468b44c4fbd37a246c9",
            "max": 5,
            "min": 0,
            "orientation": "horizontal",
            "style": "IPY_MODEL_1c1d5c4178fd4e929409a2a7a7ba7b48",
            "value": 5
          }
        },
        "d3a90613c99644aead516f12e7d08c29": {
          "model_module": "@jupyter-widgets/controls",
          "model_name": "HTMLModel",
          "model_module_version": "1.5.0",
          "state": {
            "_dom_classes": [],
            "_model_module": "@jupyter-widgets/controls",
            "_model_module_version": "1.5.0",
            "_model_name": "HTMLModel",
            "_view_count": null,
            "_view_module": "@jupyter-widgets/controls",
            "_view_module_version": "1.5.0",
            "_view_name": "HTMLView",
            "description": "",
            "description_tooltip": null,
            "layout": "IPY_MODEL_ee2b52a702804aa9b12f115788e68ec3",
            "placeholder": "​",
            "style": "IPY_MODEL_e34ac1234b034474a96317a299813c9e",
            "value": " 5/5 [00:02&lt;00:00,  1.55epoch/s, loss=1.32, prev_loss=1.72]"
          }
        },
        "b9acab9149b04c818ebb4a141767511e": {
          "model_module": "@jupyter-widgets/base",
          "model_name": "LayoutModel",
          "model_module_version": "1.2.0",
          "state": {
            "_model_module": "@jupyter-widgets/base",
            "_model_module_version": "1.2.0",
            "_model_name": "LayoutModel",
            "_view_count": null,
            "_view_module": "@jupyter-widgets/base",
            "_view_module_version": "1.2.0",
            "_view_name": "LayoutView",
            "align_content": null,
            "align_items": null,
            "align_self": null,
            "border": null,
            "bottom": null,
            "display": null,
            "flex": null,
            "flex_flow": null,
            "grid_area": null,
            "grid_auto_columns": null,
            "grid_auto_flow": null,
            "grid_auto_rows": null,
            "grid_column": null,
            "grid_gap": null,
            "grid_row": null,
            "grid_template_areas": null,
            "grid_template_columns": null,
            "grid_template_rows": null,
            "height": null,
            "justify_content": null,
            "justify_items": null,
            "left": null,
            "margin": null,
            "max_height": null,
            "max_width": null,
            "min_height": null,
            "min_width": null,
            "object_fit": null,
            "object_position": null,
            "order": null,
            "overflow": null,
            "overflow_x": null,
            "overflow_y": null,
            "padding": null,
            "right": null,
            "top": null,
            "visibility": null,
            "width": null
          }
        },
        "625483d716cd4c4b8b7796f728a55260": {
          "model_module": "@jupyter-widgets/base",
          "model_name": "LayoutModel",
          "model_module_version": "1.2.0",
          "state": {
            "_model_module": "@jupyter-widgets/base",
            "_model_module_version": "1.2.0",
            "_model_name": "LayoutModel",
            "_view_count": null,
            "_view_module": "@jupyter-widgets/base",
            "_view_module_version": "1.2.0",
            "_view_name": "LayoutView",
            "align_content": null,
            "align_items": null,
            "align_self": null,
            "border": null,
            "bottom": null,
            "display": null,
            "flex": null,
            "flex_flow": null,
            "grid_area": null,
            "grid_auto_columns": null,
            "grid_auto_flow": null,
            "grid_auto_rows": null,
            "grid_column": null,
            "grid_gap": null,
            "grid_row": null,
            "grid_template_areas": null,
            "grid_template_columns": null,
            "grid_template_rows": null,
            "height": null,
            "justify_content": null,
            "justify_items": null,
            "left": null,
            "margin": null,
            "max_height": null,
            "max_width": null,
            "min_height": null,
            "min_width": null,
            "object_fit": null,
            "object_position": null,
            "order": null,
            "overflow": null,
            "overflow_x": null,
            "overflow_y": null,
            "padding": null,
            "right": null,
            "top": null,
            "visibility": null,
            "width": null
          }
        },
        "2233f8c3630f4b48af64a697706d766a": {
          "model_module": "@jupyter-widgets/controls",
          "model_name": "DescriptionStyleModel",
          "model_module_version": "1.5.0",
          "state": {
            "_model_module": "@jupyter-widgets/controls",
            "_model_module_version": "1.5.0",
            "_model_name": "DescriptionStyleModel",
            "_view_count": null,
            "_view_module": "@jupyter-widgets/base",
            "_view_module_version": "1.2.0",
            "_view_name": "StyleView",
            "description_width": ""
          }
        },
        "22bf67490e5a4468b44c4fbd37a246c9": {
          "model_module": "@jupyter-widgets/base",
          "model_name": "LayoutModel",
          "model_module_version": "1.2.0",
          "state": {
            "_model_module": "@jupyter-widgets/base",
            "_model_module_version": "1.2.0",
            "_model_name": "LayoutModel",
            "_view_count": null,
            "_view_module": "@jupyter-widgets/base",
            "_view_module_version": "1.2.0",
            "_view_name": "LayoutView",
            "align_content": null,
            "align_items": null,
            "align_self": null,
            "border": null,
            "bottom": null,
            "display": null,
            "flex": null,
            "flex_flow": null,
            "grid_area": null,
            "grid_auto_columns": null,
            "grid_auto_flow": null,
            "grid_auto_rows": null,
            "grid_column": null,
            "grid_gap": null,
            "grid_row": null,
            "grid_template_areas": null,
            "grid_template_columns": null,
            "grid_template_rows": null,
            "height": null,
            "justify_content": null,
            "justify_items": null,
            "left": null,
            "margin": null,
            "max_height": null,
            "max_width": null,
            "min_height": null,
            "min_width": null,
            "object_fit": null,
            "object_position": null,
            "order": null,
            "overflow": null,
            "overflow_x": null,
            "overflow_y": null,
            "padding": null,
            "right": null,
            "top": null,
            "visibility": null,
            "width": null
          }
        },
        "1c1d5c4178fd4e929409a2a7a7ba7b48": {
          "model_module": "@jupyter-widgets/controls",
          "model_name": "ProgressStyleModel",
          "model_module_version": "1.5.0",
          "state": {
            "_model_module": "@jupyter-widgets/controls",
            "_model_module_version": "1.5.0",
            "_model_name": "ProgressStyleModel",
            "_view_count": null,
            "_view_module": "@jupyter-widgets/base",
            "_view_module_version": "1.2.0",
            "_view_name": "StyleView",
            "bar_color": null,
            "description_width": ""
          }
        },
        "ee2b52a702804aa9b12f115788e68ec3": {
          "model_module": "@jupyter-widgets/base",
          "model_name": "LayoutModel",
          "model_module_version": "1.2.0",
          "state": {
            "_model_module": "@jupyter-widgets/base",
            "_model_module_version": "1.2.0",
            "_model_name": "LayoutModel",
            "_view_count": null,
            "_view_module": "@jupyter-widgets/base",
            "_view_module_version": "1.2.0",
            "_view_name": "LayoutView",
            "align_content": null,
            "align_items": null,
            "align_self": null,
            "border": null,
            "bottom": null,
            "display": null,
            "flex": null,
            "flex_flow": null,
            "grid_area": null,
            "grid_auto_columns": null,
            "grid_auto_flow": null,
            "grid_auto_rows": null,
            "grid_column": null,
            "grid_gap": null,
            "grid_row": null,
            "grid_template_areas": null,
            "grid_template_columns": null,
            "grid_template_rows": null,
            "height": null,
            "justify_content": null,
            "justify_items": null,
            "left": null,
            "margin": null,
            "max_height": null,
            "max_width": null,
            "min_height": null,
            "min_width": null,
            "object_fit": null,
            "object_position": null,
            "order": null,
            "overflow": null,
            "overflow_x": null,
            "overflow_y": null,
            "padding": null,
            "right": null,
            "top": null,
            "visibility": null,
            "width": null
          }
        },
        "e34ac1234b034474a96317a299813c9e": {
          "model_module": "@jupyter-widgets/controls",
          "model_name": "DescriptionStyleModel",
          "model_module_version": "1.5.0",
          "state": {
            "_model_module": "@jupyter-widgets/controls",
            "_model_module_version": "1.5.0",
            "_model_name": "DescriptionStyleModel",
            "_view_count": null,
            "_view_module": "@jupyter-widgets/base",
            "_view_module_version": "1.2.0",
            "_view_name": "StyleView",
            "description_width": ""
          }
        },
        "98a7922325ab4c24b3aec2811c2d391c": {
          "model_module": "@jupyter-widgets/controls",
          "model_name": "HBoxModel",
          "model_module_version": "1.5.0",
          "state": {
            "_dom_classes": [],
            "_model_module": "@jupyter-widgets/controls",
            "_model_module_version": "1.5.0",
            "_model_name": "HBoxModel",
            "_view_count": null,
            "_view_module": "@jupyter-widgets/controls",
            "_view_module_version": "1.5.0",
            "_view_name": "HBoxView",
            "box_style": "",
            "children": [
              "IPY_MODEL_82898347305440498e4cb5eb22fb53a0",
              "IPY_MODEL_d438e590ba8d4ce88b568d141b752aab",
              "IPY_MODEL_17bd7d69c382481fa24822095c28a6d5"
            ],
            "layout": "IPY_MODEL_03a9ce5cb83d4b64bd48ded98035e621"
          }
        },
        "82898347305440498e4cb5eb22fb53a0": {
          "model_module": "@jupyter-widgets/controls",
          "model_name": "HTMLModel",
          "model_module_version": "1.5.0",
          "state": {
            "_dom_classes": [],
            "_model_module": "@jupyter-widgets/controls",
            "_model_module_version": "1.5.0",
            "_model_name": "HTMLModel",
            "_view_count": null,
            "_view_module": "@jupyter-widgets/controls",
            "_view_module_version": "1.5.0",
            "_view_name": "HTMLView",
            "description": "",
            "description_tooltip": null,
            "layout": "IPY_MODEL_a1e09f7c1bb94884b88ec78a1c022418",
            "placeholder": "​",
            "style": "IPY_MODEL_7e50f31e42b74fb3bcc965f843e125fe",
            "value": "Training epochs on cpu: 100%"
          }
        },
        "d438e590ba8d4ce88b568d141b752aab": {
          "model_module": "@jupyter-widgets/controls",
          "model_name": "FloatProgressModel",
          "model_module_version": "1.5.0",
          "state": {
            "_dom_classes": [],
            "_model_module": "@jupyter-widgets/controls",
            "_model_module_version": "1.5.0",
            "_model_name": "FloatProgressModel",
            "_view_count": null,
            "_view_module": "@jupyter-widgets/controls",
            "_view_module_version": "1.5.0",
            "_view_name": "ProgressView",
            "bar_style": "success",
            "description": "",
            "description_tooltip": null,
            "layout": "IPY_MODEL_2c0128cd06774fdb83a74aa820cd61cf",
            "max": 128,
            "min": 0,
            "orientation": "horizontal",
            "style": "IPY_MODEL_6a61a4d1333f465f8af666727f012a3d",
            "value": 128
          }
        },
        "17bd7d69c382481fa24822095c28a6d5": {
          "model_module": "@jupyter-widgets/controls",
          "model_name": "HTMLModel",
          "model_module_version": "1.5.0",
          "state": {
            "_dom_classes": [],
            "_model_module": "@jupyter-widgets/controls",
            "_model_module_version": "1.5.0",
            "_model_name": "HTMLModel",
            "_view_count": null,
            "_view_module": "@jupyter-widgets/controls",
            "_view_module_version": "1.5.0",
            "_view_name": "HTMLView",
            "description": "",
            "description_tooltip": null,
            "layout": "IPY_MODEL_97e4e0e38f36435592124e2d01901708",
            "placeholder": "​",
            "style": "IPY_MODEL_49c0665920374c91bcd3ae18ab2e74b2",
            "value": " 128/128 [00:26&lt;00:00,  6.20epoch/s, loss=0, prev_loss=0]"
          }
        },
        "03a9ce5cb83d4b64bd48ded98035e621": {
          "model_module": "@jupyter-widgets/base",
          "model_name": "LayoutModel",
          "model_module_version": "1.2.0",
          "state": {
            "_model_module": "@jupyter-widgets/base",
            "_model_module_version": "1.2.0",
            "_model_name": "LayoutModel",
            "_view_count": null,
            "_view_module": "@jupyter-widgets/base",
            "_view_module_version": "1.2.0",
            "_view_name": "LayoutView",
            "align_content": null,
            "align_items": null,
            "align_self": null,
            "border": null,
            "bottom": null,
            "display": null,
            "flex": null,
            "flex_flow": null,
            "grid_area": null,
            "grid_auto_columns": null,
            "grid_auto_flow": null,
            "grid_auto_rows": null,
            "grid_column": null,
            "grid_gap": null,
            "grid_row": null,
            "grid_template_areas": null,
            "grid_template_columns": null,
            "grid_template_rows": null,
            "height": null,
            "justify_content": null,
            "justify_items": null,
            "left": null,
            "margin": null,
            "max_height": null,
            "max_width": null,
            "min_height": null,
            "min_width": null,
            "object_fit": null,
            "object_position": null,
            "order": null,
            "overflow": null,
            "overflow_x": null,
            "overflow_y": null,
            "padding": null,
            "right": null,
            "top": null,
            "visibility": null,
            "width": null
          }
        },
        "a1e09f7c1bb94884b88ec78a1c022418": {
          "model_module": "@jupyter-widgets/base",
          "model_name": "LayoutModel",
          "model_module_version": "1.2.0",
          "state": {
            "_model_module": "@jupyter-widgets/base",
            "_model_module_version": "1.2.0",
            "_model_name": "LayoutModel",
            "_view_count": null,
            "_view_module": "@jupyter-widgets/base",
            "_view_module_version": "1.2.0",
            "_view_name": "LayoutView",
            "align_content": null,
            "align_items": null,
            "align_self": null,
            "border": null,
            "bottom": null,
            "display": null,
            "flex": null,
            "flex_flow": null,
            "grid_area": null,
            "grid_auto_columns": null,
            "grid_auto_flow": null,
            "grid_auto_rows": null,
            "grid_column": null,
            "grid_gap": null,
            "grid_row": null,
            "grid_template_areas": null,
            "grid_template_columns": null,
            "grid_template_rows": null,
            "height": null,
            "justify_content": null,
            "justify_items": null,
            "left": null,
            "margin": null,
            "max_height": null,
            "max_width": null,
            "min_height": null,
            "min_width": null,
            "object_fit": null,
            "object_position": null,
            "order": null,
            "overflow": null,
            "overflow_x": null,
            "overflow_y": null,
            "padding": null,
            "right": null,
            "top": null,
            "visibility": null,
            "width": null
          }
        },
        "7e50f31e42b74fb3bcc965f843e125fe": {
          "model_module": "@jupyter-widgets/controls",
          "model_name": "DescriptionStyleModel",
          "model_module_version": "1.5.0",
          "state": {
            "_model_module": "@jupyter-widgets/controls",
            "_model_module_version": "1.5.0",
            "_model_name": "DescriptionStyleModel",
            "_view_count": null,
            "_view_module": "@jupyter-widgets/base",
            "_view_module_version": "1.2.0",
            "_view_name": "StyleView",
            "description_width": ""
          }
        },
        "2c0128cd06774fdb83a74aa820cd61cf": {
          "model_module": "@jupyter-widgets/base",
          "model_name": "LayoutModel",
          "model_module_version": "1.2.0",
          "state": {
            "_model_module": "@jupyter-widgets/base",
            "_model_module_version": "1.2.0",
            "_model_name": "LayoutModel",
            "_view_count": null,
            "_view_module": "@jupyter-widgets/base",
            "_view_module_version": "1.2.0",
            "_view_name": "LayoutView",
            "align_content": null,
            "align_items": null,
            "align_self": null,
            "border": null,
            "bottom": null,
            "display": null,
            "flex": null,
            "flex_flow": null,
            "grid_area": null,
            "grid_auto_columns": null,
            "grid_auto_flow": null,
            "grid_auto_rows": null,
            "grid_column": null,
            "grid_gap": null,
            "grid_row": null,
            "grid_template_areas": null,
            "grid_template_columns": null,
            "grid_template_rows": null,
            "height": null,
            "justify_content": null,
            "justify_items": null,
            "left": null,
            "margin": null,
            "max_height": null,
            "max_width": null,
            "min_height": null,
            "min_width": null,
            "object_fit": null,
            "object_position": null,
            "order": null,
            "overflow": null,
            "overflow_x": null,
            "overflow_y": null,
            "padding": null,
            "right": null,
            "top": null,
            "visibility": null,
            "width": null
          }
        },
        "6a61a4d1333f465f8af666727f012a3d": {
          "model_module": "@jupyter-widgets/controls",
          "model_name": "ProgressStyleModel",
          "model_module_version": "1.5.0",
          "state": {
            "_model_module": "@jupyter-widgets/controls",
            "_model_module_version": "1.5.0",
            "_model_name": "ProgressStyleModel",
            "_view_count": null,
            "_view_module": "@jupyter-widgets/base",
            "_view_module_version": "1.2.0",
            "_view_name": "StyleView",
            "bar_color": null,
            "description_width": ""
          }
        },
        "97e4e0e38f36435592124e2d01901708": {
          "model_module": "@jupyter-widgets/base",
          "model_name": "LayoutModel",
          "model_module_version": "1.2.0",
          "state": {
            "_model_module": "@jupyter-widgets/base",
            "_model_module_version": "1.2.0",
            "_model_name": "LayoutModel",
            "_view_count": null,
            "_view_module": "@jupyter-widgets/base",
            "_view_module_version": "1.2.0",
            "_view_name": "LayoutView",
            "align_content": null,
            "align_items": null,
            "align_self": null,
            "border": null,
            "bottom": null,
            "display": null,
            "flex": null,
            "flex_flow": null,
            "grid_area": null,
            "grid_auto_columns": null,
            "grid_auto_flow": null,
            "grid_auto_rows": null,
            "grid_column": null,
            "grid_gap": null,
            "grid_row": null,
            "grid_template_areas": null,
            "grid_template_columns": null,
            "grid_template_rows": null,
            "height": null,
            "justify_content": null,
            "justify_items": null,
            "left": null,
            "margin": null,
            "max_height": null,
            "max_width": null,
            "min_height": null,
            "min_width": null,
            "object_fit": null,
            "object_position": null,
            "order": null,
            "overflow": null,
            "overflow_x": null,
            "overflow_y": null,
            "padding": null,
            "right": null,
            "top": null,
            "visibility": null,
            "width": null
          }
        },
        "49c0665920374c91bcd3ae18ab2e74b2": {
          "model_module": "@jupyter-widgets/controls",
          "model_name": "DescriptionStyleModel",
          "model_module_version": "1.5.0",
          "state": {
            "_model_module": "@jupyter-widgets/controls",
            "_model_module_version": "1.5.0",
            "_model_name": "DescriptionStyleModel",
            "_view_count": null,
            "_view_module": "@jupyter-widgets/base",
            "_view_module_version": "1.2.0",
            "_view_name": "StyleView",
            "description_width": ""
          }
        },
        "333c57c17fe64c489634c79a1284df9b": {
          "model_module": "@jupyter-widgets/controls",
          "model_name": "HBoxModel",
          "model_module_version": "1.5.0",
          "state": {
            "_dom_classes": [],
            "_model_module": "@jupyter-widgets/controls",
            "_model_module_version": "1.5.0",
            "_model_name": "HBoxModel",
            "_view_count": null,
            "_view_module": "@jupyter-widgets/controls",
            "_view_module_version": "1.5.0",
            "_view_name": "HBoxView",
            "box_style": "",
            "children": [
              "IPY_MODEL_814add1be4824ed48fa773b2bb057e0d",
              "IPY_MODEL_6730f3df2ddb42b3b52a173811176ebf",
              "IPY_MODEL_52a4ca3948384ee08191d2e02cdf8597"
            ],
            "layout": "IPY_MODEL_c562008219cc40faa0e964ba5a65db90"
          }
        },
        "814add1be4824ed48fa773b2bb057e0d": {
          "model_module": "@jupyter-widgets/controls",
          "model_name": "HTMLModel",
          "model_module_version": "1.5.0",
          "state": {
            "_dom_classes": [],
            "_model_module": "@jupyter-widgets/controls",
            "_model_module_version": "1.5.0",
            "_model_name": "HTMLModel",
            "_view_count": null,
            "_view_module": "@jupyter-widgets/controls",
            "_view_module_version": "1.5.0",
            "_view_name": "HTMLView",
            "description": "",
            "description_tooltip": null,
            "layout": "IPY_MODEL_4bf4545f508a4023aa7f775025fd9138",
            "placeholder": "​",
            "style": "IPY_MODEL_038aad45b08b46179bd9ba5cb8343ea8",
            "value": "Training epochs on cpu: 100%"
          }
        },
        "6730f3df2ddb42b3b52a173811176ebf": {
          "model_module": "@jupyter-widgets/controls",
          "model_name": "FloatProgressModel",
          "model_module_version": "1.5.0",
          "state": {
            "_dom_classes": [],
            "_model_module": "@jupyter-widgets/controls",
            "_model_module_version": "1.5.0",
            "_model_name": "FloatProgressModel",
            "_view_count": null,
            "_view_module": "@jupyter-widgets/controls",
            "_view_module_version": "1.5.0",
            "_view_name": "ProgressView",
            "bar_style": "success",
            "description": "",
            "description_tooltip": null,
            "layout": "IPY_MODEL_50b04efd761747dd9330835122e8ac33",
            "max": 128,
            "min": 0,
            "orientation": "horizontal",
            "style": "IPY_MODEL_7fa991e624634ba5af552df500685af5",
            "value": 128
          }
        },
        "52a4ca3948384ee08191d2e02cdf8597": {
          "model_module": "@jupyter-widgets/controls",
          "model_name": "HTMLModel",
          "model_module_version": "1.5.0",
          "state": {
            "_dom_classes": [],
            "_model_module": "@jupyter-widgets/controls",
            "_model_module_version": "1.5.0",
            "_model_name": "HTMLModel",
            "_view_count": null,
            "_view_module": "@jupyter-widgets/controls",
            "_view_module_version": "1.5.0",
            "_view_name": "HTMLView",
            "description": "",
            "description_tooltip": null,
            "layout": "IPY_MODEL_a4ae58145eb1428fbeef9b8a061d704a",
            "placeholder": "​",
            "style": "IPY_MODEL_6e28d8f6cd5a4eba8e09fc4c13c0c821",
            "value": " 128/128 [00:23&lt;00:00,  6.03epoch/s, loss=0.403, prev_loss=0.401]"
          }
        },
        "c562008219cc40faa0e964ba5a65db90": {
          "model_module": "@jupyter-widgets/base",
          "model_name": "LayoutModel",
          "model_module_version": "1.2.0",
          "state": {
            "_model_module": "@jupyter-widgets/base",
            "_model_module_version": "1.2.0",
            "_model_name": "LayoutModel",
            "_view_count": null,
            "_view_module": "@jupyter-widgets/base",
            "_view_module_version": "1.2.0",
            "_view_name": "LayoutView",
            "align_content": null,
            "align_items": null,
            "align_self": null,
            "border": null,
            "bottom": null,
            "display": null,
            "flex": null,
            "flex_flow": null,
            "grid_area": null,
            "grid_auto_columns": null,
            "grid_auto_flow": null,
            "grid_auto_rows": null,
            "grid_column": null,
            "grid_gap": null,
            "grid_row": null,
            "grid_template_areas": null,
            "grid_template_columns": null,
            "grid_template_rows": null,
            "height": null,
            "justify_content": null,
            "justify_items": null,
            "left": null,
            "margin": null,
            "max_height": null,
            "max_width": null,
            "min_height": null,
            "min_width": null,
            "object_fit": null,
            "object_position": null,
            "order": null,
            "overflow": null,
            "overflow_x": null,
            "overflow_y": null,
            "padding": null,
            "right": null,
            "top": null,
            "visibility": null,
            "width": null
          }
        },
        "4bf4545f508a4023aa7f775025fd9138": {
          "model_module": "@jupyter-widgets/base",
          "model_name": "LayoutModel",
          "model_module_version": "1.2.0",
          "state": {
            "_model_module": "@jupyter-widgets/base",
            "_model_module_version": "1.2.0",
            "_model_name": "LayoutModel",
            "_view_count": null,
            "_view_module": "@jupyter-widgets/base",
            "_view_module_version": "1.2.0",
            "_view_name": "LayoutView",
            "align_content": null,
            "align_items": null,
            "align_self": null,
            "border": null,
            "bottom": null,
            "display": null,
            "flex": null,
            "flex_flow": null,
            "grid_area": null,
            "grid_auto_columns": null,
            "grid_auto_flow": null,
            "grid_auto_rows": null,
            "grid_column": null,
            "grid_gap": null,
            "grid_row": null,
            "grid_template_areas": null,
            "grid_template_columns": null,
            "grid_template_rows": null,
            "height": null,
            "justify_content": null,
            "justify_items": null,
            "left": null,
            "margin": null,
            "max_height": null,
            "max_width": null,
            "min_height": null,
            "min_width": null,
            "object_fit": null,
            "object_position": null,
            "order": null,
            "overflow": null,
            "overflow_x": null,
            "overflow_y": null,
            "padding": null,
            "right": null,
            "top": null,
            "visibility": null,
            "width": null
          }
        },
        "038aad45b08b46179bd9ba5cb8343ea8": {
          "model_module": "@jupyter-widgets/controls",
          "model_name": "DescriptionStyleModel",
          "model_module_version": "1.5.0",
          "state": {
            "_model_module": "@jupyter-widgets/controls",
            "_model_module_version": "1.5.0",
            "_model_name": "DescriptionStyleModel",
            "_view_count": null,
            "_view_module": "@jupyter-widgets/base",
            "_view_module_version": "1.2.0",
            "_view_name": "StyleView",
            "description_width": ""
          }
        },
        "50b04efd761747dd9330835122e8ac33": {
          "model_module": "@jupyter-widgets/base",
          "model_name": "LayoutModel",
          "model_module_version": "1.2.0",
          "state": {
            "_model_module": "@jupyter-widgets/base",
            "_model_module_version": "1.2.0",
            "_model_name": "LayoutModel",
            "_view_count": null,
            "_view_module": "@jupyter-widgets/base",
            "_view_module_version": "1.2.0",
            "_view_name": "LayoutView",
            "align_content": null,
            "align_items": null,
            "align_self": null,
            "border": null,
            "bottom": null,
            "display": null,
            "flex": null,
            "flex_flow": null,
            "grid_area": null,
            "grid_auto_columns": null,
            "grid_auto_flow": null,
            "grid_auto_rows": null,
            "grid_column": null,
            "grid_gap": null,
            "grid_row": null,
            "grid_template_areas": null,
            "grid_template_columns": null,
            "grid_template_rows": null,
            "height": null,
            "justify_content": null,
            "justify_items": null,
            "left": null,
            "margin": null,
            "max_height": null,
            "max_width": null,
            "min_height": null,
            "min_width": null,
            "object_fit": null,
            "object_position": null,
            "order": null,
            "overflow": null,
            "overflow_x": null,
            "overflow_y": null,
            "padding": null,
            "right": null,
            "top": null,
            "visibility": null,
            "width": null
          }
        },
        "7fa991e624634ba5af552df500685af5": {
          "model_module": "@jupyter-widgets/controls",
          "model_name": "ProgressStyleModel",
          "model_module_version": "1.5.0",
          "state": {
            "_model_module": "@jupyter-widgets/controls",
            "_model_module_version": "1.5.0",
            "_model_name": "ProgressStyleModel",
            "_view_count": null,
            "_view_module": "@jupyter-widgets/base",
            "_view_module_version": "1.2.0",
            "_view_name": "StyleView",
            "bar_color": null,
            "description_width": ""
          }
        },
        "a4ae58145eb1428fbeef9b8a061d704a": {
          "model_module": "@jupyter-widgets/base",
          "model_name": "LayoutModel",
          "model_module_version": "1.2.0",
          "state": {
            "_model_module": "@jupyter-widgets/base",
            "_model_module_version": "1.2.0",
            "_model_name": "LayoutModel",
            "_view_count": null,
            "_view_module": "@jupyter-widgets/base",
            "_view_module_version": "1.2.0",
            "_view_name": "LayoutView",
            "align_content": null,
            "align_items": null,
            "align_self": null,
            "border": null,
            "bottom": null,
            "display": null,
            "flex": null,
            "flex_flow": null,
            "grid_area": null,
            "grid_auto_columns": null,
            "grid_auto_flow": null,
            "grid_auto_rows": null,
            "grid_column": null,
            "grid_gap": null,
            "grid_row": null,
            "grid_template_areas": null,
            "grid_template_columns": null,
            "grid_template_rows": null,
            "height": null,
            "justify_content": null,
            "justify_items": null,
            "left": null,
            "margin": null,
            "max_height": null,
            "max_width": null,
            "min_height": null,
            "min_width": null,
            "object_fit": null,
            "object_position": null,
            "order": null,
            "overflow": null,
            "overflow_x": null,
            "overflow_y": null,
            "padding": null,
            "right": null,
            "top": null,
            "visibility": null,
            "width": null
          }
        },
        "6e28d8f6cd5a4eba8e09fc4c13c0c821": {
          "model_module": "@jupyter-widgets/controls",
          "model_name": "DescriptionStyleModel",
          "model_module_version": "1.5.0",
          "state": {
            "_model_module": "@jupyter-widgets/controls",
            "_model_module_version": "1.5.0",
            "_model_name": "DescriptionStyleModel",
            "_view_count": null,
            "_view_module": "@jupyter-widgets/base",
            "_view_module_version": "1.2.0",
            "_view_name": "StyleView",
            "description_width": ""
          }
        },
        "67551a2f466448439542a2da7284a4d9": {
          "model_module": "@jupyter-widgets/controls",
          "model_name": "HBoxModel",
          "model_module_version": "1.5.0",
          "state": {
            "_dom_classes": [],
            "_model_module": "@jupyter-widgets/controls",
            "_model_module_version": "1.5.0",
            "_model_name": "HBoxModel",
            "_view_count": null,
            "_view_module": "@jupyter-widgets/controls",
            "_view_module_version": "1.5.0",
            "_view_name": "HBoxView",
            "box_style": "",
            "children": [
              "IPY_MODEL_c56a9d1bc7c4477c8d4d5f8db3a8b2c7",
              "IPY_MODEL_2bab7d849af24ec2a071959688ae9a4b",
              "IPY_MODEL_ba1f606ee50d46458f5c1a3369e8ac32"
            ],
            "layout": "IPY_MODEL_68316afae525423f8bfd806b6b6d52c2"
          }
        },
        "c56a9d1bc7c4477c8d4d5f8db3a8b2c7": {
          "model_module": "@jupyter-widgets/controls",
          "model_name": "HTMLModel",
          "model_module_version": "1.5.0",
          "state": {
            "_dom_classes": [],
            "_model_module": "@jupyter-widgets/controls",
            "_model_module_version": "1.5.0",
            "_model_name": "HTMLModel",
            "_view_count": null,
            "_view_module": "@jupyter-widgets/controls",
            "_view_module_version": "1.5.0",
            "_view_name": "HTMLView",
            "description": "",
            "description_tooltip": null,
            "layout": "IPY_MODEL_7d6a97811d33473b8381af4cdd956464",
            "placeholder": "​",
            "style": "IPY_MODEL_06fe3693857449ae88b7b3911f832025",
            "value": "Training epochs on cpu: 100%"
          }
        },
        "2bab7d849af24ec2a071959688ae9a4b": {
          "model_module": "@jupyter-widgets/controls",
          "model_name": "FloatProgressModel",
          "model_module_version": "1.5.0",
          "state": {
            "_dom_classes": [],
            "_model_module": "@jupyter-widgets/controls",
            "_model_module_version": "1.5.0",
            "_model_name": "FloatProgressModel",
            "_view_count": null,
            "_view_module": "@jupyter-widgets/controls",
            "_view_module_version": "1.5.0",
            "_view_name": "ProgressView",
            "bar_style": "success",
            "description": "",
            "description_tooltip": null,
            "layout": "IPY_MODEL_7ced4bed19104c79b1b706483a9ca6c3",
            "max": 80,
            "min": 0,
            "orientation": "horizontal",
            "style": "IPY_MODEL_6be43e2a46fe4a19a8609d0a09ac9bfa",
            "value": 80
          }
        },
        "ba1f606ee50d46458f5c1a3369e8ac32": {
          "model_module": "@jupyter-widgets/controls",
          "model_name": "HTMLModel",
          "model_module_version": "1.5.0",
          "state": {
            "_dom_classes": [],
            "_model_module": "@jupyter-widgets/controls",
            "_model_module_version": "1.5.0",
            "_model_name": "HTMLModel",
            "_view_count": null,
            "_view_module": "@jupyter-widgets/controls",
            "_view_module_version": "1.5.0",
            "_view_name": "HTMLView",
            "description": "",
            "description_tooltip": null,
            "layout": "IPY_MODEL_e902490729c3489dac1dd9f98a076aee",
            "placeholder": "​",
            "style": "IPY_MODEL_d700bfae24ab4dad823e293f22e0a3ee",
            "value": " 80/80 [00:17&lt;00:00,  5.11epoch/s, loss=0.838, prev_loss=0.882]"
          }
        },
        "68316afae525423f8bfd806b6b6d52c2": {
          "model_module": "@jupyter-widgets/base",
          "model_name": "LayoutModel",
          "model_module_version": "1.2.0",
          "state": {
            "_model_module": "@jupyter-widgets/base",
            "_model_module_version": "1.2.0",
            "_model_name": "LayoutModel",
            "_view_count": null,
            "_view_module": "@jupyter-widgets/base",
            "_view_module_version": "1.2.0",
            "_view_name": "LayoutView",
            "align_content": null,
            "align_items": null,
            "align_self": null,
            "border": null,
            "bottom": null,
            "display": null,
            "flex": null,
            "flex_flow": null,
            "grid_area": null,
            "grid_auto_columns": null,
            "grid_auto_flow": null,
            "grid_auto_rows": null,
            "grid_column": null,
            "grid_gap": null,
            "grid_row": null,
            "grid_template_areas": null,
            "grid_template_columns": null,
            "grid_template_rows": null,
            "height": null,
            "justify_content": null,
            "justify_items": null,
            "left": null,
            "margin": null,
            "max_height": null,
            "max_width": null,
            "min_height": null,
            "min_width": null,
            "object_fit": null,
            "object_position": null,
            "order": null,
            "overflow": null,
            "overflow_x": null,
            "overflow_y": null,
            "padding": null,
            "right": null,
            "top": null,
            "visibility": null,
            "width": null
          }
        },
        "7d6a97811d33473b8381af4cdd956464": {
          "model_module": "@jupyter-widgets/base",
          "model_name": "LayoutModel",
          "model_module_version": "1.2.0",
          "state": {
            "_model_module": "@jupyter-widgets/base",
            "_model_module_version": "1.2.0",
            "_model_name": "LayoutModel",
            "_view_count": null,
            "_view_module": "@jupyter-widgets/base",
            "_view_module_version": "1.2.0",
            "_view_name": "LayoutView",
            "align_content": null,
            "align_items": null,
            "align_self": null,
            "border": null,
            "bottom": null,
            "display": null,
            "flex": null,
            "flex_flow": null,
            "grid_area": null,
            "grid_auto_columns": null,
            "grid_auto_flow": null,
            "grid_auto_rows": null,
            "grid_column": null,
            "grid_gap": null,
            "grid_row": null,
            "grid_template_areas": null,
            "grid_template_columns": null,
            "grid_template_rows": null,
            "height": null,
            "justify_content": null,
            "justify_items": null,
            "left": null,
            "margin": null,
            "max_height": null,
            "max_width": null,
            "min_height": null,
            "min_width": null,
            "object_fit": null,
            "object_position": null,
            "order": null,
            "overflow": null,
            "overflow_x": null,
            "overflow_y": null,
            "padding": null,
            "right": null,
            "top": null,
            "visibility": null,
            "width": null
          }
        },
        "06fe3693857449ae88b7b3911f832025": {
          "model_module": "@jupyter-widgets/controls",
          "model_name": "DescriptionStyleModel",
          "model_module_version": "1.5.0",
          "state": {
            "_model_module": "@jupyter-widgets/controls",
            "_model_module_version": "1.5.0",
            "_model_name": "DescriptionStyleModel",
            "_view_count": null,
            "_view_module": "@jupyter-widgets/base",
            "_view_module_version": "1.2.0",
            "_view_name": "StyleView",
            "description_width": ""
          }
        },
        "7ced4bed19104c79b1b706483a9ca6c3": {
          "model_module": "@jupyter-widgets/base",
          "model_name": "LayoutModel",
          "model_module_version": "1.2.0",
          "state": {
            "_model_module": "@jupyter-widgets/base",
            "_model_module_version": "1.2.0",
            "_model_name": "LayoutModel",
            "_view_count": null,
            "_view_module": "@jupyter-widgets/base",
            "_view_module_version": "1.2.0",
            "_view_name": "LayoutView",
            "align_content": null,
            "align_items": null,
            "align_self": null,
            "border": null,
            "bottom": null,
            "display": null,
            "flex": null,
            "flex_flow": null,
            "grid_area": null,
            "grid_auto_columns": null,
            "grid_auto_flow": null,
            "grid_auto_rows": null,
            "grid_column": null,
            "grid_gap": null,
            "grid_row": null,
            "grid_template_areas": null,
            "grid_template_columns": null,
            "grid_template_rows": null,
            "height": null,
            "justify_content": null,
            "justify_items": null,
            "left": null,
            "margin": null,
            "max_height": null,
            "max_width": null,
            "min_height": null,
            "min_width": null,
            "object_fit": null,
            "object_position": null,
            "order": null,
            "overflow": null,
            "overflow_x": null,
            "overflow_y": null,
            "padding": null,
            "right": null,
            "top": null,
            "visibility": null,
            "width": null
          }
        },
        "6be43e2a46fe4a19a8609d0a09ac9bfa": {
          "model_module": "@jupyter-widgets/controls",
          "model_name": "ProgressStyleModel",
          "model_module_version": "1.5.0",
          "state": {
            "_model_module": "@jupyter-widgets/controls",
            "_model_module_version": "1.5.0",
            "_model_name": "ProgressStyleModel",
            "_view_count": null,
            "_view_module": "@jupyter-widgets/base",
            "_view_module_version": "1.2.0",
            "_view_name": "StyleView",
            "bar_color": null,
            "description_width": ""
          }
        },
        "e902490729c3489dac1dd9f98a076aee": {
          "model_module": "@jupyter-widgets/base",
          "model_name": "LayoutModel",
          "model_module_version": "1.2.0",
          "state": {
            "_model_module": "@jupyter-widgets/base",
            "_model_module_version": "1.2.0",
            "_model_name": "LayoutModel",
            "_view_count": null,
            "_view_module": "@jupyter-widgets/base",
            "_view_module_version": "1.2.0",
            "_view_name": "LayoutView",
            "align_content": null,
            "align_items": null,
            "align_self": null,
            "border": null,
            "bottom": null,
            "display": null,
            "flex": null,
            "flex_flow": null,
            "grid_area": null,
            "grid_auto_columns": null,
            "grid_auto_flow": null,
            "grid_auto_rows": null,
            "grid_column": null,
            "grid_gap": null,
            "grid_row": null,
            "grid_template_areas": null,
            "grid_template_columns": null,
            "grid_template_rows": null,
            "height": null,
            "justify_content": null,
            "justify_items": null,
            "left": null,
            "margin": null,
            "max_height": null,
            "max_width": null,
            "min_height": null,
            "min_width": null,
            "object_fit": null,
            "object_position": null,
            "order": null,
            "overflow": null,
            "overflow_x": null,
            "overflow_y": null,
            "padding": null,
            "right": null,
            "top": null,
            "visibility": null,
            "width": null
          }
        },
        "d700bfae24ab4dad823e293f22e0a3ee": {
          "model_module": "@jupyter-widgets/controls",
          "model_name": "DescriptionStyleModel",
          "model_module_version": "1.5.0",
          "state": {
            "_model_module": "@jupyter-widgets/controls",
            "_model_module_version": "1.5.0",
            "_model_name": "DescriptionStyleModel",
            "_view_count": null,
            "_view_module": "@jupyter-widgets/base",
            "_view_module_version": "1.2.0",
            "_view_name": "StyleView",
            "description_width": ""
          }
        }
      }
    }
  },
  "nbformat": 4,
  "nbformat_minor": 0
}